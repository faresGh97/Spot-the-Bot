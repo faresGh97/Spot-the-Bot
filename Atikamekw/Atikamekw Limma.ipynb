{
 "cells": [
  {
   "cell_type": "code",
   "execution_count": 1,
   "id": "caf02b5e",
   "metadata": {},
   "outputs": [],
   "source": [
    "import string\n",
    "import numpy as np\n",
    "import re\n",
    "import glob\n",
    "import tqdm"
   ]
  },
  {
   "cell_type": "code",
   "execution_count": 2,
   "id": "8e2e62b8",
   "metadata": {},
   "outputs": [],
   "source": [
    "class TextCleaner():\n",
    "    \"\"\"\n",
    "    Thai text cleaner\n",
    "    \"\"\"\n",
    "    def __init__(self):        \n",
    "        #https://omniglot.com/writing/atikamekw.htm\n",
    "        self.charchters = ['p', 't','k','s','c','tc', 'm','n','r','h', 'w','a','e','i','o']\n",
    "        self.punctuation = string.punctuation + '،' + '؛' + '؟' + '؛' + '۔' + '»' + '«' + '-'\n",
    "        self.one_space_regex = r\"\\s((\\s)(\\s+)?)?\"\n",
    "        #self.multiple_space_regex = r\"\\s+\"\n",
    "        self.text = None\n",
    "\n",
    "        self.dict_punct = dict(zip(list(self.punctuation), np.repeat(' ', len(self.punctuation))))\n",
    "        \n",
    "    def remove_punct(self, text):\n",
    "        table = str.maketrans(self.dict_punct)\n",
    "        text = text.translate(table)\n",
    "        return text\n",
    "    \n",
    "    def remove_num(self, text):\n",
    "        num_pattern = r'[\\u06F0-\\u06F9]'\n",
    "        text = re.sub(num_pattern, ' ', text)\n",
    "        return text\n",
    "    \n",
    "    def remove_spaces(self, text):\n",
    "        try:\n",
    "            #remove all whitespaces since spaces are considered as a sentence seperator in thai\n",
    "            text = re.sub(self.one_space_regex, ' ', text)\n",
    "            text = text if text[0] != ' ' else text[1:]\n",
    "            text = text if text[-1] != ' ' else text[:-1]\n",
    "            return text\n",
    "        \n",
    "        except IndexError as e:\n",
    "            return ''\n",
    "    \n",
    "    def is_not_fa_token(self, token):\n",
    "        for ch in set(token.lower()):\n",
    "            #if ord(ch) < int(self.min_ascii, 16) or ord(ch) > int(self.max_ascii, 16):\n",
    "            if ch not in self.charchters:\n",
    "                return False\n",
    "        return True\n",
    "\n",
    "    def remove_foreign_lang(self, text):\n",
    "        clean_text = ''\n",
    "        for token in text.split():\n",
    "            if self.is_not_fa_token(token):\n",
    "                clean_text += ' ' + token\n",
    "        return clean_text[1:]\n",
    "    \n",
    "    def clean_text(self, text):\n",
    "        text = text.lower()\n",
    "        text = self.remove_punct(text)\n",
    "        text = self.remove_num(text)\n",
    "        text = self.remove_foreign_lang(text)\n",
    "        text = self.remove_spaces(text)\n",
    "        return text"
   ]
  },
  {
   "cell_type": "code",
   "execution_count": 3,
   "id": "d1a27499",
   "metadata": {},
   "outputs": [],
   "source": [
    "# # Open a file: file\n",
    "# file = open('Pikokw.txt',mode='r')\n",
    " \n",
    "# # read all lines at once\n",
    "# all_of_it = file.read()\n",
    " \n",
    "# # close the file\n",
    "# file.close()"
   ]
  },
  {
   "cell_type": "code",
   "execution_count": 4,
   "id": "dae55067",
   "metadata": {},
   "outputs": [],
   "source": [
    "# all_of_it"
   ]
  },
  {
   "cell_type": "code",
   "execution_count": 5,
   "id": "69b97d29",
   "metadata": {},
   "outputs": [],
   "source": [
    "# len(all_of_it)"
   ]
  },
  {
   "cell_type": "code",
   "execution_count": 6,
   "id": "f07aa44b",
   "metadata": {},
   "outputs": [],
   "source": [
    "# cleaner = TextCleaner()"
   ]
  },
  {
   "cell_type": "code",
   "execution_count": 7,
   "id": "520836e3",
   "metadata": {},
   "outputs": [],
   "source": [
    "# cleaned = cleaner.clean_text(all_of_it)"
   ]
  },
  {
   "cell_type": "code",
   "execution_count": 8,
   "id": "cdc012b1",
   "metadata": {},
   "outputs": [],
   "source": [
    "# len(cleaned)"
   ]
  },
  {
   "cell_type": "code",
   "execution_count": 9,
   "id": "bf06336a",
   "metadata": {},
   "outputs": [],
   "source": [
    "# cleaned"
   ]
  },
  {
   "cell_type": "code",
   "execution_count": 10,
   "id": "d7c512f6",
   "metadata": {},
   "outputs": [],
   "source": [
    "class AtikamekwStemmer():\n",
    "    \n",
    "    def __init__(self): \n",
    "        #nouns\n",
    "        self.possisive_pref = ['kit','nit','ot' , 'ki','ni','o', 'k','n','o']\n",
    "        \n",
    "        \n",
    "        self.possisive_suff = ['inan' , 'ino' ,  'iwaw' , 'iwa' ,'aw','iriw','nan', 'awik' , 'im','']\n",
    "        self.plural_suff = ['a','ak','ok','']\n",
    "        self.diminutif_suff = ['icic', 'ocic','']\n",
    "        self.locative_suff = ['ik', 'ok','']\n",
    "        self.obviativ_suff = ['iw','riw','a','']\n",
    "        self.surobviatif_suff = ['iriw','riw','']\n",
    "        self.derivation_suff = ['an','ekin','apo','api','apiskw','']\n",
    "        \n",
    "        self.noun_Suffix = []\n",
    "        \n",
    "        \n",
    "        \n",
    "        # pronouns\n",
    "        \n",
    "        self.perosonal_pron = ['nin' , 'kir' , 'wir']\n",
    "        self.indefinant_pron = ['awik' , 'kekwan' , 'kotak']\n",
    "        self.interogatice_pron = ['awin' , 'kekwan' , 'tan' , 'tanta', 'tante','tan apitc']\n",
    "        self.personal_pron_other = ['ni','ki','nit','kit']\n",
    "        self.personal_pron_independant = ['nin','kir','wir','ninan','kirano','kirawaw','wirawaw']\n",
    "        self.personal_pron_independant_priority = ['ninctam','kirctam','wirctam','nirctaminan','kirctamiwaw','wirctamiwaw']\n",
    "        \n",
    "        self.pronouns = []\n",
    "\n",
    "        # other  particules determinals\n",
    "        self.demostrative_words = ['nahwe', 'ohwa','ohwe','oma','nahwe','anahwe'\n",
    "                             ,'naha','anaha','na','ohki','niki','neki'\n",
    "                             ,'nihe','ohwi','nehe','anehe','nihi','neta','nete']\n",
    "        \n",
    "        self.part_time = ['aptic','minawatc','mocak','nama wiskat','nac','kinowec','ko']\n",
    "        self.part_rept = ['kiapatc','kiapatci','kiapatc peikwa','koski','oscamec','awocamec']\n",
    "        self.part_comp = ['kekat','wiec','kirowe','nota','orina','tapicoktc','patok','mia','towi']\n",
    "        self.part_connect = ['acitc','kirica','aima','aric','kaie']\n",
    "        self.part_sub = ['e','ka','epwamoci','esko','ickwa','kitci','nota','wetci']\n",
    "        self.part_quan = ['notc','memantcic','micta','tipi','orina','tepirak']\n",
    "        self.part_act = ['tekaci','pekatc','mamar']\n",
    "        self.part_prox = ['warowik','pecotcik','ota','ote','neta','nete','nte']\n",
    "        self.part_oriant = ['icpimik','notc','opimera','okitc','cipa','pitc','nikanik','otananik','orowitimik','pitakamik']\n",
    "        self.part_inter = ['la','a','aia','taina']\n",
    "        self.part_interj = ['ekocka','icine']\n",
    "        self.particules = []\n",
    "#         self.particules = ['aptic','minawatc','mocak','nama wiskat','nac','kinowec','ko' \n",
    "#              ,'kiapatc','kiapatci','kiapatc peikwa','koski','oscamec','awocamec',\n",
    "#              'kekat','wiec','kirowe','nota','orina','tapicoktc','patok','mia','towi',\n",
    "#              'acitc','kirica','aima','aric','kaie',\n",
    "#              'e','ka','epwamoci','esko','ickwa','kitci','nota','wetci',\n",
    "#              'notc','memantcic','micta','tipi','orina','tepirak',\n",
    "#              'tekaci','pekatc','mamar'\n",
    "#              ,'warowik','pecotcik','ota','ote','neta','nete','nte',\n",
    "#              'icpimik','notc','opimera','okitc','cipa','pitc','nikanik','otananik','orowitimik','pitakamik',\n",
    "#              'la','a','aia',\n",
    "#              'ekocka','icine']\n",
    "        self.male_female_ind = ['iskwew' # female\n",
    "                                 ,'iriniw' #male\n",
    "                                 , 'irinikwew' #male or female \n",
    "                               ]\n",
    "        \n",
    "        self.stop_words = []\n",
    "        \n",
    "        \n",
    "        #verbs\n",
    "        \n",
    "        self.vai_01 = ['n','nawaw','nano','nan','wok','riw','riwa']\n",
    "        self.vai_03 = ['tai','tawaw','tanano','tai','tan','pan','panak','ripan']\n",
    "        self.vai_09 = ['natake' , 'nawatake','nanotake','natake','nanatake','take','takenak','ritake','ritakena']\n",
    "        self.vai_10 = ['nakopan','nawakopan','nanokopan','nanakopan','kopan','wakopan','rikopan','rikopana']\n",
    "        self.vai_11 = ['in','iekw','ikw','ian','ika','tc','tcik','ritci','ritci']\n",
    "        self.vai_12a = ['ine','iekwe','ikwe','iane','iake','te','wate','rite','ritena']\n",
    "        #vai_12b = vai_12a\n",
    "        self.vai_13 =['ipan','iekopan','ikopan','iapan','iakipan','span','waspan','rispan','rispana']\n",
    "        self.vai_14 = ['wonen','wewokwen','wokwen','wanen','waken','kwen','wekwen','rikwen','rikwena']\n",
    "        self.vai_15 = ['wopanen','wekopanen','wokopanen','wapanen','wakipanen','kopanen','wakopanen','rikopanen','rikopanena']\n",
    "        self.vai_17a = ['kw','tan']\n",
    "        self.vai_17b = ['kan','kekw','tan']\n",
    "        \n",
    "        self.vii_01 = ['o','iw','iwa','a','riw','riwa']\n",
    "        self.vii_03 = ['pan','pana','ripan','ripana']\n",
    "        self.vii_09 = ['take','takena','ritake','ritakena']\n",
    "        self.vii_10 = ['kopan','kopana','rikopan','rikopana']\n",
    "        self.vii_11 = ['k','ki','rik','riki']\n",
    "        self.vii_12a = ['ke','kawe','rike','rikawe']\n",
    "        #vi_12b = vi_12a\n",
    "        self.vii_13 = ['kipan','kipana','rikipan','rikipana']\n",
    "        self.vii_14 = ['kwen','kwena','rikwen','rikwena','ikwen','ikwena']\n",
    "        self.vii_15 = ['kopanen','kopanena','rikopanen']\n",
    "\n",
    "        self.vta_01 = ['in','itin','inan','itinan','inawaw','itinawaw',\n",
    "                 'imawaw','imikowaw','anano','ikonano','ananowok', 'ikonanowok', 'imananowa', 'imikonano'\n",
    "                 , 'aw','ikw','awok','ikok','imawa', 'imikw'\n",
    "                 , 'anan' , 'ikonan' ,'ananak', 'ikonanak','imanana','imikonan'\n",
    "                 , 'awaw' , 'ikowaw','awawok','ikowawok'\n",
    "                 ,'ew','ewok','imew','imewok','imeriw','iko','ikowok','eriw','eriwa','ikoriw','ikoriwa']\n",
    "        self.vta_03 = ['itai', 'ititai','itan', 'itinan','itawaw', 'itinaw','atanano','ikotanano','atananowok','ikotananowok'\n",
    "                 'atai', 'ikotai','ataiik','ikoktaiik','atan','ikotan','atananak','ikotananak'\n",
    "                 'atawaw','ikotawaw','atawawok','ikotawawok','epan','epanak','ikopan','ikowapanak'\n",
    "                 ,'eripan','eripana','ikoripan','ikor']\n",
    "        self.vta_09 = ['inatake' , 'inanatake', 'inawatake', 'itinatake','itinanatake'\n",
    "                 ,'itinawatake','ananotake','ananotakenak','ikonanotake','ikonanotakenak'\n",
    "                 ,'atake', 'atakenak' , 'ikonatakenak', 'ananatake','ananatakenak'\n",
    "                 ,'ikonanatakenak','awatake','awatakenak','ikotake','ikowatake','ikotakenak',\n",
    "                 'ikowatakenak','etake','etakena','ikotakena','eritake','eritakena','ikoritake','ikoritakena']\n",
    "        self.vta_10 = ['inakopan', 'inanakopan','inawakopan','itinakopan','itinanakopan'\n",
    "                 ,'itinawakopan','ananokopan','ananokopanak','ikonanokopan','ikonanokopanak'\n",
    "                 ,'akopan','akopanak','ikokopan','ikokopanak','akopan','ananakopank','ikonanakopan'\n",
    "                 ,'ananakopanak','ikonanakopanak','awakopan','awakopanak','ikokopan'\n",
    "                 ,'ikokopanak','ikowakopan','ekopan','ekopana','ikokopan','ikokopan','ikowakopan',\n",
    "                 'ikowakopana','erikopan','erikopana','ikorikopan','ikorikopana']\n",
    "        self.vta_11 = ['iin','iak','iekw','itan','itak','itakok','imeko',\n",
    "                 'okw','okok','imoko','imitako','itokw','itokok','imitoko'\n",
    "                 ,'ak','akik','imaki','itc','itcik','imitci','akitc','imitc'\n",
    "                 ,'akitcik','imitcik','imakitci','imtci','atc','iskw',\n",
    "                 'atcik','imatci','iskik','imiski','itakw','itakok','ekw','ekok',\n",
    "                 'atc','atcik','imatc','imatcik','imaritci','eritci','ewaritci',\n",
    "                 'ikoritci','ikowaritci','kotc','ikotcik']\n",
    "        self.vta_12 = ['iine','itaane','iake','iekwe','itake','itakokwe',\n",
    "                 'okwe','okwawe','itokwe','itokwawe','amake','akawe',\n",
    "                 'ikote','ikowate','imite','imitawe','ate','akite','atawe','iske','iskawe'\n",
    "                 ,'ewekwe','etawe','itakwe','itakawe','amate','awate','ikote','ikowate',\n",
    "                 'arite','ariwate','ariwatena','ikorite','ikoriwate']\n",
    "        self.vta_13 = ['ipan','iekopan','iakipan','iekopan','itapan','itakipan','itakokipan'\n",
    "                 , 'itakipan','okopan','okwapan','itakopan','itokwapan','akipan','akwapan','ispan',\n",
    "                 'iwaspan','akitipan','akitwapan','atipan','atwapan','ewekopan','ewekwapan','aspan',\n",
    "                 'aspana','awaspan','awaspana','arispan','arispana','imitipan','imitwapan','iskipan',\n",
    "                 'iskwapan','itakopan','itakwapan','ikospan','ikowaspana',\n",
    "                 'ikorispan','ikorwiwarispan']\n",
    "        self.vta_14 = ['iwonen','iwakwen','iwekwen','itawonen','itakokwen','owokwen', 'owokwenak'\n",
    "                 ,'awoken','awokenak','awakiten','awakitenak','awoten','awotenak','ewekwen','ewekwenak',\n",
    "                 'akwen','awakwen','itokwen','itokwenak','ikwen','iwakwen','itkowen','itokwenak',\n",
    "                 'iskwen','iskwaken','itakwen','itawenak','ikokwen','ikowakwen',\n",
    "                 'ikowakwen','arikwen','arikwena','ikorikwen','ikorikwena']\n",
    "        self.vta_15 = ['iwopanen','iakopanen','iekopanen','itawopanen','itakopanen',\n",
    "                 'owokopanen','awokopanenak','awokipanen','awokipanenak','awokitipanen',\n",
    "                 'awokitipanenak','awotipanen','awotipanenak','ewekopanen','ewekopanenak',\n",
    "                 'ikokopanenak','ikokopanen','iskwakopanen','iskopanen','iamitokopanenak','iamitokopanen',\n",
    "                 'iwakopanen','ikopanen','itokokopanenak','itokokopanen']\n",
    "        self.vta_17_a = ['ici','icinan','icikw','imik','imakw','atan','atanak','imatan','i','ik','im','akw','akok']\n",
    "        self.vta_17_b  = ['icikan','icikanan','icikekw','imakanak','imakan','akan','akanak','imakan','akekw','akekok']\n",
    "        \n",
    "        self.vti_01 = ['en','enawaw','enano','enan','am','amok','amiriw','amiriwa','w','wa','riw','riwawa']\n",
    "        self.vti_03 = ['etai','etawaw','etano','etai','etan','amopan','amopank','amiripan','amiripana','pan','pana','ripan','ripana']\n",
    "        self.vti_09 = ['enatake','enawatake','enanotake','enanatake','amotake','amotakenak','amiritake',\n",
    "                 'amiritakena','take','takena','ritakena','ritakena']\n",
    "        self.vti_10 = ['enakopan','enawakopan','enanokopan','enanakopan','amokopan','amowakopan','amirikopan','amirikopana']\n",
    "        self.vti_11 = ['aman','amekw','amokw','amak','ak','akik','amiritci','k','ki','riki']\n",
    "        self.vti_12a = ['amane','amekwe','amiekwe','amokwe','amoikwe','amane','amake','amane','amote','amowate','amirite','amiritena']\n",
    "        #vti_12b = vit_12a\n",
    "        self.vti_13 = ['amopan','amekopan','amokopan','amapan','amakipan','akipan','akwapan',\n",
    "                  'amirispan', 'amirispana']\n",
    "        self.vti_14 = ['amowonen','amwewokwen','amowokwen','amowaken','amokwen','amowakwen','amirikwen','amirikwena']\n",
    "        self.vti_15 = ['amowopanen','amokwekopanen','amokopanen','amowapanen','amowakipanen','amokopanen','amowkopanen','amirikopanen','amirikopanena']\n",
    "        self.vti_17a = ['a','amokw','eta']\n",
    "        self.vti_17b = ['ekan','amokan']\n",
    "#         self.vti2_01 = ['n','nawaw','nano','nan','w','wok','riw','riwa','o','iw','iwa']\n",
    "#         self.vti2_03 = ['tai','tawaw','tanano','tai','tan','pan','panak','ripan','ripana','pan','ipana','opan','opana']\n",
    "#         self.vti2_09 = ['natake','nawatake','nanotake',\n",
    "#                   'nanatake','take','takenak','ritake',\n",
    "#                  'ritakena','otake','otakena','oritakena','oritakena']\n",
    "#         self.vti2_10 = ['nakopan','nawakopan','nanokopan','nakopan','kopan','wakopan','rikopan','rikopana']\n",
    "#         self.vti2_11 = ['in','iekw','ikw','ian','iak','tc','tcik','ritci','ki','niki','nik']\n",
    "#         self.vti2_12a = ['ine','iekwe','ikwe','iane','iake','te','wate','rite','ritena']\n",
    "#         #vti_12b = vit_12a\n",
    "#         self.vti_13 = ['ipan','iekopan','ikopan','iapan','iakipan','span','waspan',\n",
    "#                   'rispan', 'rispana']\n",
    "#         self.vti_14 = ['wonen','wewokwen','wokwen','wanen','waken','kwen','wakwen','rikwena','rikwena']\n",
    "#         self.vti_15 = ['wopanen','wekopanen','wokopanen','wapanen','wakipanen','kopanen','wakopanen','rikopanen','rikopanena']\n",
    "#         self.vti_17a = ['kw','tan']\n",
    "#         self.vti_17b = ['kan','kekw','nano']\n",
    "        \n",
    "        self.vai = []\n",
    "        self.vii = []\n",
    "        self.vta = []\n",
    "        self.vti = []\n",
    "        self.verbs_Suffix = []\n",
    "        \n",
    "        self.all_Suffix = []\n",
    "        \n",
    "        self.prepare_rules()\n",
    "        \n",
    "    def prepare_rules(self):\n",
    "        # nouns\n",
    "        isem = []\n",
    "        for i1 in self.possisive_suff:\n",
    "            for i2 in self.plural_suff:\n",
    "                for i3 in self.diminutif_suff:\n",
    "                    for i4 in self.locative_suff:\n",
    "                        for i5 in self.obviativ_suff:\n",
    "                            for i6 in self.surobviatif_suff:\n",
    "                                for i7 in self.derivation_suff:\n",
    "                                    i = i1 + i2 + i3 + i4 + i5 + i6 + i7\n",
    "                                    isem.append(i)\n",
    "        #self.noun_Suffix = list(sorted (list(set(isem)),key = len , reverse = True))\n",
    "        self.noun_Suffix = isem\n",
    "        #print(self.noun_Suffix)\n",
    "        \n",
    "        #print (len(self.noun_Suffix))\n",
    "        \n",
    "        \n",
    "        # pronouns \n",
    "        \n",
    "        self.pronouns = self.perosonal_pron + self.indefinant_pron + self.interogatice_pron + self.personal_pron_other + self.personal_pron_independant + self.personal_pron_independant_priority\n",
    "        #print (len(self.pronouns))\n",
    "        # determiners\n",
    "        \n",
    "        self.particules = self.part_time + self.part_rept + self.part_comp + self.part_connect+ self.part_sub+self.part_quan +self.part_act +self.part_prox +self.part_oriant +self.part_inter +self.part_interj\n",
    "        self.stop_words = self.demostrative_words + self.particules + self.male_female_ind\n",
    "        #print (len(self.determiners))\n",
    "        \n",
    "        #verbs\n",
    "        \n",
    "        self.vai = self.vai_01 + self.vai_03 + self.vai_09 + self.vai_10 + self.vai_11 + self.vai_12a + self.vai_13 + self.vai_14 + self.vai_15 + self.vai_17a + self.vai_17b\n",
    "        self.vii = self.vii_01 + self.vii_03 + self.vii_09 + self.vii_10 + self.vii_11 + self.vii_12a + self.vii_13 + self.vii_14 + self.vii_15\n",
    "        self.vta = self.vta_01 + self.vta_03 + self.vta_09 + self.vta_10 + self.vta_11 + self.vta_12 + self.vta_13 + self.vta_14  + self.vta_15 + self.vta_17_a + self.vta_17_b \n",
    "        self.vti = self.vti_01 +self.vti_03 +self.vti_09 +self.vti_10 +self.vti_11+self.vti_12a +self.vti_13 +self.vti_14 +self.vti_15 +self.vti_17a +self.vti_17b #+self.vti2_01 +self.vti2_03 +self.vti2_09 +self.vti2_10 +self.vti2_11 +self.vti2_12a +self.vti_13 +self.vti_14+self.vti_15 +self.vti_17a +self.vti_17b \n",
    "        #self.verbs_Suffix = list(sorted (list(set(self.vai + self.vii + self.vta + self.vti)),key = len , reverse = True))\n",
    "        self.verbs_Suffix = self.vai + self.vii + self.vta + self.vti\n",
    "        #print (len(self.verbs_Suffix))\n",
    "        \n",
    "        self.all_suffix = list(sorted(list(set(self.noun_Suffix + self.verbs_Suffix)),key = len, reverse = True))\n",
    "        \n",
    "        \n",
    "    def stem_token (self,word):\n",
    "        \n",
    "        if word in self.pronouns:\n",
    "            return \"Pron\"\n",
    "        if word in self.stop_words:\n",
    "            if word in self.demostrative_words:\n",
    "                return \"w_demo\"\n",
    "            if word in self.male_female_ind:\n",
    "                return \"w_m/f\"\n",
    "            if word in self.particules:\n",
    "                if word in self.part_time:\n",
    "                    return \"part_time\"\n",
    "                if word in self.part_rept:\n",
    "                    return \"part_rept\"\n",
    "                if word in self.part_comp:\n",
    "                    return \"part_comp\"\n",
    "                if word in self.part_connect:\n",
    "                    return \"part_conn\"\n",
    "                if word in self.part_sub:\n",
    "                    return \"part_sub\"\n",
    "                if word in self.part_quan:\n",
    "                    return \"part_quan\"\n",
    "                if word in self.part_act:\n",
    "                    return \"part_act\"\n",
    "                if word in self.part_prox:\n",
    "                    return \"part_prox\"\n",
    "                if word in self.part_oriant:\n",
    "                    return \"part_oriant\"\n",
    "                if word in self.part_inter:\n",
    "                    return \"part_inter\"\n",
    "                if word in self.part_interj:\n",
    "                    return \"part_interj\"\n",
    "        \n",
    "            return \"Det\"\n",
    "        #check prefixes\n",
    "        for pre in self.possisive_pref:\n",
    "            n = len(pre)\n",
    "            try:\n",
    "                if pre == word[:n]:\n",
    "                    new_Word = word [n:]\n",
    "                    if len(new_word)>2:\n",
    "                        for suff in self.noun_Suffix:\n",
    "                            m = len(suff)\n",
    "                            try:\n",
    "                                if suff == new_Word[len(new_Word)-m:]:\n",
    "                                    final_word = new_Word[:-m]\n",
    "                                    if len(final_word)>2:\n",
    "                                        return final_word\n",
    "                            except:\n",
    "                                continue\n",
    "                    return new_word\n",
    "            except:\n",
    "                continue\n",
    "        \n",
    "        #check suffixes\n",
    "        for suff in self.all_suffix:\n",
    "            n = len(suff)\n",
    "            try:\n",
    "                if suff == word[len(word)-n:]:\n",
    "                    #print(suff)\n",
    "                    new_word = word[:-n]\n",
    "                    if len(new_word)>2:\n",
    "                        if suff in self.vai and new_word[-1] in ['a','e','i']:\n",
    "                            #print (\"vai word\")\n",
    "                            #print(suff)\n",
    "                            return new_word + 'w'\n",
    "                        elif  suff in self.vai and new_word[-1] not in ['a','e','i']:\n",
    "                            #print (\"vai word\")\n",
    "                            #print(suff)\n",
    "                            return new_word \n",
    "                        if suff in self.vii:\n",
    "                            new_word = new_word + 'w'\n",
    "                            #print (\"vii word\")\n",
    "                            #print (suff)\n",
    "                            return new_word\n",
    "                        if suff in self.noun_Suffix:\n",
    "                            #print (\"noun word\")\n",
    "                            return new_word   \n",
    "                        if suff in self.vti:\n",
    "                            new_word = new_word + 'am'\n",
    "                            #print (\"vti word\")\n",
    "                            #print (suff)\n",
    "                            return new_word\n",
    "                        if suff in self.vta and new_word[-1] in ['m','h']:\n",
    "                            new_word = new_word + 'ew'\n",
    "                            #print (\"vta word\")\n",
    "                            #print (suff)\n",
    "                            return new_word\n",
    "                        elif suff in self.vta and new_word[-1] not in ['m','h']:\n",
    "                            continue          \n",
    "            except:\n",
    "                continue\n",
    "        return word\n",
    "    \n",
    "    \n",
    "    def stem_text(self,text):\n",
    "        output_text = \"\"\n",
    "        for word in text.split(' '):\n",
    "            new_token = self.stem_token(word)\n",
    "            output_text = output_text + new_token + ' '\n",
    "        return output_text[:-1]\n",
    "       "
   ]
  },
  {
   "cell_type": "code",
   "execution_count": 12,
   "id": "a61982cb",
   "metadata": {},
   "outputs": [],
   "source": [
    "# AS = AtikamekwStemmer()\n",
    "# #AS.prepare_rules()\n",
    "# stemmer = AtikamekwStemmer()\n",
    "# stemmed = stemmer.stem_text(cleaned)\n",
    "# print (\"befor stemming\")\n",
    "# print (cleaned)\n",
    "# print(\"*************************\")\n",
    "# print (\"after stemming\")\n",
    "# print(stemmed)\n",
    "# print(len(stemmed))"
   ]
  },
  {
   "cell_type": "markdown",
   "id": "66728330",
   "metadata": {},
   "source": [
    "## pipeline"
   ]
  },
  {
   "cell_type": "code",
   "execution_count": 17,
   "id": "e0d4d9f5",
   "metadata": {},
   "outputs": [],
   "source": [
    "def preprocessing_from_folder(input_folder , output_folder):\n",
    "    files = sorted(glob.glob(input_folder + '/*'))\n",
    "    cleaned_corpus = \"\"\n",
    "    for file in tqdm.tqdm(files):\n",
    "        print (file)\n",
    "        file_name  = file.split('\\\\')[-1]\n",
    "        #file_comp = file_name_full.split(' ')\n",
    "        #file_number, file_name = file_comp[0], file_comp[1]\n",
    "#         print (file_number)\n",
    "#         print (file_name)\n",
    "        output_file = output_folder + '/PREPROCESSED_' + file_name\n",
    "        preprocessing_pipline(file, output_file)"
   ]
  },
  {
   "cell_type": "code",
   "execution_count": 20,
   "id": "80c49d9a",
   "metadata": {},
   "outputs": [],
   "source": [
    "def preprocessing_pipline (file , output_file):\n",
    "    # Open a file: file\n",
    "    file = open(file ,mode='r',encoding = 'utf-8')\n",
    "    all_of_it = file.read()\n",
    "    file.close()\n",
    "    \n",
    "    # our built_in cleaner \n",
    "    cleaner = TextCleaner()\n",
    "    cleaned = cleaner.clean_text(all_of_it)\n",
    "    \n",
    "    #word tokenizer\n",
    "    stemmer = AtikamekwStemmer()\n",
    "    stemmed = stemmer.stem_text(cleaned)\n",
    "    #cleaned_text = \"\"\n",
    "    #words = tokenize(cleaned)\n",
    "    #words = word_tokenize(cleaned , keep_whitespace=False,engine = 'attacut')\n",
    "    #words = deepcut.tokenize(cleaned)\n",
    "    #for word in words:\n",
    "        #if (len(word) == 1 or word == \" \"):\n",
    "         #   continue\n",
    "        #else:\n",
    "         #   cleaned_text+= word + \" \"\n",
    "    \n",
    "    #stopwords removal\n",
    "    #cleaned_text_nosw = remove_stopwords(cleaned_text)\n",
    "    \n",
    "    with open(output_file, 'w',encoding='utf-8') as f:\n",
    "        f.write(f\"{stemmed[:-1]}\\n\")\n",
    "    "
   ]
  },
  {
   "cell_type": "code",
   "execution_count": 21,
   "id": "b1570bc8",
   "metadata": {},
   "outputs": [
    {
     "name": "stderr",
     "output_type": "stream",
     "text": [
      "\r",
      "  0%|          | 0/1584 [00:00<?, ?it/s]"
     ]
    },
    {
     "name": "stdout",
     "output_type": "stream",
     "text": [
      "Wikipedia Articales\\%C3%89cole_Otapi_de_Manawan.txt\n"
     ]
    },
    {
     "name": "stderr",
     "output_type": "stream",
     "text": [
      "\r",
      "  0%|          | 1/1584 [00:00<12:04,  2.19it/s]"
     ]
    },
    {
     "name": "stdout",
     "output_type": "stream",
     "text": [
      "Wikipedia Articales\\%C3%89cole_secondaire_Otapi.txt\n"
     ]
    },
    {
     "name": "stderr",
     "output_type": "stream",
     "text": [
      "  0%|          | 3/1584 [00:01<07:53,  3.34it/s]"
     ]
    },
    {
     "name": "stdout",
     "output_type": "stream",
     "text": [
      "Wikipedia Articales\\%C3%8Ele_du_Cap-Breton.txt\n",
      "Wikipedia Articales\\A-ca-oo-mah-ca-ye.txt\n"
     ]
    },
    {
     "name": "stderr",
     "output_type": "stream",
     "text": [
      "  0%|          | 5/1584 [00:01<06:29,  4.06it/s]"
     ]
    },
    {
     "name": "stdout",
     "output_type": "stream",
     "text": [
      "Wikipedia Articales\\Aatsista-Mahkan.txt\n",
      "Wikipedia Articales\\Aceriw.txt\n"
     ]
    },
    {
     "name": "stderr",
     "output_type": "stream",
     "text": [
      "\r",
      "  0%|          | 6/1584 [00:01<06:45,  3.89it/s]"
     ]
    },
    {
     "name": "stdout",
     "output_type": "stream",
     "text": [
      "Wikipedia Articales\\Acikan.txt\n"
     ]
    },
    {
     "name": "stderr",
     "output_type": "stream",
     "text": [
      "\r",
      "  0%|          | 7/1584 [00:02<07:19,  3.58it/s]"
     ]
    },
    {
     "name": "stdout",
     "output_type": "stream",
     "text": [
      "Wikipedia Articales\\Aciminik_Sakihikan.txt\n",
      "Wikipedia Articales\\Acimwakw.txt\n"
     ]
    },
    {
     "name": "stderr",
     "output_type": "stream",
     "text": [
      "  1%|          | 10/1584 [00:02<05:10,  5.07it/s]"
     ]
    },
    {
     "name": "stdout",
     "output_type": "stream",
     "text": [
      "Wikipedia Articales\\Ackimaniwon.txt\n",
      "Wikipedia Articales\\Ackimew.txt\n"
     ]
    },
    {
     "name": "stderr",
     "output_type": "stream",
     "text": [
      "  1%|          | 13/1584 [00:03<07:20,  3.57it/s]"
     ]
    },
    {
     "name": "stdout",
     "output_type": "stream",
     "text": [
      "Wikipedia Articales\\Acohonan_Sakihikan.txt\n",
      "Wikipedia Articales\\Acowictikwan_sakihikan.txt\n",
      "Wikipedia Articales\\Actasoniwoc.txt\n"
     ]
    },
    {
     "name": "stderr",
     "output_type": "stream",
     "text": [
      "  1%|          | 15/1584 [00:03<05:39,  4.63it/s]"
     ]
    },
    {
     "name": "stdout",
     "output_type": "stream",
     "text": [
      "Wikipedia Articales\\Acton_Vale.txt\n",
      "Wikipedia Articales\\Actorinaniwon.txt\n"
     ]
    },
    {
     "name": "stderr",
     "output_type": "stream",
     "text": [
      "  1%|          | 17/1584 [00:04<05:36,  4.65it/s]"
     ]
    },
    {
     "name": "stdout",
     "output_type": "stream",
     "text": [
      "Wikipedia Articales\\Actotin.txt\n",
      "Wikipedia Articales\\Actotini_sakihikan.txt\n"
     ]
    },
    {
     "name": "stderr",
     "output_type": "stream",
     "text": [
      "\r",
      "  1%|          | 18/1584 [00:04<04:48,  5.43it/s]"
     ]
    },
    {
     "name": "stdout",
     "output_type": "stream",
     "text": [
      "Wikipedia Articales\\Actotiniw_sakihikan.txt\n",
      "Wikipedia Articales\\Actowehike_otapan.txt\n"
     ]
    },
    {
     "name": "stderr",
     "output_type": "stream",
     "text": [
      "\r",
      "  1%|▏         | 20/1584 [00:04<04:15,  6.11it/s]"
     ]
    },
    {
     "name": "stdout",
     "output_type": "stream",
     "text": [
      "Wikipedia Articales\\Ad%C3%A9lard_Niquay.txt\n"
     ]
    },
    {
     "name": "stderr",
     "output_type": "stream",
     "text": [
      "\r",
      "  1%|▏         | 21/1584 [00:05<08:45,  2.97it/s]"
     ]
    },
    {
     "name": "stdout",
     "output_type": "stream",
     "text": [
      "Wikipedia Articales\\Adstock.txt\n",
      "Wikipedia Articales\\Ahasiw.txt\n"
     ]
    },
    {
     "name": "stderr",
     "output_type": "stream",
     "text": [
      "\r",
      "  1%|▏         | 23/1584 [00:06<06:57,  3.74it/s]"
     ]
    },
    {
     "name": "stdout",
     "output_type": "stream",
     "text": [
      "Wikipedia Articales\\Ahawecic.txt\n"
     ]
    },
    {
     "name": "stderr",
     "output_type": "stream",
     "text": [
      "\r",
      "  2%|▏         | 24/1584 [00:06<08:46,  2.97it/s]"
     ]
    },
    {
     "name": "stdout",
     "output_type": "stream",
     "text": [
      "Wikipedia Articales\\Aiamihan_Jordan_Moar.txt\n",
      "Wikipedia Articales\\Aiamihaw_Aidan.txt\n"
     ]
    },
    {
     "name": "stderr",
     "output_type": "stream",
     "text": [
      "  2%|▏         | 27/1584 [00:07<06:06,  4.24it/s]"
     ]
    },
    {
     "name": "stdout",
     "output_type": "stream",
     "text": [
      "Wikipedia Articales\\Aiamihaw_Aidan_Moar.txt\n",
      "Wikipedia Articales\\Aiamihaw_John-Ivan_Dube.txt\n"
     ]
    },
    {
     "name": "stderr",
     "output_type": "stream",
     "text": [
      "  2%|▏         | 30/1584 [00:07<04:21,  5.94it/s]"
     ]
    },
    {
     "name": "stdout",
     "output_type": "stream",
     "text": [
      "Wikipedia Articales\\Aiamihaw_Jordan_Moar.txt\n",
      "Wikipedia Articales\\Aiamihaw_Kimberly.txt\n"
     ]
    },
    {
     "name": "stderr",
     "output_type": "stream",
     "text": [
      "\r",
      "  2%|▏         | 31/1584 [00:07<04:09,  6.22it/s]"
     ]
    },
    {
     "name": "stdout",
     "output_type": "stream",
     "text": [
      "Wikipedia Articales\\Aiamihaw_Kimi_Ottawa_Flamand.txt\n",
      "Wikipedia Articales\\Aiamihaw_Marie_Anne.txt\n"
     ]
    },
    {
     "name": "stderr",
     "output_type": "stream",
     "text": [
      "  2%|▏         | 33/1584 [00:07<04:28,  5.78it/s]"
     ]
    },
    {
     "name": "stdout",
     "output_type": "stream",
     "text": [
      "Wikipedia Articales\\Aiamihaw_Nadya.txt\n"
     ]
    },
    {
     "name": "stderr",
     "output_type": "stream",
     "text": [
      "\r",
      "  2%|▏         | 34/1584 [00:08<04:11,  6.17it/s]"
     ]
    },
    {
     "name": "stdout",
     "output_type": "stream",
     "text": [
      "Wikipedia Articales\\Aiamihaw_Sakik.txt\n",
      "Wikipedia Articales\\Aiamihaw_Samuel.txt\n"
     ]
    },
    {
     "name": "stderr",
     "output_type": "stream",
     "text": [
      "  2%|▏         | 36/1584 [00:08<03:58,  6.49it/s]"
     ]
    },
    {
     "name": "stdout",
     "output_type": "stream",
     "text": [
      "Wikipedia Articales\\Aiamihaw_Shawina.txt\n",
      "Wikipedia Articales\\Aiamihaw_anelie.txt\n"
     ]
    },
    {
     "name": "stderr",
     "output_type": "stream",
     "text": [
      "  2%|▏         | 38/1584 [00:08<03:53,  6.61it/s]"
     ]
    },
    {
     "name": "stdout",
     "output_type": "stream",
     "text": [
      "Wikipedia Articales\\Aiamihaw_chad.txt\n",
      "Wikipedia Articales\\Aiamihaw_corad.txt\n"
     ]
    },
    {
     "name": "stderr",
     "output_type": "stream",
     "text": [
      "\r",
      "  2%|▏         | 39/1584 [00:08<03:35,  7.16it/s]"
     ]
    },
    {
     "name": "stdout",
     "output_type": "stream",
     "text": [
      "Wikipedia Articales\\Aiamihe_mikiwam.txt\n"
     ]
    },
    {
     "name": "stderr",
     "output_type": "stream",
     "text": [
      "  3%|▎         | 41/1584 [00:09<07:29,  3.44it/s]"
     ]
    },
    {
     "name": "stdout",
     "output_type": "stream",
     "text": [
      "Wikipedia Articales\\Aiamihe_tata.txt\n",
      "Wikipedia Articales\\Aiamihewin_Aidan_Moar.txt\n"
     ]
    },
    {
     "name": "stderr",
     "output_type": "stream",
     "text": [
      "  3%|▎         | 43/1584 [00:10<06:04,  4.23it/s]"
     ]
    },
    {
     "name": "stdout",
     "output_type": "stream",
     "text": [
      "Wikipedia Articales\\Aiamihewina.txt\n"
     ]
    },
    {
     "name": "stderr",
     "output_type": "stream",
     "text": [
      "\r",
      "  3%|▎         | 45/1584 [00:10<03:59,  6.42it/s]"
     ]
    },
    {
     "name": "stdout",
     "output_type": "stream",
     "text": [
      "Wikipedia Articales\\Aiapew_sakihikan.txt\n",
      "Wikipedia Articales\\Aicipekahikan.txt\n",
      "Wikipedia Articales\\Aimihaw_Kimi_Ottawa_Flamand.txt\n"
     ]
    },
    {
     "name": "stderr",
     "output_type": "stream",
     "text": [
      "  3%|▎         | 48/1584 [00:10<02:59,  8.55it/s]"
     ]
    },
    {
     "name": "stdout",
     "output_type": "stream",
     "text": [
      "Wikipedia Articales\\Aimihe_tcotco.txt\n",
      "Wikipedia Articales\\Ajax.txt\n",
      "Wikipedia Articales\\Akamik_katcimik.txt\n",
      "Wikipedia Articales\\Akimaskw.txt\n"
     ]
    },
    {
     "name": "stderr",
     "output_type": "stream",
     "text": [
      "  3%|▎         | 51/1584 [00:10<03:38,  7.00it/s]"
     ]
    },
    {
     "name": "stdout",
     "output_type": "stream",
     "text": [
      "Wikipedia Articales\\Akimaskw_ka_mikocitc.txt\n",
      "Wikipedia Articales\\Akimaskw_orakeskw.txt\n"
     ]
    },
    {
     "name": "stderr",
     "output_type": "stream",
     "text": [
      "  3%|▎         | 53/1584 [00:11<03:54,  6.53it/s]"
     ]
    },
    {
     "name": "stdout",
     "output_type": "stream",
     "text": [
      "Wikipedia Articales\\Akitasopitcikan.txt\n",
      "Wikipedia Articales\\Akitasowin.txt\n",
      "Wikipedia Articales\\Akockitciwosikaniwok.txt\n"
     ]
    },
    {
     "name": "stderr",
     "output_type": "stream",
     "text": [
      "  4%|▎         | 56/1584 [00:11<03:40,  6.92it/s]"
     ]
    },
    {
     "name": "stdout",
     "output_type": "stream",
     "text": [
      "Wikipedia Articales\\Akokatcic.txt\n"
     ]
    },
    {
     "name": "stderr",
     "output_type": "stream",
     "text": [
      "\r",
      "  4%|▎         | 57/1584 [00:11<03:47,  6.72it/s]"
     ]
    },
    {
     "name": "stdout",
     "output_type": "stream",
     "text": [
      "Wikipedia Articales\\Akokatcic_pisimw.txt\n",
      "Wikipedia Articales\\Akokisikan.txt\n"
     ]
    },
    {
     "name": "stderr",
     "output_type": "stream",
     "text": [
      "  4%|▍         | 60/1584 [00:12<04:16,  5.93it/s]"
     ]
    },
    {
     "name": "stdout",
     "output_type": "stream",
     "text": [
      "Wikipedia Articales\\Akonapwehikan_sakihikan.txt\n",
      "Wikipedia Articales\\Akop.txt\n"
     ]
    },
    {
     "name": "stderr",
     "output_type": "stream",
     "text": [
      "\r",
      "  4%|▍         | 61/1584 [00:12<04:06,  6.18it/s]"
     ]
    },
    {
     "name": "stdout",
     "output_type": "stream",
     "text": [
      "Wikipedia Articales\\Akosamin.txt\n",
      "Wikipedia Articales\\Akosi_Otapan.txt\n"
     ]
    },
    {
     "name": "stderr",
     "output_type": "stream",
     "text": [
      "\r",
      "  4%|▍         | 62/1584 [00:12<04:38,  5.47it/s]"
     ]
    },
    {
     "name": "stdout",
     "output_type": "stream",
     "text": [
      "Wikipedia Articales\\Akosi_sakihikan.txt\n",
      "Wikipedia Articales\\Akosiwin_Coronavirus_Covid-19.txt\n"
     ]
    },
    {
     "name": "stderr",
     "output_type": "stream",
     "text": [
      "\r",
      "  4%|▍         | 64/1584 [00:15<16:25,  1.54it/s]"
     ]
    },
    {
     "name": "stdout",
     "output_type": "stream",
     "text": [
      "Wikipedia Articales\\Akosiwokamokw.txt\n"
     ]
    },
    {
     "name": "stderr",
     "output_type": "stream",
     "text": [
      "\r",
      "  4%|▍         | 65/1584 [00:15<14:40,  1.73it/s]"
     ]
    },
    {
     "name": "stdout",
     "output_type": "stream",
     "text": [
      "Wikipedia Articales\\Akotakiniwon.txt\n"
     ]
    },
    {
     "name": "stderr",
     "output_type": "stream",
     "text": [
      "\r",
      "  4%|▍         | 66/1584 [00:16<12:38,  2.00it/s]"
     ]
    },
    {
     "name": "stdout",
     "output_type": "stream",
     "text": [
      "Wikipedia Articales\\Akotaniwan.txt\n"
     ]
    },
    {
     "name": "stderr",
     "output_type": "stream",
     "text": [
      "\r",
      "  4%|▍         | 67/1584 [00:16<10:50,  2.33it/s]"
     ]
    },
    {
     "name": "stdout",
     "output_type": "stream",
     "text": [
      "Wikipedia Articales\\Akotasowin.txt\n"
     ]
    },
    {
     "name": "stderr",
     "output_type": "stream",
     "text": [
      "\r",
      "  4%|▍         | 68/1584 [00:16<09:25,  2.68it/s]"
     ]
    },
    {
     "name": "stdout",
     "output_type": "stream",
     "text": [
      "Wikipedia Articales\\Akso_Atisokan.txt\n"
     ]
    },
    {
     "name": "stderr",
     "output_type": "stream",
     "text": [
      "  4%|▍         | 71/1584 [00:20<19:49,  1.27it/s]"
     ]
    },
    {
     "name": "stdout",
     "output_type": "stream",
     "text": [
      "Wikipedia Articales\\Akulivik.txt\n",
      "Wikipedia Articales\\Akwatokw_Ka_Sakipetc.txt\n",
      "Wikipedia Articales\\Akwekahikan.txt\n"
     ]
    },
    {
     "name": "stderr",
     "output_type": "stream",
     "text": [
      "\r",
      "  5%|▍         | 72/1584 [00:20<15:58,  1.58it/s]"
     ]
    },
    {
     "name": "stdout",
     "output_type": "stream",
     "text": [
      "Wikipedia Articales\\Akwesasne.txt\n",
      "Wikipedia Articales\\Alanis_Obomsawin.txt\n"
     ]
    },
    {
     "name": "stderr",
     "output_type": "stream",
     "text": [
      "\r",
      "  5%|▍         | 74/1584 [00:21<12:08,  2.07it/s]"
     ]
    },
    {
     "name": "stdout",
     "output_type": "stream",
     "text": [
      "Wikipedia Articales\\Albany_RI.txt\n",
      "Wikipedia Articales\\Albert_Connelly.txt\n"
     ]
    },
    {
     "name": "stderr",
     "output_type": "stream",
     "text": [
      "\r",
      "  5%|▍         | 76/1584 [00:21<09:09,  2.74it/s]"
     ]
    },
    {
     "name": "stdout",
     "output_type": "stream",
     "text": [
      "Wikipedia Articales\\Algonquins.txt\n"
     ]
    },
    {
     "name": "stderr",
     "output_type": "stream",
     "text": [
      "\r",
      "  5%|▍         | 77/1584 [00:21<09:06,  2.76it/s]"
     ]
    },
    {
     "name": "stdout",
     "output_type": "stream",
     "text": [
      "Wikipedia Articales\\Alma.txt\n"
     ]
    },
    {
     "name": "stderr",
     "output_type": "stream",
     "text": [
      "  5%|▌         | 80/1584 [00:22<06:54,  3.63it/s]"
     ]
    },
    {
     "name": "stdout",
     "output_type": "stream",
     "text": [
      "Wikipedia Articales\\Amherst.txt\n",
      "Wikipedia Articales\\Amherstburg.txt\n",
      "Wikipedia Articales\\Amikosis.txt\n"
     ]
    },
    {
     "name": "stderr",
     "output_type": "stream",
     "text": [
      "\r",
      "  5%|▌         | 81/1584 [00:22<06:24,  3.91it/s]"
     ]
    },
    {
     "name": "stdout",
     "output_type": "stream",
     "text": [
      "Wikipedia Articales\\Amikotcitc_Sakihikan.txt\n",
      "Wikipedia Articales\\Amiskw.txt\n"
     ]
    },
    {
     "name": "stderr",
     "output_type": "stream",
     "text": [
      "\r",
      "  5%|▌         | 83/1584 [00:23<07:01,  3.56it/s]"
     ]
    },
    {
     "name": "stdout",
     "output_type": "stream",
     "text": [
      "Wikipedia Articales\\Amiskw_opitcikai.txt\n"
     ]
    },
    {
     "name": "stderr",
     "output_type": "stream",
     "text": [
      "\r",
      "  5%|▌         | 84/1584 [00:24<08:41,  2.87it/s]"
     ]
    },
    {
     "name": "stdout",
     "output_type": "stream",
     "text": [
      "Wikipedia Articales\\Amiskw_sakihikan.txt\n",
      "Wikipedia Articales\\Amiskw_tisorakan.txt\n"
     ]
    },
    {
     "name": "stderr",
     "output_type": "stream",
     "text": [
      "\r",
      "  5%|▌         | 86/1584 [00:24<07:22,  3.39it/s]"
     ]
    },
    {
     "name": "stdout",
     "output_type": "stream",
     "text": [
      "Wikipedia Articales\\Amo_ka_wapisitc.txt\n"
     ]
    },
    {
     "name": "stderr",
     "output_type": "stream",
     "text": [
      "\r",
      "  5%|▌         | 87/1584 [00:25<08:57,  2.78it/s]"
     ]
    },
    {
     "name": "stdout",
     "output_type": "stream",
     "text": [
      "Wikipedia Articales\\Amos.txt\n"
     ]
    },
    {
     "name": "stderr",
     "output_type": "stream",
     "text": [
      "\r",
      "  6%|▌         | 88/1584 [00:25<08:35,  2.90it/s]"
     ]
    },
    {
     "name": "stdout",
     "output_type": "stream",
     "text": [
      "Wikipedia Articales\\Amqui.txt\n",
      "Wikipedia Articales\\An_Antane-Kapesh.txt\n"
     ]
    },
    {
     "name": "stderr",
     "output_type": "stream",
     "text": [
      "  6%|▌         | 91/1584 [00:26<07:34,  3.28it/s]"
     ]
    },
    {
     "name": "stdout",
     "output_type": "stream",
     "text": [
      "Wikipedia Articales\\Anaskaniwon.txt\n",
      "Wikipedia Articales\\Andr%C3%A9_Dub%C3%A9.txt\n"
     ]
    },
    {
     "name": "stderr",
     "output_type": "stream",
     "text": [
      "\r",
      "  6%|▌         | 92/1584 [00:27<14:42,  1.69it/s]"
     ]
    },
    {
     "name": "stdout",
     "output_type": "stream",
     "text": [
      "Wikipedia Articales\\Andr%C3%A9_Quitich.txt\n"
     ]
    },
    {
     "name": "stderr",
     "output_type": "stream",
     "text": [
      "\r",
      "  6%|▌         | 93/1584 [00:28<14:42,  1.69it/s]"
     ]
    },
    {
     "name": "stdout",
     "output_type": "stream",
     "text": [
      "Wikipedia Articales\\Andr%C3%A9_Quitish.txt\n"
     ]
    },
    {
     "name": "stderr",
     "output_type": "stream",
     "text": [
      "\r",
      "  6%|▌         | 94/1584 [00:28<14:33,  1.71it/s]"
     ]
    },
    {
     "name": "stdout",
     "output_type": "stream",
     "text": [
      "Wikipedia Articales\\Angela_Sidney.txt\n"
     ]
    },
    {
     "name": "stderr",
     "output_type": "stream",
     "text": [
      "\r",
      "  6%|▌         | 95/1584 [00:29<13:39,  1.82it/s]"
     ]
    },
    {
     "name": "stdout",
     "output_type": "stream",
     "text": [
      "Wikipedia Articales\\Anikotcac.txt\n"
     ]
    },
    {
     "name": "stderr",
     "output_type": "stream",
     "text": [
      "  6%|▌         | 98/1584 [00:30<08:49,  2.81it/s]"
     ]
    },
    {
     "name": "stdout",
     "output_type": "stream",
     "text": [
      "Wikipedia Articales\\Anikotcaciw_sakahikan.txt\n",
      "Wikipedia Articales\\Annapolis_Royal.txt\n",
      "Wikipedia Articales\\Annie_Dub%C3%A9-Flamand.txt\n"
     ]
    },
    {
     "name": "stderr",
     "output_type": "stream",
     "text": [
      "\r",
      "  6%|▋         | 99/1584 [00:30<10:59,  2.25it/s]"
     ]
    },
    {
     "name": "stdout",
     "output_type": "stream",
     "text": [
      "Wikipedia Articales\\Antigonish.txt\n",
      "Wikipedia Articales\\Antoine_Quitich.txt\n"
     ]
    },
    {
     "name": "stderr",
     "output_type": "stream",
     "text": [
      "  7%|▋         | 103/1584 [00:32<09:37,  2.56it/s]"
     ]
    },
    {
     "name": "stdout",
     "output_type": "stream",
     "text": [
      "Wikipedia Articales\\Apahikan.txt\n",
      "Wikipedia Articales\\Apicikatew_sakihikan.txt\n",
      "Wikipedia Articales\\Apicikatew_sakikihikan.txt\n",
      "Wikipedia Articales\\Apicitipahikanicic.txt\n"
     ]
    },
    {
     "name": "stderr",
     "output_type": "stream",
     "text": [
      "  7%|▋         | 106/1584 [00:33<06:59,  3.52it/s]"
     ]
    },
    {
     "name": "stdout",
     "output_type": "stream",
     "text": [
      "Wikipedia Articales\\Apihawason.txt\n",
      "Wikipedia Articales\\Apihawson.txt\n"
     ]
    },
    {
     "name": "stderr",
     "output_type": "stream",
     "text": [
      "\r",
      "  7%|▋         | 107/1584 [00:33<06:13,  3.96it/s]"
     ]
    },
    {
     "name": "stdout",
     "output_type": "stream",
     "text": [
      "Wikipedia Articales\\Apikocic.txt\n"
     ]
    },
    {
     "name": "stderr",
     "output_type": "stream",
     "text": [
      "  7%|▋         | 110/1584 [00:33<05:13,  4.71it/s]"
     ]
    },
    {
     "name": "stdout",
     "output_type": "stream",
     "text": [
      "Wikipedia Articales\\Apokociciw_Sakihikan.txt\n",
      "Wikipedia Articales\\Apokwaratcic.txt\n",
      "Wikipedia Articales\\Apokwatcimew_Sakihikan.txt\n"
     ]
    },
    {
     "name": "stderr",
     "output_type": "stream",
     "text": [
      "\r",
      "  7%|▋         | 112/1584 [00:34<04:24,  5.58it/s]"
     ]
    },
    {
     "name": "stdout",
     "output_type": "stream",
     "text": [
      "Wikipedia Articales\\Apowi.txt\n",
      "Wikipedia Articales\\Apowikaniwon.txt\n"
     ]
    },
    {
     "name": "stderr",
     "output_type": "stream",
     "text": [
      "  7%|▋         | 114/1584 [00:34<04:22,  5.59it/s]"
     ]
    },
    {
     "name": "stdout",
     "output_type": "stream",
     "text": [
      "Wikipedia Articales\\Apwesiwin.txt\n"
     ]
    },
    {
     "name": "stderr",
     "output_type": "stream",
     "text": [
      "\r",
      "  7%|▋         | 115/1584 [00:34<04:01,  6.09it/s]"
     ]
    },
    {
     "name": "stdout",
     "output_type": "stream",
     "text": [
      "Wikipedia Articales\\Apwi.txt\n",
      "Wikipedia Articales\\Arakapecakan.txt\n",
      "Wikipedia Articales\\Arakapecakaneapi.txt\n"
     ]
    },
    {
     "name": "stderr",
     "output_type": "stream",
     "text": [
      "  8%|▊         | 119/1584 [00:34<02:51,  8.55it/s]"
     ]
    },
    {
     "name": "stdout",
     "output_type": "stream",
     "text": [
      "Wikipedia Articales\\Arameskananicicik_Sakihikan.txt\n",
      "Wikipedia Articales\\Arapat_Sakihikan.txt\n",
      "Wikipedia Articales\\Arapi.txt\n"
     ]
    },
    {
     "name": "stderr",
     "output_type": "stream",
     "text": [
      "\r",
      "  8%|▊         | 121/1584 [00:35<02:33,  9.53it/s]"
     ]
    },
    {
     "name": "stdout",
     "output_type": "stream",
     "text": [
      "Wikipedia Articales\\Arapotakakamak_Sakihikan.txt\n",
      "Wikipedia Articales\\Argyle.txt\n",
      "Wikipedia Articales\\Arikasimon_arikirapecakan.txt\n"
     ]
    },
    {
     "name": "stderr",
     "output_type": "stream",
     "text": [
      "\r",
      "  8%|▊         | 123/1584 [00:35<03:47,  6.41it/s]"
     ]
    },
    {
     "name": "stdout",
     "output_type": "stream",
     "text": [
      "Wikipedia Articales\\Arikic.txt\n"
     ]
    },
    {
     "name": "stderr",
     "output_type": "stream",
     "text": [
      "\r",
      "  8%|▊         | 124/1584 [00:35<04:08,  5.88it/s]"
     ]
    },
    {
     "name": "stdout",
     "output_type": "stream",
     "text": [
      "Wikipedia Articales\\Arikici_Sakihikan.txt\n",
      "Wikipedia Articales\\Arikitcac.txt\n"
     ]
    },
    {
     "name": "stderr",
     "output_type": "stream",
     "text": [
      "\r",
      "  8%|▊         | 126/1584 [00:36<04:33,  5.32it/s]"
     ]
    },
    {
     "name": "stdout",
     "output_type": "stream",
     "text": [
      "Wikipedia Articales\\Aripi.txt\n",
      "Wikipedia Articales\\Aripoc_takapikenikan.txt\n"
     ]
    },
    {
     "name": "stderr",
     "output_type": "stream",
     "text": [
      "  8%|▊         | 129/1584 [00:36<04:15,  5.69it/s]"
     ]
    },
    {
     "name": "stdout",
     "output_type": "stream",
     "text": [
      "Wikipedia Articales\\Aritetaminatikw.txt\n",
      "Wikipedia Articales\\Armand_Echaquan.txt\n"
     ]
    },
    {
     "name": "stderr",
     "output_type": "stream",
     "text": [
      "\r",
      "  8%|▊         | 130/1584 [00:37<08:04,  3.00it/s]"
     ]
    },
    {
     "name": "stdout",
     "output_type": "stream",
     "text": [
      "Wikipedia Articales\\Armand_Etcakwan.txt\n"
     ]
    },
    {
     "name": "stderr",
     "output_type": "stream",
     "text": [
      "  8%|▊         | 133/1584 [00:38<07:28,  3.23it/s]"
     ]
    },
    {
     "name": "stdout",
     "output_type": "stream",
     "text": [
      "Wikipedia Articales\\Arnprior.txt\n",
      "Wikipedia Articales\\Aroland.txt\n",
      "Wikipedia Articales\\Arowepi_kamok.txt\n"
     ]
    },
    {
     "name": "stderr",
     "output_type": "stream",
     "text": [
      "  9%|▊         | 135/1584 [00:38<06:00,  4.02it/s]"
     ]
    },
    {
     "name": "stdout",
     "output_type": "stream",
     "text": [
      "Wikipedia Articales\\Arowepikomikok.txt\n",
      "Wikipedia Articales\\Arthur_Quoquochi.txt\n"
     ]
    },
    {
     "name": "stderr",
     "output_type": "stream",
     "text": [
      "\r",
      "  9%|▊         | 136/1584 [00:39<07:24,  3.26it/s]"
     ]
    },
    {
     "name": "stdout",
     "output_type": "stream",
     "text": [
      "Wikipedia Articales\\Asam.txt\n"
     ]
    },
    {
     "name": "stderr",
     "output_type": "stream",
     "text": [
      "\r",
      "  9%|▊         | 137/1584 [00:39<08:09,  2.96it/s]"
     ]
    },
    {
     "name": "stdout",
     "output_type": "stream",
     "text": [
      "Wikipedia Articales\\Asamikaniwon.txt\n"
     ]
    },
    {
     "name": "stderr",
     "output_type": "stream",
     "text": [
      "\r",
      "  9%|▊         | 138/1584 [00:40<08:48,  2.73it/s]"
     ]
    },
    {
     "name": "stdout",
     "output_type": "stream",
     "text": [
      "Wikipedia Articales\\Asati.txt\n"
     ]
    },
    {
     "name": "stderr",
     "output_type": "stream",
     "text": [
      "\r",
      "  9%|▉         | 139/1584 [00:40<09:51,  2.44it/s]"
     ]
    },
    {
     "name": "stdout",
     "output_type": "stream",
     "text": [
      "Wikipedia Articales\\Asati_Orakeskw.txt\n"
     ]
    },
    {
     "name": "stderr",
     "output_type": "stream",
     "text": [
      "  9%|▉         | 141/1584 [00:41<07:36,  3.16it/s]"
     ]
    },
    {
     "name": "stdout",
     "output_type": "stream",
     "text": [
      "Wikipedia Articales\\Asati_otcepikaso.txt\n",
      "Wikipedia Articales\\Asawew.txt\n"
     ]
    },
    {
     "name": "stderr",
     "output_type": "stream",
     "text": [
      "  9%|▉         | 144/1584 [00:42<06:15,  3.83it/s]"
     ]
    },
    {
     "name": "stdout",
     "output_type": "stream",
     "text": [
      "Wikipedia Articales\\Asbestos.txt\n",
      "Wikipedia Articales\\Asekaniwon.txt\n",
      "Wikipedia Articales\\Asian.txt\n"
     ]
    },
    {
     "name": "stderr",
     "output_type": "stream",
     "text": [
      "\r",
      "  9%|▉         | 145/1584 [00:42<05:51,  4.09it/s]"
     ]
    },
    {
     "name": "stdout",
     "output_type": "stream",
     "text": [
      "Wikipedia Articales\\Asian_Sakihikan.txt\n",
      "Wikipedia Articales\\Asikw.txt\n"
     ]
    },
    {
     "name": "stderr",
     "output_type": "stream",
     "text": [
      "\r",
      "  9%|▉         | 147/1584 [00:43<07:33,  3.17it/s]"
     ]
    },
    {
     "name": "stdout",
     "output_type": "stream",
     "text": [
      "Wikipedia Articales\\Asini.txt\n"
     ]
    },
    {
     "name": "stderr",
     "output_type": "stream",
     "text": [
      "  9%|▉         | 150/1584 [00:43<05:25,  4.41it/s]"
     ]
    },
    {
     "name": "stdout",
     "output_type": "stream",
     "text": [
      "Wikipedia Articales\\Asini_Sakihikan.txt\n",
      "Wikipedia Articales\\Asinikan.txt\n",
      "Wikipedia Articales\\Asiokotesi_Sakihikan.txt\n",
      "Wikipedia Articales\\Aski.txt\n"
     ]
    },
    {
     "name": "stderr",
     "output_type": "stream",
     "text": [
      "\r",
      " 10%|▉         | 152/1584 [00:43<04:33,  5.24it/s]"
     ]
    },
    {
     "name": "stdout",
     "output_type": "stream",
     "text": [
      "Wikipedia Articales\\Aski_tipahapwan.txt\n"
     ]
    },
    {
     "name": "stderr",
     "output_type": "stream",
     "text": [
      " 10%|▉         | 155/1584 [00:44<03:51,  6.18it/s]"
     ]
    },
    {
     "name": "stdout",
     "output_type": "stream",
     "text": [
      "Wikipedia Articales\\Askikw.txt\n",
      "Wikipedia Articales\\Askiwacit.txt\n",
      "Wikipedia Articales\\Askiwatisiwin.txt\n"
     ]
    },
    {
     "name": "stderr",
     "output_type": "stream",
     "text": [
      "\r",
      " 10%|▉         | 156/1584 [00:44<05:07,  4.65it/s]"
     ]
    },
    {
     "name": "stdout",
     "output_type": "stream",
     "text": [
      "Wikipedia Articales\\Aspistecimon.txt\n"
     ]
    },
    {
     "name": "stderr",
     "output_type": "stream",
     "text": [
      " 10%|▉         | 158/1584 [00:45<04:37,  5.14it/s]"
     ]
    },
    {
     "name": "stdout",
     "output_type": "stream",
     "text": [
      "Wikipedia Articales\\Aspitcinikwan.txt\n",
      "Wikipedia Articales\\Atamatawak.txt\n"
     ]
    },
    {
     "name": "stderr",
     "output_type": "stream",
     "text": [
      "\r",
      " 10%|█         | 159/1584 [00:45<04:02,  5.87it/s]"
     ]
    },
    {
     "name": "stdout",
     "output_type": "stream",
     "text": [
      "Wikipedia Articales\\Atamitak.txt\n",
      "Wikipedia Articales\\Atcakoc.txt\n"
     ]
    },
    {
     "name": "stderr",
     "output_type": "stream",
     "text": [
      "\r",
      " 10%|█         | 161/1584 [00:45<04:00,  5.91it/s]"
     ]
    },
    {
     "name": "stdout",
     "output_type": "stream",
     "text": [
      "Wikipedia Articales\\Atcapi.txt\n"
     ]
    },
    {
     "name": "stderr",
     "output_type": "stream",
     "text": [
      "\r",
      " 10%|█         | 162/1584 [00:45<04:49,  4.91it/s]"
     ]
    },
    {
     "name": "stdout",
     "output_type": "stream",
     "text": [
      "Wikipedia Articales\\Atcapicic.txt\n"
     ]
    },
    {
     "name": "stderr",
     "output_type": "stream",
     "text": [
      " 10%|█         | 164/1584 [00:46<05:24,  4.38it/s]"
     ]
    },
    {
     "name": "stdout",
     "output_type": "stream",
     "text": [
      "Wikipedia Articales\\Atcikamekw_Ratcicik_Sakihikan.txt\n",
      "Wikipedia Articales\\Atcimocic_Sakihikan.txt\n"
     ]
    },
    {
     "name": "stderr",
     "output_type": "stream",
     "text": [
      "\r",
      " 10%|█         | 165/1584 [00:46<04:39,  5.08it/s]"
     ]
    },
    {
     "name": "stdout",
     "output_type": "stream",
     "text": [
      "Wikipedia Articales\\Atcitcamo_Kaiciecketc_Sakihikan.txt\n",
      "Wikipedia Articales\\Atcitcamoc.txt\n"
     ]
    },
    {
     "name": "stderr",
     "output_type": "stream",
     "text": [
      " 11%|█         | 168/1584 [00:47<05:48,  4.06it/s]"
     ]
    },
    {
     "name": "stdout",
     "output_type": "stream",
     "text": [
      "Wikipedia Articales\\Ateapotcikan.txt\n",
      "Wikipedia Articales\\Atehikan.txt\n"
     ]
    },
    {
     "name": "stderr",
     "output_type": "stream",
     "text": [
      "\r",
      " 11%|█         | 169/1584 [00:47<05:05,  4.63it/s]"
     ]
    },
    {
     "name": "stdout",
     "output_type": "stream",
     "text": [
      "Wikipedia Articales\\Athabasca.txt\n",
      "Wikipedia Articales\\Athanase_Ottawa.txt\n"
     ]
    },
    {
     "name": "stderr",
     "output_type": "stream",
     "text": [
      "\r",
      " 11%|█         | 171/1584 [00:48<09:46,  2.41it/s]"
     ]
    },
    {
     "name": "stdout",
     "output_type": "stream",
     "text": [
      "Wikipedia Articales\\Atikamekw.txt\n"
     ]
    },
    {
     "name": "stderr",
     "output_type": "stream",
     "text": [
      " 11%|█         | 174/1584 [00:49<06:03,  3.88it/s]"
     ]
    },
    {
     "name": "stdout",
     "output_type": "stream",
     "text": [
      "Wikipedia Articales\\Atikamekw_Sakihikan.txt\n",
      "Wikipedia Articales\\Atikamekw_Sipi.txt\n",
      "Wikipedia Articales\\Atikamekw_arimwewin.txt\n"
     ]
    },
    {
     "name": "stderr",
     "output_type": "stream",
     "text": [
      "\r",
      " 11%|█         | 175/1584 [00:51<14:51,  1.58it/s]"
     ]
    },
    {
     "name": "stdout",
     "output_type": "stream",
     "text": [
      "Wikipedia Articales\\Atikamekw_iriniwok.txt\n"
     ]
    },
    {
     "name": "stderr",
     "output_type": "stream",
     "text": [
      "\r",
      " 11%|█         | 176/1584 [00:52<20:04,  1.17it/s]"
     ]
    },
    {
     "name": "stdout",
     "output_type": "stream",
     "text": [
      "Wikipedia Articales\\Atikamekw_metowanikana.txt\n"
     ]
    },
    {
     "name": "stderr",
     "output_type": "stream",
     "text": [
      " 11%|█         | 178/1584 [00:54<17:53,  1.31it/s]"
     ]
    },
    {
     "name": "stdout",
     "output_type": "stream",
     "text": [
      "Wikipedia Articales\\Atikamekw_nehirowisiw.txt\n",
      "Wikipedia Articales\\Atikamekw_okimawokw.txt\n"
     ]
    },
    {
     "name": "stderr",
     "output_type": "stream",
     "text": [
      " 11%|█▏        | 180/1584 [00:54<11:35,  2.02it/s]"
     ]
    },
    {
     "name": "stdout",
     "output_type": "stream",
     "text": [
      "Wikipedia Articales\\Atikamekw_pisimw.txt\n",
      "Wikipedia Articales\\Atikamekwranan_Sakihikan.txt\n",
      "Wikipedia Articales\\Atikocic.txt\n"
     ]
    },
    {
     "name": "stderr",
     "output_type": "stream",
     "text": [
      "\r",
      " 11%|█▏        | 182/1584 [00:55<08:44,  2.68it/s]"
     ]
    },
    {
     "name": "stdout",
     "output_type": "stream",
     "text": [
      "Wikipedia Articales\\Atikokan_Sakihikan.txt\n",
      "Wikipedia Articales\\Atikw.txt\n"
     ]
    },
    {
     "name": "stderr",
     "output_type": "stream",
     "text": [
      " 12%|█▏        | 185/1584 [00:56<10:22,  2.25it/s]"
     ]
    },
    {
     "name": "stdout",
     "output_type": "stream",
     "text": [
      "Wikipedia Articales\\Atikw_Onikami_Sakihikan.txt\n",
      "Wikipedia Articales\\Atikw_atisokan.txt\n"
     ]
    },
    {
     "name": "stderr",
     "output_type": "stream",
     "text": [
      "\r",
      " 12%|█▏        | 186/1584 [00:57<11:27,  2.03it/s]"
     ]
    },
    {
     "name": "stdout",
     "output_type": "stream",
     "text": [
      "Wikipedia Articales\\Atimokatci_Sakihikan.txt\n",
      "Wikipedia Articales\\Atimw.txt\n"
     ]
    },
    {
     "name": "stderr",
     "output_type": "stream",
     "text": [
      "\r",
      " 12%|█▏        | 188/1584 [00:58<09:11,  2.53it/s]"
     ]
    },
    {
     "name": "stdout",
     "output_type": "stream",
     "text": [
      "Wikipedia Articales\\Atisekohikan.txt\n",
      "Wikipedia Articales\\Atisokan.txt\n"
     ]
    },
    {
     "name": "stderr",
     "output_type": "stream",
     "text": [
      "\r",
      " 12%|█▏        | 190/1584 [01:03<29:39,  1.28s/it]"
     ]
    },
    {
     "name": "stdout",
     "output_type": "stream",
     "text": [
      "Wikipedia Articales\\Atisokan_Le_jongleur_et_le_missionnaire.txt\n"
     ]
    },
    {
     "name": "stderr",
     "output_type": "stream",
     "text": [
      "\r",
      " 12%|█▏        | 191/1584 [01:03<24:33,  1.06s/it]"
     ]
    },
    {
     "name": "stdout",
     "output_type": "stream",
     "text": [
      "Wikipedia Articales\\Atisokan_Un_kokotch%C3%A9_trop_curieux.txt\n"
     ]
    },
    {
     "name": "stderr",
     "output_type": "stream",
     "text": [
      "\r",
      " 12%|█▏        | 192/1584 [01:04<20:28,  1.13it/s]"
     ]
    },
    {
     "name": "stdout",
     "output_type": "stream",
     "text": [
      "Wikipedia Articales\\Atisokan_deluge.txt\n"
     ]
    },
    {
     "name": "stderr",
     "output_type": "stream",
     "text": [
      " 12%|█▏        | 194/1584 [01:04<13:12,  1.75it/s]"
     ]
    },
    {
     "name": "stdout",
     "output_type": "stream",
     "text": [
      "Wikipedia Articales\\Atos_pamipitcikan.txt\n",
      "Wikipedia Articales\\Atoskewin.txt\n"
     ]
    },
    {
     "name": "stderr",
     "output_type": "stream",
     "text": [
      "\r",
      " 12%|█▏        | 195/1584 [01:05<17:03,  1.36it/s]"
     ]
    },
    {
     "name": "stdout",
     "output_type": "stream",
     "text": [
      "Wikipedia Articales\\Atosparipanatikw.txt\n",
      "Wikipedia Articales\\Atospiatikw.txt\n"
     ]
    },
    {
     "name": "stderr",
     "output_type": "stream",
     "text": [
      " 12%|█▎        | 198/1584 [01:06<09:19,  2.48it/s]"
     ]
    },
    {
     "name": "stdout",
     "output_type": "stream",
     "text": [
      "Wikipedia Articales\\Atosponrakan.txt\n",
      "Wikipedia Articales\\Atsekihikan.txt\n",
      "Wikipedia Articales\\Attawapiskat.txt\n"
     ]
    },
    {
     "name": "stderr",
     "output_type": "stream",
     "text": [
      "\r",
      " 13%|█▎        | 200/1584 [01:06<06:28,  3.57it/s]"
     ]
    },
    {
     "name": "stdout",
     "output_type": "stream",
     "text": [
      "Wikipedia Articales\\Aupaluk.txt\n",
      "Wikipedia Articales\\Aur%C3%A9lien_Gill.txt\n"
     ]
    },
    {
     "name": "stderr",
     "output_type": "stream",
     "text": [
      "\r",
      " 13%|█▎        | 202/1584 [01:06<05:41,  4.05it/s]"
     ]
    },
    {
     "name": "stdout",
     "output_type": "stream",
     "text": [
      "Wikipedia Articales\\Aurora.txt\n",
      "Wikipedia Articales\\Awacic.txt\n"
     ]
    },
    {
     "name": "stderr",
     "output_type": "stream",
     "text": [
      "\r",
      " 13%|█▎        | 204/1584 [01:07<04:54,  4.68it/s]"
     ]
    },
    {
     "name": "stdout",
     "output_type": "stream",
     "text": [
      "Wikipedia Articales\\Awacic_ka_icatc_tipiskipismok.txt\n"
     ]
    },
    {
     "name": "stderr",
     "output_type": "stream",
     "text": [
      " 13%|█▎        | 206/1584 [01:08<08:10,  2.81it/s]"
     ]
    },
    {
     "name": "stdout",
     "output_type": "stream",
     "text": [
      "Wikipedia Articales\\Awesis.txt\n",
      "Wikipedia Articales\\Awtosiw_Sakihikan.txt\n"
     ]
    },
    {
     "name": "stderr",
     "output_type": "stream",
     "text": [
      "\r",
      " 13%|█▎        | 208/1584 [01:08<05:47,  3.96it/s]"
     ]
    },
    {
     "name": "stdout",
     "output_type": "stream",
     "text": [
      "Wikipedia Articales\\Awtosiwranan_Sakihikan.txt\n",
      "Wikipedia Articales\\Aylmer.txt\n",
      "Wikipedia Articales\\Azerbaijan.txt\n"
     ]
    },
    {
     "name": "stderr",
     "output_type": "stream",
     "text": [
      "\r",
      " 13%|█▎        | 210/1584 [01:08<04:23,  5.21it/s]"
     ]
    },
    {
     "name": "stdout",
     "output_type": "stream",
     "text": [
      "Wikipedia Articales\\B%C3%A9b%C3%A9_Yoda.txt\n"
     ]
    },
    {
     "name": "stderr",
     "output_type": "stream",
     "text": [
      "\r",
      " 13%|█▎        | 211/1584 [01:09<05:58,  3.83it/s]"
     ]
    },
    {
     "name": "stdout",
     "output_type": "stream",
     "text": [
      "Wikipedia Articales\\B%C3%A9cancour.txt\n",
      "Wikipedia Articales\\Baie-Comeau.txt\n"
     ]
    },
    {
     "name": "stderr",
     "output_type": "stream",
     "text": [
      " 14%|█▎        | 215/1584 [01:09<03:45,  6.07it/s]"
     ]
    },
    {
     "name": "stdout",
     "output_type": "stream",
     "text": [
      "Wikipedia Articales\\Baie-D%27Urf%C3%A9.txt\n",
      "Wikipedia Articales\\Baie-Saint-Paul.txt\n",
      "Wikipedia Articales\\Bancroft.txt\n"
     ]
    },
    {
     "name": "stderr",
     "output_type": "stream",
     "text": [
      "\r",
      " 14%|█▎        | 217/1584 [01:09<03:06,  7.32it/s]"
     ]
    },
    {
     "name": "stdout",
     "output_type": "stream",
     "text": [
      "Wikipedia Articales\\Banff.txt\n",
      "Wikipedia Articales\\Barkmere.txt\n",
      "Wikipedia Articales\\Barrhead.txt\n"
     ]
    },
    {
     "name": "stderr",
     "output_type": "stream",
     "text": [
      " 14%|█▍        | 222/1584 [01:10<01:59, 11.44it/s]"
     ]
    },
    {
     "name": "stdout",
     "output_type": "stream",
     "text": [
      "Wikipedia Articales\\Barrie.txt\n",
      "Wikipedia Articales\\Barrington.txt\n",
      "Wikipedia Articales\\Bashaw.txt\n",
      "Wikipedia Articales\\Bassano.txt\n"
     ]
    },
    {
     "name": "stderr",
     "output_type": "stream",
     "text": [
      "\r",
      " 14%|█▍        | 224/1584 [01:10<01:58, 11.43it/s]"
     ]
    },
    {
     "name": "stdout",
     "output_type": "stream",
     "text": [
      "Wikipedia Articales\\Beaconsfield.txt\n",
      "Wikipedia Articales\\Beauceville.txt\n",
      "Wikipedia Articales\\Beauharnois.txt\n"
     ]
    },
    {
     "name": "stderr",
     "output_type": "stream",
     "text": [
      " 14%|█▍        | 228/1584 [01:10<01:55, 11.75it/s]"
     ]
    },
    {
     "name": "stdout",
     "output_type": "stream",
     "text": [
      "Wikipedia Articales\\Beaulac-Garthby.txt\n",
      "Wikipedia Articales\\Beaumont_(Alberta).txt\n",
      "Wikipedia Articales\\Beaupr%C3%A9.txt\n"
     ]
    },
    {
     "name": "stderr",
     "output_type": "stream",
     "text": [
      "\r",
      " 15%|█▍        | 230/1584 [01:10<02:12, 10.22it/s]"
     ]
    },
    {
     "name": "stdout",
     "output_type": "stream",
     "text": [
      "Wikipedia Articales\\Beaverlodge.txt\n",
      "Wikipedia Articales\\Bedford.txt\n",
      "Wikipedia Articales\\Bel%C5%93il.txt\n"
     ]
    },
    {
     "name": "stderr",
     "output_type": "stream",
     "text": [
      "\r",
      " 15%|█▍        | 232/1584 [01:11<02:02, 11.03it/s]"
     ]
    },
    {
     "name": "stdout",
     "output_type": "stream",
     "text": [
      "Wikipedia Articales\\Belleterre.txt\n",
      "Wikipedia Articales\\Benoit_Ottawa.txt\n"
     ]
    },
    {
     "name": "stderr",
     "output_type": "stream",
     "text": [
      "\r",
      " 15%|█▍        | 234/1584 [01:11<03:51,  5.82it/s]"
     ]
    },
    {
     "name": "stdout",
     "output_type": "stream",
     "text": [
      "Wikipedia Articales\\Bentley.txt\n",
      "Wikipedia Articales\\Bernard_Assiniwi.txt\n"
     ]
    },
    {
     "name": "stderr",
     "output_type": "stream",
     "text": [
      " 15%|█▍        | 237/1584 [01:12<04:41,  4.78it/s]"
     ]
    },
    {
     "name": "stdout",
     "output_type": "stream",
     "text": [
      "Wikipedia Articales\\Berthierville.txt\n",
      "Wikipedia Articales\\Berwick.txt\n",
      "Wikipedia Articales\\Big_Bear.txt\n"
     ]
    },
    {
     "name": "stderr",
     "output_type": "stream",
     "text": [
      "\r",
      " 15%|█▌        | 239/1584 [01:13<06:48,  3.29it/s]"
     ]
    },
    {
     "name": "stdout",
     "output_type": "stream",
     "text": [
      "Wikipedia Articales\\Billy_Diamond.txt\n"
     ]
    },
    {
     "name": "stderr",
     "output_type": "stream",
     "text": [
      "\r",
      " 15%|█▌        | 240/1584 [01:13<06:27,  3.47it/s]"
     ]
    },
    {
     "name": "stdout",
     "output_type": "stream",
     "text": [
      "Wikipedia Articales\\Black_Bear_Singers.txt\n"
     ]
    },
    {
     "name": "stderr",
     "output_type": "stream",
     "text": [
      " 15%|█▌        | 243/1584 [01:14<04:45,  4.70it/s]"
     ]
    },
    {
     "name": "stdout",
     "output_type": "stream",
     "text": [
      "Wikipedia Articales\\Black_Diamond.txt\n",
      "Wikipedia Articales\\Blackfalds.txt\n",
      "Wikipedia Articales\\Blainville.txt\n"
     ]
    },
    {
     "name": "stderr",
     "output_type": "stream",
     "text": [
      " 16%|█▌        | 246/1584 [01:14<04:04,  5.47it/s]"
     ]
    },
    {
     "name": "stdout",
     "output_type": "stream",
     "text": [
      "Wikipedia Articales\\Bois-des-Filion.txt\n",
      "Wikipedia Articales\\Boisbriand.txt\n",
      "Wikipedia Articales\\Bon_Accord.txt\n",
      "Wikipedia Articales\\Bonaventure.txt\n"
     ]
    },
    {
     "name": "stderr",
     "output_type": "stream",
     "text": [
      " 16%|█▌        | 250/1584 [01:15<02:57,  7.50it/s]"
     ]
    },
    {
     "name": "stdout",
     "output_type": "stream",
     "text": [
      "Wikipedia Articales\\Bonnyville.txt\n",
      "Wikipedia Articales\\Boucherville.txt\n",
      "Wikipedia Articales\\Bow_Island.txt\n"
     ]
    },
    {
     "name": "stderr",
     "output_type": "stream",
     "text": [
      "\r",
      " 16%|█▌        | 252/1584 [01:15<02:35,  8.56it/s]"
     ]
    },
    {
     "name": "stdout",
     "output_type": "stream",
     "text": [
      "Wikipedia Articales\\Bowden.txt\n",
      "Wikipedia Articales\\Bracebridge.txt\n",
      "Wikipedia Articales\\Bradford_West_Gwillimbury.txt\n"
     ]
    },
    {
     "name": "stderr",
     "output_type": "stream",
     "text": [
      " 16%|█▌        | 256/1584 [01:15<02:08, 10.37it/s]"
     ]
    },
    {
     "name": "stdout",
     "output_type": "stream",
     "text": [
      "Wikipedia Articales\\Brampton.txt\n",
      "Wikipedia Articales\\Bridgewater.txt\n",
      "Wikipedia Articales\\Brockton.txt\n"
     ]
    },
    {
     "name": "stderr",
     "output_type": "stream",
     "text": [
      "\r",
      " 16%|█▋        | 258/1584 [01:15<02:02, 10.80it/s]"
     ]
    },
    {
     "name": "stdout",
     "output_type": "stream",
     "text": [
      "Wikipedia Articales\\Brockville.txt\n",
      "Wikipedia Articales\\Bromont.txt\n",
      "Wikipedia Articales\\Brossard.txt\n"
     ]
    },
    {
     "name": "stderr",
     "output_type": "stream",
     "text": [
      "\r",
      " 16%|█▋        | 260/1584 [01:16<02:18,  9.56it/s]"
     ]
    },
    {
     "name": "stdout",
     "output_type": "stream",
     "text": [
      "Wikipedia Articales\\Brownsburg-Chatham.txt\n",
      "Wikipedia Articales\\Bruderheim.txt\n"
     ]
    },
    {
     "name": "stderr",
     "output_type": "stream",
     "text": [
      "\r",
      " 17%|█▋        | 262/1584 [01:16<02:35,  8.52it/s]"
     ]
    },
    {
     "name": "stdout",
     "output_type": "stream",
     "text": [
      "Wikipedia Articales\\Buffalo_Bull%27s_Back_Fat.txt\n"
     ]
    },
    {
     "name": "stderr",
     "output_type": "stream",
     "text": [
      "\r",
      " 17%|█▋        | 263/1584 [01:16<02:58,  7.40it/s]"
     ]
    },
    {
     "name": "stdout",
     "output_type": "stream",
     "text": [
      "Wikipedia Articales\\Burlington.txt\n",
      "Wikipedia Articales\\C%C3%A9cile_Mattawa.txt\n"
     ]
    },
    {
     "name": "stderr",
     "output_type": "stream",
     "text": [
      "\r",
      " 17%|█▋        | 265/1584 [01:16<02:52,  7.65it/s]"
     ]
    },
    {
     "name": "stdout",
     "output_type": "stream",
     "text": [
      "Wikipedia Articales\\C%C3%A9line_Quitich.txt\n"
     ]
    },
    {
     "name": "stderr",
     "output_type": "stream",
     "text": [
      " 17%|█▋        | 267/1584 [01:17<04:50,  4.53it/s]"
     ]
    },
    {
     "name": "stdout",
     "output_type": "stream",
     "text": [
      "Wikipedia Articales\\C%C3%A9sar_Moar.txt\n",
      "Wikipedia Articales\\C%C3%A9sar_Newashish.txt\n"
     ]
    },
    {
     "name": "stderr",
     "output_type": "stream",
     "text": [
      " 17%|█▋        | 269/1584 [01:19<08:33,  2.56it/s]"
     ]
    },
    {
     "name": "stdout",
     "output_type": "stream",
     "text": [
      "Wikipedia Articales\\C%C3%A9sar_kirika_otcimankan.txt\n"
     ]
    },
    {
     "name": "stderr",
     "output_type": "stream",
     "text": [
      "\r",
      " 17%|█▋        | 270/1584 [01:19<07:02,  3.11it/s]"
     ]
    },
    {
     "name": "stdout",
     "output_type": "stream",
     "text": [
      "Wikipedia Articales\\C%C3%A9sar_otcimankan.txt\n",
      "Wikipedia Articales\\C%C3%A9zar_Moar.txt\n"
     ]
    },
    {
     "name": "stderr",
     "output_type": "stream",
     "text": [
      " 17%|█▋        | 273/1584 [01:19<04:19,  5.04it/s]"
     ]
    },
    {
     "name": "stdout",
     "output_type": "stream",
     "text": [
      "Wikipedia Articales\\C%C3%B4te-Saint-Luc.txt\n",
      "Wikipedia Articales\\Cacakominan.txt\n",
      "Wikipedia Articales\\Cacakwenikotcac.txt\n"
     ]
    },
    {
     "name": "stderr",
     "output_type": "stream",
     "text": [
      " 17%|█▋        | 275/1584 [01:20<04:27,  4.90it/s]"
     ]
    },
    {
     "name": "stdout",
     "output_type": "stream",
     "text": [
      "Wikipedia Articales\\Cacawoni_pirecic.txt\n",
      "Wikipedia Articales\\Cakiw.txt\n"
     ]
    },
    {
     "name": "stderr",
     "output_type": "stream",
     "text": [
      "\r",
      " 17%|█▋        | 276/1584 [01:20<04:24,  4.94it/s]"
     ]
    },
    {
     "name": "stdout",
     "output_type": "stream",
     "text": [
      "Wikipedia Articales\\Cakwecio_Sakihikan.txt\n",
      "Wikipedia Articales\\Cakweciw.txt\n"
     ]
    },
    {
     "name": "stderr",
     "output_type": "stream",
     "text": [
      " 18%|█▊        | 280/1584 [01:20<03:16,  6.63it/s]"
     ]
    },
    {
     "name": "stdout",
     "output_type": "stream",
     "text": [
      "Wikipedia Articales\\Caledon.txt\n",
      "Wikipedia Articales\\Calgary.txt\n",
      "Wikipedia Articales\\Calmar.txt\n",
      "Wikipedia Articales\\Candiac.txt\n"
     ]
    },
    {
     "name": "stderr",
     "output_type": "stream",
     "text": [
      " 18%|█▊        | 284/1584 [01:21<02:57,  7.33it/s]"
     ]
    },
    {
     "name": "stdout",
     "output_type": "stream",
     "text": [
      "Wikipedia Articales\\Caniapiscau.txt\n",
      "Wikipedia Articales\\Canipie_Sakihikan.txt\n",
      "Wikipedia Articales\\Canmore.txt\n"
     ]
    },
    {
     "name": "stderr",
     "output_type": "stream",
     "text": [
      "\r",
      " 18%|█▊        | 286/1584 [01:21<02:37,  8.24it/s]"
     ]
    },
    {
     "name": "stdout",
     "output_type": "stream",
     "text": [
      "Wikipedia Articales\\Cap-Chat.txt\n",
      "Wikipedia Articales\\Cap-Rouge.txt\n",
      "Wikipedia Articales\\Cap-Sant%C3%A9.txt\n"
     ]
    },
    {
     "name": "stderr",
     "output_type": "stream",
     "text": [
      "\r",
      " 18%|█▊        | 288/1584 [01:21<02:24,  8.95it/s]"
     ]
    },
    {
     "name": "stdout",
     "output_type": "stream",
     "text": [
      "Wikipedia Articales\\Capetciwotakanik.txt\n"
     ]
    },
    {
     "name": "stderr",
     "output_type": "stream",
     "text": [
      " 18%|█▊        | 291/1584 [01:22<04:32,  4.74it/s]"
     ]
    },
    {
     "name": "stdout",
     "output_type": "stream",
     "text": [
      "Wikipedia Articales\\Capitwan_Sakihikan.txt\n",
      "Wikipedia Articales\\Caponikan.txt\n",
      "Wikipedia Articales\\Cardston.txt\n",
      "Wikipedia Articales\\Carey_Price.txt\n"
     ]
    },
    {
     "name": "stderr",
     "output_type": "stream",
     "text": [
      "\r",
      " 18%|█▊        | 293/1584 [01:23<06:02,  3.56it/s]"
     ]
    },
    {
     "name": "stdout",
     "output_type": "stream",
     "text": [
      "Wikipedia Articales\\Carignan.txt\n",
      "Wikipedia Articales\\Carleton-sur-Mer.txt\n"
     ]
    },
    {
     "name": "stderr",
     "output_type": "stream",
     "text": [
      "\r",
      " 19%|█▊        | 295/1584 [01:24<07:52,  2.73it/s]"
     ]
    },
    {
     "name": "stdout",
     "output_type": "stream",
     "text": [
      "Wikipedia Articales\\Carleton_Place.txt\n",
      "Wikipedia Articales\\Carmen_Dub%C3%A9.txt\n"
     ]
    },
    {
     "name": "stderr",
     "output_type": "stream",
     "text": [
      "\r",
      " 19%|█▉        | 297/1584 [01:25<06:25,  3.34it/s]"
     ]
    },
    {
     "name": "stdout",
     "output_type": "stream",
     "text": [
      "Wikipedia Articales\\Caroline_Calv%C3%A9.txt\n"
     ]
    },
    {
     "name": "stderr",
     "output_type": "stream",
     "text": [
      " 19%|█▉        | 299/1584 [01:25<05:43,  3.74it/s]"
     ]
    },
    {
     "name": "stdout",
     "output_type": "stream",
     "text": [
      "Wikipedia Articales\\Caroline_Monnet.txt\n"
     ]
    },
    {
     "name": "stderr",
     "output_type": "stream",
     "text": [
      "\r",
      " 19%|█▉        | 301/1584 [01:25<04:10,  5.11it/s]"
     ]
    },
    {
     "name": "stdout",
     "output_type": "stream",
     "text": [
      "Wikipedia Articales\\Carstairs.txt\n",
      "Wikipedia Articales\\Casselman.txt\n",
      "Wikipedia Articales\\Castor_(Alberta).txt\n"
     ]
    },
    {
     "name": "stderr",
     "output_type": "stream",
     "text": [
      "\r",
      " 19%|█▉        | 303/1584 [01:25<03:08,  6.78it/s]"
     ]
    },
    {
     "name": "stdout",
     "output_type": "stream",
     "text": [
      "Wikipedia Articales\\Cat%C3%A9gorie\n",
      "Wikipedia Articales\\Catherine_Sutton.txt\n"
     ]
    },
    {
     "name": "stderr",
     "output_type": "stream",
     "text": [
      "\r",
      " 19%|█▉        | 305/1584 [01:26<04:46,  4.47it/s]"
     ]
    },
    {
     "name": "stdout",
     "output_type": "stream",
     "text": [
      "Wikipedia Articales\\Causapscal.txt\n",
      "Wikipedia Articales\\Cawinikan.txt\n"
     ]
    },
    {
     "name": "stderr",
     "output_type": "stream",
     "text": [
      " 19%|█▉        | 307/1584 [01:26<04:08,  5.13it/s]"
     ]
    },
    {
     "name": "stdout",
     "output_type": "stream",
     "text": [
      "Wikipedia Articales\\Cawonok.txt\n",
      "Wikipedia Articales\\Cawonok_Nakapehonok.txt\n",
      "Wikipedia Articales\\Cawonok_Wapanok.txt\n"
     ]
    },
    {
     "name": "stderr",
     "output_type": "stream",
     "text": [
      "\r",
      " 20%|█▉        | 309/1584 [01:27<03:13,  6.59it/s]"
     ]
    },
    {
     "name": "stdout",
     "output_type": "stream",
     "text": [
      "Wikipedia Articales\\Cececiw.txt\n"
     ]
    },
    {
     "name": "stderr",
     "output_type": "stream",
     "text": [
      "\r",
      " 20%|█▉        | 310/1584 [01:27<04:26,  4.78it/s]"
     ]
    },
    {
     "name": "stdout",
     "output_type": "stream",
     "text": [
      "Wikipedia Articales\\Cecoc.txt\n"
     ]
    },
    {
     "name": "stderr",
     "output_type": "stream",
     "text": [
      "\r",
      " 20%|█▉        | 311/1584 [01:27<04:53,  4.34it/s]"
     ]
    },
    {
     "name": "stdout",
     "output_type": "stream",
     "text": [
      "Wikipedia Articales\\Cehikan.txt\n",
      "Wikipedia Articales\\Cekiporwatcic.txt\n"
     ]
    },
    {
     "name": "stderr",
     "output_type": "stream",
     "text": [
      "\r",
      " 20%|█▉        | 313/1584 [01:28<04:10,  5.08it/s]"
     ]
    },
    {
     "name": "stdout",
     "output_type": "stream",
     "text": [
      "Wikipedia Articales\\Cepokamo.txt\n"
     ]
    },
    {
     "name": "stderr",
     "output_type": "stream",
     "text": [
      "\r",
      " 20%|█▉        | 314/1584 [01:28<06:43,  3.14it/s]"
     ]
    },
    {
     "name": "stdout",
     "output_type": "stream",
     "text": [
      "Wikipedia Articales\\Cesar_Newashish.txt\n"
     ]
    },
    {
     "name": "stderr",
     "output_type": "stream",
     "text": [
      " 20%|██        | 317/1584 [01:30<07:33,  2.80it/s]"
     ]
    },
    {
     "name": "stdout",
     "output_type": "stream",
     "text": [
      "Wikipedia Articales\\Ch%C3%A2teau-Richer.txt\n",
      "Wikipedia Articales\\Ch%C3%A2teauguay.txt\n"
     ]
    },
    {
     "name": "stderr",
     "output_type": "stream",
     "text": [
      "\r",
      " 20%|██        | 319/1584 [01:30<05:28,  3.85it/s]"
     ]
    },
    {
     "name": "stdout",
     "output_type": "stream",
     "text": [
      "Wikipedia Articales\\Chambly.txt\n",
      "Wikipedia Articales\\Chambord.txt\n",
      "Wikipedia Articales\\Chandler.txt\n",
      "Wikipedia Articales\\Chantale_Ottawa.txt\n"
     ]
    },
    {
     "name": "stderr",
     "output_type": "stream",
     "text": [
      " 20%|██        | 323/1584 [01:30<03:49,  5.48it/s]"
     ]
    },
    {
     "name": "stdout",
     "output_type": "stream",
     "text": [
      "Wikipedia Articales\\Chapais.txt\n",
      "Wikipedia Articales\\Chapel_Island_5.txt\n",
      "Wikipedia Articales\\Charlemagne.txt\n",
      "Wikipedia Articales\\Charles_Coocoo.txt\n"
     ]
    },
    {
     "name": "stderr",
     "output_type": "stream",
     "text": [
      "\r",
      " 21%|██        | 325/1584 [01:31<05:58,  3.52it/s]"
     ]
    },
    {
     "name": "stdout",
     "output_type": "stream",
     "text": [
      "Wikipedia Articales\\Charles_Flamand.txt\n"
     ]
    },
    {
     "name": "stderr",
     "output_type": "stream",
     "text": [
      "\r",
      " 21%|██        | 326/1584 [01:32<05:54,  3.55it/s]"
     ]
    },
    {
     "name": "stdout",
     "output_type": "stream",
     "text": [
      "Wikipedia Articales\\Charles_Quitich.txt\n"
     ]
    },
    {
     "name": "stderr",
     "output_type": "stream",
     "text": [
      "\r",
      " 21%|██        | 327/1584 [01:32<07:47,  2.69it/s]"
     ]
    },
    {
     "name": "stdout",
     "output_type": "stream",
     "text": [
      "Wikipedia Articales\\Charles_Quitish.txt\n"
     ]
    },
    {
     "name": "stderr",
     "output_type": "stream",
     "text": [
      " 21%|██        | 330/1584 [01:33<06:17,  3.32it/s]"
     ]
    },
    {
     "name": "stdout",
     "output_type": "stream",
     "text": [
      "Wikipedia Articales\\Chatham-Kent.txt\n",
      "Wikipedia Articales\\Chester.txt\n",
      "Wikipedia Articales\\Chibougamau.txt\n"
     ]
    },
    {
     "name": "stderr",
     "output_type": "stream",
     "text": [
      "\r",
      " 21%|██        | 331/1584 [01:34<08:31,  2.45it/s]"
     ]
    },
    {
     "name": "stdout",
     "output_type": "stream",
     "text": [
      "Wikipedia Articales\\Chibougamou.txt\n"
     ]
    },
    {
     "name": "stderr",
     "output_type": "stream",
     "text": [
      "\r",
      " 21%|██        | 332/1584 [01:35<10:40,  1.96it/s]"
     ]
    },
    {
     "name": "stdout",
     "output_type": "stream",
     "text": [
      "Wikipedia Articales\\Chicagou.txt\n"
     ]
    },
    {
     "name": "stderr",
     "output_type": "stream",
     "text": [
      " 21%|██        | 334/1584 [01:35<07:14,  2.87it/s]"
     ]
    },
    {
     "name": "stdout",
     "output_type": "stream",
     "text": [
      "Wikipedia Articales\\Chisasibi.txt\n",
      "Wikipedia Articales\\Christine_Sioui-Wawanoloath.txt\n"
     ]
    },
    {
     "name": "stderr",
     "output_type": "stream",
     "text": [
      "\r",
      " 21%|██        | 335/1584 [01:36<08:24,  2.48it/s]"
     ]
    },
    {
     "name": "stdout",
     "output_type": "stream",
     "text": [
      "Wikipedia Articales\\Cicatcikonekan.txt\n"
     ]
    },
    {
     "name": "stderr",
     "output_type": "stream",
     "text": [
      "\r",
      " 21%|██        | 336/1584 [01:36<07:21,  2.83it/s]"
     ]
    },
    {
     "name": "stdout",
     "output_type": "stream",
     "text": [
      "Wikipedia Articales\\Cicikon.txt\n"
     ]
    },
    {
     "name": "stderr",
     "output_type": "stream",
     "text": [
      "\r",
      " 21%|██▏       | 337/1584 [01:36<08:05,  2.57it/s]"
     ]
    },
    {
     "name": "stdout",
     "output_type": "stream",
     "text": [
      "Wikipedia Articales\\Cicip.txt\n"
     ]
    },
    {
     "name": "stderr",
     "output_type": "stream",
     "text": [
      " 21%|██▏       | 340/1584 [01:37<05:03,  4.10it/s]"
     ]
    },
    {
     "name": "stdout",
     "output_type": "stream",
     "text": [
      "Wikipedia Articales\\Cicip_Sakihikan.txt\n",
      "Wikipedia Articales\\Cicip_askikw.txt\n",
      "Wikipedia Articales\\Cikakw.txt\n"
     ]
    },
    {
     "name": "stderr",
     "output_type": "stream",
     "text": [
      "\r",
      " 22%|██▏       | 341/1584 [01:38<06:41,  3.10it/s]"
     ]
    },
    {
     "name": "stdout",
     "output_type": "stream",
     "text": [
      "Wikipedia Articales\\Cikakw_mite_(wirin).txt\n"
     ]
    },
    {
     "name": "stderr",
     "output_type": "stream",
     "text": [
      " 22%|██▏       | 343/1584 [01:38<05:32,  3.74it/s]"
     ]
    },
    {
     "name": "stdout",
     "output_type": "stream",
     "text": [
      "Wikipedia Articales\\Cikohikanatikw.txt\n",
      "Wikipedia Articales\\Cikokminan.txt\n"
     ]
    },
    {
     "name": "stderr",
     "output_type": "stream",
     "text": [
      "\r",
      " 22%|██▏       | 344/1584 [01:39<07:16,  2.84it/s]"
     ]
    },
    {
     "name": "stdout",
     "output_type": "stream",
     "text": [
      "Wikipedia Articales\\Cikokominan.txt\n"
     ]
    },
    {
     "name": "stderr",
     "output_type": "stream",
     "text": [
      "\r",
      " 22%|██▏       | 345/1584 [01:39<08:28,  2.43it/s]"
     ]
    },
    {
     "name": "stdout",
     "output_type": "stream",
     "text": [
      "Wikipedia Articales\\Cikokw.txt\n"
     ]
    },
    {
     "name": "stderr",
     "output_type": "stream",
     "text": [
      " 22%|██▏       | 347/1584 [01:40<06:28,  3.19it/s]"
     ]
    },
    {
     "name": "stdout",
     "output_type": "stream",
     "text": [
      "Wikipedia Articales\\Cikominan.txt\n",
      "Wikipedia Articales\\Cikopi.txt\n"
     ]
    },
    {
     "name": "stderr",
     "output_type": "stream",
     "text": [
      "\r",
      " 22%|██▏       | 348/1584 [01:40<05:34,  3.70it/s]"
     ]
    },
    {
     "name": "stdout",
     "output_type": "stream",
     "text": [
      "Wikipedia Articales\\Cikotai.txt\n"
     ]
    },
    {
     "name": "stderr",
     "output_type": "stream",
     "text": [
      "\r",
      " 22%|██▏       | 349/1584 [01:40<05:20,  3.85it/s]"
     ]
    },
    {
     "name": "stdout",
     "output_type": "stream",
     "text": [
      "Wikipedia Articales\\Cikwic.txt\n"
     ]
    },
    {
     "name": "stderr",
     "output_type": "stream",
     "text": [
      " 22%|██▏       | 351/1584 [01:41<05:20,  3.84it/s]"
     ]
    },
    {
     "name": "stdout",
     "output_type": "stream",
     "text": [
      "Wikipedia Articales\\Cipahatanatikw.txt\n"
     ]
    },
    {
     "name": "stderr",
     "output_type": "stream",
     "text": [
      "\r",
      " 22%|██▏       | 352/1584 [01:41<04:40,  4.40it/s]"
     ]
    },
    {
     "name": "stdout",
     "output_type": "stream",
     "text": [
      "Wikipedia Articales\\Cipwacte_orakan.txt\n",
      "Wikipedia Articales\\Ciwominan.txt\n"
     ]
    },
    {
     "name": "stderr",
     "output_type": "stream",
     "text": [
      "\r",
      " 22%|██▏       | 353/1584 [01:41<04:16,  4.80it/s]"
     ]
    },
    {
     "name": "stdout",
     "output_type": "stream",
     "text": [
      "Wikipedia Articales\\Ciwotakan.txt\n"
     ]
    },
    {
     "name": "stderr",
     "output_type": "stream",
     "text": [
      " 22%|██▏       | 356/1584 [01:41<03:20,  6.12it/s]"
     ]
    },
    {
     "name": "stdout",
     "output_type": "stream",
     "text": [
      "Wikipedia Articales\\Clare.txt\n",
      "Wikipedia Articales\\Clarence-Rockland.txt\n",
      "Wikipedia Articales\\Claresholm.txt\n"
     ]
    },
    {
     "name": "stderr",
     "output_type": "stream",
     "text": [
      "\r",
      " 23%|██▎       | 358/1584 [01:41<02:38,  7.74it/s]"
     ]
    },
    {
     "name": "stdout",
     "output_type": "stream",
     "text": [
      "Wikipedia Articales\\Clarington.txt\n",
      "Wikipedia Articales\\Clark%27s_Harbour.txt\n",
      "Wikipedia Articales\\Claude_Flamand.txt\n"
     ]
    },
    {
     "name": "stderr",
     "output_type": "stream",
     "text": [
      "\r",
      " 23%|██▎       | 360/1584 [01:42<03:52,  5.26it/s]"
     ]
    },
    {
     "name": "stdout",
     "output_type": "stream",
     "text": [
      "Wikipedia Articales\\Claude_McKenzie.txt\n"
     ]
    },
    {
     "name": "stderr",
     "output_type": "stream",
     "text": [
      " 23%|██▎       | 363/1584 [01:43<03:45,  5.41it/s]"
     ]
    },
    {
     "name": "stdout",
     "output_type": "stream",
     "text": [
      "Wikipedia Articales\\Clermont.txt\n",
      "Wikipedia Articales\\Coaldale.txt\n",
      "Wikipedia Articales\\Coalhurst.txt\n",
      "Wikipedia Articales\\Coaticook.txt\n"
     ]
    },
    {
     "name": "stderr",
     "output_type": "stream",
     "text": [
      " 23%|██▎       | 367/1584 [01:43<02:27,  8.27it/s]"
     ]
    },
    {
     "name": "stdout",
     "output_type": "stream",
     "text": [
      "Wikipedia Articales\\Cobalt.txt\n",
      "Wikipedia Articales\\Cobourg.txt\n",
      "Wikipedia Articales\\Coccinellidae.txt\n"
     ]
    },
    {
     "name": "stderr",
     "output_type": "stream",
     "text": [
      "\r",
      " 23%|██▎       | 369/1584 [01:43<02:26,  8.32it/s]"
     ]
    },
    {
     "name": "stdout",
     "output_type": "stream",
     "text": [
      "Wikipedia Articales\\Cochrane.txt\n",
      "Wikipedia Articales\\Cocotesi_sakihikan.txt\n"
     ]
    },
    {
     "name": "stderr",
     "output_type": "stream",
     "text": [
      "\r",
      " 23%|██▎       | 371/1584 [01:45<06:22,  3.17it/s]"
     ]
    },
    {
     "name": "stdout",
     "output_type": "stream",
     "text": [
      "Wikipedia Articales\\Collingwood.txt\n",
      "Wikipedia Articales\\Colombie.txt\n",
      "Wikipedia Articales\\Comt%C3%A9_de_Brant.txt\n"
     ]
    },
    {
     "name": "stderr",
     "output_type": "stream",
     "text": [
      " 24%|██▎       | 375/1584 [01:45<03:47,  5.32it/s]"
     ]
    },
    {
     "name": "stdout",
     "output_type": "stream",
     "text": [
      "Wikipedia Articales\\Comt%C3%A9_de_Prince_Edward.txt\n",
      "Wikipedia Articales\\Comt%C3%A9_de_Victoria.txt\n",
      "Wikipedia Articales\\Constant_Awashish.txt\n"
     ]
    },
    {
     "name": "stderr",
     "output_type": "stream",
     "text": [
      "\r",
      " 24%|██▍       | 377/1584 [01:45<04:16,  4.70it/s]"
     ]
    },
    {
     "name": "stdout",
     "output_type": "stream",
     "text": [
      "Wikipedia Articales\\Contrec%C5%93ur.txt\n",
      "Wikipedia Articales\\Cookshire-Eaton.txt\n"
     ]
    },
    {
     "name": "stderr",
     "output_type": "stream",
     "text": [
      "\r",
      " 24%|██▍       | 378/1584 [01:46<03:53,  5.17it/s]"
     ]
    },
    {
     "name": "stdout",
     "output_type": "stream",
     "text": [
      "Wikipedia Articales\\Coria_Sakihikan.txt\n",
      "Wikipedia Articales\\Coriet.txt\n"
     ]
    },
    {
     "name": "stderr",
     "output_type": "stream",
     "text": [
      " 24%|██▍       | 382/1584 [01:47<04:19,  4.63it/s]"
     ]
    },
    {
     "name": "stdout",
     "output_type": "stream",
     "text": [
      "Wikipedia Articales\\Cornwall.txt\n",
      "Wikipedia Articales\\Coronation.txt\n",
      "Wikipedia Articales\\Coronavirus_Covid-19.txt\n"
     ]
    },
    {
     "name": "stderr",
     "output_type": "stream",
     "text": [
      " 24%|██▍       | 385/1584 [01:49<08:50,  2.26it/s]"
     ]
    },
    {
     "name": "stdout",
     "output_type": "stream",
     "text": [
      "Wikipedia Articales\\Cosep.txt\n",
      "Wikipedia Articales\\Coteau-du-Lac.txt\n",
      "Wikipedia Articales\\Cowansville.txt\n",
      "Wikipedia Articales\\Cowemin.txt\n"
     ]
    },
    {
     "name": "stderr",
     "output_type": "stream",
     "text": [
      "\r",
      " 24%|██▍       | 387/1584 [01:50<06:57,  2.87it/s]"
     ]
    },
    {
     "name": "stdout",
     "output_type": "stream",
     "text": [
      "Wikipedia Articales\\Coweminak.txt\n"
     ]
    },
    {
     "name": "stderr",
     "output_type": "stream",
     "text": [
      "\r",
      " 24%|██▍       | 388/1584 [01:50<06:32,  3.05it/s]"
     ]
    },
    {
     "name": "stdout",
     "output_type": "stream",
     "text": [
      "Wikipedia Articales\\Cris.txt\n"
     ]
    },
    {
     "name": "stderr",
     "output_type": "stream",
     "text": [
      " 25%|██▍       | 391/1584 [01:51<06:38,  2.99it/s]"
     ]
    },
    {
     "name": "stdout",
     "output_type": "stream",
     "text": [
      "Wikipedia Articales\\Crossfield.txt\n",
      "Wikipedia Articales\\D%C3%A9gelis.txt\n",
      "Wikipedia Articales\\Dana_Claxton.txt\n"
     ]
    },
    {
     "name": "stderr",
     "output_type": "stream",
     "text": [
      "\r",
      " 25%|██▍       | 392/1584 [01:51<06:18,  3.15it/s]"
     ]
    },
    {
     "name": "stdout",
     "output_type": "stream",
     "text": [
      "Wikipedia Articales\\Daniel_Ottawa.txt\n"
     ]
    },
    {
     "name": "stderr",
     "output_type": "stream",
     "text": [
      "\r",
      " 25%|██▍       | 393/1584 [01:52<06:32,  3.03it/s]"
     ]
    },
    {
     "name": "stdout",
     "output_type": "stream",
     "text": [
      "Wikipedia Articales\\Danville.txt\n",
      "Wikipedia Articales\\Daphne_Odjig.txt\n"
     ]
    },
    {
     "name": "stderr",
     "output_type": "stream",
     "text": [
      " 25%|██▌       | 396/1584 [01:52<04:59,  3.96it/s]"
     ]
    },
    {
     "name": "stdout",
     "output_type": "stream",
     "text": [
      "Wikipedia Articales\\Dave_Jenniss.txt\n",
      "Wikipedia Articales\\Daveluyville.txt\n"
     ]
    },
    {
     "name": "stderr",
     "output_type": "stream",
     "text": [
      "\r",
      " 25%|██▌       | 397/1584 [01:52<04:17,  4.62it/s]"
     ]
    },
    {
     "name": "stdout",
     "output_type": "stream",
     "text": [
      "Wikipedia Articales\\David-Marcel_Ottawa.txt\n"
     ]
    },
    {
     "name": "stderr",
     "output_type": "stream",
     "text": [
      "\r",
      " 25%|██▌       | 398/1584 [01:53<06:15,  3.16it/s]"
     ]
    },
    {
     "name": "stdout",
     "output_type": "stream",
     "text": [
      "Wikipedia Articales\\David_Ka_Wiasiketc_(Tapit_Kawiasiketc).txt\n"
     ]
    },
    {
     "name": "stderr",
     "output_type": "stream",
     "text": [
      "\r",
      " 25%|██▌       | 399/1584 [01:53<06:40,  2.96it/s]"
     ]
    },
    {
     "name": "stdout",
     "output_type": "stream",
     "text": [
      "Wikipedia Articales\\David_Petiquay.txt\n"
     ]
    },
    {
     "name": "stderr",
     "output_type": "stream",
     "text": [
      " 25%|██▌       | 402/1584 [01:55<08:20,  2.36it/s]"
     ]
    },
    {
     "name": "stdout",
     "output_type": "stream",
     "text": [
      "Wikipedia Articales\\Daysland.txt\n",
      "Wikipedia Articales\\Deep_River.txt\n",
      "Wikipedia Articales\\Deer_Lake.txt\n"
     ]
    },
    {
     "name": "stderr",
     "output_type": "stream",
     "text": [
      " 26%|██▌       | 405/1584 [01:55<04:34,  4.30it/s]"
     ]
    },
    {
     "name": "stdout",
     "output_type": "stream",
     "text": [
      "Wikipedia Articales\\Delson.txt\n",
      "Wikipedia Articales\\Desbiens.txt\n",
      "Wikipedia Articales\\Deseronto.txt\n",
      "Wikipedia Articales\\Devon.txt\n"
     ]
    },
    {
     "name": "stderr",
     "output_type": "stream",
     "text": [
      "\r",
      " 26%|██▌       | 407/1584 [01:56<03:26,  5.70it/s]"
     ]
    },
    {
     "name": "stdout",
     "output_type": "stream",
     "text": [
      "Wikipedia Articales\\Dictionnaire.txt\n",
      "Wikipedia Articales\\Didsbury.txt\n"
     ]
    },
    {
     "name": "stderr",
     "output_type": "stream",
     "text": [
      " 26%|██▌       | 411/1584 [01:56<02:31,  7.73it/s]"
     ]
    },
    {
     "name": "stdout",
     "output_type": "stream",
     "text": [
      "Wikipedia Articales\\Digby.txt\n",
      "Wikipedia Articales\\Disraeli.txt\n",
      "Wikipedia Articales\\Dolbeau-Mistassini.txt\n"
     ]
    },
    {
     "name": "stderr",
     "output_type": "stream",
     "text": [
      "\r",
      " 26%|██▌       | 413/1584 [01:56<02:17,  8.54it/s]"
     ]
    },
    {
     "name": "stdout",
     "output_type": "stream",
     "text": [
      "Wikipedia Articales\\Dollard-Des_Ormeaux.txt\n",
      "Wikipedia Articales\\Donna_May_Kimmaliardjuk.txt\n",
      "Wikipedia Articales\\Donnacona.txt\n"
     ]
    },
    {
     "name": "stderr",
     "output_type": "stream",
     "text": [
      " 26%|██▋       | 416/1584 [01:57<04:05,  4.75it/s]"
     ]
    },
    {
     "name": "stdout",
     "output_type": "stream",
     "text": [
      "Wikipedia Articales\\Dorval.txt\n",
      "Wikipedia Articales\\Drayton_Valley.txt\n",
      "Wikipedia Articales\\Drumheller.txt\n"
     ]
    },
    {
     "name": "stderr",
     "output_type": "stream",
     "text": [
      " 27%|██▋       | 420/1584 [01:58<02:40,  7.25it/s]"
     ]
    },
    {
     "name": "stdout",
     "output_type": "stream",
     "text": [
      "Wikipedia Articales\\Drummondville.txt\n",
      "Wikipedia Articales\\Dryden.txt\n",
      "Wikipedia Articales\\Dunham.txt\n"
     ]
    },
    {
     "name": "stderr",
     "output_type": "stream",
     "text": [
      "\r",
      " 27%|██▋       | 422/1584 [01:58<02:17,  8.42it/s]"
     ]
    },
    {
     "name": "stdout",
     "output_type": "stream",
     "text": [
      "Wikipedia Articales\\Duparquet.txt\n",
      "Wikipedia Articales\\Durham.txt\n",
      "Wikipedia Articales\\E_aistakok.txt\n"
     ]
    },
    {
     "name": "stderr",
     "output_type": "stream",
     "text": [
      "\r",
      " 27%|██▋       | 424/1584 [01:58<02:07,  9.10it/s]"
     ]
    },
    {
     "name": "stdout",
     "output_type": "stream",
     "text": [
      "Wikipedia Articales\\E_asitciparik.txt\n",
      "Wikipedia Articales\\E_ici_otciparik_ickote.txt\n"
     ]
    },
    {
     "name": "stderr",
     "output_type": "stream",
     "text": [
      "\r",
      " 27%|██▋       | 426/1584 [02:00<06:48,  2.84it/s]"
     ]
    },
    {
     "name": "stdout",
     "output_type": "stream",
     "text": [
      "Wikipedia Articales\\E_icihonaniwok_e_niminaniwok.txt\n"
     ]
    },
    {
     "name": "stderr",
     "output_type": "stream",
     "text": [
      "\r",
      " 27%|██▋       | 427/1584 [02:00<06:23,  3.02it/s]"
     ]
    },
    {
     "name": "stdout",
     "output_type": "stream",
     "text": [
      "Wikipedia Articales\\E_mickaniwok.txt\n"
     ]
    },
    {
     "name": "stderr",
     "output_type": "stream",
     "text": [
      "\r",
      " 27%|██▋       | 428/1584 [02:00<06:01,  3.20it/s]"
     ]
    },
    {
     "name": "stdout",
     "output_type": "stream",
     "text": [
      "Wikipedia Articales\\E_nikotwatciki_e_aistokoki.txt\n"
     ]
    },
    {
     "name": "stderr",
     "output_type": "stream",
     "text": [
      "\r",
      " 27%|██▋       | 429/1584 [02:00<06:15,  3.08it/s]"
     ]
    },
    {
     "name": "stdout",
     "output_type": "stream",
     "text": [
      "Wikipedia Articales\\E_nta_pakitohaniwok.txt\n"
     ]
    },
    {
     "name": "stderr",
     "output_type": "stream",
     "text": [
      "\r",
      " 27%|██▋       | 430/1584 [02:01<07:47,  2.47it/s]"
     ]
    },
    {
     "name": "stdout",
     "output_type": "stream",
     "text": [
      "Wikipedia Articales\\E_ocihakaniwitc_pakwecikan.txt\n"
     ]
    },
    {
     "name": "stderr",
     "output_type": "stream",
     "text": [
      "\r",
      " 27%|██▋       | 431/1584 [02:02<08:13,  2.34it/s]"
     ]
    },
    {
     "name": "stdout",
     "output_type": "stream",
     "text": [
      "Wikipedia Articales\\E_otcirowek.txt\n"
     ]
    },
    {
     "name": "stderr",
     "output_type": "stream",
     "text": [
      " 27%|██▋       | 433/1584 [02:02<06:17,  3.05it/s]"
     ]
    },
    {
     "name": "stdout",
     "output_type": "stream",
     "text": [
      "Wikipedia Articales\\E_ponaskiwokw_atisokan.txt\n",
      "Wikipedia Articales\\E_ponaskiwon_atisokan.txt\n"
     ]
    },
    {
     "name": "stderr",
     "output_type": "stream",
     "text": [
      "\r",
      " 27%|██▋       | 434/1584 [02:02<05:34,  3.44it/s]"
     ]
    },
    {
     "name": "stdout",
     "output_type": "stream",
     "text": [
      "Wikipedia Articales\\E_tipiskak.txt\n"
     ]
    },
    {
     "name": "stderr",
     "output_type": "stream",
     "text": [
      "\r",
      " 27%|██▋       | 435/1584 [02:03<06:07,  3.13it/s]"
     ]
    },
    {
     "name": "stdout",
     "output_type": "stream",
     "text": [
      "Wikipedia Articales\\East_Angus.txt\n"
     ]
    },
    {
     "name": "stderr",
     "output_type": "stream",
     "text": [
      " 28%|██▊       | 437/1584 [02:03<05:48,  3.30it/s]"
     ]
    },
    {
     "name": "stdout",
     "output_type": "stream",
     "text": [
      "Wikipedia Articales\\East_Broughton.txt\n",
      "Wikipedia Articales\\East_Gwillimbury.txt\n"
     ]
    },
    {
     "name": "stderr",
     "output_type": "stream",
     "text": [
      "\r",
      " 28%|██▊       | 439/1584 [02:04<04:01,  4.75it/s]"
     ]
    },
    {
     "name": "stdout",
     "output_type": "stream",
     "text": [
      "Wikipedia Articales\\Eastmain.txt\n",
      "Wikipedia Articales\\Eckville.txt\n",
      "Wikipedia Articales\\Edmond_Ottawa.txt\n"
     ]
    },
    {
     "name": "stderr",
     "output_type": "stream",
     "text": [
      " 28%|██▊       | 443/1584 [02:04<03:56,  4.83it/s]"
     ]
    },
    {
     "name": "stdout",
     "output_type": "stream",
     "text": [
      "Wikipedia Articales\\Edmonton.txt\n",
      "Wikipedia Articales\\Edson.txt\n",
      "Wikipedia Articales\\Ehepikw.txt\n"
     ]
    },
    {
     "name": "stderr",
     "output_type": "stream",
     "text": [
      " 28%|██▊       | 445/1584 [02:05<03:28,  5.47it/s]"
     ]
    },
    {
     "name": "stdout",
     "output_type": "stream",
     "text": [
      "Wikipedia Articales\\Eka_Kasapit_Sakihikan.txt\n",
      "Wikipedia Articales\\Elk_Point.txt\n",
      "Wikipedia Articales\\Elliot_Lake.txt\n"
     ]
    },
    {
     "name": "stderr",
     "output_type": "stream",
     "text": [
      " 28%|██▊       | 448/1584 [02:05<02:46,  6.82it/s]"
     ]
    },
    {
     "name": "stdout",
     "output_type": "stream",
     "text": [
      "Wikipedia Articales\\Emikwan.txt\n",
      "Wikipedia Articales\\Emikwanisis.txt\n"
     ]
    },
    {
     "name": "stderr",
     "output_type": "stream",
     "text": [
      " 28%|██▊       | 451/1584 [02:05<02:19,  8.13it/s]"
     ]
    },
    {
     "name": "stdout",
     "output_type": "stream",
     "text": [
      "Wikipedia Articales\\Emirockoteak_Sakihikan.txt\n",
      "Wikipedia Articales\\Emitikocimonaniwok.txt\n",
      "Wikipedia Articales\\Emitikociw.txt\n"
     ]
    },
    {
     "name": "stderr",
     "output_type": "stream",
     "text": [
      "\r",
      " 29%|██▊       | 453/1584 [02:06<01:56,  9.67it/s]"
     ]
    },
    {
     "name": "stdout",
     "output_type": "stream",
     "text": [
      "Wikipedia Articales\\Englehart.txt\n",
      "Wikipedia Articales\\Enitakwak_Sakihikan.txt\n",
      "Wikipedia Articales\\Eokitakwak_Kakickapiskakamak_sakihikan.txt\n"
     ]
    },
    {
     "name": "stderr",
     "output_type": "stream",
     "text": [
      "\r",
      " 29%|██▊       | 455/1584 [02:06<01:52, 10.08it/s]"
     ]
    },
    {
     "name": "stdout",
     "output_type": "stream",
     "text": [
      "Wikipedia Articales\\Eriko_Sakihikan.txt\n",
      "Wikipedia Articales\\Erikoc.txt\n"
     ]
    },
    {
     "name": "stderr",
     "output_type": "stream",
     "text": [
      "\r",
      " 29%|██▉       | 457/1584 [02:06<02:09,  8.72it/s]"
     ]
    },
    {
     "name": "stdout",
     "output_type": "stream",
     "text": [
      "Wikipedia Articales\\Erin.txt\n",
      "Wikipedia Articales\\Ernest_Awashish.txt\n"
     ]
    },
    {
     "name": "stderr",
     "output_type": "stream",
     "text": [
      "\r",
      " 29%|██▉       | 459/1584 [02:06<02:14,  8.34it/s]"
     ]
    },
    {
     "name": "stdout",
     "output_type": "stream",
     "text": [
      "Wikipedia Articales\\Ernest_Ottawa.txt\n"
     ]
    },
    {
     "name": "stderr",
     "output_type": "stream",
     "text": [
      "\r",
      " 29%|██▉       | 460/1584 [02:07<04:37,  4.05it/s]"
     ]
    },
    {
     "name": "stdout",
     "output_type": "stream",
     "text": [
      "Wikipedia Articales\\Eruoma_Awashish.txt\n"
     ]
    },
    {
     "name": "stderr",
     "output_type": "stream",
     "text": [
      "\r",
      " 29%|██▉       | 461/1584 [02:07<04:44,  3.95it/s]"
     ]
    },
    {
     "name": "stdout",
     "output_type": "stream",
     "text": [
      "Wikipedia Articales\\Esipan.txt\n"
     ]
    },
    {
     "name": "stderr",
     "output_type": "stream",
     "text": [
      "\r",
      " 29%|██▉       | 462/1584 [02:08<07:01,  2.67it/s]"
     ]
    },
    {
     "name": "stdout",
     "output_type": "stream",
     "text": [
      "Wikipedia Articales\\Eskimaux.txt\n"
     ]
    },
    {
     "name": "stderr",
     "output_type": "stream",
     "text": [
      "\r",
      " 29%|██▉       | 463/1584 [02:09<09:43,  1.92it/s]"
     ]
    },
    {
     "name": "stdout",
     "output_type": "stream",
     "text": [
      "Wikipedia Articales\\Eskimos.txt\n"
     ]
    },
    {
     "name": "stderr",
     "output_type": "stream",
     "text": [
      " 29%|██▉       | 466/1584 [02:10<07:12,  2.59it/s]"
     ]
    },
    {
     "name": "stdout",
     "output_type": "stream",
     "text": [
      "Wikipedia Articales\\Espanola.txt\n",
      "Wikipedia Articales\\Essex.txt\n",
      "Wikipedia Articales\\Essipit.txt\n"
     ]
    },
    {
     "name": "stderr",
     "output_type": "stream",
     "text": [
      "\r",
      " 30%|██▉       | 468/1584 [02:10<05:01,  3.70it/s]"
     ]
    },
    {
     "name": "stdout",
     "output_type": "stream",
     "text": [
      "Wikipedia Articales\\Est%C3%A9rel.txt\n",
      "Wikipedia Articales\\Estakok_miroskamin.txt\n"
     ]
    },
    {
     "name": "stderr",
     "output_type": "stream",
     "text": [
      "\r",
      " 30%|██▉       | 469/1584 [02:11<08:16,  2.25it/s]"
     ]
    },
    {
     "name": "stdout",
     "output_type": "stream",
     "text": [
      "Wikipedia Articales\\Etcakwan_Armand.txt\n"
     ]
    },
    {
     "name": "stderr",
     "output_type": "stream",
     "text": [
      "\r",
      " 30%|██▉       | 470/1584 [02:12<10:10,  1.83it/s]"
     ]
    },
    {
     "name": "stdout",
     "output_type": "stream",
     "text": [
      "Wikipedia Articales\\Etcakwan_Sepier.txt\n"
     ]
    },
    {
     "name": "stderr",
     "output_type": "stream",
     "text": [
      "\r",
      " 30%|██▉       | 471/1584 [02:13<09:51,  1.88it/s]"
     ]
    },
    {
     "name": "stdout",
     "output_type": "stream",
     "text": [
      "Wikipedia Articales\\Eva_Ottawa.txt\n"
     ]
    },
    {
     "name": "stderr",
     "output_type": "stream",
     "text": [
      " 30%|██▉       | 474/1584 [02:14<06:47,  2.73it/s]"
     ]
    },
    {
     "name": "stdout",
     "output_type": "stream",
     "text": [
      "Wikipedia Articales\\Exp%C3%A9dition_Tapiskwan_Sipi.txt\n",
      "Wikipedia Articales\\Fairview.txt\n",
      "Wikipedia Articales\\Falher.txt\n",
      "Wikipedia Articales\\Farnham.txt\n"
     ]
    },
    {
     "name": "stderr",
     "output_type": "stream",
     "text": [
      "\r",
      " 30%|███       | 476/1584 [02:14<06:54,  2.67it/s]"
     ]
    },
    {
     "name": "stdout",
     "output_type": "stream",
     "text": [
      "Wikipedia Articales\\Fermont.txt\n"
     ]
    },
    {
     "name": "stderr",
     "output_type": "stream",
     "text": [
      "\r",
      " 30%|███       | 477/1584 [02:15<06:20,  2.91it/s]"
     ]
    },
    {
     "name": "stdout",
     "output_type": "stream",
     "text": [
      "Wikipedia Articales\\Finlande.txt\n",
      "Wikipedia Articales\\Flamand_Claude.txt\n"
     ]
    },
    {
     "name": "stderr",
     "output_type": "stream",
     "text": [
      "\r",
      " 30%|███       | 479/1584 [02:15<05:54,  3.11it/s]"
     ]
    },
    {
     "name": "stdout",
     "output_type": "stream",
     "text": [
      "Wikipedia Articales\\Flamand_Harry.txt\n"
     ]
    },
    {
     "name": "stderr",
     "output_type": "stream",
     "text": [
      "\r",
      " 30%|███       | 480/1584 [02:16<05:54,  3.11it/s]"
     ]
    },
    {
     "name": "stdout",
     "output_type": "stream",
     "text": [
      "Wikipedia Articales\\Flamand_Wellie.txt\n"
     ]
    },
    {
     "name": "stderr",
     "output_type": "stream",
     "text": [
      "\r",
      " 30%|███       | 481/1584 [02:16<06:36,  2.78it/s]"
     ]
    },
    {
     "name": "stdout",
     "output_type": "stream",
     "text": [
      "Wikipedia Articales\\Florent_Vollant.txt\n"
     ]
    },
    {
     "name": "stderr",
     "output_type": "stream",
     "text": [
      "\r",
      " 30%|███       | 482/1584 [02:17<08:22,  2.19it/s]"
     ]
    },
    {
     "name": "stdout",
     "output_type": "stream",
     "text": [
      "Wikipedia Articales\\Fondation_Mirokiwin.txt\n"
     ]
    },
    {
     "name": "stderr",
     "output_type": "stream",
     "text": [
      "\r",
      " 30%|███       | 483/1584 [02:18<11:34,  1.58it/s]"
     ]
    },
    {
     "name": "stdout",
     "output_type": "stream",
     "text": [
      "Wikipedia Articales\\Forestville.txt\n"
     ]
    },
    {
     "name": "stderr",
     "output_type": "stream",
     "text": [
      " 31%|███       | 486/1584 [02:19<06:39,  2.75it/s]"
     ]
    },
    {
     "name": "stdout",
     "output_type": "stream",
     "text": [
      "Wikipedia Articales\\Fort_%C3%89ri%C3%A9.txt\n",
      "Wikipedia Articales\\Fort_Frances.txt\n",
      "Wikipedia Articales\\Fort_Macleod.txt\n"
     ]
    },
    {
     "name": "stderr",
     "output_type": "stream",
     "text": [
      "\r",
      " 31%|███       | 488/1584 [02:19<04:44,  3.85it/s]"
     ]
    },
    {
     "name": "stdout",
     "output_type": "stream",
     "text": [
      "Wikipedia Articales\\Fossambault-sur-le-Lac.txt\n",
      "Wikipedia Articales\\Fox_Creek.txt\n",
      "Wikipedia Articales\\Fran%C3%A7ois_Ottawa.txt\n"
     ]
    },
    {
     "name": "stderr",
     "output_type": "stream",
     "text": [
      "\r",
      " 31%|███       | 490/1584 [02:19<05:11,  3.51it/s]"
     ]
    },
    {
     "name": "stdout",
     "output_type": "stream",
     "text": [
      "Wikipedia Articales\\Francis_Pegahgamabow.txt\n"
     ]
    },
    {
     "name": "stderr",
     "output_type": "stream",
     "text": [
      "\r",
      " 31%|███       | 491/1584 [02:20<05:41,  3.20it/s]"
     ]
    },
    {
     "name": "stdout",
     "output_type": "stream",
     "text": [
      "Wikipedia Articales\\Francis_Pegahmagabow.txt\n"
     ]
    },
    {
     "name": "stderr",
     "output_type": "stream",
     "text": [
      " 31%|███       | 493/1584 [02:20<05:17,  3.44it/s]"
     ]
    },
    {
     "name": "stdout",
     "output_type": "stream",
     "text": [
      "Wikipedia Articales\\Francis_Verreault-Paul.txt\n",
      "Wikipedia Articales\\Frederick_George_Sasakamoose.txt\n"
     ]
    },
    {
     "name": "stderr",
     "output_type": "stream",
     "text": [
      " 31%|███▏      | 495/1584 [02:21<05:30,  3.30it/s]"
     ]
    },
    {
     "name": "stdout",
     "output_type": "stream",
     "text": [
      "Wikipedia Articales\\G%C3%A9rald_Morin.txt\n",
      "Wikipedia Articales\\G%C3%A9rard_Ottawa.txt\n"
     ]
    },
    {
     "name": "stderr",
     "output_type": "stream",
     "text": [
      "\r",
      " 31%|███▏      | 496/1584 [02:23<11:20,  1.60it/s]"
     ]
    },
    {
     "name": "stdout",
     "output_type": "stream",
     "text": [
      "Wikipedia Articales\\Ga%27axstal%27as,_Jane_Constance_Cook.txt\n"
     ]
    },
    {
     "name": "stderr",
     "output_type": "stream",
     "text": [
      "\r",
      " 31%|███▏      | 497/1584 [02:23<11:56,  1.52it/s]"
     ]
    },
    {
     "name": "stdout",
     "output_type": "stream",
     "text": [
      "Wikipedia Articales\\Gananoque.txt\n",
      "Wikipedia Articales\\Gasp%C3%A9.txt\n"
     ]
    },
    {
     "name": "stderr",
     "output_type": "stream",
     "text": [
      "\r",
      " 32%|███▏      | 499/1584 [02:24<09:32,  1.89it/s]"
     ]
    },
    {
     "name": "stdout",
     "output_type": "stream",
     "text": [
      "Wikipedia Articales\\Gaston_Moar.txt\n"
     ]
    },
    {
     "name": "stderr",
     "output_type": "stream",
     "text": [
      "\r",
      " 32%|███▏      | 500/1584 [02:25<11:03,  1.63it/s]"
     ]
    },
    {
     "name": "stdout",
     "output_type": "stream",
     "text": [
      "Wikipedia Articales\\Genevi%C3%A8ve_McKenzie-Sioui.txt\n"
     ]
    },
    {
     "name": "stderr",
     "output_type": "stream",
     "text": [
      "\r",
      " 32%|███▏      | 501/1584 [02:25<09:54,  1.82it/s]"
     ]
    },
    {
     "name": "stdout",
     "output_type": "stream",
     "text": [
      "Wikipedia Articales\\Genevi%C3%A8ve_McKenzie.txt\n"
     ]
    },
    {
     "name": "stderr",
     "output_type": "stream",
     "text": [
      "\r",
      " 32%|███▏      | 502/1584 [02:26<08:47,  2.05it/s]"
     ]
    },
    {
     "name": "stdout",
     "output_type": "stream",
     "text": [
      "Wikipedia Articales\\Georges_Niquay.txt\n"
     ]
    },
    {
     "name": "stderr",
     "output_type": "stream",
     "text": [
      "\r",
      " 32%|███▏      | 503/1584 [02:26<08:25,  2.14it/s]"
     ]
    },
    {
     "name": "stdout",
     "output_type": "stream",
     "text": [
      "Wikipedia Articales\\Georgina.txt\n",
      "Wikipedia Articales\\Gerald_Taiaiake_Alfred.txt\n"
     ]
    },
    {
     "name": "stderr",
     "output_type": "stream",
     "text": [
      " 32%|███▏      | 507/1584 [02:27<04:14,  4.24it/s]"
     ]
    },
    {
     "name": "stdout",
     "output_type": "stream",
     "text": [
      "Wikipedia Articales\\Gesgapegiag.txt\n",
      "Wikipedia Articales\\Gespeg.txt\n",
      "Wikipedia Articales\\Ghislain_Picard.txt\n"
     ]
    },
    {
     "name": "stderr",
     "output_type": "stream",
     "text": [
      "\r",
      " 32%|███▏      | 508/1584 [02:27<05:10,  3.46it/s]"
     ]
    },
    {
     "name": "stdout",
     "output_type": "stream",
     "text": [
      "Wikipedia Articales\\Gibbons.txt\n",
      "Wikipedia Articales\\Gilles_Ottawa.txt\n"
     ]
    },
    {
     "name": "stderr",
     "output_type": "stream",
     "text": [
      "\r",
      " 32%|███▏      | 510/1584 [02:28<06:15,  2.86it/s]"
     ]
    },
    {
     "name": "stdout",
     "output_type": "stream",
     "text": [
      "Wikipedia Articales\\Gino_Odjick.txt\n"
     ]
    },
    {
     "name": "stderr",
     "output_type": "stream",
     "text": [
      " 32%|███▏      | 512/1584 [02:29<05:50,  3.06it/s]"
     ]
    },
    {
     "name": "stdout",
     "output_type": "stream",
     "text": [
      "Wikipedia Articales\\Glecia_Bear.txt\n"
     ]
    },
    {
     "name": "stderr",
     "output_type": "stream",
     "text": [
      "\r",
      " 32%|███▏      | 514/1584 [02:29<04:11,  4.26it/s]"
     ]
    },
    {
     "name": "stdout",
     "output_type": "stream",
     "text": [
      "Wikipedia Articales\\Goderich.txt\n",
      "Wikipedia Articales\\Gracefield.txt\n"
     ]
    },
    {
     "name": "stderr",
     "output_type": "stream",
     "text": [
      "\r",
      " 33%|███▎      | 515/1584 [02:29<03:49,  4.66it/s]"
     ]
    },
    {
     "name": "stdout",
     "output_type": "stream",
     "text": [
      "Wikipedia Articales\\Granby.txt\n",
      "Wikipedia Articales\\Grande-Rivi%C3%A8re.txt\n"
     ]
    },
    {
     "name": "stderr",
     "output_type": "stream",
     "text": [
      " 33%|███▎      | 518/1584 [02:29<03:06,  5.71it/s]"
     ]
    },
    {
     "name": "stdout",
     "output_type": "stream",
     "text": [
      "Wikipedia Articales\\Grande-Vall%C3%A9e.txt\n",
      "Wikipedia Articales\\Grande_Cache.txt\n"
     ]
    },
    {
     "name": "stderr",
     "output_type": "stream",
     "text": [
      "\r",
      " 33%|███▎      | 521/1584 [02:29<02:06,  8.39it/s]"
     ]
    },
    {
     "name": "stdout",
     "output_type": "stream",
     "text": [
      "Wikipedia Articales\\Granum.txt\n",
      "Wikipedia Articales\\Gravenhurst.txt\n",
      "Wikipedia Articales\\Grimshaw.txt\n",
      "Wikipedia Articales\\Grosse-%C3%8Ele.txt\n"
     ]
    },
    {
     "name": "stderr",
     "output_type": "stream",
     "text": [
      "\r",
      " 33%|███▎      | 523/1584 [02:30<01:56,  9.09it/s]"
     ]
    },
    {
     "name": "stdout",
     "output_type": "stream",
     "text": [
      "Wikipedia Articales\\Guadalajara.txt\n",
      "Wikipedia Articales\\Gwitchin_Iriniwok.txt\n"
     ]
    },
    {
     "name": "stderr",
     "output_type": "stream",
     "text": [
      "\r",
      " 33%|███▎      | 525/1584 [02:30<02:37,  6.72it/s]"
     ]
    },
    {
     "name": "stdout",
     "output_type": "stream",
     "text": [
      "Wikipedia Articales\\Hactwekeriniw_otapan.txt\n",
      "Wikipedia Articales\\Halifax.txt\n"
     ]
    },
    {
     "name": "stderr",
     "output_type": "stream",
     "text": [
      "\r",
      " 33%|███▎      | 527/1584 [02:30<02:13,  7.93it/s]"
     ]
    },
    {
     "name": "stdout",
     "output_type": "stream",
     "text": [
      "Wikipedia Articales\\Halton.txt\n",
      "Wikipedia Articales\\Halton_Hills.txt\n",
      "Wikipedia Articales\\Hamilton.txt\n"
     ]
    },
    {
     "name": "stderr",
     "output_type": "stream",
     "text": [
      "\r",
      " 33%|███▎      | 529/1584 [02:30<01:55,  9.15it/s]"
     ]
    },
    {
     "name": "stdout",
     "output_type": "stream",
     "text": [
      "Wikipedia Articales\\Hampstead.txt\n"
     ]
    },
    {
     "name": "stderr",
     "output_type": "stream",
     "text": [
      "\r",
      " 34%|███▎      | 531/1584 [02:31<02:08,  8.17it/s]"
     ]
    },
    {
     "name": "stdout",
     "output_type": "stream",
     "text": [
      "Wikipedia Articales\\Hanna.txt\n",
      "Wikipedia Articales\\Hardisty.txt\n",
      "Wikipedia Articales\\Harry_Flamand.txt\n"
     ]
    },
    {
     "name": "stderr",
     "output_type": "stream",
     "text": [
      "\r",
      " 34%|███▎      | 533/1584 [02:31<02:31,  6.94it/s]"
     ]
    },
    {
     "name": "stdout",
     "output_type": "stream",
     "text": [
      "Wikipedia Articales\\Henri_Ottawa.txt\n"
     ]
    },
    {
     "name": "stderr",
     "output_type": "stream",
     "text": [
      " 34%|███▍      | 536/1584 [02:32<03:11,  5.48it/s]"
     ]
    },
    {
     "name": "stdout",
     "output_type": "stream",
     "text": [
      "Wikipedia Articales\\High_Level.txt\n",
      "Wikipedia Articales\\High_Prairie.txt\n",
      "Wikipedia Articales\\High_River.txt\n"
     ]
    },
    {
     "name": "stderr",
     "output_type": "stream",
     "text": [
      "\r",
      " 34%|███▍      | 538/1584 [02:32<02:37,  6.66it/s]"
     ]
    },
    {
     "name": "stdout",
     "output_type": "stream",
     "text": [
      "Wikipedia Articales\\Hinton.txt\n",
      "Wikipedia Articales\\Honfleur.txt\n",
      "Wikipedia Articales\\Hudson.txt\n"
     ]
    },
    {
     "name": "stderr",
     "output_type": "stream",
     "text": [
      " 34%|███▍      | 541/1584 [02:33<02:51,  6.07it/s]"
     ]
    },
    {
     "name": "stdout",
     "output_type": "stream",
     "text": [
      "Wikipedia Articales\\Hunter%27s_Point.txt\n",
      "Wikipedia Articales\\Huntingdon.txt\n"
     ]
    },
    {
     "name": "stderr",
     "output_type": "stream",
     "text": [
      " 34%|███▍      | 543/1584 [02:33<03:12,  5.40it/s]"
     ]
    },
    {
     "name": "stdout",
     "output_type": "stream",
     "text": [
      "Wikipedia Articales\\Iberville.txt\n",
      "Wikipedia Articales\\Icihowin_Kapotowan.txt\n"
     ]
    },
    {
     "name": "stderr",
     "output_type": "stream",
     "text": [
      "\r",
      " 34%|███▍      | 544/1584 [02:33<03:24,  5.10it/s]"
     ]
    },
    {
     "name": "stdout",
     "output_type": "stream",
     "text": [
      "Wikipedia Articales\\Icinikasowin.txt\n",
      "Wikipedia Articales\\Ickipatatanatikw.txt\n"
     ]
    },
    {
     "name": "stderr",
     "output_type": "stream",
     "text": [
      "\r",
      " 34%|███▍      | 546/1584 [02:34<03:07,  5.52it/s]"
     ]
    },
    {
     "name": "stdout",
     "output_type": "stream",
     "text": [
      "Wikipedia Articales\\Ickoctepokw.txt\n",
      "Wikipedia Articales\\Ickote.txt\n"
     ]
    },
    {
     "name": "stderr",
     "output_type": "stream",
     "text": [
      "\r",
      " 35%|███▍      | 548/1584 [02:34<03:00,  5.73it/s]"
     ]
    },
    {
     "name": "stdout",
     "output_type": "stream",
     "text": [
      "Wikipedia Articales\\Ickote_Irini_Sakihikan.txt\n",
      "Wikipedia Articales\\Ickote_atisokan.txt\n"
     ]
    },
    {
     "name": "stderr",
     "output_type": "stream",
     "text": [
      "\r",
      " 35%|███▍      | 550/1584 [02:37<09:45,  1.76it/s]"
     ]
    },
    {
     "name": "stdout",
     "output_type": "stream",
     "text": [
      "Wikipedia Articales\\Ickote_e_otciparik.txt\n"
     ]
    },
    {
     "name": "stderr",
     "output_type": "stream",
     "text": [
      "\r",
      " 35%|███▍      | 551/1584 [02:39<14:20,  1.20it/s]"
     ]
    },
    {
     "name": "stdout",
     "output_type": "stream",
     "text": [
      "Wikipedia Articales\\Ickote_tciman.txt\n"
     ]
    },
    {
     "name": "stderr",
     "output_type": "stream",
     "text": [
      " 35%|███▍      | 553/1584 [02:39<09:42,  1.77it/s]"
     ]
    },
    {
     "name": "stdout",
     "output_type": "stream",
     "text": [
      "Wikipedia Articales\\Ickoteapo.txt\n",
      "Wikipedia Articales\\Ickoterew.txt\n"
     ]
    },
    {
     "name": "stderr",
     "output_type": "stream",
     "text": [
      "\r",
      " 35%|███▍      | 554/1584 [02:39<09:03,  1.90it/s]"
     ]
    },
    {
     "name": "stdout",
     "output_type": "stream",
     "text": [
      "Wikipedia Articales\\Ickwa_matcaiane.txt\n"
     ]
    },
    {
     "name": "stderr",
     "output_type": "stream",
     "text": [
      " 35%|███▌      | 556/1584 [02:41<09:06,  1.88it/s]"
     ]
    },
    {
     "name": "stdout",
     "output_type": "stream",
     "text": [
      "Wikipedia Articales\\Ickwaskite_pirecic.txt\n"
     ]
    },
    {
     "name": "stderr",
     "output_type": "stream",
     "text": [
      "\r",
      " 35%|███▌      | 557/1584 [02:41<07:08,  2.39it/s]"
     ]
    },
    {
     "name": "stdout",
     "output_type": "stream",
     "text": [
      "Wikipedia Articales\\Ickwatem.txt\n",
      "Wikipedia Articales\\Ickwecic.txt\n"
     ]
    },
    {
     "name": "stderr",
     "output_type": "stream",
     "text": [
      "\r",
      " 35%|███▌      | 558/1584 [02:41<05:45,  2.97it/s]"
     ]
    },
    {
     "name": "stdout",
     "output_type": "stream",
     "text": [
      "Wikipedia Articales\\Iko.txt\n"
     ]
    },
    {
     "name": "stderr",
     "output_type": "stream",
     "text": [
      " 35%|███▌      | 561/1584 [02:41<03:43,  4.58it/s]"
     ]
    },
    {
     "name": "stdout",
     "output_type": "stream",
     "text": [
      "Wikipedia Articales\\Inda.txt\n",
      "Wikipedia Articales\\Innisfail.txt\n",
      "Wikipedia Articales\\Innus.txt\n"
     ]
    },
    {
     "name": "stderr",
     "output_type": "stream",
     "text": [
      "\r",
      " 35%|███▌      | 562/1584 [02:42<07:25,  2.29it/s]"
     ]
    },
    {
     "name": "stdout",
     "output_type": "stream",
     "text": [
      "Wikipedia Articales\\Insitut_linguistique_atikamekw.txt\n"
     ]
    },
    {
     "name": "stderr",
     "output_type": "stream",
     "text": [
      "\r",
      " 36%|███▌      | 563/1584 [02:43<08:10,  2.08it/s]"
     ]
    },
    {
     "name": "stdout",
     "output_type": "stream",
     "text": [
      "Wikipedia Articales\\Inuits.txt\n"
     ]
    },
    {
     "name": "stderr",
     "output_type": "stream",
     "text": [
      "\r",
      " 36%|███▌      | 564/1584 [02:44<09:56,  1.71it/s]"
     ]
    },
    {
     "name": "stdout",
     "output_type": "stream",
     "text": [
      "Wikipedia Articales\\Inukjuak.txt\n",
      "Wikipedia Articales\\Irin_Arimowewin.txt\n"
     ]
    },
    {
     "name": "stderr",
     "output_type": "stream",
     "text": [
      " 36%|███▌      | 567/1584 [02:45<07:01,  2.41it/s]"
     ]
    },
    {
     "name": "stdout",
     "output_type": "stream",
     "text": [
      "Wikipedia Articales\\Irinacit.txt\n",
      "Wikipedia Articales\\Irinatikonamanas.txt\n"
     ]
    },
    {
     "name": "stderr",
     "output_type": "stream",
     "text": [
      " 36%|███▌      | 569/1584 [02:45<05:38,  3.00it/s]"
     ]
    },
    {
     "name": "stdout",
     "output_type": "stream",
     "text": [
      "Wikipedia Articales\\Irinatikw.txt\n",
      "Wikipedia Articales\\Irinicak_ka_owectciketcik.txt\n"
     ]
    },
    {
     "name": "stderr",
     "output_type": "stream",
     "text": [
      "\r",
      " 36%|███▌      | 570/1584 [02:47<10:27,  1.62it/s]"
     ]
    },
    {
     "name": "stdout",
     "output_type": "stream",
     "text": [
      "Wikipedia Articales\\Irinikekotcikanicic.txt\n"
     ]
    },
    {
     "name": "stderr",
     "output_type": "stream",
     "text": [
      " 36%|███▌      | 573/1584 [02:47<06:16,  2.69it/s]"
     ]
    },
    {
     "name": "stdout",
     "output_type": "stream",
     "text": [
      "Wikipedia Articales\\Irinikew_Octikwan_Sakihikan.txt\n",
      "Wikipedia Articales\\Iriniw.txt\n",
      "Wikipedia Articales\\Iriniw_Kasakipet_Sakihikan.txt\n",
      "Wikipedia Articales\\Irinkokoc.txt\n"
     ]
    },
    {
     "name": "stderr",
     "output_type": "stream",
     "text": [
      " 36%|███▋      | 577/1584 [02:48<04:10,  4.02it/s]"
     ]
    },
    {
     "name": "stdout",
     "output_type": "stream",
     "text": [
      "Wikipedia Articales\\Irlande.txt\n",
      "Wikipedia Articales\\Irricana.txt\n",
      "Wikipedia Articales\\Isaie_Ottawa.txt\n"
     ]
    },
    {
     "name": "stderr",
     "output_type": "stream",
     "text": [
      "\r",
      " 36%|███▋      | 578/1584 [02:49<05:08,  3.26it/s]"
     ]
    },
    {
     "name": "stdout",
     "output_type": "stream",
     "text": [
      "Wikipedia Articales\\Isidore_Ottawa.txt\n"
     ]
    },
    {
     "name": "stderr",
     "output_type": "stream",
     "text": [
      "\r",
      " 37%|███▋      | 579/1584 [02:49<05:47,  2.89it/s]"
     ]
    },
    {
     "name": "stdout",
     "output_type": "stream",
     "text": [
      "Wikipedia Articales\\Iskito.txt\n"
     ]
    },
    {
     "name": "stderr",
     "output_type": "stream",
     "text": [
      "\r",
      " 37%|███▋      | 580/1584 [02:49<05:24,  3.09it/s]"
     ]
    },
    {
     "name": "stdout",
     "output_type": "stream",
     "text": [
      "Wikipedia Articales\\Iskitowan.txt\n",
      "Wikipedia Articales\\Iskosiw.txt\n"
     ]
    },
    {
     "name": "stderr",
     "output_type": "stream",
     "text": [
      "\r",
      " 37%|███▋      | 582/1584 [02:50<04:54,  3.41it/s]"
     ]
    },
    {
     "name": "stdout",
     "output_type": "stream",
     "text": [
      "Wikipedia Articales\\Iskw%C3%A9.txt\n"
     ]
    },
    {
     "name": "stderr",
     "output_type": "stream",
     "text": [
      " 37%|███▋      | 584/1584 [02:50<04:35,  3.63it/s]"
     ]
    },
    {
     "name": "stdout",
     "output_type": "stream",
     "text": [
      "Wikipedia Articales\\Iskwatokan.txt\n",
      "Wikipedia Articales\\Iskwatowakan.txt\n"
     ]
    },
    {
     "name": "stderr",
     "output_type": "stream",
     "text": [
      "\r",
      " 37%|███▋      | 585/1584 [02:51<04:15,  3.91it/s]"
     ]
    },
    {
     "name": "stdout",
     "output_type": "stream",
     "text": [
      "Wikipedia Articales\\Iskwaw.txt\n"
     ]
    },
    {
     "name": "stderr",
     "output_type": "stream",
     "text": [
      " 37%|███▋      | 587/1584 [02:51<04:21,  3.81it/s]"
     ]
    },
    {
     "name": "stdout",
     "output_type": "stream",
     "text": [
      "Wikipedia Articales\\Iskwew.txt\n",
      "Wikipedia Articales\\Iskwewok_okiskeritamowininaw.txt\n"
     ]
    },
    {
     "name": "stderr",
     "output_type": "stream",
     "text": [
      "\r",
      " 37%|███▋      | 588/1584 [02:52<06:22,  2.60it/s]"
     ]
    },
    {
     "name": "stdout",
     "output_type": "stream",
     "text": [
      "Wikipedia Articales\\Israel_Mianscum.txt\n"
     ]
    },
    {
     "name": "stderr",
     "output_type": "stream",
     "text": [
      " 37%|███▋      | 590/1584 [02:54<09:03,  1.83it/s]"
     ]
    },
    {
     "name": "stdout",
     "output_type": "stream",
     "text": [
      "Wikipedia Articales\\Italie.txt\n",
      "Wikipedia Articales\\Itasinahikewin.txt\n"
     ]
    },
    {
     "name": "stderr",
     "output_type": "stream",
     "text": [
      " 37%|███▋      | 592/1584 [02:54<05:50,  2.83it/s]"
     ]
    },
    {
     "name": "stdout",
     "output_type": "stream",
     "text": [
      "Wikipedia Articales\\Itew_Cecoc.txt\n",
      "Wikipedia Articales\\Itewin.txt\n"
     ]
    },
    {
     "name": "stderr",
     "output_type": "stream",
     "text": [
      " 38%|███▊      | 594/1584 [02:54<04:07,  4.00it/s]"
     ]
    },
    {
     "name": "stdout",
     "output_type": "stream",
     "text": [
      "Wikipedia Articales\\Itewin_masinahikan.txt\n",
      "Wikipedia Articales\\Ivan_Boivin-Flamand.txt\n"
     ]
    },
    {
     "name": "stderr",
     "output_type": "stream",
     "text": [
      "\r",
      " 38%|███▊      | 595/1584 [02:55<06:45,  2.44it/s]"
     ]
    },
    {
     "name": "stdout",
     "output_type": "stream",
     "text": [
      "Wikipedia Articales\\Ivujivik.txt\n",
      "Wikipedia Articales\\James-Patrick_Flamand.txt\n"
     ]
    },
    {
     "name": "stderr",
     "output_type": "stream",
     "text": [
      "\r",
      " 38%|███▊      | 597/1584 [02:56<06:39,  2.47it/s]"
     ]
    },
    {
     "name": "stdout",
     "output_type": "stream",
     "text": [
      "Wikipedia Articales\\Jane_Ash_Poitras.txt\n"
     ]
    },
    {
     "name": "stderr",
     "output_type": "stream",
     "text": [
      "\r",
      " 38%|███▊      | 598/1584 [02:56<07:04,  2.32it/s]"
     ]
    },
    {
     "name": "stdout",
     "output_type": "stream",
     "text": [
      "Wikipedia Articales\\Janika_Michel.txt\n"
     ]
    },
    {
     "name": "stderr",
     "output_type": "stream",
     "text": [
      "\r",
      " 38%|███▊      | 599/1584 [02:57<06:26,  2.55it/s]"
     ]
    },
    {
     "name": "stdout",
     "output_type": "stream",
     "text": [
      "Wikipedia Articales\\Japan.txt\n",
      "Wikipedia Articales\\Jean-Baptiste_Dub%C3%A9.txt\n"
     ]
    },
    {
     "name": "stderr",
     "output_type": "stream",
     "text": [
      " 38%|███▊      | 602/1584 [02:57<04:20,  3.76it/s]"
     ]
    },
    {
     "name": "stdout",
     "output_type": "stream",
     "text": [
      "Wikipedia Articales\\Jean-Marc_Flamand.txt\n",
      "Wikipedia Articales\\Jean-Paul_%C3%89chaquan.txt\n"
     ]
    },
    {
     "name": "stderr",
     "output_type": "stream",
     "text": [
      "\r",
      " 38%|███▊      | 603/1584 [02:59<10:00,  1.63it/s]"
     ]
    },
    {
     "name": "stdout",
     "output_type": "stream",
     "text": [
      "Wikipedia Articales\\Jean-Pierre_Moar.txt\n"
     ]
    },
    {
     "name": "stderr",
     "output_type": "stream",
     "text": [
      "\r",
      " 38%|███▊      | 604/1584 [02:59<08:20,  1.96it/s]"
     ]
    },
    {
     "name": "stdout",
     "output_type": "stream",
     "text": [
      "Wikipedia Articales\\Jean-Pierre_Ottawa.txt\n"
     ]
    },
    {
     "name": "stderr",
     "output_type": "stream",
     "text": [
      "\r",
      " 38%|███▊      | 605/1584 [03:00<11:24,  1.43it/s]"
     ]
    },
    {
     "name": "stdout",
     "output_type": "stream",
     "text": [
      "Wikipedia Articales\\Jean-Roch_Ottawa.txt\n"
     ]
    },
    {
     "name": "stderr",
     "output_type": "stream",
     "text": [
      "\r",
      " 38%|███▊      | 606/1584 [03:01<11:06,  1.47it/s]"
     ]
    },
    {
     "name": "stdout",
     "output_type": "stream",
     "text": [
      "Wikipedia Articales\\Jemmy_Echaquan-Dub%C3%A9.txt\n"
     ]
    },
    {
     "name": "stderr",
     "output_type": "stream",
     "text": [
      "\r",
      " 38%|███▊      | 607/1584 [03:02<12:34,  1.30it/s]"
     ]
    },
    {
     "name": "stdout",
     "output_type": "stream",
     "text": [
      "Wikipedia Articales\\Joey_Awashish.txt\n"
     ]
    },
    {
     "name": "stderr",
     "output_type": "stream",
     "text": [
      "\r",
      " 38%|███▊      | 608/1584 [03:02<10:08,  1.60it/s]"
     ]
    },
    {
     "name": "stdout",
     "output_type": "stream",
     "text": [
      "Wikipedia Articales\\Joliette.txt\n"
     ]
    },
    {
     "name": "stderr",
     "output_type": "stream",
     "text": [
      "\r",
      " 38%|███▊      | 609/1584 [03:03<10:57,  1.48it/s]"
     ]
    },
    {
     "name": "stdout",
     "output_type": "stream",
     "text": [
      "Wikipedia Articales\\Jordin_Kadluk_Tootoo.txt\n"
     ]
    },
    {
     "name": "stderr",
     "output_type": "stream",
     "text": [
      "\r",
      " 39%|███▊      | 610/1584 [03:03<10:05,  1.61it/s]"
     ]
    },
    {
     "name": "stdout",
     "output_type": "stream",
     "text": [
      "Wikipedia Articales\\Jos%C3%A9phine_Bacon.txt\n"
     ]
    },
    {
     "name": "stderr",
     "output_type": "stream",
     "text": [
      "\r",
      " 39%|███▊      | 611/1584 [03:04<08:33,  1.90it/s]"
     ]
    },
    {
     "name": "stdout",
     "output_type": "stream",
     "text": [
      "Wikipedia Articales\\Jos_Ottawa.txt\n"
     ]
    },
    {
     "name": "stderr",
     "output_type": "stream",
     "text": [
      "\r",
      " 39%|███▊      | 612/1584 [03:04<08:12,  1.97it/s]"
     ]
    },
    {
     "name": "stdout",
     "output_type": "stream",
     "text": [
      "Wikipedia Articales\\Joseba_Sarrionandia.txt\n"
     ]
    },
    {
     "name": "stderr",
     "output_type": "stream",
     "text": [
      "\r",
      " 39%|███▊      | 613/1584 [03:04<07:11,  2.25it/s]"
     ]
    },
    {
     "name": "stdout",
     "output_type": "stream",
     "text": [
      "Wikipedia Articales\\Joseph-Etienne_Ottawa.txt\n"
     ]
    },
    {
     "name": "stderr",
     "output_type": "stream",
     "text": [
      "\r",
      " 39%|███▉      | 614/1584 [03:05<08:31,  1.90it/s]"
     ]
    },
    {
     "name": "stdout",
     "output_type": "stream",
     "text": [
      "Wikipedia Articales\\Joseph_Dub%C3%A9.txt\n"
     ]
    },
    {
     "name": "stderr",
     "output_type": "stream",
     "text": [
      "\r",
      " 39%|███▉      | 615/1584 [03:05<07:46,  2.08it/s]"
     ]
    },
    {
     "name": "stdout",
     "output_type": "stream",
     "text": [
      "Wikipedia Articales\\Joseph_Guanish.txt\n"
     ]
    },
    {
     "name": "stderr",
     "output_type": "stream",
     "text": [
      "\r",
      " 39%|███▉      | 616/1584 [03:06<07:37,  2.12it/s]"
     ]
    },
    {
     "name": "stdout",
     "output_type": "stream",
     "text": [
      "Wikipedia Articales\\Joseph_Medecine_Crow.txt\n"
     ]
    },
    {
     "name": "stderr",
     "output_type": "stream",
     "text": [
      "\r",
      " 39%|███▉      | 617/1584 [03:06<06:31,  2.47it/s]"
     ]
    },
    {
     "name": "stdout",
     "output_type": "stream",
     "text": [
      "Wikipedia Articales\\Joseph_Ottawa.txt\n"
     ]
    },
    {
     "name": "stderr",
     "output_type": "stream",
     "text": [
      "\r",
      " 39%|███▉      | 618/1584 [03:07<06:26,  2.50it/s]"
     ]
    },
    {
     "name": "stdout",
     "output_type": "stream",
     "text": [
      "Wikipedia Articales\\Joyce_Echaquan.txt\n"
     ]
    },
    {
     "name": "stderr",
     "output_type": "stream",
     "text": [
      "\r",
      " 39%|███▉      | 619/1584 [03:10<23:10,  1.44s/it]"
     ]
    },
    {
     "name": "stdout",
     "output_type": "stream",
     "text": [
      "Wikipedia Articales\\Joyce_Echaquan_ka_poni_pimatisitc.txt\n"
     ]
    },
    {
     "name": "stderr",
     "output_type": "stream",
     "text": [
      "\r",
      " 39%|███▉      | 620/1584 [03:14<34:40,  2.16s/it]"
     ]
    },
    {
     "name": "stdout",
     "output_type": "stream",
     "text": [
      "Wikipedia Articales\\Judith_Quitich-Ka_wiasiketc.txt\n"
     ]
    },
    {
     "name": "stderr",
     "output_type": "stream",
     "text": [
      " 39%|███▉      | 623/1584 [03:15<14:29,  1.11it/s]"
     ]
    },
    {
     "name": "stdout",
     "output_type": "stream",
     "text": [
      "Wikipedia Articales\\Ka_Atikamekoskak_Sakihikan.txt\n",
      "Wikipedia Articales\\Ka_Oskiskakamak.txt\n",
      "Wikipedia Articales\\Ka_Riskipotek_atisokan.txt\n"
     ]
    },
    {
     "name": "stderr",
     "output_type": "stream",
     "text": [
      "\r",
      " 39%|███▉      | 624/1584 [03:15<12:19,  1.30it/s]"
     ]
    },
    {
     "name": "stdout",
     "output_type": "stream",
     "text": [
      "Wikipedia Articales\\Ka_Wiasiketc_David_(Tapit_Kawiasiketc).txt\n"
     ]
    },
    {
     "name": "stderr",
     "output_type": "stream",
     "text": [
      " 40%|███▉      | 626/1584 [03:16<08:16,  1.93it/s]"
     ]
    },
    {
     "name": "stdout",
     "output_type": "stream",
     "text": [
      "Wikipedia Articales\\Ka_actowepotciketc.txt\n",
      "Wikipedia Articales\\Ka_akitasoakanikw.txt\n"
     ]
    },
    {
     "name": "stderr",
     "output_type": "stream",
     "text": [
      " 40%|███▉      | 628/1584 [03:16<05:29,  2.90it/s]"
     ]
    },
    {
     "name": "stdout",
     "output_type": "stream",
     "text": [
      "Wikipedia Articales\\Ka_arimowakaniok.txt\n"
     ]
    },
    {
     "name": "stderr",
     "output_type": "stream",
     "text": [
      "\r",
      " 40%|███▉      | 629/1584 [03:16<04:45,  3.35it/s]"
     ]
    },
    {
     "name": "stdout",
     "output_type": "stream",
     "text": [
      "Wikipedia Articales\\Ka_ici_aipinaniwok.txt\n"
     ]
    },
    {
     "name": "stderr",
     "output_type": "stream",
     "text": [
      "\r",
      " 40%|███▉      | 630/1584 [03:16<03:50,  4.15it/s]"
     ]
    },
    {
     "name": "stdout",
     "output_type": "stream",
     "text": [
      "Wikipedia Articales\\Ka_ici_akockinasonaniok.txt\n",
      "Wikipedia Articales\\Ka_ici_kisisipasonaniwok.txt\n"
     ]
    },
    {
     "name": "stderr",
     "output_type": "stream",
     "text": [
      " 40%|███▉      | 632/1584 [03:16<02:52,  5.52it/s]"
     ]
    },
    {
     "name": "stdout",
     "output_type": "stream",
     "text": [
      "Wikipedia Articales\\Ka_ici_mitcisonaniwok.txt\n",
      "Wikipedia Articales\\Ka_ici_pakickaniwok.txt\n"
     ]
    },
    {
     "name": "stderr",
     "output_type": "stream",
     "text": [
      " 40%|████      | 634/1584 [03:17<02:29,  6.35it/s]"
     ]
    },
    {
     "name": "stdout",
     "output_type": "stream",
     "text": [
      "Wikipedia Articales\\Ka_ici_petakok_kitotakan.txt\n",
      "Wikipedia Articales\\Ka_ici_pitakaniwok.txt\n"
     ]
    },
    {
     "name": "stderr",
     "output_type": "stream",
     "text": [
      " 40%|████      | 636/1584 [03:17<02:50,  5.57it/s]"
     ]
    },
    {
     "name": "stdout",
     "output_type": "stream",
     "text": [
      "Wikipedia Articales\\Ka_ici_tcipakwaniwok.txt\n",
      "Wikipedia Articales\\Ka_ki_pe_okimawitcik.txt\n",
      "Wikipedia Articales\\Ka_kickipotcikeparik.txt\n"
     ]
    },
    {
     "name": "stderr",
     "output_type": "stream",
     "text": [
      " 40%|████      | 639/1584 [03:18<02:22,  6.65it/s]"
     ]
    },
    {
     "name": "stdout",
     "output_type": "stream",
     "text": [
      "Wikipedia Articales\\Ka_kisisipatcikeparik.txt\n",
      "Wikipedia Articales\\Ka_kiskeritakositcik.txt\n",
      "Wikipedia Articales\\Ka_kitotakeokanikw.txt\n"
     ]
    },
    {
     "name": "stderr",
     "output_type": "stream",
     "text": [
      " 41%|████      | 642/1584 [03:18<02:22,  6.61it/s]"
     ]
    },
    {
     "name": "stdout",
     "output_type": "stream",
     "text": [
      "Wikipedia Articales\\Ka_kitotakewakaniokw.txt\n",
      "Wikipedia Articales\\Ka_masinactepatcikeparik.txt\n",
      "Wikipedia Articales\\Ka_matawisitc_kaie_mekotekorew.txt\n"
     ]
    },
    {
     "name": "stderr",
     "output_type": "stream",
     "text": [
      "\r",
      " 41%|████      | 644/1584 [03:18<02:25,  6.47it/s]"
     ]
    },
    {
     "name": "stdout",
     "output_type": "stream",
     "text": [
      "Wikipedia Articales\\Ka_mikwak_sakihikan.txt\n",
      "Wikipedia Articales\\Ka_miremakak.txt\n"
     ]
    },
    {
     "name": "stderr",
     "output_type": "stream",
     "text": [
      "\r",
      " 41%|████      | 646/1584 [03:19<02:10,  7.21it/s]"
     ]
    },
    {
     "name": "stdout",
     "output_type": "stream",
     "text": [
      "Wikipedia Articales\\Ka_mitcetotapekisitc.txt\n"
     ]
    },
    {
     "name": "stderr",
     "output_type": "stream",
     "text": [
      "\r",
      " 41%|████      | 647/1584 [03:19<02:44,  5.71it/s]"
     ]
    },
    {
     "name": "stdout",
     "output_type": "stream",
     "text": [
      "Wikipedia Articales\\Ka_nakatoweritakik_atoske_askiriw.txt\n"
     ]
    },
    {
     "name": "stderr",
     "output_type": "stream",
     "text": [
      " 41%|████      | 649/1584 [03:19<02:52,  5.42it/s]"
     ]
    },
    {
     "name": "stdout",
     "output_type": "stream",
     "text": [
      "Wikipedia Articales\\Ka_nico_toroweak_otapan.txt\n",
      "Wikipedia Articales\\Ka_nictopakacik.txt\n"
     ]
    },
    {
     "name": "stderr",
     "output_type": "stream",
     "text": [
      "\r",
      " 41%|████      | 650/1584 [03:20<03:08,  4.95it/s]"
     ]
    },
    {
     "name": "stdout",
     "output_type": "stream",
     "text": [
      "Wikipedia Articales\\Ka_nikanitcik_atoske_askiriw.txt\n"
     ]
    },
    {
     "name": "stderr",
     "output_type": "stream",
     "text": [
      " 41%|████      | 652/1584 [03:20<03:07,  4.98it/s]"
     ]
    },
    {
     "name": "stdout",
     "output_type": "stream",
     "text": [
      "Wikipedia Articales\\Ka_ocpictek_mikiwama.txt\n",
      "Wikipedia Articales\\Ka_octoctoparik.txt\n"
     ]
    },
    {
     "name": "stderr",
     "output_type": "stream",
     "text": [
      " 41%|████▏     | 654/1584 [03:20<02:45,  5.62it/s]"
     ]
    },
    {
     "name": "stdout",
     "output_type": "stream",
     "text": [
      "Wikipedia Articales\\Ka_pamactek_ka_posinaniwok.txt\n",
      "Wikipedia Articales\\Ka_pamikicikwactak.txt\n"
     ]
    },
    {
     "name": "stderr",
     "output_type": "stream",
     "text": [
      " 41%|████▏     | 656/1584 [03:21<02:21,  6.56it/s]"
     ]
    },
    {
     "name": "stdout",
     "output_type": "stream",
     "text": [
      "Wikipedia Articales\\Ka_pasanasoparik.txt\n",
      "Wikipedia Articales\\Ka_picteapotciketc.txt\n"
     ]
    },
    {
     "name": "stderr",
     "output_type": "stream",
     "text": [
      " 42%|████▏     | 658/1584 [03:21<02:12,  6.98it/s]"
     ]
    },
    {
     "name": "stdout",
     "output_type": "stream",
     "text": [
      "Wikipedia Articales\\Ka_pictewakamik.txt\n",
      "Wikipedia Articales\\Ka_pisiposotc_kisipekahikan.txt\n",
      "Wikipedia Articales\\Ka_roskak_tetapiwakan.txt\n"
     ]
    },
    {
     "name": "stderr",
     "output_type": "stream",
     "text": [
      " 42%|████▏     | 661/1584 [03:21<01:53,  8.11it/s]"
     ]
    },
    {
     "name": "stdout",
     "output_type": "stream",
     "text": [
      "Wikipedia Articales\\Ka_takaiak.txt\n",
      "Wikipedia Articales\\Ka_takak.txt\n"
     ]
    },
    {
     "name": "stderr",
     "output_type": "stream",
     "text": [
      " 42%|████▏     | 663/1584 [03:21<01:55,  7.94it/s]"
     ]
    },
    {
     "name": "stdout",
     "output_type": "stream",
     "text": [
      "Wikipedia Articales\\Ka_wapak_masinahikinatikw.txt\n",
      "Wikipedia Articales\\Ka_wapocotehetc.txt\n"
     ]
    },
    {
     "name": "stderr",
     "output_type": "stream",
     "text": [
      " 42%|████▏     | 665/1584 [03:23<05:35,  2.74it/s]"
     ]
    },
    {
     "name": "stdout",
     "output_type": "stream",
     "text": [
      "Wikipedia Articales\\Ka_wasikototc_pisimw.txt\n",
      "Wikipedia Articales\\Ka_waskorowe_masinacteparik.txt\n"
     ]
    },
    {
     "name": "stderr",
     "output_type": "stream",
     "text": [
      " 42%|████▏     | 667/1584 [03:23<03:47,  4.03it/s]"
     ]
    },
    {
     "name": "stdout",
     "output_type": "stream",
     "text": [
      "Wikipedia Articales\\Ka_wepahikeparik.txt\n",
      "Wikipedia Articales\\Kaacikitaporonaniwok_Sakihikan.txt\n"
     ]
    },
    {
     "name": "stderr",
     "output_type": "stream",
     "text": [
      "\r",
      " 42%|████▏     | 669/1584 [03:23<02:41,  5.66it/s]"
     ]
    },
    {
     "name": "stdout",
     "output_type": "stream",
     "text": [
      "Wikipedia Articales\\Kaaciniwakamacik_Sakihikan.txt\n",
      "Wikipedia Articales\\Kaackakwakamak_Sakihikan.txt\n",
      "Wikipedia Articales\\Kaaiakotawkakamak_Sakihikan.txt\n"
     ]
    },
    {
     "name": "stderr",
     "output_type": "stream",
     "text": [
      " 42%|████▏     | 673/1584 [03:24<01:47,  8.51it/s]"
     ]
    },
    {
     "name": "stdout",
     "output_type": "stream",
     "text": [
      "Wikipedia Articales\\Kaaiakwanapiskwakamak_Sakihikan.txt\n",
      "Wikipedia Articales\\Kaaitwi_Kotcitciak_Sakihikan.txt\n",
      "Wikipedia Articales\\Kaakwakwapiskakamak_Sakihikan.txt\n"
     ]
    },
    {
     "name": "stderr",
     "output_type": "stream",
     "text": [
      "\r",
      " 43%|████▎     | 675/1584 [03:24<01:37,  9.32it/s]"
     ]
    },
    {
     "name": "stdout",
     "output_type": "stream",
     "text": [
      "Wikipedia Articales\\Kaamiskapitok_Sakihikan.txt\n",
      "Wikipedia Articales\\Kaampariki_Sakihikan.txt\n",
      "Wikipedia Articales\\Kaaripetik_Sakihikan.txt\n"
     ]
    },
    {
     "name": "stderr",
     "output_type": "stream",
     "text": [
      " 43%|████▎     | 679/1584 [03:24<01:26, 10.42it/s]"
     ]
    },
    {
     "name": "stdout",
     "output_type": "stream",
     "text": [
      "Wikipedia Articales\\Kaasisiwakamak_Sakihikan.txt\n",
      "Wikipedia Articales\\Kaatcipekinikatek_Sakihikan.txt\n"
     ]
    },
    {
     "name": "stderr",
     "output_type": "stream",
     "text": [
      "\r",
      " 43%|████▎     | 681/1584 [03:24<01:24, 10.68it/s]"
     ]
    },
    {
     "name": "stdout",
     "output_type": "stream",
     "text": [
      "Wikipedia Articales\\Kaatikamekoskak_Sakihikan.txt\n",
      "Wikipedia Articales\\Kaawtosiskak_Sakihikan.txt\n"
     ]
    },
    {
     "name": "stderr",
     "output_type": "stream",
     "text": [
      "\r",
      " 43%|████▎     | 683/1584 [03:24<01:21, 11.08it/s]"
     ]
    },
    {
     "name": "stdout",
     "output_type": "stream",
     "text": [
      "Wikipedia Articales\\Kacakanakacik_Sakihikan.txt\n",
      "Wikipedia Articales\\Kacakitcohikatcecik_Sakihikan.txt\n",
      "Wikipedia Articales\\Kacekotcietik_Sakihikan.txt\n"
     ]
    },
    {
     "name": "stderr",
     "output_type": "stream",
     "text": [
      "\r",
      " 43%|████▎     | 685/1584 [03:25<01:21, 10.99it/s]"
     ]
    },
    {
     "name": "stdout",
     "output_type": "stream",
     "text": [
      "Wikipedia Articales\\Kacicipickacik_Sakihikan.txt\n",
      "Wikipedia Articales\\Kacikokotokwckakamacik_Sakihikan.txt\n",
      "Wikipedia Articales\\Kacikokwakamacik_Sakihikan.txt\n"
     ]
    },
    {
     "name": "stderr",
     "output_type": "stream",
     "text": [
      " 43%|████▎     | 689/1584 [03:25<01:21, 11.04it/s]"
     ]
    },
    {
     "name": "stdout",
     "output_type": "stream",
     "text": [
      "Wikipedia Articales\\Kacipapitcikatek_Sakihikan.txt\n",
      "Wikipedia Articales\\Kacockwanapiskak_Sakihikan.txt\n",
      "Wikipedia Articales\\Kahnawake.txt\n"
     ]
    },
    {
     "name": "stderr",
     "output_type": "stream",
     "text": [
      "\r",
      " 44%|████▎     | 691/1584 [03:25<01:20, 11.04it/s]"
     ]
    },
    {
     "name": "stdout",
     "output_type": "stream",
     "text": [
      "Wikipedia Articales\\Kaikactek_Sakihikan.txt\n",
      "Wikipedia Articales\\Kaitikotitceacik_Sakihikan.txt\n",
      "Wikipedia Articales\\Kaitikotitiacik_Sakihikan.txt\n"
     ]
    },
    {
     "name": "stderr",
     "output_type": "stream",
     "text": [
      "\r",
      " 44%|████▍     | 693/1584 [03:25<01:19, 11.20it/s]"
     ]
    },
    {
     "name": "stdout",
     "output_type": "stream",
     "text": [
      "Wikipedia Articales\\Kakakecip.txt\n",
      "Wikipedia Articales\\Kakakew.txt\n"
     ]
    },
    {
     "name": "stderr",
     "output_type": "stream",
     "text": [
      "\r",
      " 44%|████▍     | 695/1584 [03:26<02:10,  6.81it/s]"
     ]
    },
    {
     "name": "stdout",
     "output_type": "stream",
     "text": [
      "Wikipedia Articales\\Kakakiw_Sakihikan.txt\n",
      "Wikipedia Articales\\Kakatarakw.txt\n"
     ]
    },
    {
     "name": "stderr",
     "output_type": "stream",
     "text": [
      "\r",
      " 44%|████▍     | 697/1584 [03:26<02:04,  7.15it/s]"
     ]
    },
    {
     "name": "stdout",
     "output_type": "stream",
     "text": [
      "Wikipedia Articales\\Kakatcarakocic.txt\n"
     ]
    },
    {
     "name": "stderr",
     "output_type": "stream",
     "text": [
      " 44%|████▍     | 700/1584 [03:27<02:00,  7.32it/s]"
     ]
    },
    {
     "name": "stdout",
     "output_type": "stream",
     "text": [
      "Wikipedia Articales\\Kakickapackakamacik_sakihikan.txt\n",
      "Wikipedia Articales\\Kakickapaskakamak_Sakihikan.txt\n"
     ]
    },
    {
     "name": "stderr",
     "output_type": "stream",
     "text": [
      "\r",
      " 44%|████▍     | 703/1584 [03:27<01:35,  9.24it/s]"
     ]
    },
    {
     "name": "stdout",
     "output_type": "stream",
     "text": [
      "Wikipedia Articales\\Kakickapiskakamak_Sakihikan.txt\n",
      "Wikipedia Articales\\Kakickawkamak_Sakihikan.txt\n",
      "Wikipedia Articales\\Kakinoceok_Sakihikan.txt\n"
     ]
    },
    {
     "name": "stderr",
     "output_type": "stream",
     "text": [
      "\r",
      " 45%|████▍     | 705/1584 [03:27<01:29,  9.79it/s]"
     ]
    },
    {
     "name": "stdout",
     "output_type": "stream",
     "text": [
      "Wikipedia Articales\\Kakinocewcik_Sakihikan.txt\n",
      "Wikipedia Articales\\Kakinocewok_Sakihikan.txt\n",
      "Wikipedia Articales\\Kakinockokamacik_Sakihikan.txt\n"
     ]
    },
    {
     "name": "stderr",
     "output_type": "stream",
     "text": [
      "\r",
      " 45%|████▍     | 707/1584 [03:27<01:23, 10.56it/s]"
     ]
    },
    {
     "name": "stdout",
     "output_type": "stream",
     "text": [
      "Wikipedia Articales\\Kakinokamacik_Sakihikan.txt\n",
      "Wikipedia Articales\\Kakinokamak_Sakihikan.txt\n",
      "Wikipedia Articales\\Kakinoskokamak_Sakihikan.txt\n"
     ]
    },
    {
     "name": "stderr",
     "output_type": "stream",
     "text": [
      " 45%|████▍     | 711/1584 [03:28<01:21, 10.70it/s]"
     ]
    },
    {
     "name": "stdout",
     "output_type": "stream",
     "text": [
      "Wikipedia Articales\\Kakinwaakwac_Sakihikan.txt\n",
      "Wikipedia Articales\\Kakinwapiskak_Sakihikan.txt\n",
      "Wikipedia Articales\\Kakinwaskokamak_Sakihikan.txt\n"
     ]
    },
    {
     "name": "stderr",
     "output_type": "stream",
     "text": [
      "\r",
      " 45%|████▌     | 713/1584 [03:28<01:18, 11.13it/s]"
     ]
    },
    {
     "name": "stdout",
     "output_type": "stream",
     "text": [
      "Wikipedia Articales\\Kakinwaskwetik_Sakihikan.txt\n",
      "Wikipedia Articales\\Kakipokotik_Sakihikan.txt\n",
      "Wikipedia Articales\\Kakiripinihikatek_Sakihikan.txt\n"
     ]
    },
    {
     "name": "stderr",
     "output_type": "stream",
     "text": [
      "\r",
      " 45%|████▌     | 715/1584 [03:28<01:13, 11.74it/s]"
     ]
    },
    {
     "name": "stdout",
     "output_type": "stream",
     "text": [
      "Wikipedia Articales\\Kakone_pisimw.txt\n",
      "Wikipedia Articales\\Kakw.txt\n"
     ]
    },
    {
     "name": "stderr",
     "output_type": "stream",
     "text": [
      " 45%|████▌     | 719/1584 [03:29<01:56,  7.45it/s]"
     ]
    },
    {
     "name": "stdout",
     "output_type": "stream",
     "text": [
      "Wikipedia Articales\\Kakw_Sakihikan.txt\n",
      "Wikipedia Articales\\Kakwetcirahotonaniwak_Sakihikan.txt\n",
      "Wikipedia Articales\\Kamacamekocickacik_Sakihikan.txt\n"
     ]
    },
    {
     "name": "stderr",
     "output_type": "stream",
     "text": [
      "\r",
      " 46%|████▌     | 721/1584 [03:29<01:43,  8.33it/s]"
     ]
    },
    {
     "name": "stdout",
     "output_type": "stream",
     "text": [
      "Wikipedia Articales\\Kamackekwakamak_Sakihikan.txt\n",
      "Wikipedia Articales\\Kamackociwtanak_Sakihikan.txt\n",
      "Wikipedia Articales\\Kamakatewak_Sakihikan.txt\n"
     ]
    },
    {
     "name": "stderr",
     "output_type": "stream",
     "text": [
      " 46%|████▌     | 725/1584 [03:29<01:25,  9.99it/s]"
     ]
    },
    {
     "name": "stdout",
     "output_type": "stream",
     "text": [
      "Wikipedia Articales\\Kamasinawapiskohotisotc_Sakihikan.txt\n",
      "Wikipedia Articales\\Kamatapeska_Sakihikan.txt\n",
      "Wikipedia Articales\\Kamatcimiskowok_Sakihikan.txt\n"
     ]
    },
    {
     "name": "stderr",
     "output_type": "stream",
     "text": [
      "\r",
      " 46%|████▌     | 727/1584 [03:29<01:21, 10.57it/s]"
     ]
    },
    {
     "name": "stdout",
     "output_type": "stream",
     "text": [
      "Wikipedia Articales\\Kamemenatikoskak_Sakihikan.txt\n",
      "Wikipedia Articales\\Kamickekotokckakamacik_Sakihikan.txt\n",
      "Wikipedia Articales\\Kamickekwakamacik_Sakihikan.txt\n"
     ]
    },
    {
     "name": "stderr",
     "output_type": "stream",
     "text": [
      " 46%|████▌     | 731/1584 [03:30<01:17, 11.07it/s]"
     ]
    },
    {
     "name": "stdout",
     "output_type": "stream",
     "text": [
      "Wikipedia Articales\\Kamickekwanakacik_Sakihikan.txt\n",
      "Wikipedia Articales\\Kamickociakamacik_sakihikan.txt\n",
      "Wikipedia Articales\\Kamicta_Minictikowok_Sakihikan.txt\n"
     ]
    },
    {
     "name": "stderr",
     "output_type": "stream",
     "text": [
      "\r",
      " 46%|████▋     | 733/1584 [03:30<01:12, 11.75it/s]"
     ]
    },
    {
     "name": "stdout",
     "output_type": "stream",
     "text": [
      "Wikipedia Articales\\Kamictasiniwakamacik_Sakihikan.txt\n",
      "Wikipedia Articales\\Kamikarowew_Sakihikan.txt\n",
      "Wikipedia Articales\\Kamiki_Kinoceskak_Sakihikan.txt\n"
     ]
    },
    {
     "name": "stderr",
     "output_type": "stream",
     "text": [
      " 47%|████▋     | 737/1584 [03:30<01:13, 11.49it/s]"
     ]
    },
    {
     "name": "stdout",
     "output_type": "stream",
     "text": [
      "Wikipedia Articales\\Kamikikanikamacik_Sakihikan.txt\n",
      "Wikipedia Articales\\Kamiko_Kinoceskacik_Sakihikan.txt\n",
      "Wikipedia Articales\\Kaminictcikocik_Sakihikan.txt\n"
     ]
    },
    {
     "name": "stderr",
     "output_type": "stream",
     "text": [
      "\r",
      " 47%|████▋     | 739/1584 [03:30<01:13, 11.48it/s]"
     ]
    },
    {
     "name": "stdout",
     "output_type": "stream",
     "text": [
      "Wikipedia Articales\\Kaminictikowok_Sakihikan.txt\n",
      "Wikipedia Articales\\Kaminictikwakamak_Sakihikan.txt\n",
      "Wikipedia Articales\\Kamirakatcociwok_Sakihikan.txt\n"
     ]
    },
    {
     "name": "stderr",
     "output_type": "stream",
     "text": [
      " 47%|████▋     | 743/1584 [03:31<01:12, 11.64it/s]"
     ]
    },
    {
     "name": "stdout",
     "output_type": "stream",
     "text": [
      "Wikipedia Articales\\Kamirokotek_Sakihikan.txt\n",
      "Wikipedia Articales\\Kamista_Atikamekoskak_Sakihikan.txt\n",
      "Wikipedia Articales\\Kamista_Atikamekowok_Sakihikan.txt\n"
     ]
    },
    {
     "name": "stderr",
     "output_type": "stream",
     "text": [
      "\r",
      " 47%|████▋     | 745/1584 [03:31<01:12, 11.62it/s]"
     ]
    },
    {
     "name": "stdout",
     "output_type": "stream",
     "text": [
      "Wikipedia Articales\\Kamitaskokamak_Sakihikan.txt\n",
      "Wikipedia Articales\\Kamitcackokamacik_Sakihikan.txt\n",
      "Wikipedia Articales\\Kamitcakweci_Sakihikan.txt\n"
     ]
    },
    {
     "name": "stderr",
     "output_type": "stream",
     "text": [
      " 47%|████▋     | 749/1584 [03:31<01:12, 11.56it/s]"
     ]
    },
    {
     "name": "stdout",
     "output_type": "stream",
     "text": [
      "Wikipedia Articales\\Kamitcanapisiskak_Sakihikan.txt\n",
      "Wikipedia Articales\\Kanata.txt\n"
     ]
    },
    {
     "name": "stderr",
     "output_type": "stream",
     "text": [
      "\r",
      " 47%|████▋     | 751/1584 [03:31<01:15, 11.11it/s]"
     ]
    },
    {
     "name": "stdout",
     "output_type": "stream",
     "text": [
      "Wikipedia Articales\\Kanesatake.txt\n",
      "Wikipedia Articales\\Kangiqsualujjuaq.txt\n"
     ]
    },
    {
     "name": "stderr",
     "output_type": "stream",
     "text": [
      "\r",
      " 48%|████▊     | 753/1584 [03:31<01:08, 12.10it/s]"
     ]
    },
    {
     "name": "stdout",
     "output_type": "stream",
     "text": [
      "Wikipedia Articales\\Kangiqsujuaq.txt\n",
      "Wikipedia Articales\\Kangirsuk.txt\n",
      "Wikipedia Articales\\Kanicitanaki.txt\n",
      "Wikipedia Articales\\Kantiak.txt\n"
     ]
    },
    {
     "name": "stderr",
     "output_type": "stream",
     "text": [
      "\r",
      " 48%|████▊     | 755/1584 [03:32<01:36,  8.60it/s]"
     ]
    },
    {
     "name": "stdout",
     "output_type": "stream",
     "text": [
      "Wikipedia Articales\\Kapeciwin.txt\n",
      "Wikipedia Articales\\Kapi.txt\n"
     ]
    },
    {
     "name": "stderr",
     "output_type": "stream",
     "text": [
      " 48%|████▊     | 758/1584 [03:33<02:43,  5.06it/s]"
     ]
    },
    {
     "name": "stdout",
     "output_type": "stream",
     "text": [
      "Wikipedia Articales\\Kapictewakamik.txt\n",
      "Wikipedia Articales\\Kapotowan.txt\n"
     ]
    },
    {
     "name": "stderr",
     "output_type": "stream",
     "text": [
      "\r",
      " 48%|████▊     | 759/1584 [03:33<03:05,  4.45it/s]"
     ]
    },
    {
     "name": "stdout",
     "output_type": "stream",
     "text": [
      "Wikipedia Articales\\Karkonacic.txt\n"
     ]
    },
    {
     "name": "stderr",
     "output_type": "stream",
     "text": [
      "\r",
      " 48%|████▊     | 760/1584 [03:33<03:03,  4.49it/s]"
     ]
    },
    {
     "name": "stdout",
     "output_type": "stream",
     "text": [
      "Wikipedia Articales\\Kartoc_(pikosinan).txt\n"
     ]
    },
    {
     "name": "stderr",
     "output_type": "stream",
     "text": [
      "\r",
      " 48%|████▊     | 761/1584 [03:34<03:13,  4.26it/s]"
     ]
    },
    {
     "name": "stdout",
     "output_type": "stream",
     "text": [
      "Wikipedia Articales\\Kasisinahikan.txt\n"
     ]
    },
    {
     "name": "stderr",
     "output_type": "stream",
     "text": [
      " 48%|████▊     | 763/1584 [03:34<02:53,  4.74it/s]"
     ]
    },
    {
     "name": "stdout",
     "output_type": "stream",
     "text": [
      "Wikipedia Articales\\Kasitcitcew_orakan.txt\n",
      "Wikipedia Articales\\Kaskina.txt\n"
     ]
    },
    {
     "name": "stderr",
     "output_type": "stream",
     "text": [
      "\r",
      " 48%|████▊     | 764/1584 [03:34<02:35,  5.27it/s]"
     ]
    },
    {
     "name": "stdout",
     "output_type": "stream",
     "text": [
      "Wikipedia Articales\\Kaskina_ockinikiwok_otci.txt\n"
     ]
    },
    {
     "name": "stderr",
     "output_type": "stream",
     "text": [
      " 48%|████▊     | 766/1584 [03:35<03:15,  4.19it/s]"
     ]
    },
    {
     "name": "stdout",
     "output_type": "stream",
     "text": [
      "Wikipedia Articales\\Kaskinihomato_masinahikan.txt\n",
      "Wikipedia Articales\\Kaskinohamake_iskwew.txt\n"
     ]
    },
    {
     "name": "stderr",
     "output_type": "stream",
     "text": [
      "\r",
      " 48%|████▊     | 767/1584 [03:35<03:49,  3.56it/s]"
     ]
    },
    {
     "name": "stdout",
     "output_type": "stream",
     "text": [
      "Wikipedia Articales\\Kaskinohamatokamikok.txt\n"
     ]
    },
    {
     "name": "stderr",
     "output_type": "stream",
     "text": [
      " 49%|████▊     | 769/1584 [03:36<03:13,  4.21it/s]"
     ]
    },
    {
     "name": "stdout",
     "output_type": "stream",
     "text": [
      "Wikipedia Articales\\Kaskinohomakekanatikw.txt\n",
      "Wikipedia Articales\\Kateri_Champagne_Jourdain.txt\n"
     ]
    },
    {
     "name": "stderr",
     "output_type": "stream",
     "text": [
      "\r",
      " 49%|████▊     | 770/1584 [03:36<03:23,  4.00it/s]"
     ]
    },
    {
     "name": "stdout",
     "output_type": "stream",
     "text": [
      "Wikipedia Articales\\Kateri_Champgne_Jourdain.txt\n"
     ]
    },
    {
     "name": "stderr",
     "output_type": "stream",
     "text": [
      "\r",
      " 49%|████▊     | 771/1584 [03:36<03:33,  3.81it/s]"
     ]
    },
    {
     "name": "stdout",
     "output_type": "stream",
     "text": [
      "Wikipedia Articales\\Kateri_Tekakwitha.txt\n"
     ]
    },
    {
     "name": "stderr",
     "output_type": "stream",
     "text": [
      " 49%|████▉     | 773/1584 [03:37<04:36,  2.93it/s]"
     ]
    },
    {
     "name": "stdout",
     "output_type": "stream",
     "text": [
      "Wikipedia Articales\\Katiapi.txt\n",
      "Wikipedia Articales\\Katino.txt\n",
      "Wikipedia Articales\\Kawasikototc_pisimw.txt\n"
     ]
    },
    {
     "name": "stderr",
     "output_type": "stream",
     "text": [
      " 49%|████▉     | 776/1584 [03:37<02:48,  4.78it/s]"
     ]
    },
    {
     "name": "stdout",
     "output_type": "stream",
     "text": [
      "Wikipedia Articales\\Kawaskwacteparik.txt\n",
      "Wikipedia Articales\\Kawawachikamach.txt\n"
     ]
    },
    {
     "name": "stderr",
     "output_type": "stream",
     "text": [
      "\r",
      " 49%|████▉     | 777/1584 [03:38<02:27,  5.47it/s]"
     ]
    },
    {
     "name": "stdout",
     "output_type": "stream",
     "text": [
      "Wikipedia Articales\\Kebaowek.txt\n",
      "Wikipedia Articales\\Kekekw.txt\n"
     ]
    },
    {
     "name": "stderr",
     "output_type": "stream",
     "text": [
      "\r",
      " 49%|████▉     | 779/1584 [03:38<02:22,  5.64it/s]"
     ]
    },
    {
     "name": "stdout",
     "output_type": "stream",
     "text": [
      "Wikipedia Articales\\Kekocic.txt\n",
      "Wikipedia Articales\\Kenojuak_Ashevak.txt\n"
     ]
    },
    {
     "name": "stderr",
     "output_type": "stream",
     "text": [
      "\r",
      " 49%|████▉     | 781/1584 [03:38<02:43,  4.92it/s]"
     ]
    },
    {
     "name": "stdout",
     "output_type": "stream",
     "text": [
      "Wikipedia Articales\\Kenositc_Pisimw.txt\n"
     ]
    },
    {
     "name": "stderr",
     "output_type": "stream",
     "text": [
      "\r",
      " 49%|████▉     | 782/1584 [03:39<02:58,  4.48it/s]"
     ]
    },
    {
     "name": "stdout",
     "output_type": "stream",
     "text": [
      "Wikipedia Articales\\Kent_Monkman.txt\n"
     ]
    },
    {
     "name": "stderr",
     "output_type": "stream",
     "text": [
      " 50%|████▉     | 785/1584 [03:39<02:24,  5.53it/s]"
     ]
    },
    {
     "name": "stdout",
     "output_type": "stream",
     "text": [
      "Wikipedia Articales\\Kentville.txt\n",
      "Wikipedia Articales\\Kepek.txt\n",
      "Wikipedia Articales\\Kepek_aski.txt\n"
     ]
    },
    {
     "name": "stderr",
     "output_type": "stream",
     "text": [
      "\r",
      " 50%|████▉     | 787/1584 [03:39<01:51,  7.15it/s]"
     ]
    },
    {
     "name": "stdout",
     "output_type": "stream",
     "text": [
      "Wikipedia Articales\\Kepek_askik.txt\n",
      "Wikipedia Articales\\Ki_riskipew.txt\n"
     ]
    },
    {
     "name": "stderr",
     "output_type": "stream",
     "text": [
      "\r",
      " 50%|████▉     | 788/1584 [03:40<02:11,  6.07it/s]"
     ]
    },
    {
     "name": "stdout",
     "output_type": "stream",
     "text": [
      "Wikipedia Articales\\Kiackw.txt\n"
     ]
    },
    {
     "name": "stderr",
     "output_type": "stream",
     "text": [
      "\r",
      " 50%|████▉     | 789/1584 [03:40<03:24,  3.88it/s]"
     ]
    },
    {
     "name": "stdout",
     "output_type": "stream",
     "text": [
      "Wikipedia Articales\\Kiackw_Ponanpanan.txt\n",
      "Wikipedia Articales\\Kicactewoskisin.txt\n"
     ]
    },
    {
     "name": "stderr",
     "output_type": "stream",
     "text": [
      " 50%|█████     | 792/1584 [03:41<02:36,  5.06it/s]"
     ]
    },
    {
     "name": "stdout",
     "output_type": "stream",
     "text": [
      "Wikipedia Articales\\Kicapiskisikan.txt\n",
      "Wikipedia Articales\\Kice_Manito.txt\n"
     ]
    },
    {
     "name": "stderr",
     "output_type": "stream",
     "text": [
      "\r",
      " 50%|█████     | 793/1584 [03:41<02:59,  4.41it/s]"
     ]
    },
    {
     "name": "stdout",
     "output_type": "stream",
     "text": [
      "Wikipedia Articales\\Kice_iriniw_ka_macikwatc_kokotcewa_atisokan.txt\n"
     ]
    },
    {
     "name": "stderr",
     "output_type": "stream",
     "text": [
      " 50%|█████     | 795/1584 [03:43<06:49,  1.93it/s]"
     ]
    },
    {
     "name": "stdout",
     "output_type": "stream",
     "text": [
      "Wikipedia Articales\\Kice_mocom.txt\n",
      "Wikipedia Articales\\Kice_okom.txt\n"
     ]
    },
    {
     "name": "stderr",
     "output_type": "stream",
     "text": [
      "\r",
      " 50%|█████     | 796/1584 [03:43<05:27,  2.41it/s]"
     ]
    },
    {
     "name": "stdout",
     "output_type": "stream",
     "text": [
      "Wikipedia Articales\\Kicemos.txt\n"
     ]
    },
    {
     "name": "stderr",
     "output_type": "stream",
     "text": [
      "\r",
      " 50%|█████     | 797/1584 [03:43<05:08,  2.55it/s]"
     ]
    },
    {
     "name": "stdout",
     "output_type": "stream",
     "text": [
      "Wikipedia Articales\\Kicik.txt\n"
     ]
    },
    {
     "name": "stderr",
     "output_type": "stream",
     "text": [
      " 50%|█████     | 799/1584 [03:44<04:15,  3.08it/s]"
     ]
    },
    {
     "name": "stdout",
     "output_type": "stream",
     "text": [
      "Wikipedia Articales\\Kicikaw.txt\n",
      "Wikipedia Articales\\Kiciramotew.txt\n"
     ]
    },
    {
     "name": "stderr",
     "output_type": "stream",
     "text": [
      " 51%|█████     | 801/1584 [03:44<03:07,  4.18it/s]"
     ]
    },
    {
     "name": "stdout",
     "output_type": "stream",
     "text": [
      "Wikipedia Articales\\Kickacitc.txt\n",
      "Wikipedia Articales\\Kickipotcikan.txt\n"
     ]
    },
    {
     "name": "stderr",
     "output_type": "stream",
     "text": [
      "\r",
      " 51%|█████     | 802/1584 [03:45<02:47,  4.66it/s]"
     ]
    },
    {
     "name": "stdout",
     "output_type": "stream",
     "text": [
      "Wikipedia Articales\\Kickirowekop.txt\n"
     ]
    },
    {
     "name": "stderr",
     "output_type": "stream",
     "text": [
      " 51%|█████     | 805/1584 [03:45<02:13,  5.81it/s]"
     ]
    },
    {
     "name": "stdout",
     "output_type": "stream",
     "text": [
      "Wikipedia Articales\\Kickiwan.txt\n",
      "Wikipedia Articales\\Killam.txt\n",
      "Wikipedia Articales\\Kimiwon.txt\n"
     ]
    },
    {
     "name": "stderr",
     "output_type": "stream",
     "text": [
      " 51%|█████     | 807/1584 [03:45<01:52,  6.90it/s]"
     ]
    },
    {
     "name": "stdout",
     "output_type": "stream",
     "text": [
      "Wikipedia Articales\\Kimiwonipectan.txt\n",
      "Wikipedia Articales\\Kimiwonpectan.txt\n",
      "Wikipedia Articales\\Kimosapakew_kokotce.txt\n"
     ]
    },
    {
     "name": "stderr",
     "output_type": "stream",
     "text": [
      "\r",
      " 51%|█████     | 809/1584 [03:46<02:04,  6.21it/s]"
     ]
    },
    {
     "name": "stdout",
     "output_type": "stream",
     "text": [
      "Wikipedia Articales\\Kinepikocic.txt\n"
     ]
    },
    {
     "name": "stderr",
     "output_type": "stream",
     "text": [
      "\r",
      " 51%|█████     | 810/1584 [03:46<02:31,  5.10it/s]"
     ]
    },
    {
     "name": "stdout",
     "output_type": "stream",
     "text": [
      "Wikipedia Articales\\Kinepikw.txt\n"
     ]
    },
    {
     "name": "stderr",
     "output_type": "stream",
     "text": [
      " 51%|█████▏    | 813/1584 [03:46<02:12,  5.84it/s]"
     ]
    },
    {
     "name": "stdout",
     "output_type": "stream",
     "text": [
      "Wikipedia Articales\\Kingsey_Falls.txt\n",
      "Wikipedia Articales\\Kinnear%27s_Mills.txt\n",
      "Wikipedia Articales\\Kinoce_Sakihikan.txt\n",
      "Wikipedia Articales\\Kinoce_atisokan.txt\n"
     ]
    },
    {
     "name": "stderr",
     "output_type": "stream",
     "text": [
      "\r",
      " 51%|█████▏    | 815/1584 [03:54<20:07,  1.57s/it]"
     ]
    },
    {
     "name": "stdout",
     "output_type": "stream",
     "text": [
      "Wikipedia Articales\\Kinocew.txt\n"
     ]
    },
    {
     "name": "stderr",
     "output_type": "stream",
     "text": [
      "\r",
      " 52%|█████▏    | 816/1584 [03:55<17:14,  1.35s/it]"
     ]
    },
    {
     "name": "stdout",
     "output_type": "stream",
     "text": [
      "Wikipedia Articales\\Kinocew_atisokan.txt\n"
     ]
    },
    {
     "name": "stderr",
     "output_type": "stream",
     "text": [
      " 52%|█████▏    | 818/1584 [04:02<25:19,  1.98s/it]"
     ]
    },
    {
     "name": "stdout",
     "output_type": "stream",
     "text": [
      "Wikipedia Articales\\Kinoke_masinahikepitcikan.txt\n",
      "Wikipedia Articales\\Kinoke_pamipitcikan.txt\n",
      "Wikipedia Articales\\Kinokepitcikan.txt\n"
     ]
    },
    {
     "name": "stderr",
     "output_type": "stream",
     "text": [
      " 52%|█████▏    | 821/1584 [04:02<12:25,  1.02it/s]"
     ]
    },
    {
     "name": "stdout",
     "output_type": "stream",
     "text": [
      "Wikipedia Articales\\Kinokepitcikancic.txt\n",
      "Wikipedia Articales\\Kinokepitcikanicic.txt\n"
     ]
    },
    {
     "name": "stderr",
     "output_type": "stream",
     "text": [
      " 52%|█████▏    | 824/1584 [04:02<06:09,  2.06it/s]"
     ]
    },
    {
     "name": "stdout",
     "output_type": "stream",
     "text": [
      "Wikipedia Articales\\Kinokepitcikaniwoc.txt\n",
      "Wikipedia Articales\\Kinokepitcike_makonikan.txt\n"
     ]
    },
    {
     "name": "stderr",
     "output_type": "stream",
     "text": [
      "\r",
      " 52%|█████▏    | 825/1584 [04:03<05:09,  2.45it/s]"
     ]
    },
    {
     "name": "stdout",
     "output_type": "stream",
     "text": [
      "Wikipedia Articales\\Kinokopitcikan.txt\n",
      "Wikipedia Articales\\Kinokopotcikan.txt\n"
     ]
    },
    {
     "name": "stderr",
     "output_type": "stream",
     "text": [
      " 52%|█████▏    | 827/1584 [04:03<03:39,  3.46it/s]"
     ]
    },
    {
     "name": "stdout",
     "output_type": "stream",
     "text": [
      "Wikipedia Articales\\Kipacimo.txt\n",
      "Wikipedia Articales\\Kipacimo_arakapecakan.txt\n"
     ]
    },
    {
     "name": "stderr",
     "output_type": "stream",
     "text": [
      " 52%|█████▏    | 829/1584 [04:03<03:02,  4.14it/s]"
     ]
    },
    {
     "name": "stdout",
     "output_type": "stream",
     "text": [
      "Wikipedia Articales\\Kipacmo_arakpecakan.txt\n",
      "Wikipedia Articales\\Kipek_aski.txt\n",
      "Wikipedia Articales\\Kiripin.txt\n"
     ]
    },
    {
     "name": "stderr",
     "output_type": "stream",
     "text": [
      "\r",
      " 52%|█████▏    | 831/1584 [04:04<03:29,  3.59it/s]"
     ]
    },
    {
     "name": "stdout",
     "output_type": "stream",
     "text": [
      "Wikipedia Articales\\Kirkland.txt\n",
      "Wikipedia Articales\\Kisipekahikan.txt\n"
     ]
    },
    {
     "name": "stderr",
     "output_type": "stream",
     "text": [
      "\r",
      " 53%|█████▎    | 833/1584 [04:04<02:40,  4.69it/s]"
     ]
    },
    {
     "name": "stdout",
     "output_type": "stream",
     "text": [
      "Wikipedia Articales\\Kisisike_tcipakwan_askikw.txt\n"
     ]
    },
    {
     "name": "stderr",
     "output_type": "stream",
     "text": [
      "\r",
      " 53%|█████▎    | 834/1584 [04:04<02:38,  4.73it/s]"
     ]
    },
    {
     "name": "stdout",
     "output_type": "stream",
     "text": [
      "Wikipedia Articales\\Kisisipatcikanatikw.txt\n",
      "Wikipedia Articales\\Kisiskikw.txt\n"
     ]
    },
    {
     "name": "stderr",
     "output_type": "stream",
     "text": [
      " 53%|█████▎    | 837/1584 [04:05<02:13,  5.61it/s]"
     ]
    },
    {
     "name": "stdout",
     "output_type": "stream",
     "text": [
      "Wikipedia Articales\\Kiskimiskaw.txt\n",
      "Wikipedia Articales\\Kiskinihomato_masinahikan.txt\n"
     ]
    },
    {
     "name": "stderr",
     "output_type": "stream",
     "text": [
      "\r",
      " 53%|█████▎    | 838/1584 [04:05<02:16,  5.48it/s]"
     ]
    },
    {
     "name": "stdout",
     "output_type": "stream",
     "text": [
      "Wikipedia Articales\\Kiskinnomatomok.txt\n"
     ]
    },
    {
     "name": "stderr",
     "output_type": "stream",
     "text": [
      "\r",
      " 53%|█████▎    | 839/1584 [04:05<02:26,  5.10it/s]"
     ]
    },
    {
     "name": "stdout",
     "output_type": "stream",
     "text": [
      "Wikipedia Articales\\Kiskinohamake_iskwew.txt\n"
     ]
    },
    {
     "name": "stderr",
     "output_type": "stream",
     "text": [
      "\r",
      " 53%|█████▎    | 840/1584 [04:05<03:02,  4.08it/s]"
     ]
    },
    {
     "name": "stdout",
     "output_type": "stream",
     "text": [
      "Wikipedia Articales\\Kiskinohamatokamikok.txt\n"
     ]
    },
    {
     "name": "stderr",
     "output_type": "stream",
     "text": [
      "\r",
      " 53%|█████▎    | 841/1584 [04:06<02:57,  4.19it/s]"
     ]
    },
    {
     "name": "stdout",
     "output_type": "stream",
     "text": [
      "Wikipedia Articales\\Kiskinohamatowikamikok.txt\n"
     ]
    },
    {
     "name": "stderr",
     "output_type": "stream",
     "text": [
      " 53%|█████▎    | 843/1584 [04:06<02:26,  5.05it/s]"
     ]
    },
    {
     "name": "stdout",
     "output_type": "stream",
     "text": [
      "Wikipedia Articales\\Kiskinoweritcikan.txt\n",
      "Wikipedia Articales\\Kitcew.txt\n"
     ]
    },
    {
     "name": "stderr",
     "output_type": "stream",
     "text": [
      "\r",
      " 53%|█████▎    | 844/1584 [04:06<02:27,  5.02it/s]"
     ]
    },
    {
     "name": "stdout",
     "output_type": "stream",
     "text": [
      "Wikipedia Articales\\Kitchener.txt\n",
      "Wikipedia Articales\\Kitci_icihowin.txt\n"
     ]
    },
    {
     "name": "stderr",
     "output_type": "stream",
     "text": [
      " 53%|█████▎    | 847/1584 [04:07<02:02,  6.02it/s]"
     ]
    },
    {
     "name": "stdout",
     "output_type": "stream",
     "text": [
      "Wikipedia Articales\\Kitci_masinihikewin.txt\n"
     ]
    },
    {
     "name": "stderr",
     "output_type": "stream",
     "text": [
      "\r",
      " 54%|█████▎    | 848/1584 [04:07<01:51,  6.58it/s]"
     ]
    },
    {
     "name": "stdout",
     "output_type": "stream",
     "text": [
      "Wikipedia Articales\\Kitci_mokoman_aski.txt\n",
      "Wikipedia Articales\\Kitci_tapwerimitisowikw.txt\n"
     ]
    },
    {
     "name": "stderr",
     "output_type": "stream",
     "text": [
      "\r",
      " 54%|█████▎    | 849/1584 [04:07<03:27,  3.54it/s]"
     ]
    },
    {
     "name": "stdout",
     "output_type": "stream",
     "text": [
      "Wikipedia Articales\\Kitcihiminecic.txt\n",
      "Wikipedia Articales\\Kitciko_Ninio_Kamissino_(Rocheleau).txt\n"
     ]
    },
    {
     "name": "stderr",
     "output_type": "stream",
     "text": [
      " 54%|█████▍    | 852/1584 [04:08<02:47,  4.38it/s]"
     ]
    },
    {
     "name": "stdout",
     "output_type": "stream",
     "text": [
      "Wikipedia Articales\\Kitcisakik.txt\n",
      "Wikipedia Articales\\Kitcitwa_Marie.txt\n"
     ]
    },
    {
     "name": "stderr",
     "output_type": "stream",
     "text": [
      "\r",
      " 54%|█████▍    | 853/1584 [04:08<02:44,  4.43it/s]"
     ]
    },
    {
     "name": "stdout",
     "output_type": "stream",
     "text": [
      "Wikipedia Articales\\Kitigan_Zibi.txt\n",
      "Wikipedia Articales\\Kitikan.txt\n"
     ]
    },
    {
     "name": "stderr",
     "output_type": "stream",
     "text": [
      " 54%|█████▍    | 856/1584 [04:09<02:19,  5.22it/s]"
     ]
    },
    {
     "name": "stdout",
     "output_type": "stream",
     "text": [
      "Wikipedia Articales\\Kitikan_aski.txt\n"
     ]
    },
    {
     "name": "stderr",
     "output_type": "stream",
     "text": [
      "\r",
      " 54%|█████▍    | 858/1584 [04:09<01:39,  7.31it/s]"
     ]
    },
    {
     "name": "stdout",
     "output_type": "stream",
     "text": [
      "Wikipedia Articales\\Kitikan_mitcim.txt\n",
      "Wikipedia Articales\\Kitikan_mitcim_e_nipiciwok.txt\n",
      "Wikipedia Articales\\Kitikaniwon.txt\n"
     ]
    },
    {
     "name": "stderr",
     "output_type": "stream",
     "text": [
      " 54%|█████▍    | 860/1584 [04:09<01:48,  6.70it/s]"
     ]
    },
    {
     "name": "stdout",
     "output_type": "stream",
     "text": [
      "Wikipedia Articales\\Kitikanski.txt\n",
      "Wikipedia Articales\\Kitotakan.txt\n"
     ]
    },
    {
     "name": "stderr",
     "output_type": "stream",
     "text": [
      " 54%|█████▍    | 862/1584 [04:09<01:58,  6.11it/s]"
     ]
    },
    {
     "name": "stdout",
     "output_type": "stream",
     "text": [
      "Wikipedia Articales\\Kitotakanatikw.txt\n"
     ]
    },
    {
     "name": "stderr",
     "output_type": "stream",
     "text": [
      "\r",
      " 54%|█████▍    | 863/1584 [04:10<01:48,  6.63it/s]"
     ]
    },
    {
     "name": "stdout",
     "output_type": "stream",
     "text": [
      "Wikipedia Articales\\Kiwetinok.txt\n",
      "Wikipedia Articales\\Kiwetinok_Nakapehonok.txt\n",
      "Wikipedia Articales\\Kiwetinok_Wapanok.txt\n"
     ]
    },
    {
     "name": "stderr",
     "output_type": "stream",
     "text": [
      " 55%|█████▍    | 867/1584 [04:10<01:15,  9.46it/s]"
     ]
    },
    {
     "name": "stdout",
     "output_type": "stream",
     "text": [
      "Wikipedia Articales\\Kiwetonok_Nakapehonok.txt\n",
      "Wikipedia Articales\\Kiwetonok_Wapanok.txt\n",
      "Wikipedia Articales\\Kokoc.txt\n"
     ]
    },
    {
     "name": "stderr",
     "output_type": "stream",
     "text": [
      "\r",
      " 55%|█████▍    | 868/1584 [04:10<02:07,  5.63it/s]"
     ]
    },
    {
     "name": "stdout",
     "output_type": "stream",
     "text": [
      "Wikipedia Articales\\Kokoc_opwam.txt\n"
     ]
    },
    {
     "name": "stderr",
     "output_type": "stream",
     "text": [
      "\r",
      " 55%|█████▍    | 869/1584 [04:11<02:26,  4.87it/s]"
     ]
    },
    {
     "name": "stdout",
     "output_type": "stream",
     "text": [
      "Wikipedia Articales\\Kokoc_wias.txt\n"
     ]
    },
    {
     "name": "stderr",
     "output_type": "stream",
     "text": [
      "\r",
      " 55%|█████▍    | 870/1584 [04:11<02:34,  4.61it/s]"
     ]
    },
    {
     "name": "stdout",
     "output_type": "stream",
     "text": [
      "Wikipedia Articales\\Kokokac.txt\n"
     ]
    },
    {
     "name": "stderr",
     "output_type": "stream",
     "text": [
      "\r",
      " 55%|█████▍    | 871/1584 [04:11<03:02,  3.90it/s]"
     ]
    },
    {
     "name": "stdout",
     "output_type": "stream",
     "text": [
      "Wikipedia Articales\\Kokotce_ka_kimosapitc_atisokan.txt\n"
     ]
    },
    {
     "name": "stderr",
     "output_type": "stream",
     "text": [
      "\r",
      " 55%|█████▌    | 872/1584 [04:12<04:04,  2.91it/s]"
     ]
    },
    {
     "name": "stdout",
     "output_type": "stream",
     "text": [
      "Wikipedia Articales\\Kokotce_trop_curieux_atisokan.txt\n"
     ]
    },
    {
     "name": "stderr",
     "output_type": "stream",
     "text": [
      " 55%|█████▌    | 874/1584 [04:13<03:48,  3.11it/s]"
     ]
    },
    {
     "name": "stdout",
     "output_type": "stream",
     "text": [
      "Wikipedia Articales\\Kokwapcic.txt\n",
      "Wikipedia Articales\\Kokwetcitasinahikan.txt\n"
     ]
    },
    {
     "name": "stderr",
     "output_type": "stream",
     "text": [
      " 55%|█████▌    | 876/1584 [04:13<02:40,  4.41it/s]"
     ]
    },
    {
     "name": "stdout",
     "output_type": "stream",
     "text": [
      "Wikipedia Articales\\Kon.txt\n",
      "Wikipedia Articales\\Kotak_aiamihewin.txt\n"
     ]
    },
    {
     "name": "stderr",
     "output_type": "stream",
     "text": [
      " 55%|█████▌    | 879/1584 [04:14<02:30,  4.70it/s]"
     ]
    },
    {
     "name": "stdout",
     "output_type": "stream",
     "text": [
      "Wikipedia Articales\\Kotak_kitikan_mitcim.txt\n",
      "Wikipedia Articales\\Kuujjuaq.txt\n",
      "Wikipedia Articales\\Kuujjuarapik.txt\n",
      "Wikipedia Articales\\Kwackotcikanapecic.txt\n"
     ]
    },
    {
     "name": "stderr",
     "output_type": "stream",
     "text": [
      " 56%|█████▌    | 882/1584 [04:14<02:18,  5.07it/s]"
     ]
    },
    {
     "name": "stdout",
     "output_type": "stream",
     "text": [
      "Wikipedia Articales\\Kwakeatcipicic.txt\n",
      "Wikipedia Articales\\Kwakwapicic.txt\n"
     ]
    },
    {
     "name": "stderr",
     "output_type": "stream",
     "text": [
      "\r",
      " 56%|█████▌    | 883/1584 [04:14<02:28,  4.73it/s]"
     ]
    },
    {
     "name": "stdout",
     "output_type": "stream",
     "text": [
      "Wikipedia Articales\\Kwapihikan.txt\n"
     ]
    },
    {
     "name": "stderr",
     "output_type": "stream",
     "text": [
      "\r",
      " 56%|█████▌    | 884/1584 [04:15<03:11,  3.66it/s]"
     ]
    },
    {
     "name": "stdout",
     "output_type": "stream",
     "text": [
      "Wikipedia Articales\\Kwekahakew.txt\n"
     ]
    },
    {
     "name": "stderr",
     "output_type": "stream",
     "text": [
      "\r",
      " 56%|█████▌    | 885/1584 [04:15<04:01,  2.90it/s]"
     ]
    },
    {
     "name": "stdout",
     "output_type": "stream",
     "text": [
      "Wikipedia Articales\\Kwekweciw.txt\n"
     ]
    },
    {
     "name": "stderr",
     "output_type": "stream",
     "text": [
      "\r",
      " 56%|█████▌    | 886/1584 [04:16<04:34,  2.54it/s]"
     ]
    },
    {
     "name": "stdout",
     "output_type": "stream",
     "text": [
      "Wikipedia Articales\\Kwemes.txt\n"
     ]
    },
    {
     "name": "stderr",
     "output_type": "stream",
     "text": [
      "\r",
      " 56%|█████▌    | 887/1584 [04:16<04:28,  2.59it/s]"
     ]
    },
    {
     "name": "stdout",
     "output_type": "stream",
     "text": [
      "Wikipedia Articales\\Kweskahikan.txt\n",
      "Wikipedia Articales\\L%27%C3%89piphanie.txt\n"
     ]
    },
    {
     "name": "stderr",
     "output_type": "stream",
     "text": [
      " 56%|█████▋    | 891/1584 [04:17<02:12,  5.23it/s]"
     ]
    },
    {
     "name": "stdout",
     "output_type": "stream",
     "text": [
      "Wikipedia Articales\\L%27%C3%8Ele-Cadieux.txt\n",
      "Wikipedia Articales\\L%27%C3%8Ele-Dorval.txt\n",
      "Wikipedia Articales\\L%27%C3%8Ele-Perrot.txt\n",
      "Wikipedia Articales\\L%27Ancienne-Lorette.txt\n"
     ]
    },
    {
     "name": "stderr",
     "output_type": "stream",
     "text": [
      "\r",
      " 56%|█████▋    | 893/1584 [04:17<02:22,  4.85it/s]"
     ]
    },
    {
     "name": "stdout",
     "output_type": "stream",
     "text": [
      "Wikipedia Articales\\L%27Assomption.txt\n"
     ]
    },
    {
     "name": "stderr",
     "output_type": "stream",
     "text": [
      "\r",
      " 56%|█████▋    | 894/1584 [04:18<02:50,  4.04it/s]"
     ]
    },
    {
     "name": "stdout",
     "output_type": "stream",
     "text": [
      "Wikipedia Articales\\L%C3%A9o_Dub%C3%A9.txt\n"
     ]
    },
    {
     "name": "stderr",
     "output_type": "stream",
     "text": [
      "\r",
      " 57%|█████▋    | 895/1584 [04:19<06:30,  1.76it/s]"
     ]
    },
    {
     "name": "stdout",
     "output_type": "stream",
     "text": [
      "Wikipedia Articales\\L%C3%A9on_Newashish_(Gino).txt\n"
     ]
    },
    {
     "name": "stderr",
     "output_type": "stream",
     "text": [
      "\r",
      " 57%|█████▋    | 896/1584 [04:20<06:33,  1.75it/s]"
     ]
    },
    {
     "name": "stdout",
     "output_type": "stream",
     "text": [
      "Wikipedia Articales\\L%C3%A9ry.txt\n",
      "Wikipedia Articales\\La_Colle_(chef_am%C3%A9rindien).txt\n"
     ]
    },
    {
     "name": "stderr",
     "output_type": "stream",
     "text": [
      " 57%|█████▋    | 900/1584 [04:20<03:20,  3.42it/s]"
     ]
    },
    {
     "name": "stdout",
     "output_type": "stream",
     "text": [
      "Wikipedia Articales\\La_Malbaie.txt\n",
      "Wikipedia Articales\\La_Nation.txt\n",
      "Wikipedia Articales\\La_Pocati%C3%A8re.txt\n"
     ]
    },
    {
     "name": "stderr",
     "output_type": "stream",
     "text": [
      "\r",
      " 57%|█████▋    | 902/1584 [04:21<02:32,  4.49it/s]"
     ]
    },
    {
     "name": "stdout",
     "output_type": "stream",
     "text": [
      "Wikipedia Articales\\La_Prairie.txt\n",
      "Wikipedia Articales\\La_Romaine.txt\n",
      "Wikipedia Articales\\La_Sarre.txt\n"
     ]
    },
    {
     "name": "stderr",
     "output_type": "stream",
     "text": [
      " 57%|█████▋    | 906/1584 [04:21<01:40,  6.75it/s]"
     ]
    },
    {
     "name": "stdout",
     "output_type": "stream",
     "text": [
      "Wikipedia Articales\\Lac-Brome.txt\n",
      "Wikipedia Articales\\Lac-Delage.txt\n",
      "Wikipedia Articales\\Lac-M%C3%A9gantic.txt\n"
     ]
    },
    {
     "name": "stderr",
     "output_type": "stream",
     "text": [
      "\r",
      " 57%|█████▋    | 908/1584 [04:21<01:27,  7.68it/s]"
     ]
    },
    {
     "name": "stdout",
     "output_type": "stream",
     "text": [
      "Wikipedia Articales\\Lac-Rapide.txt\n",
      "Wikipedia Articales\\Lac-Saint-Joseph.txt\n"
     ]
    },
    {
     "name": "stderr",
     "output_type": "stream",
     "text": [
      " 58%|█████▊    | 911/1584 [04:21<01:28,  7.59it/s]"
     ]
    },
    {
     "name": "stdout",
     "output_type": "stream",
     "text": [
      "Wikipedia Articales\\Lac-Sergent.txt\n",
      "Wikipedia Articales\\Lac-Simon.txt\n"
     ]
    },
    {
     "name": "stderr",
     "output_type": "stream",
     "text": [
      "\r",
      " 58%|█████▊    | 913/1584 [04:22<01:16,  8.78it/s]"
     ]
    },
    {
     "name": "stdout",
     "output_type": "stream",
     "text": [
      "Wikipedia Articales\\Lac_Kataway.txt\n",
      "Wikipedia Articales\\Lachute.txt\n",
      "Wikipedia Articales\\Lamont.txt\n",
      "Wikipedia Articales\\Lanaudiere.txt\n"
     ]
    },
    {
     "name": "stderr",
     "output_type": "stream",
     "text": [
      "\r",
      " 58%|█████▊    | 915/1584 [04:23<02:50,  3.93it/s]"
     ]
    },
    {
     "name": "stdout",
     "output_type": "stream",
     "text": [
      "Wikipedia Articales\\Laura_Niquay.txt\n"
     ]
    },
    {
     "name": "stderr",
     "output_type": "stream",
     "text": [
      " 58%|█████▊    | 917/1584 [04:24<03:57,  2.80it/s]"
     ]
    },
    {
     "name": "stdout",
     "output_type": "stream",
     "text": [
      "Wikipedia Articales\\Laval.txt\n"
     ]
    },
    {
     "name": "stderr",
     "output_type": "stream",
     "text": [
      "\r",
      " 58%|█████▊    | 919/1584 [04:24<02:48,  3.95it/s]"
     ]
    },
    {
     "name": "stdout",
     "output_type": "stream",
     "text": [
      "Wikipedia Articales\\Lavaltrie.txt\n",
      "Wikipedia Articales\\Lebel-sur-Qu%C3%A9villon.txt\n",
      "Wikipedia Articales\\Legal.txt\n"
     ]
    },
    {
     "name": "stderr",
     "output_type": "stream",
     "text": [
      "\r",
      " 58%|█████▊    | 921/1584 [04:24<02:06,  5.23it/s]"
     ]
    },
    {
     "name": "stdout",
     "output_type": "stream",
     "text": [
      "Wikipedia Articales\\Les_%C3%8Eles-de-la-Madeleine.txt\n",
      "Wikipedia Articales\\Levis.txt\n"
     ]
    },
    {
     "name": "stderr",
     "output_type": "stream",
     "text": [
      " 58%|█████▊    | 924/1584 [04:25<01:36,  6.83it/s]"
     ]
    },
    {
     "name": "stdout",
     "output_type": "stream",
     "text": [
      "Wikipedia Articales\\Listuguj.txt\n",
      "Wikipedia Articales\\Lockeport.txt\n",
      "Wikipedia Articales\\London.txt\n"
     ]
    },
    {
     "name": "stderr",
     "output_type": "stream",
     "text": [
      "\r",
      " 58%|█████▊    | 926/1584 [04:25<01:23,  7.92it/s]"
     ]
    },
    {
     "name": "stdout",
     "output_type": "stream",
     "text": [
      "Wikipedia Articales\\Longueuil.txt\n",
      "Wikipedia Articales\\Loretteville.txt\n",
      "Wikipedia Articales\\Lori_Blondeau.txt\n"
     ]
    },
    {
     "name": "stderr",
     "output_type": "stream",
     "text": [
      "\r",
      " 59%|█████▊    | 928/1584 [04:25<01:21,  8.05it/s]"
     ]
    },
    {
     "name": "stdout",
     "output_type": "stream",
     "text": [
      "Wikipedia Articales\\Lorraine.txt\n",
      "Wikipedia Articales\\Louis_Newashish.txt\n"
     ]
    },
    {
     "name": "stderr",
     "output_type": "stream",
     "text": [
      "\r",
      " 59%|█████▊    | 930/1584 [04:26<02:12,  4.94it/s]"
     ]
    },
    {
     "name": "stdout",
     "output_type": "stream",
     "text": [
      "Wikipedia Articales\\Louis_Ottawa.txt\n"
     ]
    },
    {
     "name": "stderr",
     "output_type": "stream",
     "text": [
      "\r",
      " 59%|█████▉    | 931/1584 [04:27<03:57,  2.75it/s]"
     ]
    },
    {
     "name": "stdout",
     "output_type": "stream",
     "text": [
      "Wikipedia Articales\\Louis_Riel.txt\n"
     ]
    },
    {
     "name": "stderr",
     "output_type": "stream",
     "text": [
      "\r",
      " 59%|█████▉    | 932/1584 [04:27<04:09,  2.62it/s]"
     ]
    },
    {
     "name": "stdout",
     "output_type": "stream",
     "text": [
      "Wikipedia Articales\\Louiseville.txt\n",
      "Wikipedia Articales\\Lucien_Ottawa.txt\n"
     ]
    },
    {
     "name": "stderr",
     "output_type": "stream",
     "text": [
      "\r",
      " 59%|█████▉    | 934/1584 [04:28<03:46,  2.87it/s]"
     ]
    },
    {
     "name": "stdout",
     "output_type": "stream",
     "text": [
      "Wikipedia Articales\\Ludger_Bastien.txt\n"
     ]
    },
    {
     "name": "stderr",
     "output_type": "stream",
     "text": [
      "\r",
      " 59%|█████▉    | 935/1584 [04:28<03:27,  3.12it/s]"
     ]
    },
    {
     "name": "stdout",
     "output_type": "stream",
     "text": [
      "Wikipedia Articales\\Lunenburg.txt\n",
      "Wikipedia Articales\\M%C3%A9lissa_Mollen-Dupuis.txt\n"
     ]
    },
    {
     "name": "stderr",
     "output_type": "stream",
     "text": [
      " 59%|█████▉    | 939/1584 [04:29<02:17,  4.69it/s]"
     ]
    },
    {
     "name": "stdout",
     "output_type": "stream",
     "text": [
      "Wikipedia Articales\\M%C3%A9tabetchouan%E2%80%93Lac-%C3%A0-la-Croix.txt\n",
      "Wikipedia Articales\\M%C3%A9tis-sur-Mer.txt\n",
      "Wikipedia Articales\\Macamic.txt\n",
      "Wikipedia Articales\\Mackiki.txt\n"
     ]
    },
    {
     "name": "stderr",
     "output_type": "stream",
     "text": [
      " 59%|█████▉    | 942/1584 [04:29<01:52,  5.69it/s]"
     ]
    },
    {
     "name": "stdout",
     "output_type": "stream",
     "text": [
      "Wikipedia Articales\\Mackikiatikw.txt\n",
      "Wikipedia Articales\\Mackimotai.txt\n"
     ]
    },
    {
     "name": "stderr",
     "output_type": "stream",
     "text": [
      "\r",
      " 60%|█████▉    | 943/1584 [04:29<01:50,  5.81it/s]"
     ]
    },
    {
     "name": "stdout",
     "output_type": "stream",
     "text": [
      "Wikipedia Articales\\Mackoc.txt\n",
      "Wikipedia Articales\\Maggie_Dub%C3%A9.txt\n"
     ]
    },
    {
     "name": "stderr",
     "output_type": "stream",
     "text": [
      " 60%|█████▉    | 946/1584 [04:30<02:16,  4.67it/s]"
     ]
    },
    {
     "name": "stdout",
     "output_type": "stream",
     "text": [
      "Wikipedia Articales\\Magrath.txt\n",
      "Wikipedia Articales\\Mahikan.txt\n"
     ]
    },
    {
     "name": "stderr",
     "output_type": "stream",
     "text": [
      "\r",
      " 60%|█████▉    | 947/1584 [04:30<02:45,  3.84it/s]"
     ]
    },
    {
     "name": "stdout",
     "output_type": "stream",
     "text": [
      "Wikipedia Articales\\Mahone_Bay.txt\n",
      "Wikipedia Articales\\Main_Page.txt\n"
     ]
    },
    {
     "name": "stderr",
     "output_type": "stream",
     "text": [
      "\r",
      " 60%|█████▉    | 949/1584 [04:33<06:17,  1.68it/s]"
     ]
    },
    {
     "name": "stdout",
     "output_type": "stream",
     "text": [
      "Wikipedia Articales\\Makaskisitan.txt\n"
     ]
    },
    {
     "name": "stderr",
     "output_type": "stream",
     "text": [
      "\r",
      " 60%|█████▉    | 950/1584 [04:33<05:25,  1.95it/s]"
     ]
    },
    {
     "name": "stdout",
     "output_type": "stream",
     "text": [
      "Wikipedia Articales\\Makatecip.txt\n"
     ]
    },
    {
     "name": "stderr",
     "output_type": "stream",
     "text": [
      "\r",
      " 60%|██████    | 951/1584 [04:33<05:22,  1.97it/s]"
     ]
    },
    {
     "name": "stdout",
     "output_type": "stream",
     "text": [
      "Wikipedia Articales\\Makatewaw.txt\n",
      "Wikipedia Articales\\Mal%C3%A9cites.txt\n"
     ]
    },
    {
     "name": "stderr",
     "output_type": "stream",
     "text": [
      " 60%|██████    | 955/1584 [04:35<04:21,  2.40it/s]"
     ]
    },
    {
     "name": "stdout",
     "output_type": "stream",
     "text": [
      "Wikipedia Articales\\Malartic.txt\n",
      "Wikipedia Articales\\Mamantouensa.txt\n",
      "Wikipedia Articales\\Mamitoneritasinahikana.txt\n"
     ]
    },
    {
     "name": "stderr",
     "output_type": "stream",
     "text": [
      "\r",
      " 60%|██████    | 956/1584 [04:35<03:56,  2.66it/s]"
     ]
    },
    {
     "name": "stdout",
     "output_type": "stream",
     "text": [
      "Wikipedia Articales\\Manawan.txt\n"
     ]
    },
    {
     "name": "stderr",
     "output_type": "stream",
     "text": [
      "\r",
      " 60%|██████    | 957/1584 [04:49<34:59,  3.35s/it]"
     ]
    },
    {
     "name": "stdout",
     "output_type": "stream",
     "text": [
      "Wikipedia Articales\\Manawan_Kitotakan_93,1.txt\n"
     ]
    },
    {
     "name": "stderr",
     "output_type": "stream",
     "text": [
      "\r",
      " 60%|██████    | 958/1584 [04:50<29:06,  2.79s/it]"
     ]
    },
    {
     "name": "stdout",
     "output_type": "stream",
     "text": [
      "Wikipedia Articales\\Manawan_sakihikan.txt\n"
     ]
    },
    {
     "name": "stderr",
     "output_type": "stream",
     "text": [
      "\r",
      " 61%|██████    | 959/1584 [04:50<23:39,  2.27s/it]"
     ]
    },
    {
     "name": "stdout",
     "output_type": "stream",
     "text": [
      "Wikipedia Articales\\Manawan_sipi.txt\n"
     ]
    },
    {
     "name": "stderr",
     "output_type": "stream",
     "text": [
      " 61%|██████    | 961/1584 [04:52<14:59,  1.44s/it]"
     ]
    },
    {
     "name": "stdout",
     "output_type": "stream",
     "text": [
      "Wikipedia Articales\\Manikosianiwon.txt\n",
      "Wikipedia Articales\\Manito.txt\n",
      "Wikipedia Articales\\Manitoba.txt\n"
     ]
    },
    {
     "name": "stderr",
     "output_type": "stream",
     "text": [
      " 61%|██████    | 965/1584 [04:52<06:16,  1.64it/s]"
     ]
    },
    {
     "name": "stdout",
     "output_type": "stream",
     "text": [
      "Wikipedia Articales\\Maniwaki.txt\n",
      "Wikipedia Articales\\Manning.txt\n",
      "Wikipedia Articales\\Mantcoc.txt\n"
     ]
    },
    {
     "name": "stderr",
     "output_type": "stream",
     "text": [
      "\r",
      " 61%|██████    | 966/1584 [04:53<05:44,  1.79it/s]"
     ]
    },
    {
     "name": "stdout",
     "output_type": "stream",
     "text": [
      "Wikipedia Articales\\Mantcoc_(Coronavirus_Covid-19).txt\n"
     ]
    },
    {
     "name": "stderr",
     "output_type": "stream",
     "text": [
      "\r",
      " 61%|██████    | 967/1584 [04:55<10:31,  1.02s/it]"
     ]
    },
    {
     "name": "stdout",
     "output_type": "stream",
     "text": [
      "Wikipedia Articales\\Mantcocak.txt\n"
     ]
    },
    {
     "name": "stderr",
     "output_type": "stream",
     "text": [
      "\r",
      " 61%|██████    | 968/1584 [04:56<08:55,  1.15it/s]"
     ]
    },
    {
     "name": "stdout",
     "output_type": "stream",
     "text": [
      "Wikipedia Articales\\Maquinna.txt\n"
     ]
    },
    {
     "name": "stderr",
     "output_type": "stream",
     "text": [
      " 61%|██████    | 970/1584 [04:56<05:36,  1.82it/s]"
     ]
    },
    {
     "name": "stdout",
     "output_type": "stream",
     "text": [
      "Wikipedia Articales\\Marasati.txt\n",
      "Wikipedia Articales\\Marathon.txt\n",
      "Wikipedia Articales\\Marc_Dub%C3%A9.txt\n"
     ]
    },
    {
     "name": "stderr",
     "output_type": "stream",
     "text": [
      "\r",
      " 61%|██████▏   | 972/1584 [04:59<09:21,  1.09it/s]"
     ]
    },
    {
     "name": "stdout",
     "output_type": "stream",
     "text": [
      "Wikipedia Articales\\Marcel_Dub%C3%A9.txt\n"
     ]
    },
    {
     "name": "stderr",
     "output_type": "stream",
     "text": [
      "\r",
      " 61%|██████▏   | 973/1584 [05:00<10:04,  1.01it/s]"
     ]
    },
    {
     "name": "stdout",
     "output_type": "stream",
     "text": [
      "Wikipedia Articales\\Marcel_Petiquay.txt\n"
     ]
    },
    {
     "name": "stderr",
     "output_type": "stream",
     "text": [
      " 62%|██████▏   | 975/1584 [05:01<07:03,  1.44it/s]"
     ]
    },
    {
     "name": "stdout",
     "output_type": "stream",
     "text": [
      "Wikipedia Articales\\Marcelline_Picard-Kanap%C3%A9.txt\n",
      "Wikipedia Articales\\Maria_Hupfield.txt\n"
     ]
    },
    {
     "name": "stderr",
     "output_type": "stream",
     "text": [
      "\r",
      " 62%|██████▏   | 976/1584 [05:01<05:42,  1.77it/s]"
     ]
    },
    {
     "name": "stdout",
     "output_type": "stream",
     "text": [
      "Wikipedia Articales\\Marie-C%C3%A9cile_Niquay.txt\n"
     ]
    },
    {
     "name": "stderr",
     "output_type": "stream",
     "text": [
      "\r",
      " 62%|██████▏   | 977/1584 [05:01<05:06,  1.98it/s]"
     ]
    },
    {
     "name": "stdout",
     "output_type": "stream",
     "text": [
      "Wikipedia Articales\\Marie-C%C3%A9lina_Pitcikwi.txt\n"
     ]
    },
    {
     "name": "stderr",
     "output_type": "stream",
     "text": [
      "\r",
      " 62%|██████▏   | 978/1584 [05:02<04:56,  2.05it/s]"
     ]
    },
    {
     "name": "stdout",
     "output_type": "stream",
     "text": [
      "Wikipedia Articales\\Marie-C%C3%A9lina_Pittikwi.txt\n"
     ]
    },
    {
     "name": "stderr",
     "output_type": "stream",
     "text": [
      "\r",
      " 62%|██████▏   | 979/1584 [05:03<06:00,  1.68it/s]"
     ]
    },
    {
     "name": "stdout",
     "output_type": "stream",
     "text": [
      "Wikipedia Articales\\Marie-C%C3%A9lina_Wasikicikw.txt\n"
     ]
    },
    {
     "name": "stderr",
     "output_type": "stream",
     "text": [
      "\r",
      " 62%|██████▏   | 980/1584 [05:03<05:24,  1.86it/s]"
     ]
    },
    {
     "name": "stdout",
     "output_type": "stream",
     "text": [
      "Wikipedia Articales\\Marie-Claude_N%C3%A9quado.txt\n"
     ]
    },
    {
     "name": "stderr",
     "output_type": "stream",
     "text": [
      "\r",
      " 62%|██████▏   | 981/1584 [05:05<08:06,  1.24it/s]"
     ]
    },
    {
     "name": "stdout",
     "output_type": "stream",
     "text": [
      "Wikipedia Articales\\Marie-Louise_Cikwic.txt\n"
     ]
    },
    {
     "name": "stderr",
     "output_type": "stream",
     "text": [
      "\r",
      " 62%|██████▏   | 982/1584 [05:05<07:07,  1.41it/s]"
     ]
    },
    {
     "name": "stdout",
     "output_type": "stream",
     "text": [
      "Wikipedia Articales\\Marie-Louise_Cikwic_(Cikowic).txt\n"
     ]
    },
    {
     "name": "stderr",
     "output_type": "stream",
     "text": [
      "\r",
      " 62%|██████▏   | 983/1584 [05:06<06:23,  1.57it/s]"
     ]
    },
    {
     "name": "stdout",
     "output_type": "stream",
     "text": [
      "Wikipedia Articales\\Marie-Th%C3%A9r%C3%A8se_Newashish-Petiquay.txt\n"
     ]
    },
    {
     "name": "stderr",
     "output_type": "stream",
     "text": [
      "\r",
      " 62%|██████▏   | 984/1584 [05:06<05:21,  1.86it/s]"
     ]
    },
    {
     "name": "stdout",
     "output_type": "stream",
     "text": [
      "Wikipedia Articales\\Mariette_Niquay.txt\n"
     ]
    },
    {
     "name": "stderr",
     "output_type": "stream",
     "text": [
      " 62%|██████▏   | 987/1584 [05:07<03:07,  3.18it/s]"
     ]
    },
    {
     "name": "stdout",
     "output_type": "stream",
     "text": [
      "Wikipedia Articales\\Marieville.txt\n",
      "Wikipedia Articales\\Markananiwon.txt\n",
      "Wikipedia Articales\\Markham.txt\n",
      "Wikipedia Articales\\Marsati.txt\n"
     ]
    },
    {
     "name": "stderr",
     "output_type": "stream",
     "text": [
      "\r",
      " 62%|██████▏   | 989/1584 [05:07<02:25,  4.10it/s]"
     ]
    },
    {
     "name": "stdout",
     "output_type": "stream",
     "text": [
      "Wikipedia Articales\\Martcenic.txt\n"
     ]
    },
    {
     "name": "stderr",
     "output_type": "stream",
     "text": [
      "\r",
      " 62%|██████▎   | 990/1584 [05:07<02:42,  3.65it/s]"
     ]
    },
    {
     "name": "stdout",
     "output_type": "stream",
     "text": [
      "Wikipedia Articales\\Marthe_Coocoo.txt\n"
     ]
    },
    {
     "name": "stderr",
     "output_type": "stream",
     "text": [
      "\r",
      " 63%|██████▎   | 991/1584 [05:07<02:32,  3.89it/s]"
     ]
    },
    {
     "name": "stdout",
     "output_type": "stream",
     "text": [
      "Wikipedia Articales\\Mary_Simon.txt\n"
     ]
    },
    {
     "name": "stderr",
     "output_type": "stream",
     "text": [
      "\r",
      " 63%|██████▎   | 992/1584 [05:08<02:24,  4.09it/s]"
     ]
    },
    {
     "name": "stdout",
     "output_type": "stream",
     "text": [
      "Wikipedia Articales\\Mary_Two-Axe_Earley.txt\n"
     ]
    },
    {
     "name": "stderr",
     "output_type": "stream",
     "text": [
      "\r",
      " 63%|██████▎   | 993/1584 [05:08<03:15,  3.02it/s]"
     ]
    },
    {
     "name": "stdout",
     "output_type": "stream",
     "text": [
      "Wikipedia Articales\\Mashteuiatsh.txt\n",
      "Wikipedia Articales\\Masinacteparitcikan.txt\n"
     ]
    },
    {
     "name": "stderr",
     "output_type": "stream",
     "text": [
      " 63%|██████▎   | 996/1584 [05:08<02:01,  4.83it/s]"
     ]
    },
    {
     "name": "stdout",
     "output_type": "stream",
     "text": [
      "Wikipedia Articales\\Masinactetcitcikan.txt\n",
      "Wikipedia Articales\\Masinahikan.txt\n"
     ]
    },
    {
     "name": "stderr",
     "output_type": "stream",
     "text": [
      "\r",
      " 63%|██████▎   | 997/1584 [05:09<02:06,  4.64it/s]"
     ]
    },
    {
     "name": "stdout",
     "output_type": "stream",
     "text": [
      "Wikipedia Articales\\Masinahikanatikw.txt\n"
     ]
    },
    {
     "name": "stderr",
     "output_type": "stream",
     "text": [
      "\r",
      " 63%|██████▎   | 998/1584 [05:09<02:11,  4.47it/s]"
     ]
    },
    {
     "name": "stdout",
     "output_type": "stream",
     "text": [
      "Wikipedia Articales\\Masinahikanatikwapo.txt\n",
      "Wikipedia Articales\\Masinahikanickwemokw.txt\n"
     ]
    },
    {
     "name": "stderr",
     "output_type": "stream",
     "text": [
      " 63%|██████▎   | 1001/1584 [05:09<01:44,  5.56it/s]"
     ]
    },
    {
     "name": "stdout",
     "output_type": "stream",
     "text": [
      "Wikipedia Articales\\Masinahikepitcikan.txt\n",
      "Wikipedia Articales\\Masinahinatikwapo.txt\n",
      "Wikipedia Articales\\Masinhikan.txt\n"
     ]
    },
    {
     "name": "stderr",
     "output_type": "stream",
     "text": [
      "\r",
      " 63%|██████▎   | 1003/1584 [05:10<01:39,  5.82it/s]"
     ]
    },
    {
     "name": "stdout",
     "output_type": "stream",
     "text": [
      "Wikipedia Articales\\Masinhikanatikw.txt\n"
     ]
    },
    {
     "name": "stderr",
     "output_type": "stream",
     "text": [
      " 63%|██████▎   | 1005/1584 [05:10<01:36,  5.98it/s]"
     ]
    },
    {
     "name": "stdout",
     "output_type": "stream",
     "text": [
      "Wikipedia Articales\\Maskinoce.txt\n",
      "Wikipedia Articales\\Maskinoce_otenaw.txt\n"
     ]
    },
    {
     "name": "stderr",
     "output_type": "stream",
     "text": [
      " 64%|██████▎   | 1007/1584 [05:11<01:59,  4.83it/s]"
     ]
    },
    {
     "name": "stdout",
     "output_type": "stream",
     "text": [
      "Wikipedia Articales\\Maskisin.txt\n",
      "Wikipedia Articales\\Masko.txt\n"
     ]
    },
    {
     "name": "stderr",
     "output_type": "stream",
     "text": [
      "\r",
      " 64%|██████▎   | 1008/1584 [05:12<04:15,  2.26it/s]"
     ]
    },
    {
     "name": "stdout",
     "output_type": "stream",
     "text": [
      "Wikipedia Articales\\Masko_atisokan.txt\n"
     ]
    },
    {
     "name": "stderr",
     "output_type": "stream",
     "text": [
      "\r",
      " 64%|██████▎   | 1009/1584 [05:15<12:33,  1.31s/it]"
     ]
    },
    {
     "name": "stdout",
     "output_type": "stream",
     "text": [
      "Wikipedia Articales\\Maskomi.txt\n"
     ]
    },
    {
     "name": "stderr",
     "output_type": "stream",
     "text": [
      "\r",
      " 64%|██████▍   | 1010/1584 [05:15<09:40,  1.01s/it]"
     ]
    },
    {
     "name": "stdout",
     "output_type": "stream",
     "text": [
      "Wikipedia Articales\\Maskominanatikw.txt\n"
     ]
    },
    {
     "name": "stderr",
     "output_type": "stream",
     "text": [
      "\r",
      " 64%|██████▍   | 1011/1584 [05:16<07:44,  1.23it/s]"
     ]
    },
    {
     "name": "stdout",
     "output_type": "stream",
     "text": [
      "Wikipedia Articales\\Maskoretcic.txt\n"
     ]
    },
    {
     "name": "stderr",
     "output_type": "stream",
     "text": [
      " 64%|██████▍   | 1013/1584 [05:16<05:13,  1.82it/s]"
     ]
    },
    {
     "name": "stdout",
     "output_type": "stream",
     "text": [
      "Wikipedia Articales\\Mataciw.txt\n",
      "Wikipedia Articales\\Matagami.txt\n"
     ]
    },
    {
     "name": "stderr",
     "output_type": "stream",
     "text": [
      "\r",
      " 64%|██████▍   | 1014/1584 [05:17<04:59,  1.91it/s]"
     ]
    },
    {
     "name": "stdout",
     "output_type": "stream",
     "text": [
      "Wikipedia Articales\\Matakami.txt\n"
     ]
    },
    {
     "name": "stderr",
     "output_type": "stream",
     "text": [
      "\r",
      " 64%|██████▍   | 1015/1584 [05:17<04:45,  1.99it/s]"
     ]
    },
    {
     "name": "stdout",
     "output_type": "stream",
     "text": [
      "Wikipedia Articales\\Matakan.txt\n"
     ]
    },
    {
     "name": "stderr",
     "output_type": "stream",
     "text": [
      "\r",
      " 64%|██████▍   | 1016/1584 [05:18<04:06,  2.30it/s]"
     ]
    },
    {
     "name": "stdout",
     "output_type": "stream",
     "text": [
      "Wikipedia Articales\\Matakan_Orocwewin.txt\n"
     ]
    },
    {
     "name": "stderr",
     "output_type": "stream",
     "text": [
      "\r",
      " 64%|██████▍   | 1017/1584 [05:18<04:51,  1.95it/s]"
     ]
    },
    {
     "name": "stdout",
     "output_type": "stream",
     "text": [
      "Wikipedia Articales\\Matane.txt\n",
      "Wikipedia Articales\\Matceatohon.txt\n"
     ]
    },
    {
     "name": "stderr",
     "output_type": "stream",
     "text": [
      " 64%|██████▍   | 1021/1584 [05:19<02:12,  4.26it/s]"
     ]
    },
    {
     "name": "stdout",
     "output_type": "stream",
     "text": [
      "Wikipedia Articales\\Matimekosh.txt\n",
      "Wikipedia Articales\\Mattawa.txt\n",
      "Wikipedia Articales\\Matthew_Coon_Come.txt\n"
     ]
    },
    {
     "name": "stderr",
     "output_type": "stream",
     "text": [
      "\r",
      " 65%|██████▍   | 1022/1584 [05:19<03:12,  2.91it/s]"
     ]
    },
    {
     "name": "stdout",
     "output_type": "stream",
     "text": [
      "Wikipedia Articales\\Maxime_Quoquochi.txt\n"
     ]
    },
    {
     "name": "stderr",
     "output_type": "stream",
     "text": [
      " 65%|██████▍   | 1025/1584 [05:20<02:23,  3.89it/s]"
     ]
    },
    {
     "name": "stdout",
     "output_type": "stream",
     "text": [
      "Wikipedia Articales\\Mayerthorpe.txt\n",
      "Wikipedia Articales\\McLennan.txt\n",
      "Wikipedia Articales\\Meksiko.txt\n"
     ]
    },
    {
     "name": "stderr",
     "output_type": "stream",
     "text": [
      "\r",
      " 65%|██████▍   | 1026/1584 [05:20<02:38,  3.52it/s]"
     ]
    },
    {
     "name": "stdout",
     "output_type": "stream",
     "text": [
      "Wikipedia Articales\\Meksiko_sitie.txt\n",
      "Wikipedia Articales\\Memekweciw.txt\n"
     ]
    },
    {
     "name": "stderr",
     "output_type": "stream",
     "text": [
      " 65%|██████▍   | 1029/1584 [05:21<02:14,  4.12it/s]"
     ]
    },
    {
     "name": "stdout",
     "output_type": "stream",
     "text": [
      "Wikipedia Articales\\Mercedes_Dorame.txt\n",
      "Wikipedia Articales\\Mercier.txt\n"
     ]
    },
    {
     "name": "stderr",
     "output_type": "stream",
     "text": [
      "\r",
      " 65%|██████▌   | 1031/1584 [05:21<01:41,  5.43it/s]"
     ]
    },
    {
     "name": "stdout",
     "output_type": "stream",
     "text": [
      "Wikipedia Articales\\Meskanaw.txt\n",
      "Wikipedia Articales\\Metapeckeka_sakihikan.txt\n"
     ]
    },
    {
     "name": "stderr",
     "output_type": "stream",
     "text": [
      "\r",
      " 65%|██████▌   | 1032/1584 [05:22<02:27,  3.74it/s]"
     ]
    },
    {
     "name": "stdout",
     "output_type": "stream",
     "text": [
      "Wikipedia Articales\\Metaperotin.txt\n"
     ]
    },
    {
     "name": "stderr",
     "output_type": "stream",
     "text": [
      "\r",
      " 65%|██████▌   | 1033/1584 [05:23<04:26,  2.07it/s]"
     ]
    },
    {
     "name": "stdout",
     "output_type": "stream",
     "text": [
      "Wikipedia Articales\\Metowan.txt\n"
     ]
    },
    {
     "name": "stderr",
     "output_type": "stream",
     "text": [
      "\r",
      " 65%|██████▌   | 1034/1584 [05:23<03:55,  2.34it/s]"
     ]
    },
    {
     "name": "stdout",
     "output_type": "stream",
     "text": [
      "Wikipedia Articales\\Metowepitcikan.txt\n"
     ]
    },
    {
     "name": "stderr",
     "output_type": "stream",
     "text": [
      " 65%|██████▌   | 1037/1584 [05:24<02:18,  3.95it/s]"
     ]
    },
    {
     "name": "stdout",
     "output_type": "stream",
     "text": [
      "Wikipedia Articales\\Mexico.txt\n",
      "Wikipedia Articales\\Micackotowan.txt\n",
      "Wikipedia Articales\\Micakaw.txt\n"
     ]
    },
    {
     "name": "stderr",
     "output_type": "stream",
     "text": [
      "\r",
      " 66%|██████▌   | 1038/1584 [05:24<02:01,  4.50it/s]"
     ]
    },
    {
     "name": "stdout",
     "output_type": "stream",
     "text": [
      "Wikipedia Articales\\Micapoc.txt\n"
     ]
    },
    {
     "name": "stderr",
     "output_type": "stream",
     "text": [
      "\r",
      " 66%|██████▌   | 1039/1584 [05:24<02:14,  4.06it/s]"
     ]
    },
    {
     "name": "stdout",
     "output_type": "stream",
     "text": [
      "Wikipedia Articales\\Micer_Sakihikan.txt\n",
      "Wikipedia Articales\\Mich%C3%A8le_Ta%C3%AFna_Audette.txt\n"
     ]
    },
    {
     "name": "stderr",
     "output_type": "stream",
     "text": [
      " 66%|██████▌   | 1042/1584 [05:26<03:30,  2.58it/s]"
     ]
    },
    {
     "name": "stdout",
     "output_type": "stream",
     "text": [
      "Wikipedia Articales\\Michael_Nicoll_Yahgulanaas.txt\n",
      "Wikipedia Articales\\Michel_Canap%C3%A9.txt\n"
     ]
    },
    {
     "name": "stderr",
     "output_type": "stream",
     "text": [
      "\r",
      " 66%|██████▌   | 1043/1584 [05:26<03:49,  2.36it/s]"
     ]
    },
    {
     "name": "stdout",
     "output_type": "stream",
     "text": [
      "Wikipedia Articales\\Michel_Ottawa.txt\n"
     ]
    },
    {
     "name": "stderr",
     "output_type": "stream",
     "text": [
      "\r",
      " 66%|██████▌   | 1044/1584 [05:27<04:23,  2.05it/s]"
     ]
    },
    {
     "name": "stdout",
     "output_type": "stream",
     "text": [
      "Wikipedia Articales\\Mickekominan.txt\n"
     ]
    },
    {
     "name": "stderr",
     "output_type": "stream",
     "text": [
      "\r",
      " 66%|██████▌   | 1045/1584 [05:27<03:53,  2.31it/s]"
     ]
    },
    {
     "name": "stdout",
     "output_type": "stream",
     "text": [
      "Wikipedia Articales\\Mickekwatikw.txt\n"
     ]
    },
    {
     "name": "stderr",
     "output_type": "stream",
     "text": [
      " 66%|██████▌   | 1047/1584 [05:28<03:12,  2.79it/s]"
     ]
    },
    {
     "name": "stdout",
     "output_type": "stream",
     "text": [
      "Wikipedia Articales\\Mickiki.txt\n",
      "Wikipedia Articales\\Mickikiatikw.txt\n"
     ]
    },
    {
     "name": "stderr",
     "output_type": "stream",
     "text": [
      "\r",
      " 66%|██████▌   | 1048/1584 [05:28<02:36,  3.43it/s]"
     ]
    },
    {
     "name": "stdout",
     "output_type": "stream",
     "text": [
      "Wikipedia Articales\\Micta_Ciwockiminan.txt\n"
     ]
    },
    {
     "name": "stderr",
     "output_type": "stream",
     "text": [
      "\r",
      " 66%|██████▌   | 1049/1584 [05:28<02:29,  3.58it/s]"
     ]
    },
    {
     "name": "stdout",
     "output_type": "stream",
     "text": [
      "Wikipedia Articales\\Micta_Mikisiw.txt\n"
     ]
    },
    {
     "name": "stderr",
     "output_type": "stream",
     "text": [
      "\r",
      " 66%|██████▋   | 1050/1584 [05:29<02:26,  3.65it/s]"
     ]
    },
    {
     "name": "stdout",
     "output_type": "stream",
     "text": [
      "Wikipedia Articales\\Micta_Wapoc.txt\n"
     ]
    },
    {
     "name": "stderr",
     "output_type": "stream",
     "text": [
      "\r",
      " 66%|██████▋   | 1051/1584 [05:29<02:54,  3.06it/s]"
     ]
    },
    {
     "name": "stdout",
     "output_type": "stream",
     "text": [
      "Wikipedia Articales\\Micta_cikakw_atisokan.txt\n"
     ]
    },
    {
     "name": "stderr",
     "output_type": "stream",
     "text": [
      "\r",
      " 66%|██████▋   | 1052/1584 [05:30<03:57,  2.24it/s]"
     ]
    },
    {
     "name": "stdout",
     "output_type": "stream",
     "text": [
      "Wikipedia Articales\\Micta_emikwan.txt\n",
      "Wikipedia Articales\\Micta_emkwan.txt\n"
     ]
    },
    {
     "name": "stderr",
     "output_type": "stream",
     "text": [
      "\r",
      " 67%|██████▋   | 1054/1584 [05:30<02:34,  3.42it/s]"
     ]
    },
    {
     "name": "stdout",
     "output_type": "stream",
     "text": [
      "Wikipedia Articales\\Micta_miko_cowemin.txt\n"
     ]
    },
    {
     "name": "stderr",
     "output_type": "stream",
     "text": [
      " 67%|██████▋   | 1056/1584 [05:30<02:02,  4.31it/s]"
     ]
    },
    {
     "name": "stdout",
     "output_type": "stream",
     "text": [
      "Wikipedia Articales\\Micta_mokaman.txt\n",
      "Wikipedia Articales\\Micta_mokoman.txt\n"
     ]
    },
    {
     "name": "stderr",
     "output_type": "stream",
     "text": [
      "\r",
      " 67%|██████▋   | 1058/1584 [05:31<01:37,  5.38it/s]"
     ]
    },
    {
     "name": "stdout",
     "output_type": "stream",
     "text": [
      "Wikipedia Articales\\Micta_orakan.txt\n",
      "Wikipedia Articales\\Micta_piresiw.txt\n"
     ]
    },
    {
     "name": "stderr",
     "output_type": "stream",
     "text": [
      "\r",
      " 67%|██████▋   | 1059/1584 [05:31<01:47,  4.89it/s]"
     ]
    },
    {
     "name": "stdout",
     "output_type": "stream",
     "text": [
      "Wikipedia Articales\\Micta_sipi.txt\n",
      "Wikipedia Articales\\Micta_tetapiwakan.txt\n"
     ]
    },
    {
     "name": "stderr",
     "output_type": "stream",
     "text": [
      "\r",
      " 67%|██████▋   | 1061/1584 [05:31<01:26,  6.02it/s]"
     ]
    },
    {
     "name": "stdout",
     "output_type": "stream",
     "text": [
      "Wikipedia Articales\\Mictikw.txt\n"
     ]
    },
    {
     "name": "stderr",
     "output_type": "stream",
     "text": [
      "\r",
      " 67%|██████▋   | 1062/1584 [05:31<01:46,  4.90it/s]"
     ]
    },
    {
     "name": "stdout",
     "output_type": "stream",
     "text": [
      "Wikipedia Articales\\Mictikw_rotinikan.txt\n"
     ]
    },
    {
     "name": "stderr",
     "output_type": "stream",
     "text": [
      " 67%|██████▋   | 1064/1584 [05:32<02:06,  4.12it/s]"
     ]
    },
    {
     "name": "stdout",
     "output_type": "stream",
     "text": [
      "Wikipedia Articales\\Mictikw_tciman.txt\n",
      "Wikipedia Articales\\Mictikwiam.txt\n"
     ]
    },
    {
     "name": "stderr",
     "output_type": "stream",
     "text": [
      "\r",
      " 67%|██████▋   | 1066/1584 [05:32<01:29,  5.81it/s]"
     ]
    },
    {
     "name": "stdout",
     "output_type": "stream",
     "text": [
      "Wikipedia Articales\\Middleton.txt\n",
      "Wikipedia Articales\\Midland.txt\n",
      "Wikipedia Articales\\Mikinakw.txt\n"
     ]
    },
    {
     "name": "stderr",
     "output_type": "stream",
     "text": [
      "\r",
      " 67%|██████▋   | 1068/1584 [05:32<01:22,  6.24it/s]"
     ]
    },
    {
     "name": "stdout",
     "output_type": "stream",
     "text": [
      "Wikipedia Articales\\Mikis.txt\n",
      "Wikipedia Articales\\Mikisakw_(matci_kaie_misisakw).txt\n"
     ]
    },
    {
     "name": "stderr",
     "output_type": "stream",
     "text": [
      "\r",
      " 68%|██████▊   | 1070/1584 [05:33<01:17,  6.59it/s]"
     ]
    },
    {
     "name": "stdout",
     "output_type": "stream",
     "text": [
      "Wikipedia Articales\\Mikisiw_Amirikanan_Sakihikan.txt\n",
      "Wikipedia Articales\\Mikisiw_atisokan.txt\n"
     ]
    },
    {
     "name": "stderr",
     "output_type": "stream",
     "text": [
      "\r",
      " 68%|██████▊   | 1072/1584 [05:34<02:59,  2.85it/s]"
     ]
    },
    {
     "name": "stdout",
     "output_type": "stream",
     "text": [
      "Wikipedia Articales\\Mikisiw_ka_wapictikwanetc.txt\n"
     ]
    },
    {
     "name": "stderr",
     "output_type": "stream",
     "text": [
      " 68%|██████▊   | 1074/1584 [05:35<03:01,  2.81it/s]"
     ]
    },
    {
     "name": "stdout",
     "output_type": "stream",
     "text": [
      "Wikipedia Articales\\Mikiwam.txt\n",
      "Wikipedia Articales\\Mikiwam_Sakahikan.txt\n",
      "Wikipedia Articales\\Mikiwamicic.txt\n"
     ]
    },
    {
     "name": "stderr",
     "output_type": "stream",
     "text": [
      "\r",
      " 68%|██████▊   | 1076/1584 [05:35<02:12,  3.84it/s]"
     ]
    },
    {
     "name": "stdout",
     "output_type": "stream",
     "text": [
      "Wikipedia Articales\\Miko.txt\n"
     ]
    },
    {
     "name": "stderr",
     "output_type": "stream",
     "text": [
      " 68%|██████▊   | 1078/1584 [05:36<02:04,  4.07it/s]"
     ]
    },
    {
     "name": "stdout",
     "output_type": "stream",
     "text": [
      "Wikipedia Articales\\Miko_Cawemin.txt\n",
      "Wikipedia Articales\\Miko_irinatikw.txt\n"
     ]
    },
    {
     "name": "stderr",
     "output_type": "stream",
     "text": [
      " 68%|██████▊   | 1081/1584 [05:36<01:32,  5.44it/s]"
     ]
    },
    {
     "name": "stdout",
     "output_type": "stream",
     "text": [
      "Wikipedia Articales\\Mikoapi.txt\n",
      "Wikipedia Articales\\Mikocawaw.txt\n",
      "Wikipedia Articales\\Mikocikokw.txt\n",
      "Wikipedia Articales\\Mikocikwakw.txt\n"
     ]
    },
    {
     "name": "stderr",
     "output_type": "stream",
     "text": [
      " 68%|██████▊   | 1084/1584 [05:37<01:28,  5.65it/s]"
     ]
    },
    {
     "name": "stdout",
     "output_type": "stream",
     "text": [
      "Wikipedia Articales\\Mikominan.txt\n"
     ]
    },
    {
     "name": "stderr",
     "output_type": "stream",
     "text": [
      "\r",
      " 68%|██████▊   | 1085/1584 [05:37<01:21,  6.10it/s]"
     ]
    },
    {
     "name": "stdout",
     "output_type": "stream",
     "text": [
      "Wikipedia Articales\\Mikomini_Pisimw.txt\n",
      "Wikipedia Articales\\Mikon.txt\n"
     ]
    },
    {
     "name": "stderr",
     "output_type": "stream",
     "text": [
      "\r",
      " 69%|██████▊   | 1086/1584 [05:37<01:16,  6.52it/s]"
     ]
    },
    {
     "name": "stdout",
     "output_type": "stream",
     "text": [
      "Wikipedia Articales\\Mikoninanatikw.txt\n"
     ]
    },
    {
     "name": "stderr",
     "output_type": "stream",
     "text": [
      " 69%|██████▊   | 1088/1584 [05:37<01:19,  6.23it/s]"
     ]
    },
    {
     "name": "stdout",
     "output_type": "stream",
     "text": [
      "Wikipedia Articales\\Mikos.txt\n",
      "Wikipedia Articales\\Mikwapemicki.txt\n"
     ]
    },
    {
     "name": "stderr",
     "output_type": "stream",
     "text": [
      "\r",
      " 69%|██████▉   | 1089/1584 [05:38<01:39,  4.96it/s]"
     ]
    },
    {
     "name": "stdout",
     "output_type": "stream",
     "text": [
      "Wikipedia Articales\\Mikwaw.txt\n",
      "Wikipedia Articales\\Mikwetc.txt\n"
     ]
    },
    {
     "name": "stderr",
     "output_type": "stream",
     "text": [
      "\r",
      " 69%|██████▉   | 1091/1584 [05:38<01:24,  5.83it/s]"
     ]
    },
    {
     "name": "stdout",
     "output_type": "stream",
     "text": [
      "Wikipedia Articales\\Mikwetc_Kice_Manito.txt\n"
     ]
    },
    {
     "name": "stderr",
     "output_type": "stream",
     "text": [
      " 69%|██████▉   | 1094/1584 [05:38<01:08,  7.13it/s]"
     ]
    },
    {
     "name": "stdout",
     "output_type": "stream",
     "text": [
      "Wikipedia Articales\\Milk_River.txt\n",
      "Wikipedia Articales\\Millet.txt\n",
      "Wikipedia Articales\\Milton.txt\n"
     ]
    },
    {
     "name": "stderr",
     "output_type": "stream",
     "text": [
      "\r",
      " 69%|██████▉   | 1096/1584 [05:38<01:02,  7.78it/s]"
     ]
    },
    {
     "name": "stdout",
     "output_type": "stream",
     "text": [
      "Wikipedia Articales\\Minahikw.txt\n",
      "Wikipedia Articales\\Mingan.txt\n",
      "Wikipedia Articales\\Minic.txt\n"
     ]
    },
    {
     "name": "stderr",
     "output_type": "stream",
     "text": [
      "\r",
      " 69%|██████▉   | 1098/1584 [05:39<01:24,  5.74it/s]"
     ]
    },
    {
     "name": "stdout",
     "output_type": "stream",
     "text": [
      "Wikipedia Articales\\Miniciwon.txt\n",
      "Wikipedia Articales\\Minoc.txt\n"
     ]
    },
    {
     "name": "stderr",
     "output_type": "stream",
     "text": [
      " 70%|██████▉   | 1102/1584 [05:40<01:48,  4.45it/s]"
     ]
    },
    {
     "name": "stdout",
     "output_type": "stream",
     "text": [
      "Wikipedia Articales\\Minto.txt\n",
      "Wikipedia Articales\\Mirabel.txt\n",
      "Wikipedia Articales\\Mirakotcoc.txt\n"
     ]
    },
    {
     "name": "stderr",
     "output_type": "stream",
     "text": [
      " 70%|██████▉   | 1104/1584 [05:41<01:50,  4.36it/s]"
     ]
    },
    {
     "name": "stdout",
     "output_type": "stream",
     "text": [
      "Wikipedia Articales\\Mirapakon.txt\n",
      "Wikipedia Articales\\Mirikosi.txt\n"
     ]
    },
    {
     "name": "stderr",
     "output_type": "stream",
     "text": [
      " 70%|██████▉   | 1107/1584 [05:41<01:20,  5.93it/s]"
     ]
    },
    {
     "name": "stdout",
     "output_type": "stream",
     "text": [
      "Wikipedia Articales\\Mirikosi_orakan.txt\n",
      "Wikipedia Articales\\Mirokasi_orakan.txt\n",
      "Wikipedia Articales\\Miromin.txt\n"
     ]
    },
    {
     "name": "stderr",
     "output_type": "stream",
     "text": [
      "\r",
      " 70%|██████▉   | 1108/1584 [05:41<01:23,  5.70it/s]"
     ]
    },
    {
     "name": "stdout",
     "output_type": "stream",
     "text": [
      "Wikipedia Articales\\Miroskamin.txt\n"
     ]
    },
    {
     "name": "stderr",
     "output_type": "stream",
     "text": [
      "\r",
      " 70%|███████   | 1109/1584 [05:42<03:07,  2.54it/s]"
     ]
    },
    {
     "name": "stdout",
     "output_type": "stream",
     "text": [
      "Wikipedia Articales\\Mirowepok.txt\n"
     ]
    },
    {
     "name": "stderr",
     "output_type": "stream",
     "text": [
      " 70%|███████   | 1111/1584 [05:43<02:19,  3.40it/s]"
     ]
    },
    {
     "name": "stdout",
     "output_type": "stream",
     "text": [
      "Wikipedia Articales\\Mirtcowan.txt\n",
      "Wikipedia Articales\\Misikiwam.txt\n"
     ]
    },
    {
     "name": "stderr",
     "output_type": "stream",
     "text": [
      "\r",
      " 70%|███████   | 1112/1584 [05:43<02:06,  3.73it/s]"
     ]
    },
    {
     "name": "stdout",
     "output_type": "stream",
     "text": [
      "Wikipedia Articales\\Misiwe.txt\n",
      "Wikipedia Articales\\Misiwkiwamik.txt\n"
     ]
    },
    {
     "name": "stderr",
     "output_type": "stream",
     "text": [
      " 70%|███████   | 1115/1584 [05:43<01:33,  5.02it/s]"
     ]
    },
    {
     "name": "stdout",
     "output_type": "stream",
     "text": [
      "Wikipedia Articales\\Misiwokiwam.txt\n"
     ]
    },
    {
     "name": "stderr",
     "output_type": "stream",
     "text": [
      "\r",
      " 70%|███████   | 1116/1584 [05:43<01:26,  5.39it/s]"
     ]
    },
    {
     "name": "stdout",
     "output_type": "stream",
     "text": [
      "Wikipedia Articales\\Miskasin.txt\n",
      "Wikipedia Articales\\Miskomipecitan.txt\n"
     ]
    },
    {
     "name": "stderr",
     "output_type": "stream",
     "text": [
      " 71%|███████   | 1118/1584 [05:44<01:11,  6.49it/s]"
     ]
    },
    {
     "name": "stdout",
     "output_type": "stream",
     "text": [
      "Wikipedia Articales\\Miskomipectan.txt\n",
      "Wikipedia Articales\\Mississauga.txt\n",
      "Wikipedia Articales\\Mississippi_Mills.txt\n"
     ]
    },
    {
     "name": "stderr",
     "output_type": "stream",
     "text": [
      " 71%|███████   | 1121/1584 [05:44<00:55,  8.41it/s]"
     ]
    },
    {
     "name": "stdout",
     "output_type": "stream",
     "text": [
      "Wikipedia Articales\\Mistissini.txt\n",
      "Wikipedia Articales\\Mitakaw.txt\n"
     ]
    },
    {
     "name": "stderr",
     "output_type": "stream",
     "text": [
      "\r",
      " 71%|███████   | 1122/1584 [05:44<00:58,  7.89it/s]"
     ]
    },
    {
     "name": "stdout",
     "output_type": "stream",
     "text": [
      "Wikipedia Articales\\Mitcikawin.txt\n"
     ]
    },
    {
     "name": "stderr",
     "output_type": "stream",
     "text": [
      "\r",
      " 71%|███████   | 1123/1584 [05:44<01:20,  5.76it/s]"
     ]
    },
    {
     "name": "stdout",
     "output_type": "stream",
     "text": [
      "Wikipedia Articales\\Mitcim.txt\n"
     ]
    },
    {
     "name": "stderr",
     "output_type": "stream",
     "text": [
      " 71%|███████   | 1125/1584 [05:45<01:22,  5.58it/s]"
     ]
    },
    {
     "name": "stdout",
     "output_type": "stream",
     "text": [
      "Wikipedia Articales\\Mitcisokoman.txt\n",
      "Wikipedia Articales\\Mitcisowakan.txt\n"
     ]
    },
    {
     "name": "stderr",
     "output_type": "stream",
     "text": [
      "\r",
      " 71%|███████   | 1126/1584 [05:45<01:17,  5.91it/s]"
     ]
    },
    {
     "name": "stdout",
     "output_type": "stream",
     "text": [
      "Wikipedia Articales\\Mitcitcin.txt\n",
      "Wikipedia Articales\\Miti.txt\n"
     ]
    },
    {
     "name": "stderr",
     "output_type": "stream",
     "text": [
      " 71%|███████▏  | 1129/1584 [05:45<01:02,  7.26it/s]"
     ]
    },
    {
     "name": "stdout",
     "output_type": "stream",
     "text": [
      "Wikipedia Articales\\Miti_kicapiskisikan.txt\n",
      "Wikipedia Articales\\Moar_C%C3%A9zar.txt\n"
     ]
    },
    {
     "name": "stderr",
     "output_type": "stream",
     "text": [
      " 71%|███████▏  | 1131/1584 [05:46<01:06,  6.84it/s]"
     ]
    },
    {
     "name": "stdout",
     "output_type": "stream",
     "text": [
      "Wikipedia Articales\\Mockahan.txt\n",
      "Wikipedia Articales\\Mocom.txt\n"
     ]
    },
    {
     "name": "stderr",
     "output_type": "stream",
     "text": [
      " 72%|███████▏  | 1134/1584 [05:46<00:54,  8.30it/s]"
     ]
    },
    {
     "name": "stdout",
     "output_type": "stream",
     "text": [
      "Wikipedia Articales\\Mocomipan.txt\n",
      "Wikipedia Articales\\Mod%C3%A8le\n",
      "Wikipedia Articales\\Mohawk.txt\n"
     ]
    },
    {
     "name": "stderr",
     "output_type": "stream",
     "text": [
      "\r",
      " 72%|███████▏  | 1135/1584 [05:48<03:58,  1.89it/s]"
     ]
    },
    {
     "name": "stdout",
     "output_type": "stream",
     "text": [
      "Wikipedia Articales\\Mohican.txt\n"
     ]
    },
    {
     "name": "stderr",
     "output_type": "stream",
     "text": [
      " 72%|███████▏  | 1138/1584 [05:49<03:08,  2.37it/s]"
     ]
    },
    {
     "name": "stdout",
     "output_type": "stream",
     "text": [
      "Wikipedia Articales\\Moisie.txt\n",
      "Wikipedia Articales\\Mokaman.txt\n"
     ]
    },
    {
     "name": "stderr",
     "output_type": "stream",
     "text": [
      "\r",
      " 72%|███████▏  | 1139/1584 [05:49<02:37,  2.83it/s]"
     ]
    },
    {
     "name": "stdout",
     "output_type": "stream",
     "text": [
      "Wikipedia Articales\\Mokoman.txt\n",
      "Wikipedia Articales\\Mokotakan.txt\n"
     ]
    },
    {
     "name": "stderr",
     "output_type": "stream",
     "text": [
      "\r",
      " 72%|███████▏  | 1140/1584 [05:50<03:35,  2.06it/s]"
     ]
    },
    {
     "name": "stdout",
     "output_type": "stream",
     "text": [
      "Wikipedia Articales\\Mokw.txt\n"
     ]
    },
    {
     "name": "stderr",
     "output_type": "stream",
     "text": [
      "\r",
      " 72%|███████▏  | 1141/1584 [05:50<03:15,  2.27it/s]"
     ]
    },
    {
     "name": "stdout",
     "output_type": "stream",
     "text": [
      "Wikipedia Articales\\Mokw_-_Mwakw.txt\n"
     ]
    },
    {
     "name": "stderr",
     "output_type": "stream",
     "text": [
      " 72%|███████▏  | 1143/1584 [05:51<02:28,  2.98it/s]"
     ]
    },
    {
     "name": "stdout",
     "output_type": "stream",
     "text": [
      "Wikipedia Articales\\Mont-Joli.txt\n",
      "Wikipedia Articales\\Mont-Laurier.txt\n",
      "Wikipedia Articales\\Mont-Royal.txt\n"
     ]
    },
    {
     "name": "stderr",
     "output_type": "stream",
     "text": [
      " 72%|███████▏  | 1147/1584 [05:51<01:14,  5.86it/s]"
     ]
    },
    {
     "name": "stdout",
     "output_type": "stream",
     "text": [
      "Wikipedia Articales\\Mont-Saint-Hilaire.txt\n",
      "Wikipedia Articales\\Mont-Saint-Pierre.txt\n",
      "Wikipedia Articales\\Mont-Tremblant.txt\n",
      "Wikipedia Articales\\Montmagny.txt\n"
     ]
    },
    {
     "name": "stderr",
     "output_type": "stream",
     "text": [
      "\r",
      " 73%|███████▎  | 1149/1584 [05:52<01:33,  4.67it/s]"
     ]
    },
    {
     "name": "stdout",
     "output_type": "stream",
     "text": [
      "Wikipedia Articales\\Moosonee.txt\n",
      "Wikipedia Articales\\Morasikan.txt\n"
     ]
    },
    {
     "name": "stderr",
     "output_type": "stream",
     "text": [
      "\r",
      " 73%|███████▎  | 1151/1584 [05:52<01:19,  5.41it/s]"
     ]
    },
    {
     "name": "stdout",
     "output_type": "stream",
     "text": [
      "Wikipedia Articales\\Moriak.txt\n"
     ]
    },
    {
     "name": "stderr",
     "output_type": "stream",
     "text": [
      " 73%|███████▎  | 1154/1584 [05:53<01:25,  5.02it/s]"
     ]
    },
    {
     "name": "stdout",
     "output_type": "stream",
     "text": [
      "Wikipedia Articales\\Morinville.txt\n",
      "Wikipedia Articales\\Morkananiwon.txt\n",
      "Wikipedia Articales\\Mos.txt\n"
     ]
    },
    {
     "name": "stderr",
     "output_type": "stream",
     "text": [
      " 73%|███████▎  | 1156/1584 [05:54<01:53,  3.78it/s]"
     ]
    },
    {
     "name": "stdout",
     "output_type": "stream",
     "text": [
      "Wikipedia Articales\\Motcik.txt\n",
      "Wikipedia Articales\\Motocyclette.txt\n"
     ]
    },
    {
     "name": "stderr",
     "output_type": "stream",
     "text": [
      " 73%|███████▎  | 1158/1584 [05:54<01:33,  4.54it/s]"
     ]
    },
    {
     "name": "stdout",
     "output_type": "stream",
     "text": [
      "Wikipedia Articales\\Mowisonaniwon.txt\n"
     ]
    },
    {
     "name": "stderr",
     "output_type": "stream",
     "text": [
      "\r",
      " 73%|███████▎  | 1160/1584 [05:54<01:06,  6.36it/s]"
     ]
    },
    {
     "name": "stdout",
     "output_type": "stream",
     "text": [
      "Wikipedia Articales\\Mulgrave.txt\n",
      "Wikipedia Articales\\Mundare.txt\n",
      "Wikipedia Articales\\Murdochville.txt\n",
      "Wikipedia Articales\\Mwakw.txt\n"
     ]
    },
    {
     "name": "stderr",
     "output_type": "stream",
     "text": [
      "\r",
      " 73%|███████▎  | 1162/1584 [05:54<01:13,  5.72it/s]"
     ]
    },
    {
     "name": "stdout",
     "output_type": "stream",
     "text": [
      "Wikipedia Articales\\Myra_Cree.txt\n"
     ]
    },
    {
     "name": "stderr",
     "output_type": "stream",
     "text": [
      "\r",
      " 73%|███████▎  | 1163/1584 [05:55<02:02,  3.42it/s]"
     ]
    },
    {
     "name": "stdout",
     "output_type": "stream",
     "text": [
      "Wikipedia Articales\\N%C3%A9r%C3%A9e_Chachai.txt\n"
     ]
    },
    {
     "name": "stderr",
     "output_type": "stream",
     "text": [
      "\r",
      " 73%|███████▎  | 1164/1584 [05:56<02:06,  3.32it/s]"
     ]
    },
    {
     "name": "stdout",
     "output_type": "stream",
     "text": [
      "Wikipedia Articales\\Nadia_Myre.txt\n"
     ]
    },
    {
     "name": "stderr",
     "output_type": "stream",
     "text": [
      " 74%|███████▎  | 1167/1584 [05:56<01:26,  4.84it/s]"
     ]
    },
    {
     "name": "stdout",
     "output_type": "stream",
     "text": [
      "Wikipedia Articales\\Nahakaniskwew.txt\n",
      "Wikipedia Articales\\Nakapehanok.txt\n",
      "Wikipedia Articales\\Nakapehonok-Moriak.txt\n"
     ]
    },
    {
     "name": "stderr",
     "output_type": "stream",
     "text": [
      "\r",
      " 74%|███████▍  | 1169/1584 [05:56<01:08,  6.04it/s]"
     ]
    },
    {
     "name": "stdout",
     "output_type": "stream",
     "text": [
      "Wikipedia Articales\\Nakapehonok.txt\n",
      "Wikipedia Articales\\Nakoda_iriniwok_(Saskatchewan).txt\n"
     ]
    },
    {
     "name": "stderr",
     "output_type": "stream",
     "text": [
      "\r",
      " 74%|███████▍  | 1170/1584 [05:56<01:14,  5.54it/s]"
     ]
    },
    {
     "name": "stdout",
     "output_type": "stream",
     "text": [
      "Wikipedia Articales\\Nakota_iriniwok.txt\n"
     ]
    },
    {
     "name": "stderr",
     "output_type": "stream",
     "text": [
      " 74%|███████▍  | 1172/1584 [05:57<01:43,  3.97it/s]"
     ]
    },
    {
     "name": "stdout",
     "output_type": "stream",
     "text": [
      "Wikipedia Articales\\Nakowi_asiniwok.txt\n",
      "Wikipedia Articales\\Nakowisinahikanatikw.txt\n"
     ]
    },
    {
     "name": "stderr",
     "output_type": "stream",
     "text": [
      "\r",
      " 74%|███████▍  | 1173/1584 [05:57<01:27,  4.69it/s]"
     ]
    },
    {
     "name": "stdout",
     "output_type": "stream",
     "text": [
      "Wikipedia Articales\\Nakwakan.txt\n"
     ]
    },
    {
     "name": "stderr",
     "output_type": "stream",
     "text": [
      "\r",
      " 74%|███████▍  | 1174/1584 [05:58<02:16,  3.01it/s]"
     ]
    },
    {
     "name": "stdout",
     "output_type": "stream",
     "text": [
      "Wikipedia Articales\\Nakwakaniapi.txt\n"
     ]
    },
    {
     "name": "stderr",
     "output_type": "stream",
     "text": [
      " 74%|███████▍  | 1176/1584 [05:59<02:01,  3.37it/s]"
     ]
    },
    {
     "name": "stdout",
     "output_type": "stream",
     "text": [
      "Wikipedia Articales\\Namekos.txt\n"
     ]
    },
    {
     "name": "stderr",
     "output_type": "stream",
     "text": [
      "\r",
      " 74%|███████▍  | 1177/1584 [05:59<01:49,  3.72it/s]"
     ]
    },
    {
     "name": "stdout",
     "output_type": "stream",
     "text": [
      "Wikipedia Articales\\Namekosi_pisimw.txt\n",
      "Wikipedia Articales\\Namepar.txt\n"
     ]
    },
    {
     "name": "stderr",
     "output_type": "stream",
     "text": [
      "\r",
      " 74%|███████▍  | 1178/1584 [05:59<01:49,  3.71it/s]"
     ]
    },
    {
     "name": "stdout",
     "output_type": "stream",
     "text": [
      "Wikipedia Articales\\Names.txt\n"
     ]
    },
    {
     "name": "stderr",
     "output_type": "stream",
     "text": [
      "\r",
      " 74%|███████▍  | 1179/1584 [05:59<02:03,  3.28it/s]"
     ]
    },
    {
     "name": "stdout",
     "output_type": "stream",
     "text": [
      "Wikipedia Articales\\Namew.txt\n"
     ]
    },
    {
     "name": "stderr",
     "output_type": "stream",
     "text": [
      " 75%|███████▍  | 1181/1584 [06:00<01:37,  4.15it/s]"
     ]
    },
    {
     "name": "stdout",
     "output_type": "stream",
     "text": [
      "Wikipedia Articales\\Naminas.txt\n",
      "Wikipedia Articales\\Nanton.txt\n"
     ]
    },
    {
     "name": "stderr",
     "output_type": "stream",
     "text": [
      "\r",
      " 75%|███████▍  | 1183/1584 [06:00<01:04,  6.21it/s]"
     ]
    },
    {
     "name": "stdout",
     "output_type": "stream",
     "text": [
      "Wikipedia Articales\\Napanee.txt\n",
      "Wikipedia Articales\\Napanew.txt\n"
     ]
    },
    {
     "name": "stderr",
     "output_type": "stream",
     "text": [
      "\r",
      " 75%|███████▍  | 1184/1584 [06:00<01:06,  5.98it/s]"
     ]
    },
    {
     "name": "stdout",
     "output_type": "stream",
     "text": [
      "Wikipedia Articales\\Napatinikesiw.txt\n"
     ]
    },
    {
     "name": "stderr",
     "output_type": "stream",
     "text": [
      "\r",
      " 75%|███████▍  | 1185/1584 [06:00<01:33,  4.28it/s]"
     ]
    },
    {
     "name": "stdout",
     "output_type": "stream",
     "text": [
      "Wikipedia Articales\\Nape_pakahakwan.txt\n"
     ]
    },
    {
     "name": "stderr",
     "output_type": "stream",
     "text": [
      " 75%|███████▌  | 1188/1584 [06:01<01:08,  5.80it/s]"
     ]
    },
    {
     "name": "stdout",
     "output_type": "stream",
     "text": [
      "Wikipedia Articales\\Naperew.txt\n",
      "Wikipedia Articales\\Napew.txt\n",
      "Wikipedia Articales\\Napikwan.txt\n",
      "Wikipedia Articales\\Napikwan_tciman.txt\n"
     ]
    },
    {
     "name": "stderr",
     "output_type": "stream",
     "text": [
      "\r",
      " 75%|███████▌  | 1190/1584 [06:01<00:55,  7.07it/s]"
     ]
    },
    {
     "name": "stdout",
     "output_type": "stream",
     "text": [
      "Wikipedia Articales\\Naskapi.txt\n"
     ]
    },
    {
     "name": "stderr",
     "output_type": "stream",
     "text": [
      "\r",
      " 75%|███████▌  | 1191/1584 [06:02<02:04,  3.16it/s]"
     ]
    },
    {
     "name": "stdout",
     "output_type": "stream",
     "text": [
      "Wikipedia Articales\\Natasha_Kanap%C3%A9_Fontaine.txt\n"
     ]
    },
    {
     "name": "stderr",
     "output_type": "stream",
     "text": [
      "\r",
      " 75%|███████▌  | 1192/1584 [06:03<02:45,  2.36it/s]"
     ]
    },
    {
     "name": "stdout",
     "output_type": "stream",
     "text": [
      "Wikipedia Articales\\Natoswaniwon.txt\n"
     ]
    },
    {
     "name": "stderr",
     "output_type": "stream",
     "text": [
      "\r",
      " 75%|███████▌  | 1193/1584 [06:04<03:09,  2.06it/s]"
     ]
    },
    {
     "name": "stdout",
     "output_type": "stream",
     "text": [
      "Wikipedia Articales\\Neebing.txt\n",
      "Wikipedia Articales\\Nehiroaski.txt\n"
     ]
    },
    {
     "name": "stderr",
     "output_type": "stream",
     "text": [
      "\r",
      " 75%|███████▌  | 1195/1584 [06:04<02:09,  3.01it/s]"
     ]
    },
    {
     "name": "stdout",
     "output_type": "stream",
     "text": [
      "Wikipedia Articales\\Nehirowisi_oteno_Ontario_askik.txt\n"
     ]
    },
    {
     "name": "stderr",
     "output_type": "stream",
     "text": [
      "\r",
      " 76%|███████▌  | 1196/1584 [06:04<02:19,  2.77it/s]"
     ]
    },
    {
     "name": "stdout",
     "output_type": "stream",
     "text": [
      "Wikipedia Articales\\Nehirowisiw.txt\n"
     ]
    },
    {
     "name": "stderr",
     "output_type": "stream",
     "text": [
      " 76%|███████▌  | 1198/1584 [06:05<01:55,  3.33it/s]"
     ]
    },
    {
     "name": "stdout",
     "output_type": "stream",
     "text": [
      "Wikipedia Articales\\Nemaska.txt\n",
      "Wikipedia Articales\\Neuville.txt\n",
      "Wikipedia Articales\\New_Carlisle.txt\n"
     ]
    },
    {
     "name": "stderr",
     "output_type": "stream",
     "text": [
      " 76%|███████▌  | 1202/1584 [06:05<01:02,  6.09it/s]"
     ]
    },
    {
     "name": "stdout",
     "output_type": "stream",
     "text": [
      "Wikipedia Articales\\New_Glasgow.txt\n",
      "Wikipedia Articales\\New_Richmond.txt\n",
      "Wikipedia Articales\\New_Tecumseth.txt\n",
      "Wikipedia Articales\\Newashish_Cesar.txt\n"
     ]
    },
    {
     "name": "stderr",
     "output_type": "stream",
     "text": [
      "\r",
      " 76%|███████▌  | 1204/1584 [06:06<02:08,  2.97it/s]"
     ]
    },
    {
     "name": "stdout",
     "output_type": "stream",
     "text": [
      "Wikipedia Articales\\Newashish_Louis.txt\n"
     ]
    },
    {
     "name": "stderr",
     "output_type": "stream",
     "text": [
      "\r",
      " 76%|███████▌  | 1205/1584 [06:07<02:34,  2.45it/s]"
     ]
    },
    {
     "name": "stdout",
     "output_type": "stream",
     "text": [
      "Wikipedia Articales\\Newashish_Seni.txt\n"
     ]
    },
    {
     "name": "stderr",
     "output_type": "stream",
     "text": [
      " 76%|███████▋  | 1208/1584 [06:08<02:13,  2.82it/s]"
     ]
    },
    {
     "name": "stdout",
     "output_type": "stream",
     "text": [
      "Wikipedia Articales\\Newbury.txt\n",
      "Wikipedia Articales\\Newmarket.txt\n",
      "Wikipedia Articales\\Ni_Kice_Manitom.txt\n"
     ]
    },
    {
     "name": "stderr",
     "output_type": "stream",
     "text": [
      " 76%|███████▋  | 1210/1584 [06:09<01:52,  3.32it/s]"
     ]
    },
    {
     "name": "stdout",
     "output_type": "stream",
     "text": [
      "Wikipedia Articales\\Ni_kicteriten.txt\n",
      "Wikipedia Articales\\Niagara-on-the-Lake.txt\n"
     ]
    },
    {
     "name": "stderr",
     "output_type": "stream",
     "text": [
      "\r",
      " 77%|███████▋  | 1212/1584 [06:09<01:20,  4.60it/s]"
     ]
    },
    {
     "name": "stdout",
     "output_type": "stream",
     "text": [
      "Wikipedia Articales\\Niagara.txt\n",
      "Wikipedia Articales\\Niagara_Falls.txt\n",
      "Wikipedia Articales\\Nicim.txt\n"
     ]
    },
    {
     "name": "stderr",
     "output_type": "stream",
     "text": [
      "\r",
      " 77%|███████▋  | 1214/1584 [06:09<01:05,  5.66it/s]"
     ]
    },
    {
     "name": "stdout",
     "output_type": "stream",
     "text": [
      "Wikipedia Articales\\Nicirew.txt\n"
     ]
    },
    {
     "name": "stderr",
     "output_type": "stream",
     "text": [
      " 77%|███████▋  | 1217/1584 [06:09<00:55,  6.60it/s]"
     ]
    },
    {
     "name": "stdout",
     "output_type": "stream",
     "text": [
      "Wikipedia Articales\\Nicolet.txt\n",
      "Wikipedia Articales\\Nictes.txt\n",
      "Wikipedia Articales\\Nikawi.txt\n"
     ]
    },
    {
     "name": "stderr",
     "output_type": "stream",
     "text": [
      " 77%|███████▋  | 1219/1584 [06:10<01:08,  5.35it/s]"
     ]
    },
    {
     "name": "stdout",
     "output_type": "stream",
     "text": [
      "Wikipedia Articales\\Nikickatatowipitcikana.txt\n",
      "Wikipedia Articales\\Nikikw.txt\n"
     ]
    },
    {
     "name": "stderr",
     "output_type": "stream",
     "text": [
      "\r",
      " 77%|███████▋  | 1220/1584 [06:10<01:18,  4.61it/s]"
     ]
    },
    {
     "name": "stdout",
     "output_type": "stream",
     "text": [
      "Wikipedia Articales\\Nikikw_Pisimw.txt\n"
     ]
    },
    {
     "name": "stderr",
     "output_type": "stream",
     "text": [
      " 77%|███████▋  | 1222/1584 [06:11<01:15,  4.83it/s]"
     ]
    },
    {
     "name": "stdout",
     "output_type": "stream",
     "text": [
      "Wikipedia Articales\\Nikikw_atoskaniwon.txt\n",
      "Wikipedia Articales\\Nimicomec.txt\n"
     ]
    },
    {
     "name": "stderr",
     "output_type": "stream",
     "text": [
      " 77%|███████▋  | 1225/1584 [06:11<00:51,  6.99it/s]"
     ]
    },
    {
     "name": "stdout",
     "output_type": "stream",
     "text": [
      "Wikipedia Articales\\Nimis.txt\n",
      "Wikipedia Articales\\Nimocom.txt\n",
      "Wikipedia Articales\\Nipa_aiamihanan_cikopi.txt\n"
     ]
    },
    {
     "name": "stderr",
     "output_type": "stream",
     "text": [
      "\r",
      " 77%|███████▋  | 1226/1584 [06:11<00:53,  6.70it/s]"
     ]
    },
    {
     "name": "stdout",
     "output_type": "stream",
     "text": [
      "Wikipedia Articales\\Nipewan.txt\n"
     ]
    },
    {
     "name": "stderr",
     "output_type": "stream",
     "text": [
      "\r",
      " 77%|███████▋  | 1227/1584 [06:11<01:02,  5.73it/s]"
     ]
    },
    {
     "name": "stdout",
     "output_type": "stream",
     "text": [
      "Wikipedia Articales\\Nipewoskisin.txt\n"
     ]
    },
    {
     "name": "stderr",
     "output_type": "stream",
     "text": [
      "\r",
      " 78%|███████▊  | 1228/1584 [06:12<01:07,  5.28it/s]"
     ]
    },
    {
     "name": "stdout",
     "output_type": "stream",
     "text": [
      "Wikipedia Articales\\Nipi.txt\n"
     ]
    },
    {
     "name": "stderr",
     "output_type": "stream",
     "text": [
      " 78%|███████▊  | 1230/1584 [06:13<01:39,  3.56it/s]"
     ]
    },
    {
     "name": "stdout",
     "output_type": "stream",
     "text": [
      "Wikipedia Articales\\Nipic.txt\n",
      "Wikipedia Articales\\Nipic_ka_kispakak.txt\n"
     ]
    },
    {
     "name": "stderr",
     "output_type": "stream",
     "text": [
      " 78%|███████▊  | 1232/1584 [06:13<01:20,  4.38it/s]"
     ]
    },
    {
     "name": "stdout",
     "output_type": "stream",
     "text": [
      "Wikipedia Articales\\Nipicapo.txt\n",
      "Wikipedia Articales\\Nipicapo_orakan.txt\n"
     ]
    },
    {
     "name": "stderr",
     "output_type": "stream",
     "text": [
      " 78%|███████▊  | 1234/1584 [06:13<01:06,  5.23it/s]"
     ]
    },
    {
     "name": "stdout",
     "output_type": "stream",
     "text": [
      "Wikipedia Articales\\Nipicapokepitcikan.txt\n",
      "Wikipedia Articales\\Nipicatikw.txt\n"
     ]
    },
    {
     "name": "stderr",
     "output_type": "stream",
     "text": [
      " 78%|███████▊  | 1236/1584 [06:14<01:01,  5.65it/s]"
     ]
    },
    {
     "name": "stdout",
     "output_type": "stream",
     "text": [
      "Wikipedia Articales\\Nipicwapo.txt\n",
      "Wikipedia Articales\\Nipicwapo_orakan.txt\n"
     ]
    },
    {
     "name": "stderr",
     "output_type": "stream",
     "text": [
      " 78%|███████▊  | 1239/1584 [06:14<00:40,  8.60it/s]"
     ]
    },
    {
     "name": "stdout",
     "output_type": "stream",
     "text": [
      "Wikipedia Articales\\Nipicwasoskikw.txt\n",
      "Wikipedia Articales\\Nipikwan.txt\n",
      "Wikipedia Articales\\Nipin.txt\n",
      "Wikipedia Articales\\Nipinatcac_acitc_Kiwetinisiw.txt\n"
     ]
    },
    {
     "name": "stderr",
     "output_type": "stream",
     "text": [
      " 78%|███████▊  | 1242/1584 [06:16<02:01,  2.81it/s]"
     ]
    },
    {
     "name": "stdout",
     "output_type": "stream",
     "text": [
      "Wikipedia Articales\\Nipiskikw.txt\n",
      "Wikipedia Articales\\Nipissing_Ouest.txt\n",
      "Wikipedia Articales\\Nisga%E2%80%99a_Iriniwok.txt\n"
     ]
    },
    {
     "name": "stderr",
     "output_type": "stream",
     "text": [
      "\r",
      " 79%|███████▊  | 1244/1584 [06:16<01:50,  3.06it/s]"
     ]
    },
    {
     "name": "stdout",
     "output_type": "stream",
     "text": [
      "Wikipedia Articales\\Niska.txt\n"
     ]
    },
    {
     "name": "stderr",
     "output_type": "stream",
     "text": [
      "\r",
      " 79%|███████▊  | 1245/1584 [06:17<02:06,  2.68it/s]"
     ]
    },
    {
     "name": "stdout",
     "output_type": "stream",
     "text": [
      "Wikipedia Articales\\Nit_acerim.txt\n"
     ]
    },
    {
     "name": "stderr",
     "output_type": "stream",
     "text": [
      "\r",
      " 79%|███████▊  | 1246/1584 [06:17<01:58,  2.84it/s]"
     ]
    },
    {
     "name": "stdout",
     "output_type": "stream",
     "text": [
      "Wikipedia Articales\\Noah_Augustine.txt\n"
     ]
    },
    {
     "name": "stderr",
     "output_type": "stream",
     "text": [
      "\r",
      " 79%|███████▊  | 1247/1584 [06:17<01:54,  2.95it/s]"
     ]
    },
    {
     "name": "stdout",
     "output_type": "stream",
     "text": [
      "Wikipedia Articales\\Noce_pakahakwan.txt\n"
     ]
    },
    {
     "name": "stderr",
     "output_type": "stream",
     "text": [
      " 79%|███████▉  | 1249/1584 [06:18<01:40,  3.33it/s]"
     ]
    },
    {
     "name": "stdout",
     "output_type": "stream",
     "text": [
      "Wikipedia Articales\\Nocerew.txt\n",
      "Wikipedia Articales\\Noceskw.txt\n"
     ]
    },
    {
     "name": "stderr",
     "output_type": "stream",
     "text": [
      " 79%|███████▉  | 1252/1584 [06:19<01:18,  4.22it/s]"
     ]
    },
    {
     "name": "stdout",
     "output_type": "stream",
     "text": [
      "Wikipedia Articales\\Norfolk.txt\n",
      "Wikipedia Articales\\Normandin.txt\n"
     ]
    },
    {
     "name": "stderr",
     "output_type": "stream",
     "text": [
      "\r",
      " 79%|███████▉  | 1254/1584 [06:19<00:58,  5.62it/s]"
     ]
    },
    {
     "name": "stdout",
     "output_type": "stream",
     "text": [
      "Wikipedia Articales\\North_Bay.txt\n",
      "Wikipedia Articales\\North_Grenville.txt\n",
      "Wikipedia Articales\\North_Perth.txt\n"
     ]
    },
    {
     "name": "stderr",
     "output_type": "stream",
     "text": [
      "\r",
      " 79%|███████▉  | 1256/1584 [06:19<00:49,  6.60it/s]"
     ]
    },
    {
     "name": "stdout",
     "output_type": "stream",
     "text": [
      "Wikipedia Articales\\Norval_Morrisseau.txt\n",
      "Wikipedia Articales\\Notapwanion.txt\n"
     ]
    },
    {
     "name": "stderr",
     "output_type": "stream",
     "text": [
      " 79%|███████▉  | 1258/1584 [06:19<00:54,  5.98it/s]"
     ]
    },
    {
     "name": "stdout",
     "output_type": "stream",
     "text": [
      "Wikipedia Articales\\Notawi.txt\n",
      "Wikipedia Articales\\Notawinan.txt\n"
     ]
    },
    {
     "name": "stderr",
     "output_type": "stream",
     "text": [
      "\r",
      " 79%|███████▉  | 1259/1584 [06:20<01:01,  5.27it/s]"
     ]
    },
    {
     "name": "stdout",
     "output_type": "stream",
     "text": [
      "Wikipedia Articales\\Notcikinepikwesiw.txt\n"
     ]
    },
    {
     "name": "stderr",
     "output_type": "stream",
     "text": [
      "\r",
      " 80%|███████▉  | 1260/1584 [06:20<01:07,  4.77it/s]"
     ]
    },
    {
     "name": "stdout",
     "output_type": "stream",
     "text": [
      "Wikipedia Articales\\Notcimi_pimatisiwin.txt\n"
     ]
    },
    {
     "name": "stderr",
     "output_type": "stream",
     "text": [
      "\r",
      " 80%|███████▉  | 1261/1584 [06:20<01:39,  3.25it/s]"
     ]
    },
    {
     "name": "stdout",
     "output_type": "stream",
     "text": [
      "Wikipedia Articales\\Notcimik.txt\n"
     ]
    },
    {
     "name": "stderr",
     "output_type": "stream",
     "text": [
      "\r",
      " 80%|███████▉  | 1262/1584 [06:21<01:47,  3.00it/s]"
     ]
    },
    {
     "name": "stdout",
     "output_type": "stream",
     "text": [
      "Wikipedia Articales\\Notcimiw_mitcim.txt\n",
      "Wikipedia Articales\\Notcinaniwok.txt\n"
     ]
    },
    {
     "name": "stderr",
     "output_type": "stream",
     "text": [
      "\r",
      " 80%|███████▉  | 1264/1584 [06:21<01:21,  3.93it/s]"
     ]
    },
    {
     "name": "stdout",
     "output_type": "stream",
     "text": [
      "Wikipedia Articales\\Notcinaniwon.txt\n"
     ]
    },
    {
     "name": "stderr",
     "output_type": "stream",
     "text": [
      " 80%|███████▉  | 1266/1584 [06:22<01:21,  3.89it/s]"
     ]
    },
    {
     "name": "stdout",
     "output_type": "stream",
     "text": [
      "Wikipedia Articales\\Notimirowesiw.txt\n"
     ]
    },
    {
     "name": "stderr",
     "output_type": "stream",
     "text": [
      "\r",
      " 80%|███████▉  | 1267/1584 [06:22<01:08,  4.64it/s]"
     ]
    },
    {
     "name": "stdout",
     "output_type": "stream",
     "text": [
      "Wikipedia Articales\\Notre-Dame-de-l%27%C3%8Ele-Perrot.txt\n",
      "Wikipedia Articales\\Notre-Dame-des-Prairies.txt\n",
      "Wikipedia Articales\\Nouvelle.txt\n"
     ]
    },
    {
     "name": "stderr",
     "output_type": "stream",
     "text": [
      " 80%|████████  | 1270/1584 [06:22<00:49,  6.35it/s]"
     ]
    },
    {
     "name": "stdout",
     "output_type": "stream",
     "text": [
      "Wikipedia Articales\\Ntanis.txt\n",
      "Wikipedia Articales\\Ntockasowin.txt\n"
     ]
    },
    {
     "name": "stderr",
     "output_type": "stream",
     "text": [
      " 80%|████████  | 1272/1584 [06:22<00:48,  6.45it/s]"
     ]
    },
    {
     "name": "stdout",
     "output_type": "stream",
     "text": [
      "Wikipedia Articales\\Nutashkuan.txt\n",
      "Wikipedia Articales\\OPAN.txt\n"
     ]
    },
    {
     "name": "stderr",
     "output_type": "stream",
     "text": [
      " 80%|████████  | 1274/1584 [06:23<00:42,  7.36it/s]"
     ]
    },
    {
     "name": "stdout",
     "output_type": "stream",
     "text": [
      "Wikipedia Articales\\Oakville.txt\n",
      "Wikipedia Articales\\Ocacamekw.txt\n"
     ]
    },
    {
     "name": "stderr",
     "output_type": "stream",
     "text": [
      " 81%|████████  | 1276/1584 [06:23<00:55,  5.50it/s]"
     ]
    },
    {
     "name": "stdout",
     "output_type": "stream",
     "text": [
      "Wikipedia Articales\\Ocakai.txt\n",
      "Wikipedia Articales\\Ocaki.txt\n"
     ]
    },
    {
     "name": "stderr",
     "output_type": "stream",
     "text": [
      " 81%|████████  | 1279/1584 [06:24<00:42,  7.17it/s]"
     ]
    },
    {
     "name": "stdout",
     "output_type": "stream",
     "text": [
      "Wikipedia Articales\\Ocawacin.txt\n",
      "Wikipedia Articales\\Ocawackaw.txt\n",
      "Wikipedia Articales\\Ocawasko_mikowapi.txt\n"
     ]
    },
    {
     "name": "stderr",
     "output_type": "stream",
     "text": [
      " 81%|████████  | 1281/1584 [06:24<00:51,  5.84it/s]"
     ]
    },
    {
     "name": "stdout",
     "output_type": "stream",
     "text": [
      "Wikipedia Articales\\Ocicec.txt\n",
      "Wikipedia Articales\\Ocim.txt\n"
     ]
    },
    {
     "name": "stderr",
     "output_type": "stream",
     "text": [
      " 81%|████████  | 1284/1584 [06:24<00:36,  8.13it/s]"
     ]
    },
    {
     "name": "stdout",
     "output_type": "stream",
     "text": [
      "Wikipedia Articales\\Ocimawiw.txt\n",
      "Wikipedia Articales\\Ocimicic.txt\n",
      "Wikipedia Articales\\Ockaci.txt\n"
     ]
    },
    {
     "name": "stderr",
     "output_type": "stream",
     "text": [
      "\r",
      " 81%|████████  | 1285/1584 [06:24<00:47,  6.35it/s]"
     ]
    },
    {
     "name": "stdout",
     "output_type": "stream",
     "text": [
      "Wikipedia Articales\\Ockicai.txt\n",
      "Wikipedia Articales\\Ockicikw.txt\n"
     ]
    },
    {
     "name": "stderr",
     "output_type": "stream",
     "text": [
      "\r",
      " 81%|████████▏ | 1287/1584 [06:25<00:46,  6.40it/s]"
     ]
    },
    {
     "name": "stdout",
     "output_type": "stream",
     "text": [
      "Wikipedia Articales\\Ockictekamapo.txt\n"
     ]
    },
    {
     "name": "stderr",
     "output_type": "stream",
     "text": [
      " 81%|████████▏ | 1289/1584 [06:25<00:44,  6.57it/s]"
     ]
    },
    {
     "name": "stdout",
     "output_type": "stream",
     "text": [
      "Wikipedia Articales\\Ockitepokw.txt\n",
      "Wikipedia Articales\\Ockockotaminock.txt\n"
     ]
    },
    {
     "name": "stderr",
     "output_type": "stream",
     "text": [
      "\r",
      " 81%|████████▏ | 1290/1584 [06:25<01:01,  4.80it/s]"
     ]
    },
    {
     "name": "stdout",
     "output_type": "stream",
     "text": [
      "Wikipedia Articales\\Ockockotaminockw.txt\n"
     ]
    },
    {
     "name": "stderr",
     "output_type": "stream",
     "text": [
      "\r",
      " 82%|████████▏ | 1291/1584 [06:26<01:02,  4.68it/s]"
     ]
    },
    {
     "name": "stdout",
     "output_type": "stream",
     "text": [
      "Wikipedia Articales\\Ocockweto.txt\n"
     ]
    },
    {
     "name": "stderr",
     "output_type": "stream",
     "text": [
      "\r",
      " 82%|████████▏ | 1292/1584 [06:26<01:16,  3.81it/s]"
     ]
    },
    {
     "name": "stdout",
     "output_type": "stream",
     "text": [
      "Wikipedia Articales\\Ocokan.txt\n"
     ]
    },
    {
     "name": "stderr",
     "output_type": "stream",
     "text": [
      " 82%|████████▏ | 1294/1584 [06:27<01:21,  3.54it/s]"
     ]
    },
    {
     "name": "stdout",
     "output_type": "stream",
     "text": [
      "Wikipedia Articales\\Ocpikowan.txt\n",
      "Wikipedia Articales\\Octes.txt\n"
     ]
    },
    {
     "name": "stderr",
     "output_type": "stream",
     "text": [
      " 82%|████████▏ | 1296/1584 [06:27<01:01,  4.65it/s]"
     ]
    },
    {
     "name": "stdout",
     "output_type": "stream",
     "text": [
      "Wikipedia Articales\\Octesikan.txt\n",
      "Wikipedia Articales\\Octikwan.txt\n"
     ]
    },
    {
     "name": "stderr",
     "output_type": "stream",
     "text": [
      " 82%|████████▏ | 1299/1584 [06:28<00:49,  5.75it/s]"
     ]
    },
    {
     "name": "stdout",
     "output_type": "stream",
     "text": [
      "Wikipedia Articales\\Octikwankekan.txt\n",
      "Wikipedia Articales\\Odanak.txt\n",
      "Wikipedia Articales\\Ohomisiw.txt\n"
     ]
    },
    {
     "name": "stderr",
     "output_type": "stream",
     "text": [
      "\r",
      " 82%|████████▏ | 1300/1584 [06:28<01:14,  3.82it/s]"
     ]
    },
    {
     "name": "stdout",
     "output_type": "stream",
     "text": [
      "Wikipedia Articales\\Ohomisiw_atisokan.txt\n"
     ]
    },
    {
     "name": "stderr",
     "output_type": "stream",
     "text": [
      "\r",
      " 82%|████████▏ | 1301/1584 [06:32<05:46,  1.22s/it]"
     ]
    },
    {
     "name": "stdout",
     "output_type": "stream",
     "text": [
      "Wikipedia Articales\\Okaci_Mite.txt\n"
     ]
    },
    {
     "name": "stderr",
     "output_type": "stream",
     "text": [
      "\r",
      " 82%|████████▏ | 1302/1584 [06:32<04:34,  1.03it/s]"
     ]
    },
    {
     "name": "stdout",
     "output_type": "stream",
     "text": [
      "Wikipedia Articales\\Okacic.txt\n"
     ]
    },
    {
     "name": "stderr",
     "output_type": "stream",
     "text": [
      "\r",
      " 82%|████████▏ | 1303/1584 [06:33<03:38,  1.29it/s]"
     ]
    },
    {
     "name": "stdout",
     "output_type": "stream",
     "text": [
      "Wikipedia Articales\\Okanagan_iriniwok.txt\n"
     ]
    },
    {
     "name": "stderr",
     "output_type": "stream",
     "text": [
      "\r",
      " 82%|████████▏ | 1304/1584 [06:33<03:11,  1.46it/s]"
     ]
    },
    {
     "name": "stdout",
     "output_type": "stream",
     "text": [
      "Wikipedia Articales\\Okaripakan.txt\n"
     ]
    },
    {
     "name": "stderr",
     "output_type": "stream",
     "text": [
      " 82%|████████▏ | 1306/1584 [06:33<02:00,  2.31it/s]"
     ]
    },
    {
     "name": "stdout",
     "output_type": "stream",
     "text": [
      "Wikipedia Articales\\Okawinan.txt\n",
      "Wikipedia Articales\\Okawinan_%E2%80%93_Tcotco.txt\n"
     ]
    },
    {
     "name": "stderr",
     "output_type": "stream",
     "text": [
      " 83%|████████▎ | 1308/1584 [06:34<01:20,  3.42it/s]"
     ]
    },
    {
     "name": "stdout",
     "output_type": "stream",
     "text": [
      "Wikipedia Articales\\Okice_okom.txt\n",
      "Wikipedia Articales\\Okice_osim.txt\n"
     ]
    },
    {
     "name": "stderr",
     "output_type": "stream",
     "text": [
      "\r",
      " 83%|████████▎ | 1310/1584 [06:34<00:54,  5.05it/s]"
     ]
    },
    {
     "name": "stdout",
     "output_type": "stream",
     "text": [
      "Wikipedia Articales\\Okickaman.txt\n",
      "Wikipedia Articales\\Okickamanisiw.txt\n"
     ]
    },
    {
     "name": "stderr",
     "output_type": "stream",
     "text": [
      "\r",
      " 83%|████████▎ | 1311/1584 [06:34<01:05,  4.14it/s]"
     ]
    },
    {
     "name": "stdout",
     "output_type": "stream",
     "text": [
      "Wikipedia Articales\\Okimaw.txt\n"
     ]
    },
    {
     "name": "stderr",
     "output_type": "stream",
     "text": [
      "\r",
      " 83%|████████▎ | 1312/1584 [06:35<01:05,  4.12it/s]"
     ]
    },
    {
     "name": "stdout",
     "output_type": "stream",
     "text": [
      "Wikipedia Articales\\Okimawokw_Manawanik.txt\n"
     ]
    },
    {
     "name": "stderr",
     "output_type": "stream",
     "text": [
      " 83%|████████▎ | 1314/1584 [06:35<01:00,  4.47it/s]"
     ]
    },
    {
     "name": "stdout",
     "output_type": "stream",
     "text": [
      "Wikipedia Articales\\Okipohon.txt\n",
      "Wikipedia Articales\\Okitapokw.txt\n"
     ]
    },
    {
     "name": "stderr",
     "output_type": "stream",
     "text": [
      "\r",
      " 83%|████████▎ | 1315/1584 [06:35<00:51,  5.21it/s]"
     ]
    },
    {
     "name": "stdout",
     "output_type": "stream",
     "text": [
      "Wikipedia Articales\\Okitikw.txt\n"
     ]
    },
    {
     "name": "stderr",
     "output_type": "stream",
     "text": [
      " 83%|████████▎ | 1317/1584 [06:36<00:57,  4.62it/s]"
     ]
    },
    {
     "name": "stdout",
     "output_type": "stream",
     "text": [
      "Wikipedia Articales\\Okomicic.txt\n",
      "Wikipedia Articales\\Okon.txt\n"
     ]
    },
    {
     "name": "stderr",
     "output_type": "stream",
     "text": [
      "\r",
      " 83%|████████▎ | 1319/1584 [06:36<00:47,  5.61it/s]"
     ]
    },
    {
     "name": "stdout",
     "output_type": "stream",
     "text": [
      "Wikipedia Articales\\Okosinan.txt\n",
      "Wikipedia Articales\\Okot.txt\n"
     ]
    },
    {
     "name": "stderr",
     "output_type": "stream",
     "text": [
      " 83%|████████▎ | 1321/1584 [06:36<00:44,  5.88it/s]"
     ]
    },
    {
     "name": "stdout",
     "output_type": "stream",
     "text": [
      "Wikipedia Articales\\Okotakan.txt\n",
      "Wikipedia Articales\\Okotaniwan.txt\n"
     ]
    },
    {
     "name": "stderr",
     "output_type": "stream",
     "text": [
      " 84%|████████▎ | 1324/1584 [06:37<00:39,  6.62it/s]"
     ]
    },
    {
     "name": "stdout",
     "output_type": "stream",
     "text": [
      "Wikipedia Articales\\Okotckowi.txt\n",
      "Wikipedia Articales\\Okotckowiapi.txt\n",
      "Wikipedia Articales\\Okotckwi.txt\n"
     ]
    },
    {
     "name": "stderr",
     "output_type": "stream",
     "text": [
      "\r",
      " 84%|████████▎ | 1325/1584 [06:37<00:43,  5.92it/s]"
     ]
    },
    {
     "name": "stdout",
     "output_type": "stream",
     "text": [
      "Wikipedia Articales\\Okotoks.txt\n",
      "Wikipedia Articales\\Okowew.txt\n"
     ]
    },
    {
     "name": "stderr",
     "output_type": "stream",
     "text": [
      " 84%|████████▍ | 1328/1584 [06:37<00:38,  6.66it/s]"
     ]
    },
    {
     "name": "stdout",
     "output_type": "stream",
     "text": [
      "Wikipedia Articales\\Okowiw.txt\n",
      "Wikipedia Articales\\Okwakonew.txt\n",
      "Wikipedia Articales\\Olds.txt\n"
     ]
    },
    {
     "name": "stderr",
     "output_type": "stream",
     "text": [
      " 84%|████████▍ | 1331/1584 [06:38<00:29,  8.54it/s]"
     ]
    },
    {
     "name": "stdout",
     "output_type": "stream",
     "text": [
      "Wikipedia Articales\\Omaw.txt\n",
      "Wikipedia Articales\\Omemew.txt\n"
     ]
    },
    {
     "name": "stderr",
     "output_type": "stream",
     "text": [
      "\r",
      " 84%|████████▍ | 1332/1584 [06:38<00:44,  5.65it/s]"
     ]
    },
    {
     "name": "stdout",
     "output_type": "stream",
     "text": [
      "Wikipedia Articales\\Omicackotowan.txt\n",
      "Wikipedia Articales\\Omicapinan.txt\n"
     ]
    },
    {
     "name": "stderr",
     "output_type": "stream",
     "text": [
      "\r",
      " 84%|████████▍ | 1334/1584 [06:38<00:41,  6.01it/s]"
     ]
    },
    {
     "name": "stdout",
     "output_type": "stream",
     "text": [
      "Wikipedia Articales\\Omiki.txt\n"
     ]
    },
    {
     "name": "stderr",
     "output_type": "stream",
     "text": [
      " 84%|████████▍ | 1336/1584 [06:39<00:46,  5.36it/s]"
     ]
    },
    {
     "name": "stdout",
     "output_type": "stream",
     "text": [
      "Wikipedia Articales\\Omikikan.txt\n",
      "Wikipedia Articales\\Omikw.txt\n"
     ]
    },
    {
     "name": "stderr",
     "output_type": "stream",
     "text": [
      " 85%|████████▍ | 1339/1584 [06:39<00:34,  7.05it/s]"
     ]
    },
    {
     "name": "stdout",
     "output_type": "stream",
     "text": [
      "Wikipedia Articales\\Omisisit.txt\n",
      "Wikipedia Articales\\Omisitai.txt\n",
      "Wikipedia Articales\\Omitcimiwoc.txt\n"
     ]
    },
    {
     "name": "stderr",
     "output_type": "stream",
     "text": [
      " 85%|████████▍ | 1341/1584 [06:39<00:38,  6.36it/s]"
     ]
    },
    {
     "name": "stdout",
     "output_type": "stream",
     "text": [
      "Wikipedia Articales\\Omitcitci.txt\n",
      "Wikipedia Articales\\Onahiketc.txt\n"
     ]
    },
    {
     "name": "stderr",
     "output_type": "stream",
     "text": [
      " 85%|████████▍ | 1343/1584 [06:40<00:40,  6.02it/s]"
     ]
    },
    {
     "name": "stdout",
     "output_type": "stream",
     "text": [
      "Wikipedia Articales\\Onakic.txt\n",
      "Wikipedia Articales\\Onihikanatikokanihiwon.txt\n"
     ]
    },
    {
     "name": "stderr",
     "output_type": "stream",
     "text": [
      "\r",
      " 85%|████████▍ | 1344/1584 [06:40<00:45,  5.26it/s]"
     ]
    },
    {
     "name": "stdout",
     "output_type": "stream",
     "text": [
      "Wikipedia Articales\\Onikamicik.txt\n"
     ]
    },
    {
     "name": "stderr",
     "output_type": "stream",
     "text": [
      "\r",
      " 85%|████████▍ | 1345/1584 [06:40<00:56,  4.21it/s]"
     ]
    },
    {
     "name": "stdout",
     "output_type": "stream",
     "text": [
      "Wikipedia Articales\\Onikihikonan.txt\n"
     ]
    },
    {
     "name": "stderr",
     "output_type": "stream",
     "text": [
      " 85%|████████▌ | 1348/1584 [06:41<00:35,  6.63it/s]"
     ]
    },
    {
     "name": "stdout",
     "output_type": "stream",
     "text": [
      "Wikipedia Articales\\Onimiski_ickoteapi.txt\n",
      "Wikipedia Articales\\Onimiskipiresiw.txt\n",
      "Wikipedia Articales\\Onimiskiw_ickote.txt\n"
     ]
    },
    {
     "name": "stderr",
     "output_type": "stream",
     "text": [
      " 85%|████████▌ | 1350/1584 [06:41<00:39,  5.97it/s]"
     ]
    },
    {
     "name": "stdout",
     "output_type": "stream",
     "text": [
      "Wikipedia Articales\\Onimskickoteapi.txt\n"
     ]
    },
    {
     "name": "stderr",
     "output_type": "stream",
     "text": [
      "\r",
      " 85%|████████▌ | 1351/1584 [06:41<00:36,  6.47it/s]"
     ]
    },
    {
     "name": "stdout",
     "output_type": "stream",
     "text": [
      "Wikipedia Articales\\Onitcanic.txt\n",
      "Wikipedia Articales\\Onondaga_iriniwok.txt\n"
     ]
    },
    {
     "name": "stderr",
     "output_type": "stream",
     "text": [
      " 85%|████████▌ | 1354/1584 [06:42<00:33,  6.90it/s]"
     ]
    },
    {
     "name": "stdout",
     "output_type": "stream",
     "text": [
      "Wikipedia Articales\\Onoskwatikw.txt\n",
      "Wikipedia Articales\\Onoway.txt\n",
      "Wikipedia Articales\\Onowew.txt\n"
     ]
    },
    {
     "name": "stderr",
     "output_type": "stream",
     "text": [
      " 86%|████████▌ | 1356/1584 [06:42<00:33,  6.75it/s]"
     ]
    },
    {
     "name": "stdout",
     "output_type": "stream",
     "text": [
      "Wikipedia Articales\\Onowiw.txt\n",
      "Wikipedia Articales\\Ontario.txt\n"
     ]
    },
    {
     "name": "stderr",
     "output_type": "stream",
     "text": [
      " 86%|████████▌ | 1358/1584 [06:42<00:33,  6.68it/s]"
     ]
    },
    {
     "name": "stdout",
     "output_type": "stream",
     "text": [
      "Wikipedia Articales\\Opaskotai.txt\n",
      "Wikipedia Articales\\Opawew.txt\n",
      "Wikipedia Articales\\Opiapiskw.txt\n"
     ]
    },
    {
     "name": "stderr",
     "output_type": "stream",
     "text": [
      " 86%|████████▌ | 1361/1584 [06:43<00:28,  7.74it/s]"
     ]
    },
    {
     "name": "stdout",
     "output_type": "stream",
     "text": [
      "Wikipedia Articales\\Opickowan.txt\n",
      "Wikipedia Articales\\Opictikweak.txt\n"
     ]
    },
    {
     "name": "stderr",
     "output_type": "stream",
     "text": [
      " 86%|████████▌ | 1363/1584 [06:43<00:34,  6.45it/s]"
     ]
    },
    {
     "name": "stdout",
     "output_type": "stream",
     "text": [
      "Wikipedia Articales\\Opiskotai.txt\n",
      "Wikipedia Articales\\Opitciwan.txt\n",
      "Wikipedia Articales\\Opokotcan.txt\n"
     ]
    },
    {
     "name": "stderr",
     "output_type": "stream",
     "text": [
      " 86%|████████▌ | 1366/1584 [06:43<00:29,  7.50it/s]"
     ]
    },
    {
     "name": "stdout",
     "output_type": "stream",
     "text": [
      "Wikipedia Articales\\Opomikekan.txt\n",
      "Wikipedia Articales\\Opwakanicimonaniwok.txt\n"
     ]
    },
    {
     "name": "stderr",
     "output_type": "stream",
     "text": [
      "\r",
      " 86%|████████▋ | 1367/1584 [06:44<00:40,  5.34it/s]"
     ]
    },
    {
     "name": "stdout",
     "output_type": "stream",
     "text": [
      "Wikipedia Articales\\Opwam.txt\n"
     ]
    },
    {
     "name": "stderr",
     "output_type": "stream",
     "text": [
      " 86%|████████▋ | 1369/1584 [06:44<00:41,  5.18it/s]"
     ]
    },
    {
     "name": "stdout",
     "output_type": "stream",
     "text": [
      "Wikipedia Articales\\Orakan.txt\n",
      "Wikipedia Articales\\Orakaniockopok.txt\n"
     ]
    },
    {
     "name": "stderr",
     "output_type": "stream",
     "text": [
      " 87%|████████▋ | 1371/1584 [06:44<00:36,  5.86it/s]"
     ]
    },
    {
     "name": "stdout",
     "output_type": "stream",
     "text": [
      "Wikipedia Articales\\Orakaniwoc.txt\n",
      "Wikipedia Articales\\Orakaniwockopokw.txt\n"
     ]
    },
    {
     "name": "stderr",
     "output_type": "stream",
     "text": [
      " 87%|████████▋ | 1373/1584 [06:45<00:31,  6.64it/s]"
     ]
    },
    {
     "name": "stdout",
     "output_type": "stream",
     "text": [
      "Wikipedia Articales\\Orakapi.txt\n",
      "Wikipedia Articales\\Orakapi_.txt\n"
     ]
    },
    {
     "name": "stderr",
     "output_type": "stream",
     "text": [
      " 87%|████████▋ | 1375/1584 [06:45<00:28,  7.45it/s]"
     ]
    },
    {
     "name": "stdout",
     "output_type": "stream",
     "text": [
      "Wikipedia Articales\\Orakaskisitan.txt\n",
      "Wikipedia Articales\\Orakaskitcitcan.txt\n"
     ]
    },
    {
     "name": "stderr",
     "output_type": "stream",
     "text": [
      "\r",
      " 87%|████████▋ | 1377/1584 [06:45<00:22,  9.36it/s]"
     ]
    },
    {
     "name": "stdout",
     "output_type": "stream",
     "text": [
      "Wikipedia Articales\\Orakaskoi.txt\n",
      "Wikipedia Articales\\Orakatci.txt\n"
     ]
    },
    {
     "name": "stderr",
     "output_type": "stream",
     "text": [
      " 87%|████████▋ | 1379/1584 [06:45<00:24,  8.39it/s]"
     ]
    },
    {
     "name": "stdout",
     "output_type": "stream",
     "text": [
      "Wikipedia Articales\\Orakeskw.txt\n",
      "Wikipedia Articales\\Orakeskw_mantcoc.txt\n"
     ]
    },
    {
     "name": "stderr",
     "output_type": "stream",
     "text": [
      " 87%|████████▋ | 1381/1584 [06:46<00:28,  7.16it/s]"
     ]
    },
    {
     "name": "stdout",
     "output_type": "stream",
     "text": [
      "Wikipedia Articales\\Oran.txt\n",
      "Wikipedia Articales\\Orangeville.txt\n",
      "Wikipedia Articales\\Orekihikiwamaniwok.txt\n"
     ]
    },
    {
     "name": "stderr",
     "output_type": "stream",
     "text": [
      "\r",
      " 87%|████████▋ | 1383/1584 [06:46<00:28,  7.14it/s]"
     ]
    },
    {
     "name": "stdout",
     "output_type": "stream",
     "text": [
      "Wikipedia Articales\\Orillia.txt\n",
      "Wikipedia Articales\\Oritecikan.txt\n"
     ]
    },
    {
     "name": "stderr",
     "output_type": "stream",
     "text": [
      "\r",
      " 87%|████████▋ | 1385/1584 [06:46<00:25,  7.86it/s]"
     ]
    },
    {
     "name": "stdout",
     "output_type": "stream",
     "text": [
      "Wikipedia Articales\\Oritecikaniw.txt\n"
     ]
    },
    {
     "name": "stderr",
     "output_type": "stream",
     "text": [
      "\r",
      " 88%|████████▊ | 1386/1584 [06:46<00:30,  6.59it/s]"
     ]
    },
    {
     "name": "stdout",
     "output_type": "stream",
     "text": [
      "Wikipedia Articales\\Orokoskoi.txt\n",
      "Wikipedia Articales\\Orowitimik.txt\n"
     ]
    },
    {
     "name": "stderr",
     "output_type": "stream",
     "text": [
      "\r",
      " 88%|████████▊ | 1388/1584 [06:47<00:29,  6.62it/s]"
     ]
    },
    {
     "name": "stdout",
     "output_type": "stream",
     "text": [
      "Wikipedia Articales\\Orsainville.txt\n",
      "Wikipedia Articales\\Osam_rakitciciw_iriniwa_ka_mowatc.txt\n"
     ]
    },
    {
     "name": "stderr",
     "output_type": "stream",
     "text": [
      "\r",
      " 88%|████████▊ | 1390/1584 [06:47<00:31,  6.18it/s]"
     ]
    },
    {
     "name": "stdout",
     "output_type": "stream",
     "text": [
      "Wikipedia Articales\\Osapwakan.txt\n",
      "Wikipedia Articales\\Osawaskamikwaapi.txt\n"
     ]
    },
    {
     "name": "stderr",
     "output_type": "stream",
     "text": [
      "\r",
      " 88%|████████▊ | 1392/1584 [06:47<00:29,  6.43it/s]"
     ]
    },
    {
     "name": "stdout",
     "output_type": "stream",
     "text": [
      "Wikipedia Articales\\Osawaw.txt\n",
      "Wikipedia Articales\\Osekwaniwon.txt\n"
     ]
    },
    {
     "name": "stderr",
     "output_type": "stream",
     "text": [
      "\r",
      " 88%|████████▊ | 1394/1584 [06:48<00:33,  5.71it/s]"
     ]
    },
    {
     "name": "stdout",
     "output_type": "stream",
     "text": [
      "Wikipedia Articales\\Oshawa.txt\n",
      "Wikipedia Articales\\Osikatew.txt\n"
     ]
    },
    {
     "name": "stderr",
     "output_type": "stream",
     "text": [
      " 88%|████████▊ | 1397/1584 [06:48<00:28,  6.56it/s]"
     ]
    },
    {
     "name": "stdout",
     "output_type": "stream",
     "text": [
      "Wikipedia Articales\\Osikos.txt\n",
      "Wikipedia Articales\\Osim.txt\n",
      "Wikipedia Articales\\Osimicic.txt\n"
     ]
    },
    {
     "name": "stderr",
     "output_type": "stream",
     "text": [
      "\r",
      " 88%|████████▊ | 1399/1584 [06:48<00:22,  8.29it/s]"
     ]
    },
    {
     "name": "stdout",
     "output_type": "stream",
     "text": [
      "Wikipedia Articales\\Osit.txt\n"
     ]
    },
    {
     "name": "stderr",
     "output_type": "stream",
     "text": [
      "\r",
      " 88%|████████▊ | 1400/1584 [06:49<00:27,  6.66it/s]"
     ]
    },
    {
     "name": "stdout",
     "output_type": "stream",
     "text": [
      "Wikipedia Articales\\Ositaskw.txt\n"
     ]
    },
    {
     "name": "stderr",
     "output_type": "stream",
     "text": [
      " 89%|████████▊ | 1402/1584 [06:49<00:31,  5.72it/s]"
     ]
    },
    {
     "name": "stdout",
     "output_type": "stream",
     "text": [
      "Wikipedia Articales\\Ositicic.txt\n",
      "Wikipedia Articales\\Oskan.txt\n",
      "Wikipedia Articales\\Oskana.txt\n"
     ]
    },
    {
     "name": "stderr",
     "output_type": "stream",
     "text": [
      " 89%|████████▊ | 1405/1584 [06:49<00:28,  6.29it/s]"
     ]
    },
    {
     "name": "stdout",
     "output_type": "stream",
     "text": [
      "Wikipedia Articales\\Oskanirew.txt\n"
     ]
    },
    {
     "name": "stderr",
     "output_type": "stream",
     "text": [
      "\r",
      " 89%|████████▉ | 1407/1584 [06:50<00:23,  7.69it/s]"
     ]
    },
    {
     "name": "stdout",
     "output_type": "stream",
     "text": [
      "Wikipedia Articales\\Oskaskikan.txt\n",
      "Wikipedia Articales\\Oskat.txt\n",
      "Wikipedia Articales\\Oskatikekan.txt\n"
     ]
    },
    {
     "name": "stderr",
     "output_type": "stream",
     "text": [
      "\r",
      " 89%|████████▉ | 1409/1584 [06:50<00:20,  8.38it/s]"
     ]
    },
    {
     "name": "stdout",
     "output_type": "stream",
     "text": [
      "Wikipedia Articales\\Oskatikw.txt\n",
      "Wikipedia Articales\\Oskisk.txt\n"
     ]
    },
    {
     "name": "stderr",
     "output_type": "stream",
     "text": [
      " 89%|████████▉ | 1411/1584 [06:50<00:23,  7.23it/s]"
     ]
    },
    {
     "name": "stdout",
     "output_type": "stream",
     "text": [
      "Wikipedia Articales\\Oskiwon.txt\n",
      "Wikipedia Articales\\Osko.txt\n",
      "Wikipedia Articales\\Oskon.txt\n"
     ]
    },
    {
     "name": "stderr",
     "output_type": "stream",
     "text": [
      " 89%|████████▉ | 1414/1584 [06:51<00:24,  7.00it/s]"
     ]
    },
    {
     "name": "stdout",
     "output_type": "stream",
     "text": [
      "Wikipedia Articales\\Oso.txt\n",
      "Wikipedia Articales\\Ospikai.txt\n"
     ]
    },
    {
     "name": "stderr",
     "output_type": "stream",
     "text": [
      "\r",
      " 89%|████████▉ | 1416/1584 [06:51<00:22,  7.42it/s]"
     ]
    },
    {
     "name": "stdout",
     "output_type": "stream",
     "text": [
      "Wikipedia Articales\\Ospiskon.txt\n",
      "Wikipedia Articales\\Ospiton.txt\n"
     ]
    },
    {
     "name": "stderr",
     "output_type": "stream",
     "text": [
      "\r",
      " 89%|████████▉ | 1417/1584 [06:51<00:23,  7.08it/s]"
     ]
    },
    {
     "name": "stdout",
     "output_type": "stream",
     "text": [
      "Wikipedia Articales\\Ospitonikekan.txt\n",
      "Wikipedia Articales\\Otactimiwk.txt\n"
     ]
    },
    {
     "name": "stderr",
     "output_type": "stream",
     "text": [
      "\r",
      " 90%|████████▉ | 1419/1584 [06:51<00:27,  5.97it/s]"
     ]
    },
    {
     "name": "stdout",
     "output_type": "stream",
     "text": [
      "Wikipedia Articales\\Otakaci.txt\n"
     ]
    },
    {
     "name": "stderr",
     "output_type": "stream",
     "text": [
      " 90%|████████▉ | 1422/1584 [06:52<00:24,  6.67it/s]"
     ]
    },
    {
     "name": "stdout",
     "output_type": "stream",
     "text": [
      "Wikipedia Articales\\Otakocik.txt\n",
      "Wikipedia Articales\\Otamikikekan.txt\n",
      "Wikipedia Articales\\Otamkamaneapi.txt\n"
     ]
    },
    {
     "name": "stderr",
     "output_type": "stream",
     "text": [
      "\r",
      " 90%|████████▉ | 1423/1584 [06:52<00:22,  7.17it/s]"
     ]
    },
    {
     "name": "stdout",
     "output_type": "stream",
     "text": [
      "Wikipedia Articales\\Otaniskotape_osim.txt\n",
      "Wikipedia Articales\\Otapan.txt\n"
     ]
    },
    {
     "name": "stderr",
     "output_type": "stream",
     "text": [
      " 90%|█████████ | 1426/1584 [06:52<00:24,  6.54it/s]"
     ]
    },
    {
     "name": "stdout",
     "output_type": "stream",
     "text": [
      "Wikipedia Articales\\Otapan_ka_akositcik_otci.txt\n",
      "Wikipedia Articales\\Otapanaskw.txt\n"
     ]
    },
    {
     "name": "stderr",
     "output_type": "stream",
     "text": [
      "\r",
      " 90%|█████████ | 1427/1584 [06:53<00:24,  6.47it/s]"
     ]
    },
    {
     "name": "stdout",
     "output_type": "stream",
     "text": [
      "Wikipedia Articales\\Otapanikiwam.txt\n"
     ]
    },
    {
     "name": "stderr",
     "output_type": "stream",
     "text": [
      " 90%|█████████ | 1429/1584 [06:53<00:26,  5.84it/s]"
     ]
    },
    {
     "name": "stdout",
     "output_type": "stream",
     "text": [
      "Wikipedia Articales\\Otapi.txt\n",
      "Wikipedia Articales\\Otapi_kiskinohamatokamok.txt\n"
     ]
    },
    {
     "name": "stderr",
     "output_type": "stream",
     "text": [
      " 90%|█████████ | 1431/1584 [06:54<00:32,  4.74it/s]"
     ]
    },
    {
     "name": "stdout",
     "output_type": "stream",
     "text": [
      "Wikipedia Articales\\Otatakon_pisimw.txt\n",
      "Wikipedia Articales\\Otawinan_-_tata.txt\n"
     ]
    },
    {
     "name": "stderr",
     "output_type": "stream",
     "text": [
      " 90%|█████████ | 1433/1584 [06:54<00:25,  5.95it/s]"
     ]
    },
    {
     "name": "stdout",
     "output_type": "stream",
     "text": [
      "Wikipedia Articales\\Otcakamo.txt\n",
      "Wikipedia Articales\\Otcectati.txt\n",
      "Wikipedia Articales\\Otcek.txt\n"
     ]
    },
    {
     "name": "stderr",
     "output_type": "stream",
     "text": [
      " 91%|█████████ | 1436/1584 [06:55<00:29,  5.03it/s]"
     ]
    },
    {
     "name": "stdout",
     "output_type": "stream",
     "text": [
      "Wikipedia Articales\\Otcekipwanaskw.txt\n",
      "Wikipedia Articales\\Otciciwi.txt\n",
      "Wikipedia Articales\\Otcicteapi.txt\n"
     ]
    },
    {
     "name": "stderr",
     "output_type": "stream",
     "text": [
      " 91%|█████████ | 1439/1584 [06:55<00:26,  5.43it/s]"
     ]
    },
    {
     "name": "stdout",
     "output_type": "stream",
     "text": [
      "Wikipedia Articales\\Otcikaci.txt\n",
      "Wikipedia Articales\\Otcikamo.txt\n"
     ]
    },
    {
     "name": "stderr",
     "output_type": "stream",
     "text": [
      "\r",
      " 91%|█████████ | 1440/1584 [06:55<00:24,  5.94it/s]"
     ]
    },
    {
     "name": "stdout",
     "output_type": "stream",
     "text": [
      "Wikipedia Articales\\Otcikokan.txt\n"
     ]
    },
    {
     "name": "stderr",
     "output_type": "stream",
     "text": [
      " 91%|█████████ | 1442/1584 [06:55<00:23,  6.11it/s]"
     ]
    },
    {
     "name": "stdout",
     "output_type": "stream",
     "text": [
      "Wikipedia Articales\\Otcitcakoc.txt\n",
      "Wikipedia Articales\\Otcitcaskai.txt\n"
     ]
    },
    {
     "name": "stderr",
     "output_type": "stream",
     "text": [
      "\r",
      " 91%|█████████ | 1443/1584 [06:56<00:21,  6.56it/s]"
     ]
    },
    {
     "name": "stdout",
     "output_type": "stream",
     "text": [
      "Wikipedia Articales\\Otcitci.txt\n"
     ]
    },
    {
     "name": "stderr",
     "output_type": "stream",
     "text": [
      " 91%|█████████▏| 1446/1584 [06:56<00:20,  6.70it/s]"
     ]
    },
    {
     "name": "stdout",
     "output_type": "stream",
     "text": [
      "Wikipedia Articales\\Otcitcicic.txt\n",
      "Wikipedia Articales\\Otcitcikom.txt\n",
      "Wikipedia Articales\\Otcotcocanapom.txt\n"
     ]
    },
    {
     "name": "stderr",
     "output_type": "stream",
     "text": [
      " 91%|█████████▏| 1448/1584 [06:56<00:19,  6.83it/s]"
     ]
    },
    {
     "name": "stdout",
     "output_type": "stream",
     "text": [
      "Wikipedia Articales\\Oteckan.txt\n",
      "Wikipedia Articales\\Otehi.txt\n"
     ]
    },
    {
     "name": "stderr",
     "output_type": "stream",
     "text": [
      " 92%|█████████▏| 1450/1584 [06:57<00:20,  6.67it/s]"
     ]
    },
    {
     "name": "stdout",
     "output_type": "stream",
     "text": [
      "Wikipedia Articales\\Otehimin.txt\n",
      "Wikipedia Articales\\Otehimin_pisimw.txt\n"
     ]
    },
    {
     "name": "stderr",
     "output_type": "stream",
     "text": [
      " 92%|█████████▏| 1452/1584 [06:57<00:22,  5.92it/s]"
     ]
    },
    {
     "name": "stdout",
     "output_type": "stream",
     "text": [
      "Wikipedia Articales\\Otehiminan.txt\n",
      "Wikipedia Articales\\Oteno.txt\n"
     ]
    },
    {
     "name": "stderr",
     "output_type": "stream",
     "text": [
      "\r",
      " 92%|█████████▏| 1453/1584 [06:58<00:35,  3.71it/s]"
     ]
    },
    {
     "name": "stdout",
     "output_type": "stream",
     "text": [
      "Wikipedia Articales\\Oterni.txt\n"
     ]
    },
    {
     "name": "stderr",
     "output_type": "stream",
     "text": [
      "\r",
      " 92%|█████████▏| 1454/1584 [06:58<00:36,  3.54it/s]"
     ]
    },
    {
     "name": "stdout",
     "output_type": "stream",
     "text": [
      "Wikipedia Articales\\Otetawitcitcan.txt\n",
      "Wikipedia Articales\\Otetikosiw.txt\n"
     ]
    },
    {
     "name": "stderr",
     "output_type": "stream",
     "text": [
      " 92%|█████████▏| 1457/1584 [06:58<00:27,  4.61it/s]"
     ]
    },
    {
     "name": "stdout",
     "output_type": "stream",
     "text": [
      "Wikipedia Articales\\Otetipisiw.txt\n",
      "Wikipedia Articales\\Otio.txt\n",
      "Wikipedia Articales\\Otiri.txt\n"
     ]
    },
    {
     "name": "stderr",
     "output_type": "stream",
     "text": [
      " 92%|█████████▏| 1460/1584 [06:59<00:25,  4.87it/s]"
     ]
    },
    {
     "name": "stdout",
     "output_type": "stream",
     "text": [
      "Wikipedia Articales\\Otisi.txt\n",
      "Wikipedia Articales\\Otisnakew.txt\n"
     ]
    },
    {
     "name": "stderr",
     "output_type": "stream",
     "text": [
      " 92%|█████████▏| 1463/1584 [06:59<00:19,  6.13it/s]"
     ]
    },
    {
     "name": "stdout",
     "output_type": "stream",
     "text": [
      "Wikipedia Articales\\Otitikowin.txt\n",
      "Wikipedia Articales\\Otitiman.txt\n",
      "Wikipedia Articales\\Otitohikan_otcitci.txt\n"
     ]
    },
    {
     "name": "stderr",
     "output_type": "stream",
     "text": [
      " 93%|█████████▎| 1466/1584 [07:00<00:15,  7.66it/s]"
     ]
    },
    {
     "name": "stdout",
     "output_type": "stream",
     "text": [
      "Wikipedia Articales\\Otiwo.txt\n",
      "Wikipedia Articales\\Oto.txt\n",
      "Wikipedia Articales\\Otokai.txt\n"
     ]
    },
    {
     "name": "stderr",
     "output_type": "stream",
     "text": [
      "\r",
      " 93%|█████████▎| 1467/1584 [07:00<00:17,  6.51it/s]"
     ]
    },
    {
     "name": "stdout",
     "output_type": "stream",
     "text": [
      "Wikipedia Articales\\Oton.txt\n"
     ]
    },
    {
     "name": "stderr",
     "output_type": "stream",
     "text": [
      " 93%|█████████▎| 1469/1584 [07:01<00:21,  5.24it/s]"
     ]
    },
    {
     "name": "stdout",
     "output_type": "stream",
     "text": [
      "Wikipedia Articales\\Otosis.txt\n",
      "Wikipedia Articales\\Otoskon.txt\n",
      "Wikipedia Articales\\Ototokon_pisimw.txt\n"
     ]
    },
    {
     "name": "stderr",
     "output_type": "stream",
     "text": [
      "\r",
      " 93%|█████████▎| 1471/1584 [07:01<00:17,  6.61it/s]"
     ]
    },
    {
     "name": "stdout",
     "output_type": "stream",
     "text": [
      "Wikipedia Articales\\Ototokwakan.txt\n"
     ]
    },
    {
     "name": "stderr",
     "output_type": "stream",
     "text": [
      "\r",
      " 93%|█████████▎| 1472/1584 [07:01<00:23,  4.80it/s]"
     ]
    },
    {
     "name": "stdout",
     "output_type": "stream",
     "text": [
      "Wikipedia Articales\\Ototokwakonok.txt\n"
     ]
    },
    {
     "name": "stderr",
     "output_type": "stream",
     "text": [
      " 93%|█████████▎| 1474/1584 [07:02<00:21,  5.19it/s]"
     ]
    },
    {
     "name": "stdout",
     "output_type": "stream",
     "text": [
      "Wikipedia Articales\\Ototon.txt\n",
      "Wikipedia Articales\\Otowacim.txt\n",
      "Wikipedia Articales\\Ottawa.txt\n"
     ]
    },
    {
     "name": "stderr",
     "output_type": "stream",
     "text": [
      "\r",
      " 93%|█████████▎| 1476/1584 [07:02<00:14,  7.22it/s]"
     ]
    },
    {
     "name": "stdout",
     "output_type": "stream",
     "text": [
      "Wikipedia Articales\\Ottawa_Daniel.txt\n"
     ]
    },
    {
     "name": "stderr",
     "output_type": "stream",
     "text": [
      "\r",
      " 93%|█████████▎| 1477/1584 [07:02<00:19,  5.38it/s]"
     ]
    },
    {
     "name": "stdout",
     "output_type": "stream",
     "text": [
      "Wikipedia Articales\\Ottawa_David-Marcel.txt\n"
     ]
    },
    {
     "name": "stderr",
     "output_type": "stream",
     "text": [
      "\r",
      " 93%|█████████▎| 1478/1584 [07:03<00:31,  3.41it/s]"
     ]
    },
    {
     "name": "stdout",
     "output_type": "stream",
     "text": [
      "Wikipedia Articales\\Ottawa_Edmond.txt\n"
     ]
    },
    {
     "name": "stderr",
     "output_type": "stream",
     "text": [
      "\r",
      " 93%|█████████▎| 1479/1584 [07:03<00:41,  2.53it/s]"
     ]
    },
    {
     "name": "stdout",
     "output_type": "stream",
     "text": [
      "Wikipedia Articales\\Ottawa_Eva.txt\n"
     ]
    },
    {
     "name": "stderr",
     "output_type": "stream",
     "text": [
      "\r",
      " 93%|█████████▎| 1480/1584 [07:04<00:52,  1.97it/s]"
     ]
    },
    {
     "name": "stdout",
     "output_type": "stream",
     "text": [
      "Wikipedia Articales\\Ottawa_Fran%C3%A7ois.txt\n"
     ]
    },
    {
     "name": "stderr",
     "output_type": "stream",
     "text": [
      "\r",
      " 93%|█████████▎| 1481/1584 [07:05<00:52,  1.96it/s]"
     ]
    },
    {
     "name": "stdout",
     "output_type": "stream",
     "text": [
      "Wikipedia Articales\\Ottawa_Gilles.txt\n"
     ]
    },
    {
     "name": "stderr",
     "output_type": "stream",
     "text": [
      "\r",
      " 94%|█████████▎| 1482/1584 [07:05<01:01,  1.65it/s]"
     ]
    },
    {
     "name": "stdout",
     "output_type": "stream",
     "text": [
      "Wikipedia Articales\\Ottawa_Henri.txt\n"
     ]
    },
    {
     "name": "stderr",
     "output_type": "stream",
     "text": [
      "\r",
      " 94%|█████████▎| 1483/1584 [07:06<01:00,  1.66it/s]"
     ]
    },
    {
     "name": "stdout",
     "output_type": "stream",
     "text": [
      "Wikipedia Articales\\Ottawa_Isidore.txt\n"
     ]
    },
    {
     "name": "stderr",
     "output_type": "stream",
     "text": [
      "\r",
      " 94%|█████████▎| 1484/1584 [07:06<00:55,  1.81it/s]"
     ]
    },
    {
     "name": "stdout",
     "output_type": "stream",
     "text": [
      "Wikipedia Articales\\Ottawa_Jean-Pierre.txt\n"
     ]
    },
    {
     "name": "stderr",
     "output_type": "stream",
     "text": [
      "\r",
      " 94%|█████████▍| 1485/1584 [07:08<01:14,  1.33it/s]"
     ]
    },
    {
     "name": "stdout",
     "output_type": "stream",
     "text": [
      "Wikipedia Articales\\Ottawa_Jean-Roch.txt\n"
     ]
    },
    {
     "name": "stderr",
     "output_type": "stream",
     "text": [
      "\r",
      " 94%|█████████▍| 1486/1584 [07:08<01:10,  1.38it/s]"
     ]
    },
    {
     "name": "stdout",
     "output_type": "stream",
     "text": [
      "Wikipedia Articales\\Ottawa_Jos.txt\n"
     ]
    },
    {
     "name": "stderr",
     "output_type": "stream",
     "text": [
      "\r",
      " 94%|█████████▍| 1487/1584 [07:09<01:03,  1.52it/s]"
     ]
    },
    {
     "name": "stdout",
     "output_type": "stream",
     "text": [
      "Wikipedia Articales\\Ottawa_Louis.txt\n"
     ]
    },
    {
     "name": "stderr",
     "output_type": "stream",
     "text": [
      "\r",
      " 94%|█████████▍| 1488/1584 [07:10<01:12,  1.32it/s]"
     ]
    },
    {
     "name": "stdout",
     "output_type": "stream",
     "text": [
      "Wikipedia Articales\\Ottawa_Michel.txt\n"
     ]
    },
    {
     "name": "stderr",
     "output_type": "stream",
     "text": [
      "\r",
      " 94%|█████████▍| 1489/1584 [07:11<01:11,  1.33it/s]"
     ]
    },
    {
     "name": "stdout",
     "output_type": "stream",
     "text": [
      "Wikipedia Articales\\Ottawa_Paul_%C3%89mile.txt\n"
     ]
    },
    {
     "name": "stderr",
     "output_type": "stream",
     "text": [
      "\r",
      " 94%|█████████▍| 1490/1584 [07:12<01:41,  1.08s/it]"
     ]
    },
    {
     "name": "stdout",
     "output_type": "stream",
     "text": [
      "Wikipedia Articales\\Ottawa_Pierre.txt\n"
     ]
    },
    {
     "name": "stderr",
     "output_type": "stream",
     "text": [
      " 94%|█████████▍| 1493/1584 [07:13<00:49,  1.83it/s]"
     ]
    },
    {
     "name": "stdout",
     "output_type": "stream",
     "text": [
      "Wikipedia Articales\\Otterburn_Park.txt\n",
      "Wikipedia Articales\\Ouj%C3%A9-Bougoumou.txt\n",
      "Wikipedia Articales\\Owen_Sound.txt\n"
     ]
    },
    {
     "name": "stderr",
     "output_type": "stream",
     "text": [
      "\r",
      " 94%|█████████▍| 1495/1584 [07:13<00:32,  2.77it/s]"
     ]
    },
    {
     "name": "stdout",
     "output_type": "stream",
     "text": [
      "Wikipedia Articales\\Owic.txt\n",
      "Wikipedia Articales\\Oxford.txt\n",
      "Wikipedia Articales\\Oxford_(Nouvelle-%C3%89cosse).txt\n"
     ]
    },
    {
     "name": "stderr",
     "output_type": "stream",
     "text": [
      "\r",
      " 95%|█████████▍| 1497/1584 [07:14<00:22,  3.83it/s]"
     ]
    },
    {
     "name": "stdout",
     "output_type": "stream",
     "text": [
      "Wikipedia Articales\\Oyen.txt\n",
      "Wikipedia Articales\\Pacitci_Kwapihikanicic.txt\n"
     ]
    },
    {
     "name": "stderr",
     "output_type": "stream",
     "text": [
      "\r",
      " 95%|█████████▍| 1499/1584 [07:14<00:19,  4.40it/s]"
     ]
    },
    {
     "name": "stdout",
     "output_type": "stream",
     "text": [
      "Wikipedia Articales\\Packahotcikan.txt\n"
     ]
    },
    {
     "name": "stderr",
     "output_type": "stream",
     "text": [
      "\r",
      " 95%|█████████▍| 1500/1584 [07:14<00:24,  3.43it/s]"
     ]
    },
    {
     "name": "stdout",
     "output_type": "stream",
     "text": [
      "Wikipedia Articales\\Packirepok.txt\n"
     ]
    },
    {
     "name": "stderr",
     "output_type": "stream",
     "text": [
      " 95%|█████████▍| 1502/1584 [07:15<00:20,  3.96it/s]"
     ]
    },
    {
     "name": "stdout",
     "output_type": "stream",
     "text": [
      "Wikipedia Articales\\Pakahakwan.txt\n",
      "Wikipedia Articales\\Pakan.txt\n"
     ]
    },
    {
     "name": "stderr",
     "output_type": "stream",
     "text": [
      "\r",
      " 95%|█████████▍| 1504/1584 [07:15<00:15,  5.25it/s]"
     ]
    },
    {
     "name": "stdout",
     "output_type": "stream",
     "text": [
      "Wikipedia Articales\\Pakan_pimite.txt\n",
      "Wikipedia Articales\\Pakanatikw.txt\n",
      "Wikipedia Articales\\Pakanicic.txt\n"
     ]
    },
    {
     "name": "stderr",
     "output_type": "stream",
     "text": [
      " 95%|█████████▌| 1507/1584 [07:16<00:13,  5.61it/s]"
     ]
    },
    {
     "name": "stdout",
     "output_type": "stream",
     "text": [
      "Wikipedia Articales\\Pakekan.txt\n"
     ]
    },
    {
     "name": "stderr",
     "output_type": "stream",
     "text": [
      "\r",
      " 95%|█████████▌| 1508/1584 [07:16<00:13,  5.62it/s]"
     ]
    },
    {
     "name": "stdout",
     "output_type": "stream",
     "text": [
      "Wikipedia Articales\\Pakickewopitcikan.txt\n",
      "Wikipedia Articales\\Pakitowaniwon.txt\n"
     ]
    },
    {
     "name": "stderr",
     "output_type": "stream",
     "text": [
      " 95%|█████████▌| 1510/1584 [07:16<00:13,  5.51it/s]"
     ]
    },
    {
     "name": "stdout",
     "output_type": "stream",
     "text": [
      "Wikipedia Articales\\Pakohomisiw.txt\n",
      "Wikipedia Articales\\Pakohomsiw.txt\n"
     ]
    },
    {
     "name": "stderr",
     "output_type": "stream",
     "text": [
      "\r",
      " 95%|█████████▌| 1511/1584 [07:16<00:12,  5.82it/s]"
     ]
    },
    {
     "name": "stdout",
     "output_type": "stream",
     "text": [
      "Wikipedia Articales\\Pakotcenikew.txt\n"
     ]
    },
    {
     "name": "stderr",
     "output_type": "stream",
     "text": [
      " 96%|█████████▌| 1513/1584 [07:17<00:12,  5.48it/s]"
     ]
    },
    {
     "name": "stdout",
     "output_type": "stream",
     "text": [
      "Wikipedia Articales\\Pakotehon.txt\n",
      "Wikipedia Articales\\Pakuashipi.txt\n"
     ]
    },
    {
     "name": "stderr",
     "output_type": "stream",
     "text": [
      "\r",
      " 96%|█████████▌| 1515/1584 [07:17<00:10,  6.64it/s]"
     ]
    },
    {
     "name": "stdout",
     "output_type": "stream",
     "text": [
      "Wikipedia Articales\\Pakwe_Emitikociwi_Askik.txt\n",
      "Wikipedia Articales\\Pakwecikan.txt\n"
     ]
    },
    {
     "name": "stderr",
     "output_type": "stream",
     "text": [
      " 96%|█████████▌| 1517/1584 [07:17<00:11,  5.73it/s]"
     ]
    },
    {
     "name": "stdout",
     "output_type": "stream",
     "text": [
      "Wikipedia Articales\\Pakwecikankew.txt\n",
      "Wikipedia Articales\\Pamatohowin_Tapiskwan_Sipi.txt\n"
     ]
    },
    {
     "name": "stderr",
     "output_type": "stream",
     "text": [
      " 96%|█████████▌| 1519/1584 [07:18<00:12,  5.15it/s]"
     ]
    },
    {
     "name": "stdout",
     "output_type": "stream",
     "text": [
      "Wikipedia Articales\\Pamicikopikepitcikan.txt\n",
      "Wikipedia Articales\\Pamicikopitcike_masinahikan.txt\n"
     ]
    },
    {
     "name": "stderr",
     "output_type": "stream",
     "text": [
      "\r",
      " 96%|█████████▌| 1521/1584 [07:18<00:10,  6.24it/s]"
     ]
    },
    {
     "name": "stdout",
     "output_type": "stream",
     "text": [
      "Wikipedia Articales\\Pamikicikwepitcikan.txt\n",
      "Wikipedia Articales\\Panackatowew.txt\n"
     ]
    },
    {
     "name": "stderr",
     "output_type": "stream",
     "text": [
      "\r",
      " 96%|█████████▌| 1522/1584 [07:18<00:10,  5.74it/s]"
     ]
    },
    {
     "name": "stdout",
     "output_type": "stream",
     "text": [
      "Wikipedia Articales\\Pananis.txt\n"
     ]
    },
    {
     "name": "stderr",
     "output_type": "stream",
     "text": [
      "\r",
      " 96%|█████████▌| 1523/1584 [07:18<00:12,  5.05it/s]"
     ]
    },
    {
     "name": "stdout",
     "output_type": "stream",
     "text": [
      "Wikipedia Articales\\Papactew.txt\n"
     ]
    },
    {
     "name": "stderr",
     "output_type": "stream",
     "text": [
      "\r",
      " 96%|█████████▌| 1524/1584 [07:19<00:15,  3.90it/s]"
     ]
    },
    {
     "name": "stdout",
     "output_type": "stream",
     "text": [
      "Wikipedia Articales\\Paparikacic.txt\n"
     ]
    },
    {
     "name": "stderr",
     "output_type": "stream",
     "text": [
      "\r",
      " 96%|█████████▋| 1525/1584 [07:19<00:14,  3.93it/s]"
     ]
    },
    {
     "name": "stdout",
     "output_type": "stream",
     "text": [
      "Wikipedia Articales\\Papaskiw_(irinacitc).txt\n"
     ]
    },
    {
     "name": "stderr",
     "output_type": "stream",
     "text": [
      " 96%|█████████▋| 1527/1584 [07:20<00:12,  4.42it/s]"
     ]
    },
    {
     "name": "stdout",
     "output_type": "stream",
     "text": [
      "Wikipedia Articales\\Paposikan.txt\n"
     ]
    },
    {
     "name": "stderr",
     "output_type": "stream",
     "text": [
      "\r",
      " 97%|█████████▋| 1529/1584 [07:20<00:08,  6.39it/s]"
     ]
    },
    {
     "name": "stdout",
     "output_type": "stream",
     "text": [
      "Wikipedia Articales\\Parrsboro.txt\n",
      "Wikipedia Articales\\Parry_Sound.txt\n",
      "Wikipedia Articales\\Pasanowan.txt\n"
     ]
    },
    {
     "name": "stderr",
     "output_type": "stream",
     "text": [
      "\r",
      " 97%|█████████▋| 1530/1584 [07:20<00:08,  6.48it/s]"
     ]
    },
    {
     "name": "stdout",
     "output_type": "stream",
     "text": [
      "Wikipedia Articales\\Pascal_Ottawa_(Pako).txt\n"
     ]
    },
    {
     "name": "stderr",
     "output_type": "stream",
     "text": [
      " 97%|█████████▋| 1532/1584 [07:21<00:14,  3.54it/s]"
     ]
    },
    {
     "name": "stdout",
     "output_type": "stream",
     "text": [
      "Wikipedia Articales\\Pasinasokaniapi.txt\n",
      "Wikipedia Articales\\Pasinowan.txt\n"
     ]
    },
    {
     "name": "stderr",
     "output_type": "stream",
     "text": [
      "\r",
      " 97%|█████████▋| 1533/1584 [07:21<00:12,  4.14it/s]"
     ]
    },
    {
     "name": "stdout",
     "output_type": "stream",
     "text": [
      "Wikipedia Articales\\Paskisikan.txt\n"
     ]
    },
    {
     "name": "stderr",
     "output_type": "stream",
     "text": [
      "\r",
      " 97%|█████████▋| 1534/1584 [07:21<00:13,  3.71it/s]"
     ]
    },
    {
     "name": "stdout",
     "output_type": "stream",
     "text": [
      "Wikipedia Articales\\Paspepiac.txt\n",
      "Wikipedia Articales\\Patak.txt\n"
     ]
    },
    {
     "name": "stderr",
     "output_type": "stream",
     "text": [
      " 97%|█████████▋| 1537/1584 [07:22<00:09,  4.75it/s]"
     ]
    },
    {
     "name": "stdout",
     "output_type": "stream",
     "text": [
      "Wikipedia Articales\\Patak_mantcoc.txt\n",
      "Wikipedia Articales\\Patari.txt\n"
     ]
    },
    {
     "name": "stderr",
     "output_type": "stream",
     "text": [
      " 97%|█████████▋| 1539/1584 [07:22<00:09,  4.93it/s]"
     ]
    },
    {
     "name": "stdout",
     "output_type": "stream",
     "text": [
      "Wikipedia Articales\\Patcakihamakan.txt\n"
     ]
    },
    {
     "name": "stderr",
     "output_type": "stream",
     "text": [
      "\r",
      " 97%|█████████▋| 1540/1584 [07:22<00:07,  5.62it/s]"
     ]
    },
    {
     "name": "stdout",
     "output_type": "stream",
     "text": [
      "Wikipedia Articales\\Patronymes_ancestraux_atikamekw.txt\n",
      "Wikipedia Articales\\Paul_%C3%89mile_Ottawa.txt\n"
     ]
    },
    {
     "name": "stderr",
     "output_type": "stream",
     "text": [
      "\r",
      " 97%|█████████▋| 1541/1584 [07:24<00:27,  1.55it/s]"
     ]
    },
    {
     "name": "stdout",
     "output_type": "stream",
     "text": [
      "Wikipedia Articales\\Paul_Mequesh_(otatam).txt\n",
      "Wikipedia Articales\\Pauline_Johnson.txt\n"
     ]
    },
    {
     "name": "stderr",
     "output_type": "stream",
     "text": [
      " 97%|█████████▋| 1544/1584 [07:25<00:16,  2.41it/s]"
     ]
    },
    {
     "name": "stdout",
     "output_type": "stream",
     "text": [
      "Wikipedia Articales\\Pekonirakanekin.txt\n",
      "Wikipedia Articales\\Pekopiwan.txt\n"
     ]
    },
    {
     "name": "stderr",
     "output_type": "stream",
     "text": [
      " 98%|█████████▊| 1546/1584 [07:25<00:11,  3.39it/s]"
     ]
    },
    {
     "name": "stdout",
     "output_type": "stream",
     "text": [
      "Wikipedia Articales\\Pekotakahikanatikw.txt\n",
      "Wikipedia Articales\\Pekwakamik.txt\n"
     ]
    },
    {
     "name": "stderr",
     "output_type": "stream",
     "text": [
      " 98%|█████████▊| 1549/1584 [07:26<00:07,  4.89it/s]"
     ]
    },
    {
     "name": "stdout",
     "output_type": "stream",
     "text": [
      "Wikipedia Articales\\Pembroke.txt\n",
      "Wikipedia Articales\\Penetanguishene.txt\n",
      "Wikipedia Articales\\Penhold.txt\n"
     ]
    },
    {
     "name": "stderr",
     "output_type": "stream",
     "text": [
      "\r",
      " 98%|█████████▊| 1551/1584 [07:26<00:05,  6.27it/s]"
     ]
    },
    {
     "name": "stdout",
     "output_type": "stream",
     "text": [
      "Wikipedia Articales\\Perc%C3%A9.txt\n",
      "Wikipedia Articales\\Perth.txt\n",
      "Wikipedia Articales\\Pessamit.txt\n"
     ]
    },
    {
     "name": "stderr",
     "output_type": "stream",
     "text": [
      " 98%|█████████▊| 1555/1584 [07:26<00:03,  8.32it/s]"
     ]
    },
    {
     "name": "stdout",
     "output_type": "stream",
     "text": [
      "Wikipedia Articales\\Petawawa.txt\n",
      "Wikipedia Articales\\Peterborough.txt\n",
      "Wikipedia Articales\\Petiquay-Flamand_Suzanne.txt\n"
     ]
    },
    {
     "name": "stderr",
     "output_type": "stream",
     "text": [
      "\r",
      " 98%|█████████▊| 1557/1584 [07:27<00:04,  6.12it/s]"
     ]
    },
    {
     "name": "stdout",
     "output_type": "stream",
     "text": [
      "Wikipedia Articales\\Petrolia.txt\n",
      "Wikipedia Articales\\Philippe_Basile.txt\n"
     ]
    },
    {
     "name": "stderr",
     "output_type": "stream",
     "text": [
      "\r",
      " 98%|█████████▊| 1558/1584 [07:27<00:04,  6.45it/s]"
     ]
    },
    {
     "name": "stdout",
     "output_type": "stream",
     "text": [
      "Wikipedia Articales\\Piciw.txt\n"
     ]
    },
    {
     "name": "stderr",
     "output_type": "stream",
     "text": [
      " 99%|█████████▊| 1562/1584 [07:27<00:02,  8.08it/s]"
     ]
    },
    {
     "name": "stdout",
     "output_type": "stream",
     "text": [
      "Wikipedia Articales\\Pickering.txt\n",
      "Wikipedia Articales\\Pickowan.txt\n",
      "Wikipedia Articales\\Pictou.txt\n",
      "Wikipedia Articales\\Picture_Butte.txt\n",
      "Wikipedia Articales\\Pien_Cako_Chachai.txt\n"
     ]
    },
    {
     "name": "stderr",
     "output_type": "stream",
     "text": [
      "\r",
      " 99%|█████████▊| 1564/1584 [07:28<00:03,  5.25it/s]"
     ]
    },
    {
     "name": "stdout",
     "output_type": "stream",
     "text": [
      "Wikipedia Articales\\Pierre_Jacquot_Chachai.txt\n"
     ]
    },
    {
     "name": "stderr",
     "output_type": "stream",
     "text": [
      "\r",
      " 99%|█████████▉| 1565/1584 [07:29<00:04,  3.84it/s]"
     ]
    },
    {
     "name": "stdout",
     "output_type": "stream",
     "text": [
      "Wikipedia Articales\\Pierre_Ottawa.txt\n"
     ]
    },
    {
     "name": "stderr",
     "output_type": "stream",
     "text": [
      "\r",
      " 99%|█████████▉| 1566/1584 [07:29<00:06,  2.99it/s]"
     ]
    },
    {
     "name": "stdout",
     "output_type": "stream",
     "text": [
      "Wikipedia Articales\\Pikesaniminan.txt\n"
     ]
    },
    {
     "name": "stderr",
     "output_type": "stream",
     "text": [
      "\r",
      " 99%|█████████▉| 1567/1584 [07:30<00:05,  2.98it/s]"
     ]
    },
    {
     "name": "stdout",
     "output_type": "stream",
     "text": [
      "Wikipedia Articales\\Pikipakan.txt\n"
     ]
    },
    {
     "name": "stderr",
     "output_type": "stream",
     "text": [
      " 99%|█████████▉| 1570/1584 [07:30<00:03,  4.48it/s]"
     ]
    },
    {
     "name": "stdout",
     "output_type": "stream",
     "text": [
      "Wikipedia Articales\\Pikitcitcan.txt\n",
      "Wikipedia Articales\\Pikitcitcian.txt\n"
     ]
    },
    {
     "name": "stderr",
     "output_type": "stream",
     "text": [
      "\r",
      " 99%|█████████▉| 1571/1584 [07:30<00:02,  4.93it/s]"
     ]
    },
    {
     "name": "stdout",
     "output_type": "stream",
     "text": [
      "Wikipedia Articales\\Pikiw.txt\n",
      "Wikipedia Articales\\Pikogan.txt\n"
     ]
    },
    {
     "name": "stderr",
     "output_type": "stream",
     "text": [
      "\r",
      " 99%|█████████▉| 1572/1584 [07:30<00:02,  5.59it/s]"
     ]
    },
    {
     "name": "stdout",
     "output_type": "stream",
     "text": [
      "Wikipedia Articales\\Pikokw.txt\n"
     ]
    },
    {
     "name": "stderr",
     "output_type": "stream",
     "text": [
      " 99%|█████████▉| 1574/1584 [07:31<00:01,  5.05it/s]"
     ]
    },
    {
     "name": "stdout",
     "output_type": "stream",
     "text": [
      "Wikipedia Articales\\Pikoteskirowew.txt\n",
      "Wikipedia Articales\\Pimatisiwin.txt\n"
     ]
    },
    {
     "name": "stderr",
     "output_type": "stream",
     "text": [
      " 99%|█████████▉| 1576/1584 [07:31<00:01,  5.31it/s]"
     ]
    },
    {
     "name": "stdout",
     "output_type": "stream",
     "text": [
      "Wikipedia Articales\\Pimerikockwatcic.txt\n",
      "Wikipedia Articales\\Pimickaw.txt\n",
      "Wikipedia Articales\\Pimirokockwatcic.txt\n"
     ]
    },
    {
     "name": "stderr",
     "output_type": "stream",
     "text": [
      "100%|█████████▉| 1580/1584 [07:32<00:00,  6.98it/s]"
     ]
    },
    {
     "name": "stdout",
     "output_type": "stream",
     "text": [
      "Wikipedia Articales\\Pincher_Creek.txt\n",
      "Wikipedia Articales\\Pincourt.txt\n",
      "Wikipedia Articales\\Pipatciw.txt\n",
      "Wikipedia Articales\\Pipikorikic.txt\n"
     ]
    },
    {
     "name": "stderr",
     "output_type": "stream",
     "text": [
      "\r",
      "100%|█████████▉| 1582/1584 [07:32<00:00,  7.07it/s]"
     ]
    },
    {
     "name": "stdout",
     "output_type": "stream",
     "text": [
      "Wikipedia Articales\\Pipon.txt\n"
     ]
    },
    {
     "name": "stderr",
     "output_type": "stream",
     "text": [
      "\r",
      "100%|█████████▉| 1583/1584 [07:32<00:00,  4.83it/s]"
     ]
    },
    {
     "name": "stdout",
     "output_type": "stream",
     "text": [
      "Wikipedia Articales\\atj.txt\n"
     ]
    },
    {
     "name": "stderr",
     "output_type": "stream",
     "text": [
      "100%|██████████| 1584/1584 [10:13<00:00,  2.58it/s]\n"
     ]
    }
   ],
   "source": [
    "preprocessing_from_folder('Wikipedia Articales' , 'Wikipedia Articales Processed')"
   ]
  },
  {
   "cell_type": "code",
   "execution_count": 22,
   "id": "0d90e802",
   "metadata": {},
   "outputs": [],
   "source": [
    "def make_corpus(input_path, output_file_path):\n",
    "    file_list = sorted(glob.glob(input_path + '/*'))\n",
    "    with open(output_file_path, 'a', encoding = 'utf-8') as output_file:\n",
    "        for file in tqdm.tqdm(file_list):\n",
    "            with open(file, 'r', encoding = 'utf-8') as input_file:\n",
    "                file_name_full  = file.split('\\\\')[-1]\n",
    "                file_name_without_proces = file_name_full.split('_')[1]\n",
    "                file_name_without_txt = file_name_without_proces.split('.')[0]\n",
    "                file_content = input_file.read()\n",
    "                file_content = file_content.replace('\\n', ' ')\n",
    "                output_file.write(file_name_without_txt)\n",
    "                output_file.write(\"$$$\")\n",
    "                output_file.write(file_content)\n",
    "                output_file.write('\\n')"
   ]
  },
  {
   "cell_type": "code",
   "execution_count": 23,
   "id": "4d1ca4c8",
   "metadata": {},
   "outputs": [
    {
     "name": "stderr",
     "output_type": "stream",
     "text": [
      "100%|██████████| 1584/1584 [00:07<00:00, 208.95it/s]\n"
     ]
    }
   ],
   "source": [
    "make_corpus (\"Wikipedia Articales Processed\" , \"Atikamekw_corpus.txt\")"
   ]
  },
  {
   "cell_type": "markdown",
   "id": "af02f307",
   "metadata": {},
   "source": [
    "### rules"
   ]
  },
  {
   "cell_type": "code",
   "execution_count": null,
   "id": "ab1de8b9",
   "metadata": {},
   "outputs": [],
   "source": [
    "# nouns to indicate if the profession is male or female\n",
    "male_female_words_of_profession = ['iskwew' # female\n",
    " ,'iriniw' #male\n",
    ", 'irinikwew' #male or female \n",
    "]\n",
    "\n",
    "#verbs to indicate  profession\n",
    "male_female_verbs_of_profession = [ 'iriniwin','iskwewin','riniskwewin']\n",
    "\n",
    "# indicate the genere of an animal \n",
    "\n",
    "male_Female_particular_animals = ['noce' #female\n",
    "                                 ,'nape' # male\n",
    "                                 ,]\n",
    "\n",
    "#NOUNS\n",
    "\n",
    "# they come by this order po -> p-> di -> loc\n",
    "\n",
    "\n",
    "possisive_pref = ['kit','nit','ot' , 'ki','ni','o', 'k','n','o']\n",
    "\n",
    "possisive_suff = ['inan' , 'ino' ,  'iwaw' , 'iwa' ,'aw','iriw','nan', 'awik' , 'im']\n",
    "\n",
    "\n",
    "\n",
    "plural_suff = ['a','ak','ok>w']\n",
    "\n",
    "diminutif_suff = ['icic', 'ocic']\n",
    "#diminutif_suff = ['ic', 'cic']\n",
    "\n",
    "locative_suff = ['ik', 'ok>w']\n",
    "\n",
    "#those last two we can add together\n",
    "obviativ_suff = ['iw','riw','a']\n",
    "\n",
    "surobviatif = ['iriw','riw']\n",
    "\n",
    "\n",
    "derivation_suffix = ['an','ekin','apo','api','apiskw']\n",
    "\n",
    "#PRONOUNS\n",
    " \n",
    "perosonal_pron = ['nin' , 'kir' , 'wir']\n",
    "indefinant_pron = ['awik' , 'kekwan' , 'kotak']\n",
    "interogatice_pron = ['awin' , 'kekwan' , 'tan' , 'tanta', 'tante','tan apitc']\n",
    "\n",
    "personal_pron_prefixes = ['ni','ki','nit','kit']\n",
    "personal_pron_independant = ['nin','kir','wir','ninan','kirano','kirawaw','wirawaw']\n",
    "personal_pron_independant_priority = ['ninctam','kirctam','wirctam','nirctaminan','kirctamiwaw','wirctamiwaw']\n",
    "\n",
    "#\n",
    "demostrative_words = ['nahwe', 'ohwa','ohwe','oma','nahwe','anahwe'\n",
    "                     ,'naha','anaha','na','ohki','niki','neki'\n",
    "                     ,'nihe','ohwi','nehe','anehe','nihi','neta','nete']\n",
    "\n",
    "#time\n",
    "#repetation\n",
    "#comparing\n",
    "#connectors\n",
    "#subbordinate + verb\n",
    "#expressing countite\n",
    "#Modality of action (way of doing)\n",
    "#proximity\n",
    "#spacial-oriantation\n",
    "#mark of interrogation\n",
    "#intergection\n",
    "particules = ['Aptic','minawatc','mocak','nama wiskat','nac','kinowec','ko' \n",
    "             ,'kiapatc','kiapatci','kiapatc peikwa','koski','oscamec','awocamec',\n",
    "             'kekat','wiec','kirowe','nota','orina','tapicoktc','patok','mia','towi',\n",
    "             'acitc','kirica','aima','aric','kaie',\n",
    "             'e','ka','epwamoci','esko','ickwa','kitci','nota','wetci',\n",
    "             'notc','memantcic','micta','tipi','orina','tepirak',\n",
    "             'tekaci','pekatc','mamar'\n",
    "             ,'warowik','pecotcik','ota','ote','neta','nete','nte',\n",
    "             'icpimik','notc','opimera','okitc','cipa','pitc','nikanik','otananik','orowitimik','pitakamik',\n",
    "             'la','a','aia',\n",
    "             'ekocka','icine']\n",
    "\n",
    "# 'kecpin' == if \n",
    "# 'kitci' == for\n",
    "# 'e' == that\n",
    "# 'wetci' == for\n",
    "#' tan' == what\n",
    "#'tan apitc' == when\n",
    "#'kekwan wetci' = why\n",
    "# 'aka' == negatuve\n",
    "# 'ka' == relative\n",
    "\n",
    "preverbes_for_immidiatly = ['ta','wi','ka','ki']\n",
    "#VERBS\n",
    "\n",
    "#verbs_suff = ['an','in', 'w','n','ano','awaw','ok']\n",
    "# verbs_suff_AI_independent = ['n','nan', 'nano','nawaw','wok'] ->['w']\n",
    "# verbs_suff_TI_independent = ['en','am','an','ano','awaw','ok'] -> ['am']\n",
    "# verb_suff_AI_conjunctive = ['n','ian','an','in','iin','tc','ak','iak','iakw','kw','ikw','iekw','ekw','tcik'] ->['w']\n",
    "# verb_suff_AI_imperative = ['kw','an','kan','kekw','tan'] ->['w']\n",
    "# verb_suf_TI_imperative = ['amokw','eta','ekan','amokan','ameta'] -> ['am']\n",
    "# verb_suf_TA_imperative = ['ici','inan','icikw','icinan','icikan','icikanan','icikekw','icikanan'] -> ['ew']\n",
    "\n",
    "\n",
    "\n",
    "lexical_final = ['ote','ska','kowi','h','aso','acte','ckow','pw']\n",
    "abstract_final = ['aia','cin','t','n','r','h']\n",
    "\n",
    "doutfull_suffix = ['take']\n",
    "subjonctive_suffix = ['e']\n",
    "\n",
    "imperfect_suffix = ['tai','pan']\n",
    "past_suffix = 'ki'\n",
    "future_after_verb = ['ka','kata','ickwa']\n",
    "\n",
    "preform_lexical = ['miro','kice','matci','micta','mata','kakike']\n",
    "\n",
    "# reflexiv oneself ['itiso']\n",
    "# recepcioncal each other ['ito']\n",
    "\n",
    "#derivation \n",
    "\n",
    "\n",
    "\n",
    "\n",
    "\n",
    "\n",
    "\n"
   ]
  },
  {
   "cell_type": "markdown",
   "id": "b47832f0",
   "metadata": {},
   "source": [
    "VII: verb inanime intransitive\n",
    "\n",
    "VAI  : anime intransitive\n",
    "\n",
    "VTA : verb transitive anime\n",
    "\n",
    "VTI : verb transitive inanime\n",
    "\n",
    "VTI2 : verb transitive inanime \n",
    "\n",
    "#########\n",
    "\n",
    "\n",
    "01 independant indicatif present\n",
    "\n",
    "03 independant indicatif impeerfect\n",
    "\n",
    "09 independant dubitatif present\n",
    "\n",
    "10 independant dubitatif past\n",
    "\n",
    "11a conjonctive indicatif present\n",
    "\n",
    "12a conjonctive subjonctif\n",
    "\n",
    "12b conjonctive iteratif \n",
    "\n",
    "13 conjonctive imperfrect\n",
    "\n",
    "14 concojonctive dubitatif\n",
    "\n",
    "15 conjonctive dubitatifg imperfect\n",
    "\n",
    "17a imperfect indicative present\n",
    "\n",
    "17b imperfect indicative future"
   ]
  },
  {
   "cell_type": "code",
   "execution_count": 2,
   "id": "a811c823",
   "metadata": {},
   "outputs": [],
   "source": [
    "vai_01 = ['n','nawaw','nano','nan','wok','riw','riwa']\n",
    "vai_03 = ['tai','tawaw','tanano','tai','tan','pan','panak','ripan']\n",
    "vai_09 = ['natake' , 'nawatake','nanotake','natake','nanatake','take','takenak','ritake','ritakena']\n",
    "vai_10 = ['nakopan','nawakopan','nanokopan','nanakopan','kopan','wakopan','rikopan','rikopana']\n",
    "vai_11 = ['in','iekw','ikw','ian','ika','tc','tcik','ritci','ritci']\n",
    "vai_12a = ['ine','iekwe','ikwe','iane','iake','te','wate','rite','ritena']\n",
    "#vai_12b = vai_12a\n",
    "vai_13 =['ipan','iekopan','ikopan','iapan','iakipan','span','waspan','rispan','rispana']\n",
    "vai_14 = ['wonen','wewokwen','wokwen','wanen','waken','kwen','wekwen','rikwen','rikwena']\n",
    "vai_15 = ['wopanen','wekopanen','wokopanen','wapanen','wakipanen','kopanen','wakopanen','rikopanen','rikopanena']\n",
    "vai_17a = ['kw','tan']\n",
    "vai_17b = ['kan','kekw','tan']\n",
    "\n",
    "vii_01 = ['o','iw','iwa','a','riw','riwa']\n",
    "vii_03 = ['pan','pana','ripan','ripana']\n",
    "vii_09 = ['take','takena','ritake','ritakena']\n",
    "vii_10 = ['kopan','kopana','rikopan','rikopana']\n",
    "vi_11 = ['k','ki','rik','riki']\n",
    "vi_12a = ['ke','kawe','rike','rikawe']\n",
    "#vi_12b = vi_12a\n",
    "vi_13 = ['kipan','kipana','rikipan','rikipana']\n",
    "vi_14 = ['kwen','kwena','rikwen','rikwena','ikwen','ikwena']\n",
    "vi_15 = ['kopanen','kopanena','rikopanen']\n",
    "\n",
    "\n",
    "vta_01 = ['in','itin','inan','itinan','inawaw','itinawaw',\n",
    "         'imawaw','imikowaw','anano','ikonano','ananowok', 'ikonanowok', 'imananowa', 'imikonano'\n",
    "         , 'aw','ikw','awok','ikok','imawa', 'imikw'\n",
    "         , 'anan' , 'ikonan' ,'ananak', 'ikonanak','imanana','imikonan'\n",
    "         , 'awaw' , 'ikowaw','awawok','ikowawok'\n",
    "         ,'ew','ewok','imew','imewok','imeriw','iko','ikowok','eriw','eriwa','ikoriw','ikoriwa']\n",
    "vta_03 = ['itai', 'ititai','itan', 'itinan','itawaw', 'itinaw','atanano','ikotanano','atananowok','ikotananowok'\n",
    "         'atai', 'ikotai','ataiik','ikoktaiik','atan','ikotan','atananak','ikotananak'\n",
    "         'atawaw','ikotawaw','atawawok','ikotawawok','epan','epanak','ikopan','ikowapanak'\n",
    "         ,'eripan','eripana','ikoripan','ikor']\n",
    "vta_09 = ['inatake' , 'inanatake', 'inawatake', 'itinatake','itinanatake'\n",
    "         ,'itinawatake','ananotake','ananotakenak','ikonanotake','ikonanotakenak'\n",
    "         ,'atake', 'atakenak' , 'ikonatakenak', 'ananatake','ananatakenak'\n",
    "         ,'ikonanatakenak','awatake','awatakenak','ikotake','ikowatake','ikotakenak',\n",
    "         'ikowatakenak','etake','etakena','ikotakena','eritake','eritakena','ikoritake','ikoritakena']\n",
    "vta_10 = ['inakopan', 'inanakopan','inawakopan','itinakopan','itinanakopan'\n",
    "         ,'itinawakopan','ananokopan','ananokopanak','ikonanokopan','ikonanokopanak'\n",
    "         ,'akopan','akopanak','ikokopan','ikokopanak','akopan','ananakopank','ikonanakopan'\n",
    "         ,'ananakopanak','ikonanakopanak','awakopan','awakopanak','ikokopan'\n",
    "         ,'ikokopanak','ikowakopan','ekopan','ekopana','ikokopan','ikokopan','ikowakopan',\n",
    "         'ikowakopana','erikopan','erikopana','ikorikopan','ikorikopana']\n",
    "\n",
    "vta_11 = ['iin','iak','iekw','itan','itak','itakok','imeko',\n",
    "         'okw','okok','imoko','imitako','itokw','itokok','imitoko'\n",
    "         ,'ak','akik','imaki','itc','itcik','imitci','akitc','imitc'\n",
    "         ,'akitcik','imitcik','imakitci','imtci','atc','iskw',\n",
    "         'atcik','imatci','iskik','imiski','itakw','itakok','ekw','ekok',\n",
    "         'atc','atcik','imatc','imatcik','imaritci','eritci','ewaritci',\n",
    "         'ikoritci','ikowaritci','kotc','ikotcik']\n",
    "\n",
    "vta_12 = ['iine','itaane','iake','iekwe','itake','itakokwe',\n",
    "         'okwe','okwawe','itokwe','itokwawe','amake','akawe',\n",
    "         'ikote','ikowate','imite','imitawe','ate','akite','atawe','iske','iskawe'\n",
    "         ,'ewekwe','etawe','itakwe','itakawe','amate','awate','ikote','ikowate',\n",
    "         'arite','ariwate','ariwatena','ikorite','ikoriwate']\n",
    "vta_13 = ['ipan','iekopan','iakipan','iekopan','itapan','itakipan','itakokipan'\n",
    "         , 'itakipan','okopan','okwapan','itakopan','itokwapan','akipan','akwapan','ispan',\n",
    "         'iwaspan','akitipan','akitwapan','atipan','atwapan','ewekopan','ewekwapan','aspan',\n",
    "         'aspana','awaspan','awaspana','arispan','arispana','imitipan','imitwapan','iskipan',\n",
    "         'iskwapan','itakopan','itakwapan','ikospan','ikowaspana',\n",
    "         'ikorispan','ikorwiwarispan']\n",
    "vta_14 = ['iwonen','iwakwen','iwekwen','itawonen','itakokwen','owokwen', 'owokwenak'\n",
    "         ,'awoken','awokenak','awakiten','awakitenak','awoten','awotenak','ewekwen','ewekwenak',\n",
    "         'akwen','awakwen','itokwen','itokwenak','ikwen','iwakwen','itkowen','itokwenak',\n",
    "         'iskwen','iskwaken','itakwen','itawenak','ikokwen','ikowakwen',\n",
    "         'ikowakwen','arikwen','arikwena','ikorikwen','ikorikwena']\n",
    "\n",
    "vta_15 = ['iwopanen','iakopanen','iekopanen','itawopanen','itakopanen',\n",
    "         'owokopanen','awokopanenak','awokipanen','awokipanenak','awokitipanen',\n",
    "         'awokitipanenak','awotipanen','awotipanenak','ewekopanen','ewekopanenak',\n",
    "         'ikokopanenak','ikokopanen','iskwakopanen','iskopanen','iamitokopanenak','iamitokopanen',\n",
    "         'iwakopanen','ikopanen','itokokopanenak','itokokopanen']\n",
    "\n",
    "vta_17_a = ['ici','icinan','icikw','imik','imakw','atan','atanak','imatan','i','ik','im','akw','akok']\n",
    "vta_17_b  = ['icikan','icikanan','icikekw','imakanak','imakan','akan','akanak','imakan','akekw','akekok']\n",
    "\n",
    "\n",
    "vti_01 = ['en','enawaw','enano','enan','am','amok','amiriw','amiriwa','w','wa','riw','riwawa']\n",
    "vti_03 = ['etai','etawaw','etano','etai','etan','amopan','amopank','amiripan','amiripana','pan','pana','ripan','ripana']\n",
    "vti_09 = ['enatake','enawatake','enanotake','amotake','amotakenak','amiritake',\n",
    "         'amiritakena','take','takena','ritakena','ritakena']\n",
    "vti_10 = ['enakopan','enawakopan','enanokopan','enanakopan','amokopan','amowakopan','amirikopan','amirikopana']\n",
    "vti_11 = ['aman','amekw','amokw','amak','ak','akik','amiritci','k','ki','riki']\n",
    "vti_12a = ['amane','amekwe','amiekwe','amokwe','amoikwe','amane','amake','amane','amote','amowate','amirite','amiritena']\n",
    "#vti_12b = vit_12a\n",
    "vti_13 = ['amopan','amekopan','amokopan','amapan','amakipan','akipan','akwapan',\n",
    "          'amirispan', 'amirispana']\n",
    "vti_14 = ['amowonen','amwewokwen','amowokwen','amowaken','amokwen','amowakwen','amirikwen','amirikwena']\n",
    "vti_15 = ['amowopanen','amokwekopanen','amokopanen','amowapanen','amowakipanen','amokopanen','amowkopanen','amirikopanen','amirikopanena']\n",
    "vti_17a = ['a','amokw','eta']\n",
    "vti_17b = ['ekan','amokan']\n",
    "\n",
    "\n",
    "\n",
    "vti2_01 = ['n','nawaw','nano','nan','w','wok','riw','riwa','o','iw','iwa']\n",
    "vti2_03 = ['tai','tawaw','tanano','tai','tan','pan','panak','ripan','ripana','pan','ipana','opan','opana']\n",
    "vti2_09 = ['natake','nawatake','nanotake',\n",
    "          'nanatake','take','takenak','ritake',\n",
    "         'ritakena','otake','otakena','oritakena','oritakena']\n",
    "vti2_10 = ['nakopan','nawakopan','nanokopan','nakopan','kopan','wakopan','rikopan','rikopana']\n",
    "vti2_11 = ['in','iekw','ikw','ian','iak','tc','tcik','ritci','ki','niki','nik']\n",
    "vti2_12a = ['ine','iekwe','ikwe','iane','iake','te','wate','rite','ritena']\n",
    "#vti_12b = vit_12a\n",
    "vti_13 = ['ipan','iekopan','ikopan','iapan','iakipan','span','waspan',\n",
    "          'rispan', 'rispana']\n",
    "vti_14 = ['wonen','wewokwen','wokwen','wanen','waken','kwen','wakwen','rikwena','rikwena']\n",
    "vti_15 = ['wopanen','wekopanen','wokopanen','wapanen','wakipanen','kopanen','wakopanen','rikopanen','rikopanena']\n",
    "vti_17a = ['kw','tan']\n",
    "vti_17b = ['kan','kekw','nano']"
   ]
  },
  {
   "cell_type": "code",
   "execution_count": null,
   "id": "748cbd35",
   "metadata": {},
   "outputs": [],
   "source": [
    " # possessive Pronouns\n",
    "    #befor w or constant \n",
    "    \n",
    "    #mine , yours , he's\n",
    "    possisive_pronouns_prefexis = ['ki','ni','o']\n",
    "    # befor o \n",
    "    possisive_pronouns_prefexis = ['k','n','o']\n",
    "    # before vowel\n",
    "    possisive_pronouns_prefexis = ['kit','nit','ot']\n",
    "    \n",
    "    # notre mine and hes = ni possisive\n",
    "    ni + word + in/an\n",
    "    # notre notre  mine and yours \n",
    "    ki + word + in/o\n",
    "    # your (plural) \n",
    "    ki + word + iwaw\n",
    "    #thier \n",
    "    o + word + iwaw\n",
    "    o+ word + iwa \n",
    "    o + word + aw\n",
    "    # his other froms \n",
    "    o + word + iriw\n",
    "    \n",
    "    # someone propoerty  indefinite format \n",
    "    o + word + nan or awik\n",
    "    \n",
    "    #surboviatif \n",
    "    \n",
    "    #possisive comes befor the plural\n",
    "    \n",
    "                \n",
    "    stop-words = ['kotahik','awihik','kotak','awik', 'wirawaw','wir','ninan',\n",
    "                  'kirano','kirawaw','nin','kir' , 'kekwan']\n",
    "    ask_question_stop_words =['awin','awiritake','kekwan' ,'tan' ]\n",
    "    presentative_stop_words = ['enko','namaiew']\n",
    "    alternative_stop_words = ['kotak']\n",
    "    demonstrative_stop_words =['nahwe','ohki' , 'nohwe', 'niheriw','neheriw', 'neriw']\n",
    "    \n",
    "    \n",
    "    #verbs"
   ]
  },
  {
   "cell_type": "code",
   "execution_count": null,
   "id": "cc3ff98a",
   "metadata": {},
   "outputs": [],
   "source": []
  }
 ],
 "metadata": {
  "kernelspec": {
   "display_name": "Python 3 (ipykernel)",
   "language": "python",
   "name": "python3"
  },
  "language_info": {
   "codemirror_mode": {
    "name": "ipython",
    "version": 3
   },
   "file_extension": ".py",
   "mimetype": "text/x-python",
   "name": "python",
   "nbconvert_exporter": "python",
   "pygments_lexer": "ipython3",
   "version": "3.9.16"
  }
 },
 "nbformat": 4,
 "nbformat_minor": 5
}
