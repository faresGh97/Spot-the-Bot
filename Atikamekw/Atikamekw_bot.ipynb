{
 "cells": [
  {
   "cell_type": "code",
   "execution_count": 1,
   "id": "ee36d709",
   "metadata": {},
   "outputs": [],
   "source": [
    "import os\n",
    "from tokenizers.models import BPE\n",
    "from tokenizers import Tokenizer\n",
    "from tokenizers.decoders import ByteLevel as ByteLevelDecoder\n",
    "from tokenizers.normalizers import NFKC, Sequence\n",
    "from tokenizers.pre_tokenizers import ByteLevel\n",
    "from tokenizers.trainers import BpeTrainer\n",
    "\n",
    "class BPE_token(object):\n",
    "    def __init__(self):\n",
    "        self.tokenizer = Tokenizer(BPE())\n",
    "        self.tokenizer.normalizer = Sequence([\n",
    "            NFKC()\n",
    "        ])\n",
    "        self.tokenizer.pre_tokenizer = ByteLevel()\n",
    "        self.tokenizer.decoder = ByteLevelDecoder()\n",
    "\n",
    "    def bpe_train(self, paths):\n",
    "        trainer = BpeTrainer(vocab_size=50000, show_progress=True, inital_alphabet=ByteLevel.alphabet(), special_tokens=[\n",
    "            \"<s>\",\n",
    "            \"<pad>\",\n",
    "            \"</s>\",\n",
    "            \"<unk>\",\n",
    "            \"<mask>\"\n",
    "        ])\n",
    "        self.tokenizer.train(files=paths, trainer=trainer)\n",
    "\n",
    "    def save_tokenizer(self, location, prefix=None):\n",
    "        if not os.path.exists(location):\n",
    "            os.makedirs(location)\n",
    "        self.tokenizer.model.save(location, prefix)\n",
    "\n"
   ]
  },
  {
   "cell_type": "code",
   "execution_count": 3,
   "id": "0ed95e17",
   "metadata": {},
   "outputs": [
    {
     "name": "stdout",
     "output_type": "stream",
     "text": [
      "['%C3%89cole$$$otapi kiskinohamatowikam part_prox ici acteam atikam oten manawan icinikatcikateam part_rept nicw mitatw mitanw part_conn niar mitanw taciw kiskinohamew otatako pisimam part_sub part_sub aikatew part_sub tcimatakiniw anihe kiskinohamatowikam teciko Pron mi matce pitakew awac part_sub kiskinohamaso wipaw Pron iti kiskeritako part_sub osamew apicac atikamew part_time Pron mi nataweritam part_sub rikitakaniwon okiskinohamatowikamew part_sub iti ocitakiniw part_time mitcew miriwewaniwo kiskinohamakew emitikocimow ekarecamow akitasow tesinikew mirokinehitisow sciences atis e \\n', '%C3%8Ele$$$cap otenw aski ici acteam kanatw irik part_sub tacinani \\n']\n",
      "['otapi kiskinohamatowikam part_prox ici acteam atikam oten manawan icinikatcikateam part_rept nicw mitatw mitanw part_conn niar mitanw taciw kiskinohamew otatako pisimam part_sub part_sub aikatew part_sub tcimatakiniw anihe kiskinohamatowikam teciko Pron mi matce pitakew awac part_sub kiskinohamaso wipaw Pron iti kiskeritako part_sub osamew apicac atikamew part_time Pron mi nataweritam part_sub rikitakaniwon okiskinohamatowikamew part_sub iti ocitakiniw part_time mitcew miriwewaniwo kiskinohamakew emitikocimow ekarecamow akitasow tesinikew mirokinehitisow sciences atis e', 'cap otenw aski ici acteam kanatw irik part_sub tacinani']\n"
     ]
    }
   ],
   "source": [
    "file1 = open('Atikamekw_corpus.txt', 'r')\n",
    "Lines = file1.readlines()\n",
    "print (Lines[1:3])\n",
    "# count = 0\n",
    "all_text= []\n",
    "# # Strips the newline character\n",
    "for line in Lines:\n",
    "    all_text.append(line.split('$$$')[1][:-2])\n",
    "    #count += 1\n",
    "    #print(\"Line{}: {}\".format(count, line.strip()))\n",
    "    \n",
    "print (all_text[1:3])"
   ]
  },
  {
   "cell_type": "code",
   "execution_count": 4,
   "id": "4543cf87",
   "metadata": {},
   "outputs": [
    {
     "name": "stdout",
     "output_type": "stream",
     "text": [
      "['Atikamekw_corpus.txt']\n"
     ]
    }
   ],
   "source": [
    "paths = ['Atikamekw_corpus.txt']\n",
    "print (paths)\n",
    "\n",
    "tokenizer = BPE_token()\n",
    "# train the tokenizer model\n",
    "tokenizer.bpe_train(paths)\n",
    "\n",
    "# saving the tokenized data in our specified folder \n",
    "save_path = './Atikamekw_bot/'\n",
    "tokenizer.save_tokenizer(save_path)\n"
   ]
  },
  {
   "cell_type": "code",
   "execution_count": 5,
   "id": "c5fcf105",
   "metadata": {},
   "outputs": [],
   "source": [
    "# #from tokenise import BPE_token\n",
    "# from pathlib import Path\n",
    "# import os \n",
    "# # the folder 'text' contains all the files\n",
    "# paths = [str(x) for x in Path(\"./Wikipedia Articales Processed/\").glob(\"**/*.txt\")]\n",
    "\n",
    "# print (paths[:3])\n",
    "\n",
    "# tokenizer = BPE_token()\n",
    "# # train the tokenizer model\n",
    "# tokenizer.bpe_train(paths)\n",
    "\n",
    "# # saving the tokenized data in our specified folder \n",
    "# save_path = './Atikamekw_bot/tokenized_data'\n",
    "# tokenizer.save_tokenizer(save_path)"
   ]
  },
  {
   "cell_type": "code",
   "execution_count": 6,
   "id": "e047584c",
   "metadata": {},
   "outputs": [
    {
     "name": "stdout",
     "output_type": "stream",
     "text": [
      "1426\n",
      "158\n"
     ]
    }
   ],
   "source": [
    "import random\n",
    "\n",
    "n = int(len(all_text)/10)\n",
    "\n",
    "random.shuffle(all_text)\n",
    "\n",
    "test_data = all_text[:n]\n",
    "train_data = all_text[n:]\n",
    "\n",
    "print (len(train_data))\n",
    "\n",
    "print (len(test_data))\n",
    "\n",
    "# printing n elements from list\n"
   ]
  },
  {
   "cell_type": "code",
   "execution_count": 7,
   "id": "9b97a409",
   "metadata": {},
   "outputs": [],
   "source": [
    "import tensorflow as tf\n",
    "from transformers import GPT2Config, TFGPT2LMHeadModel, GPT2Tokenizer\n",
    "# loading tokenizer from the saved model path\n",
    "tokenizer = GPT2Tokenizer.from_pretrained(save_path)\n",
    "tokenizer.add_special_tokens({\n",
    "  \"eos_token\": \"</s>\",\n",
    "  \"bos_token\": \"<s>\",\n",
    "  \"unk_token\": \"<unk>\",\n",
    "  \"pad_token\": \"<pad>\",\n",
    "  \"mask_token\": \"<mask>\"\n",
    "})\n",
    "# creating the configurations from which the model can be made\n",
    "config = GPT2Config(\n",
    "  vocab_size=tokenizer.vocab_size,\n",
    "  bos_token_id=tokenizer.bos_token_id,\n",
    "  eos_token_id=tokenizer.eos_token_id\n",
    ")\n",
    "# creating the model\n",
    "model = TFGPT2LMHeadModel(config)"
   ]
  },
  {
   "cell_type": "code",
   "execution_count": 8,
   "id": "37ce2abe",
   "metadata": {},
   "outputs": [],
   "source": [
    "# single_string = ''\n",
    "# for filename in train_data:\n",
    "#     with open(filename, \"r\", encoding='utf-8') as f:\n",
    "#         x = f.read()\n",
    "#     single_string += x + tokenizer.eos_token\n",
    "# string_tokenized = tokenizer.encode(single_string)\n",
    "single_string = ''\n",
    "for file in train_data:\n",
    "    single_string += file + tokenizer.eos_token\n",
    "string_tokenized = tokenizer.encode(single_string)"
   ]
  },
  {
   "cell_type": "code",
   "execution_count": 9,
   "id": "46f446c6",
   "metadata": {},
   "outputs": [],
   "source": [
    "examples = []\n",
    "block_size = 100\n",
    "BATCH_SIZE = 8\n",
    "BUFFER_SIZE = 1000\n",
    "for i in range(0, len(string_tokenized) - block_size + 1, block_size):\n",
    "    examples.append(string_tokenized[i:i + block_size])\n",
    "inputs, labels = [], []\n",
    "for ex in examples:\n",
    "    inputs.append(ex[:-1])\n",
    "    labels.append(ex[1:])\n",
    "dataset = tf.data.Dataset.from_tensor_slices((inputs, labels))\n",
    "dataset = dataset.shuffle(BUFFER_SIZE).batch(BATCH_SIZE, drop_remainder=True)"
   ]
  },
  {
   "cell_type": "code",
   "execution_count": 10,
   "id": "05b0f5b9",
   "metadata": {},
   "outputs": [],
   "source": [
    "# defining our optimizer\n",
    "optimizer = tf.keras.optimizers.Adam(learning_rate=3e-5, epsilon=1e-08, clipnorm=1.0)# definining our loss function\n",
    "loss = tf.keras.losses.SparseCategoricalCrossentropy(from_logits=True)# defining our metric which we want to observe\n",
    "metric = tf.keras.metrics.SparseCategoricalAccuracy('accuracy')# compiling the model\n",
    "model.compile(optimizer=optimizer, loss=[loss, *[None] * model.config.n_layer], metrics=[metric])"
   ]
  },
  {
   "cell_type": "code",
   "execution_count": 11,
   "id": "32578011",
   "metadata": {},
   "outputs": [
    {
     "name": "stdout",
     "output_type": "stream",
     "text": [
      "Epoch 1/100\n",
      "197/197 [==============================] - 50s 139ms/step - loss: 5.2432 - accuracy: 0.3746\n",
      "Epoch 2/100\n",
      "197/197 [==============================] - 27s 138ms/step - loss: 4.2844 - accuracy: 0.4126\n",
      "Epoch 3/100\n",
      "197/197 [==============================] - 27s 140ms/step - loss: 4.0700 - accuracy: 0.4262\n",
      "Epoch 4/100\n",
      "197/197 [==============================] - 28s 141ms/step - loss: 3.9286 - accuracy: 0.4343\n",
      "Epoch 5/100\n",
      "197/197 [==============================] - 27s 139ms/step - loss: 3.8015 - accuracy: 0.4412\n",
      "Epoch 6/100\n",
      "197/197 [==============================] - 27s 138ms/step - loss: 3.6804 - accuracy: 0.4484\n",
      "Epoch 7/100\n",
      "197/197 [==============================] - 27s 139ms/step - loss: 3.5628 - accuracy: 0.4565\n",
      "Epoch 8/100\n",
      "197/197 [==============================] - 29s 149ms/step - loss: 3.4511 - accuracy: 0.4657\n",
      "Epoch 9/100\n",
      "197/197 [==============================] - 27s 139ms/step - loss: 3.3380 - accuracy: 0.4752\n",
      "Epoch 10/100\n",
      "197/197 [==============================] - 28s 140ms/step - loss: 3.2298 - accuracy: 0.4849\n",
      "Epoch 11/100\n",
      "197/197 [==============================] - 27s 139ms/step - loss: 3.1177 - accuracy: 0.4979\n",
      "Epoch 12/100\n",
      "197/197 [==============================] - 29s 147ms/step - loss: 3.0034 - accuracy: 0.5093\n",
      "Epoch 13/100\n",
      "197/197 [==============================] - 28s 141ms/step - loss: 2.8957 - accuracy: 0.5224\n",
      "Epoch 14/100\n",
      "197/197 [==============================] - 27s 139ms/step - loss: 2.7822 - accuracy: 0.5382\n",
      "Epoch 15/100\n",
      "197/197 [==============================] - 27s 139ms/step - loss: 2.6750 - accuracy: 0.5516\n",
      "Epoch 16/100\n",
      "197/197 [==============================] - 28s 141ms/step - loss: 2.5638 - accuracy: 0.5678\n",
      "Epoch 17/100\n",
      "197/197 [==============================] - 28s 144ms/step - loss: 2.4546 - accuracy: 0.5825\n",
      "Epoch 18/100\n",
      "197/197 [==============================] - 27s 138ms/step - loss: 2.3554 - accuracy: 0.5966\n",
      "Epoch 19/100\n",
      "197/197 [==============================] - 27s 139ms/step - loss: 2.2510 - accuracy: 0.6134\n",
      "Epoch 20/100\n",
      "197/197 [==============================] - 27s 138ms/step - loss: 2.1523 - accuracy: 0.6267\n",
      "Epoch 21/100\n",
      "197/197 [==============================] - 29s 149ms/step - loss: 2.0555 - accuracy: 0.6417\n",
      "Epoch 22/100\n",
      "197/197 [==============================] - 27s 137ms/step - loss: 1.9655 - accuracy: 0.6557\n",
      "Epoch 23/100\n",
      "197/197 [==============================] - 27s 138ms/step - loss: 1.8737 - accuracy: 0.6707\n",
      "Epoch 24/100\n",
      "197/197 [==============================] - 27s 138ms/step - loss: 1.7872 - accuracy: 0.6852\n",
      "Epoch 25/100\n",
      "197/197 [==============================] - 29s 146ms/step - loss: 1.7056 - accuracy: 0.6986\n",
      "Epoch 26/100\n",
      "197/197 [==============================] - 28s 140ms/step - loss: 1.6250 - accuracy: 0.7116\n",
      "Epoch 27/100\n",
      "197/197 [==============================] - 27s 139ms/step - loss: 1.5461 - accuracy: 0.7249\n",
      "Epoch 28/100\n",
      "197/197 [==============================] - 27s 138ms/step - loss: 1.4717 - accuracy: 0.7375\n",
      "Epoch 29/100\n",
      "197/197 [==============================] - 28s 143ms/step - loss: 1.4000 - accuracy: 0.7509\n",
      "Epoch 30/100\n",
      "197/197 [==============================] - 28s 145ms/step - loss: 1.3277 - accuracy: 0.7642\n",
      "Epoch 31/100\n",
      "197/197 [==============================] - 27s 138ms/step - loss: 1.2580 - accuracy: 0.7776\n",
      "Epoch 32/100\n",
      "197/197 [==============================] - 27s 139ms/step - loss: 1.1975 - accuracy: 0.7877\n",
      "Epoch 33/100\n",
      "197/197 [==============================] - 27s 139ms/step - loss: 1.1334 - accuracy: 0.8003\n",
      "Epoch 34/100\n",
      "197/197 [==============================] - 29s 148ms/step - loss: 1.0695 - accuracy: 0.8135\n",
      "Epoch 35/100\n",
      "197/197 [==============================] - 27s 138ms/step - loss: 1.0138 - accuracy: 0.8236\n",
      "Epoch 36/100\n",
      "197/197 [==============================] - 28s 140ms/step - loss: 0.9600 - accuracy: 0.8345\n",
      "Epoch 37/100\n",
      "197/197 [==============================] - 27s 138ms/step - loss: 0.9046 - accuracy: 0.8456\n",
      "Epoch 38/100\n",
      "197/197 [==============================] - 29s 146ms/step - loss: 0.8538 - accuracy: 0.8555\n",
      "Epoch 39/100\n",
      "197/197 [==============================] - 28s 143ms/step - loss: 0.8019 - accuracy: 0.8669\n",
      "Epoch 40/100\n",
      "197/197 [==============================] - 27s 139ms/step - loss: 0.7534 - accuracy: 0.8764\n",
      "Epoch 41/100\n",
      "197/197 [==============================] - 27s 139ms/step - loss: 0.7085 - accuracy: 0.8857\n",
      "Epoch 42/100\n",
      "197/197 [==============================] - 28s 145ms/step - loss: 0.6671 - accuracy: 0.8929\n",
      "Epoch 43/100\n",
      "197/197 [==============================] - 28s 144ms/step - loss: 0.6271 - accuracy: 0.9018\n",
      "Epoch 44/100\n",
      "197/197 [==============================] - 27s 139ms/step - loss: 0.5850 - accuracy: 0.9107\n",
      "Epoch 45/100\n",
      "197/197 [==============================] - 28s 140ms/step - loss: 0.5492 - accuracy: 0.9173\n",
      "Epoch 46/100\n",
      "197/197 [==============================] - 28s 140ms/step - loss: 0.5108 - accuracy: 0.9249\n",
      "Epoch 47/100\n",
      "197/197 [==============================] - 29s 148ms/step - loss: 0.4775 - accuracy: 0.9310\n",
      "Epoch 48/100\n",
      "197/197 [==============================] - 27s 138ms/step - loss: 0.4460 - accuracy: 0.9368\n",
      "Epoch 49/100\n",
      "197/197 [==============================] - 27s 139ms/step - loss: 0.4159 - accuracy: 0.9420\n",
      "Epoch 50/100\n",
      "197/197 [==============================] - 27s 139ms/step - loss: 0.3878 - accuracy: 0.9481\n",
      "Epoch 51/100\n",
      "197/197 [==============================] - 29s 146ms/step - loss: 0.3586 - accuracy: 0.9527\n",
      "Epoch 52/100\n",
      "197/197 [==============================] - 27s 139ms/step - loss: 0.3370 - accuracy: 0.9558\n",
      "Epoch 53/100\n",
      "197/197 [==============================] - 27s 139ms/step - loss: 0.3146 - accuracy: 0.9596\n",
      "Epoch 54/100\n",
      "197/197 [==============================] - 27s 138ms/step - loss: 0.2909 - accuracy: 0.9628\n",
      "Epoch 55/100\n",
      "197/197 [==============================] - 28s 145ms/step - loss: 0.2705 - accuracy: 0.9660\n",
      "Epoch 56/100\n",
      "197/197 [==============================] - 28s 143ms/step - loss: 0.2521 - accuracy: 0.9680\n",
      "Epoch 57/100\n",
      "197/197 [==============================] - 27s 138ms/step - loss: 0.2346 - accuracy: 0.9702\n",
      "Epoch 58/100\n",
      "197/197 [==============================] - 27s 139ms/step - loss: 0.2206 - accuracy: 0.9718\n",
      "Epoch 59/100\n",
      "197/197 [==============================] - 28s 141ms/step - loss: 0.2076 - accuracy: 0.9729\n",
      "Epoch 60/100\n",
      "197/197 [==============================] - 29s 147ms/step - loss: 0.1937 - accuracy: 0.9748\n",
      "Epoch 61/100\n",
      "197/197 [==============================] - 27s 138ms/step - loss: 0.1801 - accuracy: 0.9760\n",
      "Epoch 62/100\n",
      "197/197 [==============================] - 27s 139ms/step - loss: 0.1709 - accuracy: 0.9766\n",
      "Epoch 63/100\n",
      "197/197 [==============================] - 27s 138ms/step - loss: 0.1599 - accuracy: 0.9777\n",
      "Epoch 64/100\n",
      "197/197 [==============================] - 29s 148ms/step - loss: 0.1523 - accuracy: 0.9781\n",
      "Epoch 65/100\n",
      "197/197 [==============================] - 27s 139ms/step - loss: 0.1458 - accuracy: 0.9786\n",
      "Epoch 66/100\n",
      "197/197 [==============================] - 27s 139ms/step - loss: 0.1387 - accuracy: 0.9789\n",
      "Epoch 67/100\n",
      "197/197 [==============================] - 27s 139ms/step - loss: 0.1304 - accuracy: 0.9799\n",
      "Epoch 68/100\n",
      "197/197 [==============================] - 28s 144ms/step - loss: 0.1253 - accuracy: 0.9805\n",
      "Epoch 69/100\n",
      "197/197 [==============================] - 28s 144ms/step - loss: 0.1214 - accuracy: 0.9801\n",
      "Epoch 70/100\n",
      "197/197 [==============================] - 27s 139ms/step - loss: 0.1162 - accuracy: 0.9812\n",
      "Epoch 71/100\n",
      "197/197 [==============================] - 27s 139ms/step - loss: 0.1122 - accuracy: 0.9811\n",
      "Epoch 72/100\n",
      "197/197 [==============================] - 28s 141ms/step - loss: 0.1078 - accuracy: 0.9815\n",
      "Epoch 73/100\n",
      "197/197 [==============================] - 29s 147ms/step - loss: 0.1047 - accuracy: 0.9816\n",
      "Epoch 74/100\n",
      "197/197 [==============================] - 27s 139ms/step - loss: 0.0985 - accuracy: 0.9828\n",
      "Epoch 75/100\n",
      "197/197 [==============================] - 27s 139ms/step - loss: 0.0963 - accuracy: 0.9823\n",
      "Epoch 76/100\n",
      "197/197 [==============================] - 27s 139ms/step - loss: 0.0955 - accuracy: 0.9823\n",
      "Epoch 77/100\n",
      "197/197 [==============================] - 29s 149ms/step - loss: 0.0926 - accuracy: 0.9827\n",
      "Epoch 78/100\n",
      "197/197 [==============================] - 27s 139ms/step - loss: 0.0915 - accuracy: 0.9825\n",
      "Epoch 79/100\n"
     ]
    },
    {
     "name": "stdout",
     "output_type": "stream",
     "text": [
      "197/197 [==============================] - 28s 140ms/step - loss: 0.0871 - accuracy: 0.9833\n",
      "Epoch 80/100\n",
      "197/197 [==============================] - 27s 139ms/step - loss: 0.0853 - accuracy: 0.9832\n",
      "Epoch 81/100\n",
      "197/197 [==============================] - 29s 145ms/step - loss: 0.0850 - accuracy: 0.9835\n",
      "Epoch 82/100\n",
      "197/197 [==============================] - 28s 142ms/step - loss: 0.0822 - accuracy: 0.9837\n",
      "Epoch 83/100\n",
      "197/197 [==============================] - 27s 139ms/step - loss: 0.0803 - accuracy: 0.9836\n",
      "Epoch 84/100\n",
      "197/197 [==============================] - 27s 139ms/step - loss: 0.0790 - accuracy: 0.9842\n",
      "Epoch 85/100\n",
      "197/197 [==============================] - 27s 139ms/step - loss: 0.0786 - accuracy: 0.9840\n",
      "Epoch 86/100\n",
      "197/197 [==============================] - 27s 138ms/step - loss: 0.0778 - accuracy: 0.9838\n",
      "Epoch 87/100\n",
      "197/197 [==============================] - 27s 137ms/step - loss: 0.0756 - accuracy: 0.9842\n",
      "Epoch 88/100\n",
      "197/197 [==============================] - 27s 139ms/step - loss: 0.0758 - accuracy: 0.9839\n",
      "Epoch 89/100\n",
      "197/197 [==============================] - 27s 138ms/step - loss: 0.0753 - accuracy: 0.9841\n",
      "Epoch 90/100\n",
      "197/197 [==============================] - 29s 148ms/step - loss: 0.0719 - accuracy: 0.9848\n",
      "Epoch 91/100\n",
      "197/197 [==============================] - 27s 139ms/step - loss: 0.0721 - accuracy: 0.9845\n",
      "Epoch 92/100\n",
      "197/197 [==============================] - 27s 138ms/step - loss: 0.0707 - accuracy: 0.9844\n",
      "Epoch 93/100\n",
      "197/197 [==============================] - 27s 139ms/step - loss: 0.0701 - accuracy: 0.9846\n",
      "Epoch 94/100\n",
      "197/197 [==============================] - 28s 144ms/step - loss: 0.0681 - accuracy: 0.9848\n",
      "Epoch 95/100\n",
      "197/197 [==============================] - 28s 142ms/step - loss: 0.0660 - accuracy: 0.9853\n",
      "Epoch 96/100\n",
      "197/197 [==============================] - 27s 138ms/step - loss: 0.0658 - accuracy: 0.9851\n",
      "Epoch 97/100\n",
      "197/197 [==============================] - 28s 141ms/step - loss: 0.0646 - accuracy: 0.9856\n",
      "Epoch 98/100\n",
      "197/197 [==============================] - 28s 140ms/step - loss: 0.0661 - accuracy: 0.9851\n",
      "Epoch 99/100\n",
      "197/197 [==============================] - 28s 140ms/step - loss: 0.0672 - accuracy: 0.9849\n",
      "Epoch 100/100\n",
      "197/197 [==============================] - 27s 139ms/step - loss: 0.0631 - accuracy: 0.9859\n"
     ]
    }
   ],
   "source": [
    "num_epoch = 100\n",
    "history = model.fit(dataset, epochs=num_epoch)"
   ]
  },
  {
   "cell_type": "code",
   "execution_count": null,
   "id": "cb02c7ab",
   "metadata": {},
   "outputs": [],
   "source": [
    "# text = \"Otapi kiskinohamatowikamikw\"\n",
    "# # encoding the input text\n",
    "# input_ids = tokenizer.encode(text, return_tensors='tf')\n",
    "# # getting out output\n",
    "# beam_output = model.generate(\n",
    "#   input_ids,\n",
    "#   max_length = 50,\n",
    "#   num_beams = 5,\n",
    "#   temperature = 0.7,\n",
    "#   no_repeat_ngram_size=2,\n",
    "#   num_return_sequences=5\n",
    "# )"
   ]
  },
  {
   "cell_type": "code",
   "execution_count": null,
   "id": "b38d793e",
   "metadata": {},
   "outputs": [],
   "source": [
    "# print (tokenizer.decode(beam_output[0],skip_special_tokens = True))\n"
   ]
  },
  {
   "cell_type": "code",
   "execution_count": 12,
   "id": "37703722",
   "metadata": {},
   "outputs": [
    {
     "data": {
      "text/plain": [
       "('./Atikamekw_bot/tokenizer_config.json',\n",
       " './Atikamekw_bot/special_tokens_map.json',\n",
       " './Atikamekw_bot/vocab.json',\n",
       " './Atikamekw_bot/merges.txt',\n",
       " './Atikamekw_bot/added_tokens.json')"
      ]
     },
     "execution_count": 12,
     "metadata": {},
     "output_type": "execute_result"
    }
   ],
   "source": [
    "from transformers import WEIGHTS_NAME, CONFIG_NAME\n",
    "output_dir = './Atikamekw_bot/'\n",
    "# creating directory if it is not present\n",
    "if not os.path.exists(output_dir):\n",
    "  os.mkdir(output_dir)\n",
    "\n",
    "model_to_save = model.module if hasattr(model, 'module') else model\n",
    "\n",
    "output_model_file = os.path.join(output_dir, WEIGHTS_NAME)\n",
    "output_config_file = os.path.join(output_dir, CONFIG_NAME)\n",
    "# save model and model configs\n",
    "model.save_pretrained(output_dir)\n",
    "model_to_save.config.to_json_file(output_config_file)\n",
    "# save tokenizer\n",
    "tokenizer.save_pretrained(output_dir)"
   ]
  },
  {
   "cell_type": "code",
   "execution_count": 13,
   "id": "fc8dd0cb",
   "metadata": {},
   "outputs": [],
   "source": [
    "with open ('./Atikamekw_bot/test_original_corpus.txt', 'w',encoding='utf-8') as f:\n",
    "    for line in test_data:\n",
    "        f.write(f\"{line}\\n\")"
   ]
  },
  {
   "cell_type": "code",
   "execution_count": 14,
   "id": "d888e056",
   "metadata": {},
   "outputs": [],
   "source": [
    "import glob\n",
    "import tqdm"
   ]
  },
  {
   "cell_type": "code",
   "execution_count": 22,
   "id": "1fccd304",
   "metadata": {},
   "outputs": [],
   "source": [
    "def generate_Text_bot(test_data,bot_path):\n",
    "    \n",
    "    output_file = './Atikamekw_bot/test_bot_corpus.txt'\n",
    "    tokenizer = GPT2Tokenizer.from_pretrained(bot_path)\n",
    "    model = TFGPT2LMHeadModel.from_pretrained(bot_path)\n",
    "    for line in tqdm.tqdm(test_data):\n",
    "        start_token = ' '.join(line.split()[:2])\n",
    "        print (start_token)\n",
    "        input_ids = tokenizer.encode(start_token, return_tensors='tf')\n",
    "        # getting out output\n",
    "        beam_output = model.generate(\n",
    "          input_ids,\n",
    "          max_length = len(line.split()),\n",
    "          num_beams = 5,\n",
    "          temperature = 0.7,\n",
    "          no_repeat_ngram_size=2,\n",
    "          num_return_sequences=5\n",
    "        )\n",
    "        output_text = tokenizer.decode(beam_output[0],skip_special_tokens = True)\n",
    "        print (output_text)\n",
    "        with open(output_file, 'a',encoding='utf-8') as f:\n",
    "            f.write(f\"{output_text}\\n\")\n",
    "            \n",
    "        #break"
   ]
  },
  {
   "cell_type": "code",
   "execution_count": 23,
   "id": "694a44ac",
   "metadata": {},
   "outputs": [
    {
     "name": "stderr",
     "output_type": "stream",
     "text": [
      "All model checkpoint layers were used when initializing TFGPT2LMHeadModel.\n",
      "\n",
      "All the layers of TFGPT2LMHeadModel were initialized from the model checkpoint at ./Atikamekw_bot/.\n",
      "If your task is similar to the task the model of the checkpoint was trained on, you can already use TFGPT2LMHeadModel for predictions without further training.\n",
      "  0%|          | 0/158 [00:00<?, ?it/s]The attention mask and the pad token id were not set. As a consequence, you may observe unexpected behavior. Please pass your input's `attention_mask` to obtain reliable results.\n",
      "Setting `pad_token_id` to 2 (first `eos_token_id`) to generate sequence\n"
     ]
    },
    {
     "name": "stdout",
     "output_type": "stream",
     "text": [
      "enkw w_demo\n"
     ]
    },
    {
     "name": "stderr",
     "output_type": "stream",
     "text": [
      "  1%|          | 1/158 [00:03<08:55,  3.41s/it]The attention mask and the pad token id were not set. As a consequence, you may observe unexpected behavior. Please pass your input's `attention_mask` to obtain reliable results.\n",
      "Setting `pad_token_id` to 2 (first `eos_token_id`) to generate sequence\n"
     ]
    },
    {
     "name": "stdout",
     "output_type": "stream",
     "text": [
      "enkw w_demo ocki irapitcitc part_sub apit kaskinw wec ici otamironaniw\n",
      "enkw part_sub\n"
     ]
    },
    {
     "name": "stderr",
     "output_type": "stream",
     "text": [
      "  1%|▏         | 2/158 [00:07<10:04,  3.88s/it]The attention mask and the pad token id were not set. As a consequence, you may observe unexpected behavior. Please pass your input's `attention_mask` to obtain reliable results.\n",
      "Setting `pad_token_id` to 2 (first `eos_token_id`) to generate sequence\n"
     ]
    },
    {
     "name": "stdout",
     "output_type": "stream",
     "text": [
      "enkw part_sub icin icipekah mitowi nipicw part pisima\n",
      "saint manawan\n"
     ]
    },
    {
     "name": "stderr",
     "output_type": "stream",
     "text": [
      "  2%|▏         | 3/158 [01:14<1:24:03, 32.54s/it]The attention mask and the pad token id were not set. As a consequence, you may observe unexpected behavior. Please pass your input's `attention_mask` to obtain reliable results.\n",
      "Setting `pad_token_id` to 2 (first `eos_token_id`) to generate sequence\n"
     ]
    },
    {
     "name": "stdout",
     "output_type": "stream",
     "text": [
      "saint manawan part_sub mitaw ntokohiewin itekerw Pron witam kaskinw Pron apiw w_demo otci kinec Pron tac onitcanicw pierre ott isaie simone ernest kir nictam part pisima\n",
      "aski enkw\n"
     ]
    },
    {
     "name": "stderr",
     "output_type": "stream",
     "text": [
      "  3%|▎         | 4/158 [01:16<52:39, 20.52s/it]  The attention mask and the pad token id were not set. As a consequence, you may observe unexpected behavior. Please pass your input's `attention_mask` to obtain reliable results.\n",
      "Setting `pad_token_id` to 2 (first `eos_token_id`) to generate sequence\n"
     ]
    },
    {
     "name": "stdout",
     "output_type": "stream",
     "text": [
      "aski enkw w_demo mictik part_\n",
      "otenw kepew\n"
     ]
    },
    {
     "name": "stderr",
     "output_type": "stream",
     "text": [
      "  3%|▎         | 5/158 [01:18<35:48, 14.04s/it]The attention mask and the pad token id were not set. As a consequence, you may observe unexpected behavior. Please pass your input's `attention_mask` to obtain reliable results.\n",
      "Setting `pad_token_id` to 2 (first `eos_token_id`) to generate sequence\n"
     ]
    },
    {
     "name": "stdout",
     "output_type": "stream",
     "text": [
      "otenw kepew ask ici acteam kanatw irik part_\n",
      "aci kice\n"
     ]
    },
    {
     "name": "stderr",
     "output_type": "stream",
     "text": [
      "  4%|▍         | 6/158 [03:18<2:06:18, 49.86s/it]The attention mask and the pad token id were not set. As a consequence, you may observe unexpected behavior. Please pass your input's `attention_mask` to obtain reliable results.\n",
      "Setting `pad_token_id` to 2 (first `eos_token_id`) to generate sequence\n"
     ]
    },
    {
     "name": "stdout",
     "output_type": "stream",
     "text": [
      "aci kice manitw ano part_sub pe onickaw Pron makowerimew Pron mi kicik Pron apiw osam Pron wi itit part pisima\n",
      "mitowi cikopi\n"
     ]
    },
    {
     "name": "stderr",
     "output_type": "stream",
     "text": [
      "  4%|▍         | 7/158 [03:24<1:29:22, 35.51s/it]The attention mask and the pad token id were not set. As a consequence, you may observe unexpected behavior. Please pass your input's `attention_mask` to obtain reliable results.\n",
      "Setting `pad_token_id` to 2 (first `eos_token_id`) to generate sequence\n"
     ]
    },
    {
     "name": "stdout",
     "output_type": "stream",
     "text": [
      "mitowi cikopi part_sub icinkatakiniwiw tako w_demo miti tako ke ici acte\n",
      "mirwepo part_conn\n"
     ]
    },
    {
     "name": "stderr",
     "output_type": "stream",
     "text": [
      "  5%|▌         | 8/158 [03:37<1:11:23, 28.56s/it]The attention mask and the pad token id were not set. As a consequence, you may observe unexpected behavior. Please pass your input's `attention_mask` to obtain reliable results.\n",
      "Setting `pad_token_id` to 2 (first `eos_token_id`) to generate sequence\n"
     ]
    },
    {
     "name": "stdout",
     "output_type": "stream",
     "text": [
      "mirwepo part_conn ke ici mitciw nitawok anihew mackikiatikam Pron part pisima\n",
      "saint otenw\n"
     ]
    },
    {
     "name": "stderr",
     "output_type": "stream",
     "text": [
      "  6%|▌         | 9/158 [03:40<50:54, 20.50s/it]  The attention mask and the pad token id were not set. As a consequence, you may observe unexpected behavior. Please pass your input's `attention_mask` to obtain reliable results.\n",
      "Setting `pad_token_id` to 2 (first `eos_token_id`) to generate sequence\n"
     ]
    },
    {
     "name": "stdout",
     "output_type": "stream",
     "text": [
      "saint otenw kepew ask ici acteam kanatw irik part_\n",
      "namw part_comp\n"
     ]
    },
    {
     "name": "stderr",
     "output_type": "stream",
     "text": [
      "  6%|▋         | 10/158 [04:16<1:02:32, 25.35s/it]The attention mask and the pad token id were not set. As a consequence, you may observe unexpected behavior. Please pass your input's `attention_mask` to obtain reliable results.\n",
      "Setting `pad_token_id` to 2 (first `eos_token_id`) to generate sequence\n"
     ]
    },
    {
     "name": "stdout",
     "output_type": "stream",
     "text": [
      "namw part_comp ano aci w_demo ocki orakinikewinw matci ocitaw mitcetopiponw anihew ke ici tacikew manawanirinw ani icinikaso onikihikam pierre ott Pron wikimew ott kaki icinikatew kaskinw kotc eki nipowiw anihew mekatekoream kaki okimaciwiw henri ott kir kice okim new piponw Pron witcihew irik nictw piponw irik kaki tci\n",
      "otenw kepew\n"
     ]
    },
    {
     "name": "stderr",
     "output_type": "stream",
     "text": [
      "  7%|▋         | 11/158 [04:19<44:52, 18.32s/it]  The attention mask and the pad token id were not set. As a consequence, you may observe unexpected behavior. Please pass your input's `attention_mask` to obtain reliable results.\n",
      "Setting `pad_token_id` to 2 (first `eos_token_id`) to generate sequence\n"
     ]
    },
    {
     "name": "stdout",
     "output_type": "stream",
     "text": [
      "otenw kepew ask ici acteam kanatw irik part_\n",
      "otenw kepew\n"
     ]
    },
    {
     "name": "stderr",
     "output_type": "stream",
     "text": [
      "  8%|▊         | 12/158 [04:21<32:47, 13.47s/it]The attention mask and the pad token id were not set. As a consequence, you may observe unexpected behavior. Please pass your input's `attention_mask` to obtain reliable results.\n",
      "Setting `pad_token_id` to 2 (first `eos_token_id`) to generate sequence\n"
     ]
    },
    {
     "name": "stdout",
     "output_type": "stream",
     "text": [
      "otenw kepew ask ici acteam kanatw irik part_\n",
      "otakan ici\n"
     ]
    },
    {
     "name": "stderr",
     "output_type": "stream",
     "text": [
      "  8%|▊         | 13/158 [04:26<26:24, 10.93s/it]The attention mask and the pad token id were not set. As a consequence, you may observe unexpected behavior. Please pass your input's `attention_mask` to obtain reliable results.\n",
      "Setting `pad_token_id` to 2 (first `eos_token_id`) to generate sequence\n"
     ]
    },
    {
     "name": "stdout",
     "output_type": "stream",
     "text": [
      "otakan ici mitciw mitcenw kek ke Pron mitciw mitowi kaskinw kek mitowi part_sub ici\n",
      "notc part_sub\n"
     ]
    },
    {
     "name": "stderr",
     "output_type": "stream",
     "text": [
      "  9%|▉         | 14/158 [04:44<31:21, 13.07s/it]The attention mask and the pad token id were not set. As a consequence, you may observe unexpected behavior. Please pass your input's `attention_mask` to obtain reliable results.\n",
      "Setting `pad_token_id` to 2 (first `eos_token_id`) to generate sequence\n"
     ]
    },
    {
     "name": "stdout",
     "output_type": "stream",
     "text": [
      "notc part_sub ici omikiw keko Pron cikopi part pisima\n",
      "iskwew nerw\n"
     ]
    },
    {
     "name": "stderr",
     "output_type": "stream",
     "text": [
      "  9%|▉         | 15/158 [04:52<27:19, 11.47s/it]The attention mask and the pad token id were not set. As a consequence, you may observe unexpected behavior. Please pass your input's `attention_mask` to obtain reliable results.\n",
      "Setting `pad_token_id` to 2 (first `eos_token_id`) to generate sequence\n"
     ]
    },
    {
     "name": "stdout",
     "output_type": "stream",
     "text": [
      "iskwew nerw part_sub ici mitciw cip keko Pron ke mitciw nitawok anihew kickw arimew pikiwanic katw pitakea\n",
      "notc part_sub\n"
     ]
    },
    {
     "name": "stderr",
     "output_type": "stream",
     "text": [
      " 10%|█         | 16/158 [05:07<29:44, 12.56s/it]The attention mask and the pad token id were not set. As a consequence, you may observe unexpected behavior. Please pass your input's `attention_mask` to obtain reliable results.\n",
      "Setting `pad_token_id` to 2 (first `eos_token_id`) to generate sequence\n"
     ]
    },
    {
     "name": "stdout",
     "output_type": "stream",
     "text": [
      "notc part_sub ici omikiw keko Pron cikopi part pisima\n",
      "asini sakih\n"
     ]
    },
    {
     "name": "stderr",
     "output_type": "stream",
     "text": [
      " 11%|█         | 17/158 [05:09<22:09,  9.43s/it]The attention mask and the pad token id were not set. As a consequence, you may observe unexpected behavior. Please pass your input's `attention_mask` to obtain reliable results.\n",
      "Setting `pad_token_id` to 2 (first `eos_token_id`) to generate sequence\n"
     ]
    },
    {
     "name": "stdout",
     "output_type": "stream",
     "text": [
      "asini sakih kepew ask ici acteam kanat\n",
      "otenw kepew\n"
     ]
    },
    {
     "name": "stderr",
     "output_type": "stream",
     "text": [
      " 11%|█▏        | 18/158 [05:17<20:55,  8.97s/it]The attention mask and the pad token id were not set. As a consequence, you may observe unexpected behavior. Please pass your input's `attention_mask` to obtain reliable results.\n",
      "Setting `pad_token_id` to 2 (first `eos_token_id`) to generate sequence\n"
     ]
    },
    {
     "name": "stdout",
     "output_type": "stream",
     "text": [
      "otenw kepew ask ici acteam kanatw irik part_sub tacinani\n",
      "anikotcacw sakah\n"
     ]
    },
    {
     "name": "stderr",
     "output_type": "stream",
     "text": [
      " 12%|█▏        | 19/158 [05:19<16:02,  6.93s/it]The attention mask and the pad token id were not set. As a consequence, you may observe unexpected behavior. Please pass your input's `attention_mask` to obtain reliable results.\n",
      "Setting `pad_token_id` to 2 (first `eos_token_id`) to generate sequence\n"
     ]
    },
    {
     "name": "stdout",
     "output_type": "stream",
     "text": [
      "anikotcacw sakah kepew ask ici acteam kanatw irik\n",
      "mont saint\n"
     ]
    },
    {
     "name": "stderr",
     "output_type": "stream",
     "text": [
      " 13%|█▎        | 20/158 [05:23<13:19,  5.80s/it]The attention mask and the pad token id were not set. As a consequence, you may observe unexpected behavior. Please pass your input's `attention_mask` to obtain reliable results.\n",
      "Setting `pad_token_id` to 2 (first `eos_token_id`) to generate sequence\n"
     ]
    },
    {
     "name": "stdout",
     "output_type": "stream",
     "text": [
      "mont saint nations part_sub tacinani\n",
      "s otenw\n"
     ]
    },
    {
     "name": "stderr",
     "output_type": "stream",
     "text": [
      " 13%|█▎        | 21/158 [05:25<10:58,  4.80s/it]The attention mask and the pad token id were not set. As a consequence, you may observe unexpected behavior. Please pass your input's `attention_mask` to obtain reliable results.\n",
      "Setting `pad_token_id` to 2 (first `eos_token_id`) to generate sequence\n"
     ]
    },
    {
     "name": "stdout",
     "output_type": "stream",
     "text": [
      "s otenw kanatw irik part_sub tacinani\n",
      "an antane\n"
     ]
    },
    {
     "name": "stderr",
     "output_type": "stream",
     "text": [
      " 14%|█▍        | 22/158 [06:05<34:43, 15.32s/it]The attention mask and the pad token id were not set. As a consequence, you may observe unexpected behavior. Please pass your input's `attention_mask` to obtain reliable results.\n",
      "Setting `pad_token_id` to 2 (first `eos_token_id`) to generate sequence\n"
     ]
    },
    {
     "name": "stdout",
     "output_type": "stream",
     "text": [
      "an antane mict part_sub ici mitciw mitowi ite part pisima\n",
      "enkw anowe\n"
     ]
    },
    {
     "name": "stderr",
     "output_type": "stream",
     "text": [
      " 15%|█▍        | 23/158 [06:07<25:35, 11.38s/it]The attention mask and the pad token id were not set. As a consequence, you may observe unexpected behavior. Please pass your input's `attention_mask` to obtain reliable results.\n",
      "Setting `pad_token_id` to 2 (first `eos_token_id`) to generate sequence\n"
     ]
    },
    {
     "name": "stdout",
     "output_type": "stream",
     "text": [
      "enkw anowe oko\n",
      "awesis part_sub\n"
     ]
    },
    {
     "name": "stderr",
     "output_type": "stream",
     "text": [
      " 15%|█▌        | 24/158 [06:18<24:54, 11.15s/it]The attention mask and the pad token id were not set. As a consequence, you may observe unexpected behavior. Please pass your input's `attention_mask` to obtain reliable results.\n",
      "Setting `pad_token_id` to 2 (first `eos_token_id`) to generate sequence\n"
     ]
    },
    {
     "name": "stdout",
     "output_type": "stream",
     "text": [
      "awesis part_sub itikitiw napiw apicicw ketcw Pron waw part onihikaniwoconn pemantcic apicicw napiw miniciw kir tawkw ocawackosiw patoc tca part icinakoswsub iti takwekin pitoc iti otakoci\n",
      "part_sub pikitowaniw\n"
     ]
    },
    {
     "name": "stderr",
     "output_type": "stream",
     "text": [
      " 16%|█▌        | 25/158 [06:30<25:36, 11.55s/it]The attention mask and the pad token id were not set. As a consequence, you may observe unexpected behavior. Please pass your input's `attention_mask` to obtain reliable results.\n",
      "Setting `pad_token_id` to 2 (first `eos_token_id`) to generate sequence\n"
     ]
    },
    {
     "name": "stdout",
     "output_type": "stream",
     "text": [
      "part_sub pikitowaniw kitciw ke ici sasikatew tako part_conn actakaniwo\n",
      "aniw nehirowisw\n"
     ]
    },
    {
     "name": "stderr",
     "output_type": "stream",
     "text": [
      " 16%|█▋        | 26/158 [06:52<32:11, 14.63s/it]The attention mask and the pad token id were not set. As a consequence, you may observe unexpected behavior. Please pass your input's `attention_mask` to obtain reliable results.\n",
      "Setting `pad_token_id` to 2 (first `eos_token_id`) to generate sequence\n"
     ]
    },
    {
     "name": "stdout",
     "output_type": "stream",
     "text": [
      "aniw nehirowisw part_sub ici mitciw cip keko Pron ke mitciw nipirw Pron mict apatcit nipic anihe nipicw ecin ekotw mekw matci ke otci itaw Pron kaki ici nitawok anihew mackikiapo weckaw Pron tipirowe apatcit anihew ke irapataw enkwew tca kaki iti ocitakanion arimew katw apatcit mantcocw keko ma Pron ecinakosiw weckaw eki iti masinactepariw kaskinw wec Pron part\n",
      "tcotcocan part_conn\n"
     ]
    },
    {
     "name": "stderr",
     "output_type": "stream",
     "text": [
      " 17%|█▋        | 27/158 [06:58<26:26, 12.11s/it]The attention mask and the pad token id were not set. As a consequence, you may observe unexpected behavior. Please pass your input's `attention_mask` to obtain reliable results.\n",
      "Setting `pad_token_id` to 2 (first `eos_token_id`) to generate sequence\n"
     ]
    },
    {
     "name": "stdout",
     "output_type": "stream",
     "text": [
      "tcotcocan part_conn ke ici mitciw cip Pron ke mitciw mitowi cip keko pwact Pron part pisima\n",
      "enkw w_demo\n"
     ]
    },
    {
     "name": "stderr",
     "output_type": "stream",
     "text": [
      " 18%|█▊        | 28/158 [07:12<27:40, 12.77s/it]The attention mask and the pad token id were not set. As a consequence, you may observe unexpected behavior. Please pass your input's `attention_mask` to obtain reliable results.\n",
      "Setting `pad_token_id` to 2 (first `eos_token_id`) to generate sequence\n"
     ]
    },
    {
     "name": "stdout",
     "output_type": "stream",
     "text": [
      "enkw w_demo ocki irapitcitc part_sub apit kaskinw wec part pisima\n",
      "nimicomec Pron\n"
     ]
    },
    {
     "name": "stderr",
     "output_type": "stream",
     "text": [
      " 18%|█▊        | 29/158 [07:17<22:16, 10.36s/it]The attention mask and the pad token id were not set. As a consequence, you may observe unexpected behavior. Please pass your input's `attention_mask` to obtain reliable results.\n",
      "Setting `pad_token_id` to 2 (first `eos_token_id`) to generate sequence\n"
     ]
    },
    {
     "name": "stdout",
     "output_type": "stream",
     "text": [
      "nimicomec Pron nataweritamat part_sub askw peicaw part pisima\n",
      "kice manitw\n"
     ]
    },
    {
     "name": "stderr",
     "output_type": "stream",
     "text": [
      " 19%|█▉        | 30/158 [07:27<21:32, 10.10s/it]The attention mask and the pad token id were not set. As a consequence, you may observe unexpected behavior. Please pass your input's `attention_mask` to obtain reliable results.\n",
      "Setting `pad_token_id` to 2 (first `eos_token_id`) to generate sequence\n"
     ]
    },
    {
     "name": "stdout",
     "output_type": "stream",
     "text": [
      "kice manitw epe miri wacten part_sub epe maninamoi Pron Pron tiperitam kaskinw Pron tiperi\n",
      "enkw w_demo\n"
     ]
    },
    {
     "name": "stderr",
     "output_type": "stream",
     "text": [
      " 20%|█▉        | 31/158 [07:55<33:07, 15.65s/it]The attention mask and the pad token id were not set. As a consequence, you may observe unexpected behavior. Please pass your input's `attention_mask` to obtain reliable results.\n",
      "Setting `pad_token_id` to 2 (first `eos_token_id`) to generate sequence\n"
     ]
    },
    {
     "name": "stdout",
     "output_type": "stream",
     "text": [
      "enkw w_demo ocki irapitcitc part_sub apit kaskinw wec part pisima\n",
      "percw enkw\n"
     ]
    },
    {
     "name": "stderr",
     "output_type": "stream",
     "text": [
      " 20%|██        | 32/158 [08:37<49:03, 23.36s/it]The attention mask and the pad token id were not set. As a consequence, you may observe unexpected behavior. Please pass your input's `attention_mask` to obtain reliable results.\n",
      "Setting `pad_token_id` to 2 (first `eos_token_id`) to generate sequence\n"
     ]
    },
    {
     "name": "stdout",
     "output_type": "stream",
     "text": [
      "percw enkw part_sub ici mitciw nitawok anihew mackikiatikam Pron part pisima\n",
      "ontariw enkw\n"
     ]
    },
    {
     "name": "stderr",
     "output_type": "stream",
     "text": [
      " 21%|██        | 33/158 [08:47<40:17, 19.34s/it]The attention mask and the pad token id were not set. As a consequence, you may observe unexpected behavior. Please pass your input's `attention_mask` to obtain reliable results.\n",
      "Setting `pad_token_id` to 2 (first `eos_token_id`) to generate sequence\n"
     ]
    },
    {
     "name": "stdout",
     "output_type": "stream",
     "text": [
      "ontariw enkw w_demo ocki irapitcitc part_sub ici otamironaniw ocki irapatcitc tako anihe tipah part pisima\n",
      "awesis aci\n"
     ]
    },
    {
     "name": "stderr",
     "output_type": "stream",
     "text": [
      " 22%|██▏       | 34/158 [08:59<35:41, 17.27s/it]The attention mask and the pad token id were not set. As a consequence, you may observe unexpected behavior. Please pass your input's `attention_mask` to obtain reliable results.\n",
      "Setting `pad_token_id` to 2 (first `eos_token_id`) to generate sequence\n"
     ]
    },
    {
     "name": "stdout",
     "output_type": "stream",
     "text": [
      "awesis aci part_sub mirosiw taw w_demo pirecic kot mitowi tapwe tapwe pirecic aci Pron tipirowe Pron mackikiwapokewakeam Pron makw part pisima\n",
      "kiskinohamatowikamew awac\n"
     ]
    },
    {
     "name": "stderr",
     "output_type": "stream",
     "text": [
      " 22%|██▏       | 35/158 [09:11<31:49, 15.52s/it]The attention mask and the pad token id were not set. As a consequence, you may observe unexpected behavior. Please pass your input's `attention_mask` to obtain reliable results.\n",
      "Setting `pad_token_id` to 2 (first `eos_token_id`) to generate sequence\n"
     ]
    },
    {
     "name": "stdout",
     "output_type": "stream",
     "text": [
      "kiskinohamatowikamew awac misowaw arimew katw pitakea w_demo part_sub otamiro ekotw ke otci mask ke ici pitakea\n",
      "irapitcitc part_sub\n"
     ]
    },
    {
     "name": "stderr",
     "output_type": "stream",
     "text": [
      " 23%|██▎       | 36/158 [09:15<25:00, 12.30s/it]The attention mask and the pad token id were not set. As a consequence, you may observe unexpected behavior. Please pass your input's `attention_mask` to obtain reliable results.\n",
      "Setting `pad_token_id` to 2 (first `eos_token_id`) to generate sequence\n"
     ]
    },
    {
     "name": "stdout",
     "output_type": "stream",
     "text": [
      "irapitcitc part_sub nitawokihew awacw w_demo wiaa\n",
      "enkw w_demo\n"
     ]
    },
    {
     "name": "stderr",
     "output_type": "stream",
     "text": [
      " 23%|██▎       | 37/158 [09:27<24:41, 12.24s/it]The attention mask and the pad token id were not set. As a consequence, you may observe unexpected behavior. Please pass your input's `attention_mask` to obtain reliable results.\n",
      "Setting `pad_token_id` to 2 (first `eos_token_id`) to generate sequence\n"
     ]
    },
    {
     "name": "stdout",
     "output_type": "stream",
     "text": [
      "enkw w_demo ocki irapitcitc part_sub apit kaskinw wec part pisima\n",
      "otenw ontariw\n"
     ]
    },
    {
     "name": "stderr",
     "output_type": "stream",
     "text": [
      " 24%|██▍       | 38/158 [09:30<18:27,  9.23s/it]The attention mask and the pad token id were not set. As a consequence, you may observe unexpected behavior. Please pass your input's `attention_mask` to obtain reliable results.\n",
      "Setting `pad_token_id` to 2 (first `eos_token_id`) to generate sequence\n"
     ]
    },
    {
     "name": "stdout",
     "output_type": "stream",
     "text": [
      "otenw ontariw ici acteam kanatw irik part_\n",
      "mikiwam part_sub\n"
     ]
    },
    {
     "name": "stderr",
     "output_type": "stream",
     "text": [
      " 25%|██▍       | 39/158 [09:31<13:52,  6.99s/it]The attention mask and the pad token id were not set. As a consequence, you may observe unexpected behavior. Please pass your input's `attention_mask` to obtain reliable results.\n",
      "Setting `pad_token_id` to 2 (first `eos_token_id`) to generate sequence\n"
     ]
    },
    {
     "name": "stdout",
     "output_type": "stream",
     "text": [
      "mikiwam part_sub wi ispaw\n",
      "otenw kepew\n"
     ]
    },
    {
     "name": "stderr",
     "output_type": "stream",
     "text": [
      " 25%|██▌       | 40/158 [09:34<11:04,  5.63s/it]The attention mask and the pad token id were not set. As a consequence, you may observe unexpected behavior. Please pass your input's `attention_mask` to obtain reliable results.\n",
      "Setting `pad_token_id` to 2 (first `eos_token_id`) to generate sequence\n"
     ]
    },
    {
     "name": "stdout",
     "output_type": "stream",
     "text": [
      "otenw kepew ask ici acteam kanatw irik part_\n",
      "otenw aski\n"
     ]
    },
    {
     "name": "stderr",
     "output_type": "stream",
     "text": [
      " 26%|██▌       | 41/158 [09:36<08:59,  4.61s/it]The attention mask and the pad token id were not set. As a consequence, you may observe unexpected behavior. Please pass your input's `attention_mask` to obtain reliable results.\n",
      "Setting `pad_token_id` to 2 (first `eos_token_id`) to generate sequence\n"
     ]
    },
    {
     "name": "stdout",
     "output_type": "stream",
     "text": [
      "otenw aski ici acteam kanatw irik part_\n",
      "enkw ahihe\n"
     ]
    },
    {
     "name": "stderr",
     "output_type": "stream",
     "text": [
      " 27%|██▋       | 42/158 [10:15<28:47, 14.90s/it]The attention mask and the pad token id were not set. As a consequence, you may observe unexpected behavior. Please pass your input's `attention_mask` to obtain reliable results.\n",
      "Setting `pad_token_id` to 2 (first `eos_token_id`) to generate sequence\n"
     ]
    },
    {
     "name": "stdout",
     "output_type": "stream",
     "text": [
      "enkw ahihe matci part_sub mirw kaskeritcikatew ke\n",
      "cepokamw kepew\n"
     ]
    },
    {
     "name": "stderr",
     "output_type": "stream",
     "text": [
      " 27%|██▋       | 43/158 [11:07<50:04, 26.12s/it]The attention mask and the pad token id were not set. As a consequence, you may observe unexpected behavior. Please pass your input's `attention_mask` to obtain reliable results.\n",
      "Setting `pad_token_id` to 2 (first `eos_token_id`) to generate sequence\n"
     ]
    },
    {
     "name": "stdout",
     "output_type": "stream",
     "text": [
      "cepokamw kepew ask ici acteam anihe part_sub tacinaniw cawon wapan itekerw ici actew emtcik aski w_demo kipe actakiniwo otenakcic kipe actakniwo oten part onihikaniwoprox tca Pron wirinkatcikateam h\n",
      "wiaw part_sub\n"
     ]
    },
    {
     "name": "stderr",
     "output_type": "stream",
     "text": [
      " 28%|██▊       | 44/158 [11:10<36:34, 19.25s/it]The attention mask and the pad token id were not set. As a consequence, you may observe unexpected behavior. Please pass your input's `attention_mask` to obtain reliable results.\n",
      "Setting `pad_token_id` to 2 (first `eos_token_id`) to generate sequence\n"
     ]
    },
    {
     "name": "stdout",
     "output_type": "stream",
     "text": [
      "wiaw part_sub ni\n",
      "ekotw part_sub\n"
     ]
    },
    {
     "name": "stderr",
     "output_type": "stream",
     "text": [
      " 28%|██▊       | 45/158 [11:18<29:26, 15.63s/it]The attention mask and the pad token id were not set. As a consequence, you may observe unexpected behavior. Please pass your input's `attention_mask` to obtain reliable results.\n",
      "Setting `pad_token_id` to 2 (first `eos_token_id`) to generate sequence\n"
     ]
    },
    {
     "name": "stdout",
     "output_type": "stream",
     "text": [
      "ekotw part_sub ici otcirowew kiwetin\n",
      "otenw kepew\n"
     ]
    },
    {
     "name": "stderr",
     "output_type": "stream",
     "text": [
      " 29%|██▉       | 46/158 [11:54<40:46, 21.84s/it]The attention mask and the pad token id were not set. As a consequence, you may observe unexpected behavior. Please pass your input's `attention_mask` to obtain reliable results.\n",
      "Setting `pad_token_id` to 2 (first `eos_token_id`) to generate sequence\n"
     ]
    },
    {
     "name": "stdout",
     "output_type": "stream",
     "text": [
      "otenw kepew ask ici acteam kanatw irik part_sub tacinani\n",
      "part_sub wi\n"
     ]
    },
    {
     "name": "stderr",
     "output_type": "stream",
     "text": [
      " 30%|██▉       | 47/158 [12:06<35:03, 18.95s/it]The attention mask and the pad token id were not set. As a consequence, you may observe unexpected behavior. Please pass your input's `attention_mask` to obtain reliable results.\n",
      "Setting `pad_token_id` to 2 (first `eos_token_id`) to generate sequence\n"
     ]
    },
    {
     "name": "stdout",
     "output_type": "stream",
     "text": [
      "part_sub wi nosinetai part_time icinikateam pe otcw Pron apiw anihe kinec Pron ocit namw part pisima\n",
      "enkw anihe\n"
     ]
    },
    {
     "name": "stderr",
     "output_type": "stream",
     "text": [
      " 30%|███       | 48/158 [12:30<37:36, 20.51s/it]The attention mask and the pad token id were not set. As a consequence, you may observe unexpected behavior. Please pass your input's `attention_mask` to obtain reliable results.\n",
      "Setting `pad_token_id` to 2 (first `eos_token_id`) to generate sequence\n"
     ]
    },
    {
     "name": "stdout",
     "output_type": "stream",
     "text": [
      "enkw anihe kinosko tca matci part_conn takwasko matci kaskinw part pisima\n",
      "enkw anihe\n"
     ]
    },
    {
     "name": "stderr",
     "output_type": "stream",
     "text": [
      " 31%|███       | 49/158 [12:42<32:34, 17.93s/it]The attention mask and the pad token id were not set. As a consequence, you may observe unexpected behavior. Please pass your input's `attention_mask` to obtain reliable results.\n",
      "Setting `pad_token_id` to 2 (first `eos_token_id`) to generate sequence\n"
     ]
    },
    {
     "name": "stdout",
     "output_type": "stream",
     "text": [
      "enkw anihe kinosko tca matci part_conn takwasko matci kaskinw part pisima\n",
      "enkw w_demo\n"
     ]
    },
    {
     "name": "stderr",
     "output_type": "stream",
     "text": [
      " 32%|███▏      | 50/158 [12:53<28:19, 15.73s/it]The attention mask and the pad token id were not set. As a consequence, you may observe unexpected behavior. Please pass your input's `attention_mask` to obtain reliable results.\n",
      "Setting `pad_token_id` to 2 (first `eos_token_id`) to generate sequence\n"
     ]
    },
    {
     "name": "stdout",
     "output_type": "stream",
     "text": [
      "enkw w_demo ocki irapitcitc part_sub apit kaskinw wec part pisima\n",
      "ekonie part_sub\n"
     ]
    },
    {
     "name": "stderr",
     "output_type": "stream",
     "text": [
      " 32%|███▏      | 51/158 [12:55<20:32, 11.52s/it]The attention mask and the pad token id were not set. As a consequence, you may observe unexpected behavior. Please pass your input's `attention_mask` to obtain reliable results.\n",
      "Setting `pad_token_id` to 2 (first `eos_token_id`) to generate sequence\n"
     ]
    },
    {
     "name": "stdout",
     "output_type": "stream",
     "text": [
      "ekonie part_sub ici mitciw mitcenw kek part\n",
      "ototokonw w_demo\n"
     ]
    },
    {
     "name": "stderr",
     "output_type": "stream",
     "text": [
      " 33%|███▎      | 52/158 [13:18<26:27, 14.98s/it]The attention mask and the pad token id were not set. As a consequence, you may observe unexpected behavior. Please pass your input's `attention_mask` to obtain reliable results.\n",
      "Setting `pad_token_id` to 2 (first `eos_token_id`) to generate sequence\n"
     ]
    },
    {
     "name": "stdout",
     "output_type": "stream",
     "text": [
      "ototokonw w_demo mict ke ici mitciw mitowi mantcoc part_sub icinakow keko mickoc mitcw kir part pisima\n",
      "eko ici\n"
     ]
    },
    {
     "name": "stderr",
     "output_type": "stream",
     "text": [
      " 34%|███▎      | 53/158 [13:31<25:32, 14.60s/it]The attention mask and the pad token id were not set. As a consequence, you may observe unexpected behavior. Please pass your input's `attention_mask` to obtain reliable results.\n",
      "Setting `pad_token_id` to 2 (first `eos_token_id`) to generate sequence\n"
     ]
    },
    {
     "name": "stdout",
     "output_type": "stream",
     "text": [
      "eko ici acteam kanatw irik part_sub tacinani\n",
      "part_sub oteckinew\n"
     ]
    },
    {
     "name": "stderr",
     "output_type": "stream",
     "text": [
      " 34%|███▍      | 54/158 [13:55<29:51, 17.23s/it]The attention mask and the pad token id were not set. As a consequence, you may observe unexpected behavior. Please pass your input's `attention_mask` to obtain reliable results.\n",
      "Setting `pad_token_id` to 2 (first `eos_token_id`) to generate sequence\n"
     ]
    },
    {
     "name": "stdout",
     "output_type": "stream",
     "text": [
      "part_sub oteckinew\n",
      "kwei kwei\n"
     ]
    },
    {
     "name": "stderr",
     "output_type": "stream",
     "text": [
      " 35%|███▍      | 55/158 [16:10<1:30:08, 52.51s/it]The attention mask and the pad token id were not set. As a consequence, you may observe unexpected behavior. Please pass your input's `attention_mask` to obtain reliable results.\n",
      "Setting `pad_token_id` to 2 (first `eos_token_id`) to generate sequence\n"
     ]
    },
    {
     "name": "stdout",
     "output_type": "stream",
     "text": [
      "kwei kwei ite part_sub ici mitciw mitowi part pisima\n",
      "anicinape otenw\n"
     ]
    },
    {
     "name": "stderr",
     "output_type": "stream",
     "text": [
      " 35%|███▌      | 56/158 [16:12<1:03:52, 37.58s/it]The attention mask and the pad token id were not set. As a consequence, you may observe unexpected behavior. Please pass your input's `attention_mask` to obtain reliable results.\n",
      "Setting `pad_token_id` to 2 (first `eos_token_id`) to generate sequence\n"
     ]
    },
    {
     "name": "stdout",
     "output_type": "stream",
     "text": [
      "anicinape otenw kanatw irik part_sub tacinani\n",
      "enkw anihe\n"
     ]
    },
    {
     "name": "stderr",
     "output_type": "stream",
     "text": [
      " 36%|███▌      | 57/158 [16:20<48:12, 28.64s/it]  The attention mask and the pad token id were not set. As a consequence, you may observe unexpected behavior. Please pass your input's `attention_mask` to obtain reliable results.\n",
      "Setting `pad_token_id` to 2 (first `eos_token_id`) to generate sequence\n"
     ]
    },
    {
     "name": "stdout",
     "output_type": "stream",
     "text": [
      "enkw anihe kinosko tca matci part_conn takwasko matci kaskinw part pisima\n",
      "kakinwaakwac sakih\n"
     ]
    },
    {
     "name": "stderr",
     "output_type": "stream",
     "text": [
      " 37%|███▋      | 58/158 [16:22<34:27, 20.67s/it]The attention mask and the pad token id were not set. As a consequence, you may observe unexpected behavior. Please pass your input's `attention_mask` to obtain reliable results.\n",
      "Setting `pad_token_id` to 2 (first `eos_token_id`) to generate sequence\n"
     ]
    },
    {
     "name": "stdout",
     "output_type": "stream",
     "text": [
      "kakinwaakwac sakih kepew ask ici acteam kanat\n",
      "otenw kepew\n"
     ]
    },
    {
     "name": "stderr",
     "output_type": "stream",
     "text": [
      " 37%|███▋      | 59/158 [16:25<25:09, 15.25s/it]The attention mask and the pad token id were not set. As a consequence, you may observe unexpected behavior. Please pass your input's `attention_mask` to obtain reliable results.\n",
      "Setting `pad_token_id` to 2 (first `eos_token_id`) to generate sequence\n"
     ]
    },
    {
     "name": "stdout",
     "output_type": "stream",
     "text": [
      "otenw kepew ask ici acteam kanatw irik part_\n",
      "enkw nictam\n"
     ]
    },
    {
     "name": "stderr",
     "output_type": "stream",
     "text": [
      " 38%|███▊      | 60/158 [16:53<31:07, 19.06s/it]The attention mask and the pad token id were not set. As a consequence, you may observe unexpected behavior. Please pass your input's `attention_mask` to obtain reliable results.\n",
      "Setting `pad_token_id` to 2 (first `eos_token_id`) to generate sequence\n"
     ]
    },
    {
     "name": "stdout",
     "output_type": "stream",
     "text": [
      "enkw nictam w_demo ocki irapitcitc part_sub apit kaskinw wec Pron ici otamironaniw part pisima\n",
      "kamickociakamac sakih\n"
     ]
    },
    {
     "name": "stderr",
     "output_type": "stream",
     "text": [
      " 39%|███▊      | 61/158 [16:55<22:37, 13.99s/it]The attention mask and the pad token id were not set. As a consequence, you may observe unexpected behavior. Please pass your input's `attention_mask` to obtain reliable results.\n",
      "Setting `pad_token_id` to 2 (first `eos_token_id`) to generate sequence\n"
     ]
    },
    {
     "name": "stdout",
     "output_type": "stream",
     "text": [
      "kamickociakamac sakih kepew ask ici acteam kanat\n",
      "otenw kepew\n"
     ]
    },
    {
     "name": "stderr",
     "output_type": "stream",
     "text": [
      " 39%|███▉      | 62/158 [16:57<16:52, 10.55s/it]The attention mask and the pad token id were not set. As a consequence, you may observe unexpected behavior. Please pass your input's `attention_mask` to obtain reliable results.\n",
      "Setting `pad_token_id` to 2 (first `eos_token_id`) to generate sequence\n"
     ]
    },
    {
     "name": "stdout",
     "output_type": "stream",
     "text": [
      "otenw kepew ask ici acteam kanatw irik part_\n",
      "awtosiwraw sakih\n"
     ]
    },
    {
     "name": "stderr",
     "output_type": "stream",
     "text": [
      " 40%|███▉      | 63/158 [16:59<12:40,  8.00s/it]The attention mask and the pad token id were not set. As a consequence, you may observe unexpected behavior. Please pass your input's `attention_mask` to obtain reliable results.\n",
      "Setting `pad_token_id` to 2 (first `eos_token_id`) to generate sequence\n"
     ]
    },
    {
     "name": "stdout",
     "output_type": "stream",
     "text": [
      "awtosiwraw sakih kepew ask ici acteam kanat\n",
      "enkw w_demo\n"
     ]
    },
    {
     "name": "stderr",
     "output_type": "stream",
     "text": [
      " 41%|████      | 64/158 [17:11<14:21,  9.16s/it]The attention mask and the pad token id were not set. As a consequence, you may observe unexpected behavior. Please pass your input's `attention_mask` to obtain reliable results.\n",
      "Setting `pad_token_id` to 2 (first `eos_token_id`) to generate sequence\n"
     ]
    },
    {
     "name": "stdout",
     "output_type": "stream",
     "text": [
      "enkw w_demo ocki irapitcitc part_sub apit kaskinw wec part pisima\n",
      "otenw ontariw\n"
     ]
    },
    {
     "name": "stderr",
     "output_type": "stream",
     "text": [
      " 41%|████      | 65/158 [17:13<10:56,  7.06s/it]The attention mask and the pad token id were not set. As a consequence, you may observe unexpected behavior. Please pass your input's `attention_mask` to obtain reliable results.\n",
      "Setting `pad_token_id` to 2 (first `eos_token_id`) to generate sequence\n"
     ]
    },
    {
     "name": "stdout",
     "output_type": "stream",
     "text": [
      "otenw ontariw ici acteam kanatw irik part_\n",
      "napaneam enkw\n"
     ]
    },
    {
     "name": "stderr",
     "output_type": "stream",
     "text": [
      " 42%|████▏     | 66/158 [17:25<12:43,  8.30s/it]The attention mask and the pad token id were not set. As a consequence, you may observe unexpected behavior. Please pass your input's `attention_mask` to obtain reliable results.\n",
      "Setting `pad_token_id` to 2 (first `eos_token_id`) to generate sequence\n"
     ]
    },
    {
     "name": "stdout",
     "output_type": "stream",
     "text": [
      "napaneam enkw part_sub ici mitciw cip keko Pron ke mitciw nitawok anihew mackikiatikam Pron part pisima\n",
      "sakih kepew\n"
     ]
    },
    {
     "name": "stderr",
     "output_type": "stream",
     "text": [
      " 42%|████▏     | 67/158 [17:26<09:27,  6.23s/it]The attention mask and the pad token id were not set. As a consequence, you may observe unexpected behavior. Please pass your input's `attention_mask` to obtain reliable results.\n",
      "Setting `pad_token_id` to 2 (first `eos_token_id`) to generate sequence\n"
     ]
    },
    {
     "name": "stdout",
     "output_type": "stream",
     "text": [
      "sakih kepew ask ici acteam kanatw\n",
      "carstairs otenw\n"
     ]
    },
    {
     "name": "stderr",
     "output_type": "stream",
     "text": [
      " 43%|████▎     | 68/158 [17:29<07:42,  5.14s/it]The attention mask and the pad token id were not set. As a consequence, you may observe unexpected behavior. Please pass your input's `attention_mask` to obtain reliable results.\n",
      "Setting `pad_token_id` to 2 (first `eos_token_id`) to generate sequence\n"
     ]
    },
    {
     "name": "stdout",
     "output_type": "stream",
     "text": [
      "carstairs otenw ici acteam kanatw irik part_sub\n",
      "oticinikatisow part_sub\n"
     ]
    },
    {
     "name": "stderr",
     "output_type": "stream",
     "text": [
      " 44%|████▎     | 69/158 [18:06<21:45, 14.66s/it]The attention mask and the pad token id were not set. As a consequence, you may observe unexpected behavior. Please pass your input's `attention_mask` to obtain reliable results.\n",
      "Setting `pad_token_id` to 2 (first `eos_token_id`) to generate sequence\n"
     ]
    },
    {
     "name": "stdout",
     "output_type": "stream",
     "text": [
      "oticinikatisow part_sub ici mitciw mitcenw kek mitowi eki pamatisiw matci keconn mitowi okacic mitowi kirip kir rikasimon apatisw nipic enkw w_demo eki wapatariew kaki ici tcipakwaniw kaskinw aro Pron eki ickwaso weckaw ke apatisiw Pron tipirowe keko ma weckaw kir wikwas tcim enkw anihe emitc enkw tca anihe tapwe part pisima\n",
      "enkw w_demo\n"
     ]
    },
    {
     "name": "stderr",
     "output_type": "stream",
     "text": [
      " 44%|████▍     | 70/158 [18:47<33:08, 22.59s/it]The attention mask and the pad token id were not set. As a consequence, you may observe unexpected behavior. Please pass your input's `attention_mask` to obtain reliable results.\n",
      "Setting `pad_token_id` to 2 (first `eos_token_id`) to generate sequence\n"
     ]
    },
    {
     "name": "stdout",
     "output_type": "stream",
     "text": [
      "enkw w_demo ocki irapitcitc part_sub apit kaskinw wec part pisima\n",
      "irapitcitc part_sub\n"
     ]
    },
    {
     "name": "stderr",
     "output_type": "stream",
     "text": [
      " 45%|████▍     | 71/158 [18:56<26:50, 18.52s/it]The attention mask and the pad token id were not set. As a consequence, you may observe unexpected behavior. Please pass your input's `attention_mask` to obtain reliable results.\n",
      "Setting `pad_token_id` to 2 (first `eos_token_id`) to generate sequence\n"
     ]
    },
    {
     "name": "stdout",
     "output_type": "stream",
     "text": [
      "irapitcitc part_sub nitawokihew awacw w_demo wiaa\n",
      "anicinape otenw\n"
     ]
    },
    {
     "name": "stderr",
     "output_type": "stream",
     "text": [
      " 46%|████▌     | 72/158 [18:59<19:54, 13.89s/it]The attention mask and the pad token id were not set. As a consequence, you may observe unexpected behavior. Please pass your input's `attention_mask` to obtain reliable results.\n",
      "Setting `pad_token_id` to 2 (first `eos_token_id`) to generate sequence\n"
     ]
    },
    {
     "name": "stdout",
     "output_type": "stream",
     "text": [
      "anicinape otenw kanatw irik part_sub tacinani\n",
      "irapitcitc part_sub\n"
     ]
    },
    {
     "name": "stderr",
     "output_type": "stream",
     "text": [
      " 46%|████▌     | 73/158 [19:02<14:58, 10.57s/it]The attention mask and the pad token id were not set. As a consequence, you may observe unexpected behavior. Please pass your input's `attention_mask` to obtain reliable results.\n",
      "Setting `pad_token_id` to 2 (first `eos_token_id`) to generate sequence\n"
     ]
    },
    {
     "name": "stdout",
     "output_type": "stream",
     "text": [
      "irapitcitc part_sub nitawokihew awacw w_demo wiaa\n",
      "awesis part_sub\n"
     ]
    },
    {
     "name": "stderr",
     "output_type": "stream",
     "text": [
      " 47%|████▋     | 74/158 [19:10<13:51,  9.90s/it]The attention mask and the pad token id were not set. As a consequence, you may observe unexpected behavior. Please pass your input's `attention_mask` to obtain reliable results.\n",
      "Setting `pad_token_id` to 2 (first `eos_token_id`) to generate sequence\n"
     ]
    },
    {
     "name": "stdout",
     "output_type": "stream",
     "text": [
      "awesis part_sub itikitiw napiw apicicw ketcw Pron waw part pisima\n",
      "richer otenw\n"
     ]
    },
    {
     "name": "stderr",
     "output_type": "stream",
     "text": [
      " 47%|████▋     | 75/158 [19:13<10:43,  7.76s/it]The attention mask and the pad token id were not set. As a consequence, you may observe unexpected behavior. Please pass your input's `attention_mask` to obtain reliable results.\n",
      "Setting `pad_token_id` to 2 (first `eos_token_id`) to generate sequence\n"
     ]
    },
    {
     "name": "stdout",
     "output_type": "stream",
     "text": [
      "richer otenw ici acteam kanatw irik part_sub tacinani\n",
      "kiskinoham w_m/f\n"
     ]
    },
    {
     "name": "stderr",
     "output_type": "stream",
     "text": [
      " 48%|████▊     | 76/158 [19:42<19:20, 14.15s/it]The attention mask and the pad token id were not set. As a consequence, you may observe unexpected behavior. Please pass your input's `attention_mask` to obtain reliable results.\n",
      "Setting `pad_token_id` to 2 (first `eos_token_id`) to generate sequence\n"
     ]
    },
    {
     "name": "stdout",
     "output_type": "stream",
     "text": [
      "kiskinoham w_m/f part_sub otamiro awac katw mihew awacw katw witamowakinw w pisima\n",
      "w_m/f keko\n"
     ]
    },
    {
     "name": "stderr",
     "output_type": "stream",
     "text": [
      " 49%|████▊     | 77/158 [19:46<15:12, 11.26s/it]The attention mask and the pad token id were not set. As a consequence, you may observe unexpected behavior. Please pass your input's `attention_mask` to obtain reliable results.\n",
      "Setting `pad_token_id` to 2 (first `eos_token_id`) to generate sequence\n"
     ]
    },
    {
     "name": "stdout",
     "output_type": "stream",
     "text": [
      "w_m/f keko w_demo okit part_sub ici apiw tetawiw Pron itikerw opwam\n",
      "otenw ontariw\n"
     ]
    },
    {
     "name": "stderr",
     "output_type": "stream",
     "text": [
      " 49%|████▉     | 78/158 [19:48<11:19,  8.49s/it]The attention mask and the pad token id were not set. As a consequence, you may observe unexpected behavior. Please pass your input's `attention_mask` to obtain reliable results.\n",
      "Setting `pad_token_id` to 2 (first `eos_token_id`) to generate sequence\n"
     ]
    },
    {
     "name": "stdout",
     "output_type": "stream",
     "text": [
      "otenw ontariw ici acteam kanatw irik part_\n",
      "otokai part_sub\n"
     ]
    },
    {
     "name": "stderr",
     "output_type": "stream",
     "text": [
      " 50%|█████     | 79/158 [20:06<14:51, 11.29s/it]The attention mask and the pad token id were not set. As a consequence, you may observe unexpected behavior. Please pass your input's `attention_mask` to obtain reliable results.\n",
      "Setting `pad_token_id` to 2 (first `eos_token_id`) to generate sequence\n"
     ]
    },
    {
     "name": "stdout",
     "output_type": "stream",
     "text": [
      "otokai part_sub ici mitciw mitcenw kek mitowi eki pamatisiw matci keconn arimew actakaniwo\n",
      "mantcoc part_sub\n"
     ]
    },
    {
     "name": "stderr",
     "output_type": "stream",
     "text": [
      " 51%|█████     | 80/158 [20:18<14:45, 11.36s/it]The attention mask and the pad token id were not set. As a consequence, you may observe unexpected behavior. Please pass your input's `attention_mask` to obtain reliable results.\n",
      "Setting `pad_token_id` to 2 (first `eos_token_id`) to generate sequence\n"
     ]
    },
    {
     "name": "stdout",
     "output_type": "stream",
     "text": [
      "mantcoc part_sub mitw nokosiw part pisima\n",
      "awesis part_sub\n"
     ]
    },
    {
     "name": "stderr",
     "output_type": "stream",
     "text": [
      " 51%|█████▏    | 81/158 [20:24<12:36,  9.82s/it]The attention mask and the pad token id were not set. As a consequence, you may observe unexpected behavior. Please pass your input's `attention_mask` to obtain reliable results.\n",
      "Setting `pad_token_id` to 2 (first `eos_token_id`) to generate sequence\n"
     ]
    },
    {
     "name": "stdout",
     "output_type": "stream",
     "text": [
      "awesis part_sub itikitiw napiw apicicw ketcw Pron waw part pisima\n",
      "weckaw part_sub\n"
     ]
    },
    {
     "name": "stderr",
     "output_type": "stream",
     "text": [
      " 52%|█████▏    | 82/158 [20:56<21:04, 16.63s/it]The attention mask and the pad token id were not set. As a consequence, you may observe unexpected behavior. Please pass your input's `attention_mask` to obtain reliable results.\n",
      "Setting `pad_token_id` to 2 (first `eos_token_id`) to generate sequence\n"
     ]
    },
    {
     "name": "stdout",
     "output_type": "stream",
     "text": [
      "weckaw part_sub iti matce riskipotakani\n",
      "enkw w_demo\n"
     ]
    },
    {
     "name": "stderr",
     "output_type": "stream",
     "text": [
      " 53%|█████▎    | 83/158 [21:05<17:45, 14.20s/it]The attention mask and the pad token id were not set. As a consequence, you may observe unexpected behavior. Please pass your input's `attention_mask` to obtain reliable results.\n",
      "Setting `pad_token_id` to 2 (first `eos_token_id`) to generate sequence\n"
     ]
    },
    {
     "name": "stdout",
     "output_type": "stream",
     "text": [
      "enkw w_demo ocki irapitcitc part_sub apit kaskinw wec part pisima\n",
      "kamackociwtan sakih\n"
     ]
    },
    {
     "name": "stderr",
     "output_type": "stream",
     "text": [
      " 53%|█████▎    | 84/158 [21:07<13:03, 10.59s/it]The attention mask and the pad token id were not set. As a consequence, you may observe unexpected behavior. Please pass your input's `attention_mask` to obtain reliable results.\n",
      "Setting `pad_token_id` to 2 (first `eos_token_id`) to generate sequence\n"
     ]
    },
    {
     "name": "stdout",
     "output_type": "stream",
     "text": [
      "kamackociwtan sakih kepew ask ici acteam kanat\n",
      "otenw kepew\n"
     ]
    },
    {
     "name": "stderr",
     "output_type": "stream",
     "text": [
      " 54%|█████▍    | 85/158 [21:10<09:58,  8.19s/it]The attention mask and the pad token id were not set. As a consequence, you may observe unexpected behavior. Please pass your input's `attention_mask` to obtain reliable results.\n",
      "Setting `pad_token_id` to 2 (first `eos_token_id`) to generate sequence\n"
     ]
    },
    {
     "name": "stdout",
     "output_type": "stream",
     "text": [
      "otenw kepew ask ici acteam kanatw irik part_\n",
      "ackimew ekoni\n"
     ]
    },
    {
     "name": "stderr",
     "output_type": "stream",
     "text": [
      " 54%|█████▍    | 86/158 [22:12<29:24, 24.50s/it]The attention mask and the pad token id were not set. As a consequence, you may observe unexpected behavior. Please pass your input's `attention_mask` to obtain reliable results.\n",
      "Setting `pad_token_id` to 2 (first `eos_token_id`) to generate sequence\n"
     ]
    },
    {
     "name": "stdout",
     "output_type": "stream",
     "text": [
      "ackimew ekoni part_sub wi nta ntockaso namw tapwe tapwe tipirowe Pron otci taniwo w_demo kaki actew metapeckekw kaki icinikatew kaskinw tipirowe otaskiw Pron pa tacikew patoc tca part pisima\n",
      "w_m/f itoniwo\n"
     ]
    },
    {
     "name": "stderr",
     "output_type": "stream",
     "text": [
      " 55%|█████▌    | 87/158 [22:16<21:28, 18.15s/it]The attention mask and the pad token id were not set. As a consequence, you may observe unexpected behavior. Please pass your input's `attention_mask` to obtain reliable results.\n",
      "Setting `pad_token_id` to 2 (first `eos_token_id`) to generate sequence\n"
     ]
    },
    {
     "name": "stdout",
     "output_type": "stream",
     "text": [
      "w_m/f itoniwo\n",
      "enkw anihe\n"
     ]
    },
    {
     "name": "stderr",
     "output_type": "stream",
     "text": [
      " 56%|█████▌    | 88/158 [22:29<19:30, 16.72s/it]The attention mask and the pad token id were not set. As a consequence, you may observe unexpected behavior. Please pass your input's `attention_mask` to obtain reliable results.\n",
      "Setting `pad_token_id` to 2 (first `eos_token_id`) to generate sequence\n"
     ]
    },
    {
     "name": "stdout",
     "output_type": "stream",
     "text": [
      "enkw anihe kinosko tca matci part_conn takwasko matci kaskinw part pisima\n",
      "enkw w_demo\n"
     ]
    },
    {
     "name": "stderr",
     "output_type": "stream",
     "text": [
      " 56%|█████▋    | 89/158 [22:34<15:06, 13.14s/it]The attention mask and the pad token id were not set. As a consequence, you may observe unexpected behavior. Please pass your input's `attention_mask` to obtain reliable results.\n",
      "Setting `pad_token_id` to 2 (first `eos_token_id`) to generate sequence\n"
     ]
    },
    {
     "name": "stdout",
     "output_type": "stream",
     "text": [
      "enkw w_demo ocki irapitcitc part_sub apit kaskinw wec part pisima\n",
      "part_sub mikw\n"
     ]
    },
    {
     "name": "stderr",
     "output_type": "stream",
     "text": [
      " 57%|█████▋    | 90/158 [22:36<11:04,  9.77s/it]The attention mask and the pad token id were not set. As a consequence, you may observe unexpected behavior. Please pass your input's `attention_mask` to obtain reliable results.\n",
      "Setting `pad_token_id` to 2 (first `eos_token_id`) to generate sequence\n"
     ]
    },
    {
     "name": "stdout",
     "output_type": "stream",
     "text": [
      "part_sub mikw papitoc aicinikaso part_conn\n",
      "part_sub nta\n"
     ]
    },
    {
     "name": "stderr",
     "output_type": "stream",
     "text": [
      " 58%|█████▊    | 91/158 [23:21<22:50, 20.45s/it]The attention mask and the pad token id were not set. As a consequence, you may observe unexpected behavior. Please pass your input's `attention_mask` to obtain reliable results.\n",
      "Setting `pad_token_id` to 2 (first `eos_token_id`) to generate sequence\n"
     ]
    },
    {
     "name": "stdout",
     "output_type": "stream",
     "text": [
      "part_sub nta pamipariw part_com\n",
      "enkw peiw\n"
     ]
    },
    {
     "name": "stderr",
     "output_type": "stream",
     "text": [
      " 58%|█████▊    | 92/158 [23:24<16:36, 15.10s/it]The attention mask and the pad token id were not set. As a consequence, you may observe unexpected behavior. Please pass your input's `attention_mask` to obtain reliable results.\n",
      "Setting `pad_token_id` to 2 (first `eos_token_id`) to generate sequence\n"
     ]
    },
    {
     "name": "stdout",
     "output_type": "stream",
     "text": [
      "enkw peiw part_sub icin icipekah mitowi nipicw\n",
      "otenw kepew\n"
     ]
    },
    {
     "name": "stderr",
     "output_type": "stream",
     "text": [
      " 59%|█████▉    | 93/158 [23:26<12:20, 11.39s/it]The attention mask and the pad token id were not set. As a consequence, you may observe unexpected behavior. Please pass your input's `attention_mask` to obtain reliable results.\n",
      "Setting `pad_token_id` to 2 (first `eos_token_id`) to generate sequence\n"
     ]
    },
    {
     "name": "stdout",
     "output_type": "stream",
     "text": [
      "otenw kepew ask ici acteam kanatw irik part_\n",
      "part_quan emkw\n"
     ]
    },
    {
     "name": "stderr",
     "output_type": "stream",
     "text": [
      " 59%|█████▉    | 94/158 [23:36<11:27, 10.74s/it]The attention mask and the pad token id were not set. As a consequence, you may observe unexpected behavior. Please pass your input's `attention_mask` to obtain reliable results.\n",
      "Setting `pad_token_id` to 2 (first `eos_token_id`) to generate sequence\n"
     ]
    },
    {
     "name": "stdout",
     "output_type": "stream",
     "text": [
      "part_quan emkw part_sub nanton ke wikasimew w_demo ma part pisima\n",
      "kitcikw niniw\n"
     ]
    },
    {
     "name": "stderr",
     "output_type": "stream",
     "text": [
      " 60%|██████    | 95/158 [24:01<16:03, 15.29s/it]The attention mask and the pad token id were not set. As a consequence, you may observe unexpected behavior. Please pass your input's `attention_mask` to obtain reliable results.\n",
      "Setting `pad_token_id` to 2 (first `eos_token_id`) to generate sequence\n"
     ]
    },
    {
     "name": "stdout",
     "output_type": "stream",
     "text": [
      "kitcikw niniw part_sub icin nipinitcac Pron ke wikasimew w_demo ke ici mitciw mitowi peiko part pisima\n",
      "ekotw part_prox\n"
     ]
    },
    {
     "name": "stderr",
     "output_type": "stream",
     "text": [
      " 61%|██████    | 96/158 [24:15<15:08, 14.65s/it]The attention mask and the pad token id were not set. As a consequence, you may observe unexpected behavior. Please pass your input's `attention_mask` to obtain reliable results.\n",
      "Setting `pad_token_id` to 2 (first `eos_token_id`) to generate sequence\n"
     ]
    },
    {
     "name": "stdout",
     "output_type": "stream",
     "text": [
      "ekotw part_prox ici otcirowew iteker\n",
      "kanicitanaw otenw\n"
     ]
    },
    {
     "name": "stderr",
     "output_type": "stream",
     "text": [
      " 61%|██████▏   | 97/158 [24:18<11:21, 11.17s/it]The attention mask and the pad token id were not set. As a consequence, you may observe unexpected behavior. Please pass your input's `attention_mask` to obtain reliable results.\n",
      "Setting `pad_token_id` to 2 (first `eos_token_id`) to generate sequence\n"
     ]
    },
    {
     "name": "stdout",
     "output_type": "stream",
     "text": [
      "kanicitanaw otenw acteam kanatw irik part_sub tacinani\n",
      "mitcenw aiamihewinw\n"
     ]
    },
    {
     "name": "stderr",
     "output_type": "stream",
     "text": [
      " 62%|██████▏   | 98/158 [24:29<11:12, 11.21s/it]The attention mask and the pad token id were not set. As a consequence, you may observe unexpected behavior. Please pass your input's `attention_mask` to obtain reliable results.\n",
      "Setting `pad_token_id` to 2 (first `eos_token_id`) to generate sequence\n"
     ]
    },
    {
     "name": "stdout",
     "output_type": "stream",
     "text": [
      "mitcenw aiamihewinw part_sub mockinakiniwiw matci ke\n",
      "caprw opi\n"
     ]
    },
    {
     "name": "stderr",
     "output_type": "stream",
     "text": [
      " 63%|██████▎   | 99/158 [24:50<14:01, 14.25s/it]The attention mask and the pad token id were not set. As a consequence, you may observe unexpected behavior. Please pass your input's `attention_mask` to obtain reliable results.\n",
      "Setting `pad_token_id` to 2 (first `eos_token_id`) to generate sequence\n"
     ]
    },
    {
     "name": "stdout",
     "output_type": "stream",
     "text": [
      "caprw opi part_sub ici mitciw nitawok anihew mackikiatikam Pron part pisima\n",
      "west otenw\n"
     ]
    },
    {
     "name": "stderr",
     "output_type": "stream",
     "text": [
      " 63%|██████▎   | 100/158 [24:53<10:23, 10.75s/it]The attention mask and the pad token id were not set. As a consequence, you may observe unexpected behavior. Please pass your input's `attention_mask` to obtain reliable results.\n",
      "Setting `pad_token_id` to 2 (first `eos_token_id`) to generate sequence\n"
     ]
    },
    {
     "name": "stdout",
     "output_type": "stream",
     "text": [
      "west otenw ici acteam kanatw irik part_sub\n",
      "matakamew ekirecask\n"
     ]
    },
    {
     "name": "stderr",
     "output_type": "stream",
     "text": [
      " 64%|██████▍   | 101/158 [25:23<15:46, 16.60s/it]The attention mask and the pad token id were not set. As a consequence, you may observe unexpected behavior. Please pass your input's `attention_mask` to obtain reliable results.\n",
      "Setting `pad_token_id` to 2 (first `eos_token_id`) to generate sequence\n"
     ]
    },
    {
     "name": "stdout",
     "output_type": "stream",
     "text": [
      "matakamew ekirecask pe acteam kanatw irik part_sub tacinani\n",
      "part_sub ici\n"
     ]
    },
    {
     "name": "stderr",
     "output_type": "stream",
     "text": [
      " 65%|██████▍   | 102/158 [25:29<12:28, 13.37s/it]The attention mask and the pad token id were not set. As a consequence, you may observe unexpected behavior. Please pass your input's `attention_mask` to obtain reliable results.\n",
      "Setting `pad_token_id` to 2 (first `eos_token_id`) to generate sequence\n"
     ]
    },
    {
     "name": "stdout",
     "output_type": "stream",
     "text": [
      "part_sub ici otaskiw kaskinw wec Pron pa irapatisw mitowi part_prox Pron nokosw masinactetcitcikan kir part\n",
      "saint otenw\n"
     ]
    },
    {
     "name": "stderr",
     "output_type": "stream",
     "text": [
      " 65%|██████▌   | 103/158 [25:32<09:23, 10.25s/it]The attention mask and the pad token id were not set. As a consequence, you may observe unexpected behavior. Please pass your input's `attention_mask` to obtain reliable results.\n",
      "Setting `pad_token_id` to 2 (first `eos_token_id`) to generate sequence\n"
     ]
    },
    {
     "name": "stdout",
     "output_type": "stream",
     "text": [
      "saint otenw kepew ask ici acteam kanatw irik part_\n",
      "taci part_time\n"
     ]
    },
    {
     "name": "stderr",
     "output_type": "stream",
     "text": [
      " 66%|██████▌   | 104/158 [25:46<10:09, 11.29s/it]The attention mask and the pad token id were not set. As a consequence, you may observe unexpected behavior. Please pass your input's `attention_mask` to obtain reliable results.\n",
      "Setting `pad_token_id` to 2 (first `eos_token_id`) to generate sequence\n"
     ]
    },
    {
     "name": "stdout",
     "output_type": "stream",
     "text": [
      "taci part_time kir Pron ici witcihew iskweam Pron witcihew awacw iskweam part pisima\n",
      "weckaw kiceirinw\n"
     ]
    },
    {
     "name": "stderr",
     "output_type": "stream",
     "text": [
      " 66%|██████▋   | 105/158 [27:19<31:49, 36.02s/it]The attention mask and the pad token id were not set. As a consequence, you may observe unexpected behavior. Please pass your input's `attention_mask` to obtain reliable results.\n",
      "Setting `pad_token_id` to 2 (first `eos_token_id`) to generate sequence\n"
     ]
    },
    {
     "name": "stdout",
     "output_type": "stream",
     "text": [
      "weckaw kiceirinw Pron tac onitcanic\n",
      "mackiw Pron\n"
     ]
    },
    {
     "name": "stderr",
     "output_type": "stream",
     "text": [
      " 67%|██████▋   | 106/158 [27:28<24:01, 27.73s/it]The attention mask and the pad token id were not set. As a consequence, you may observe unexpected behavior. Please pass your input's `attention_mask` to obtain reliable results.\n",
      "Setting `pad_token_id` to 2 (first `eos_token_id`) to generate sequence\n"
     ]
    },
    {
     "name": "stdout",
     "output_type": "stream",
     "text": [
      "mackiw Pron part_sub icin icipekah mitowi niskw kir part pisima\n",
      "cap otenw\n"
     ]
    },
    {
     "name": "stderr",
     "output_type": "stream",
     "text": [
      " 68%|██████▊   | 107/158 [27:30<17:08, 20.16s/it]The attention mask and the pad token id were not set. As a consequence, you may observe unexpected behavior. Please pass your input's `attention_mask` to obtain reliable results.\n",
      "Setting `pad_token_id` to 2 (first `eos_token_id`) to generate sequence\n"
     ]
    },
    {
     "name": "stdout",
     "output_type": "stream",
     "text": [
      "cap otenw kanatw irik part_sub tacinani\n",
      "otenw kepew\n"
     ]
    },
    {
     "name": "stderr",
     "output_type": "stream",
     "text": [
      " 68%|██████▊   | 108/158 [27:33<12:22, 14.85s/it]The attention mask and the pad token id were not set. As a consequence, you may observe unexpected behavior. Please pass your input's `attention_mask` to obtain reliable results.\n",
      "Setting `pad_token_id` to 2 (first `eos_token_id`) to generate sequence\n"
     ]
    },
    {
     "name": "stdout",
     "output_type": "stream",
     "text": [
      "otenw kepew ask ici acteam kanatw irik part_\n",
      "otenw aski\n"
     ]
    },
    {
     "name": "stderr",
     "output_type": "stream",
     "text": [
      " 69%|██████▉   | 109/158 [27:35<09:04, 11.11s/it]The attention mask and the pad token id were not set. As a consequence, you may observe unexpected behavior. Please pass your input's `attention_mask` to obtain reliable results.\n",
      "Setting `pad_token_id` to 2 (first `eos_token_id`) to generate sequence\n"
     ]
    },
    {
     "name": "stdout",
     "output_type": "stream",
     "text": [
      "otenw aski ici acteam kanatw irik part_\n",
      "otenw aski\n"
     ]
    },
    {
     "name": "stderr",
     "output_type": "stream",
     "text": [
      " 70%|██████▉   | 110/158 [27:37<06:43,  8.41s/it]The attention mask and the pad token id were not set. As a consequence, you may observe unexpected behavior. Please pass your input's `attention_mask` to obtain reliable results.\n",
      "Setting `pad_token_id` to 2 (first `eos_token_id`) to generate sequence\n"
     ]
    },
    {
     "name": "stdout",
     "output_type": "stream",
     "text": [
      "otenw aski ici acteam kanatw irik part_\n",
      "atcitcamoc man\n"
     ]
    },
    {
     "name": "stderr",
     "output_type": "stream",
     "text": [
      " 70%|███████   | 111/158 [28:21<14:54, 19.04s/it]The attention mask and the pad token id were not set. As a consequence, you may observe unexpected behavior. Please pass your input's `attention_mask` to obtain reliable results.\n",
      "Setting `pad_token_id` to 2 (first `eos_token_id`) to generate sequence\n"
     ]
    },
    {
     "name": "stdout",
     "output_type": "stream",
     "text": [
      "atcitcamoc man w_demo mictik part_sub itemik nehirowisw item kir nehirowisw kir Pron otamirw Pron arimowew part pisima\n",
      "otenw ontariw\n"
     ]
    },
    {
     "name": "stderr",
     "output_type": "stream",
     "text": [
      " 71%|███████   | 112/158 [28:23<10:46, 14.04s/it]The attention mask and the pad token id were not set. As a consequence, you may observe unexpected behavior. Please pass your input's `attention_mask` to obtain reliable results.\n",
      "Setting `pad_token_id` to 2 (first `eos_token_id`) to generate sequence\n"
     ]
    },
    {
     "name": "stdout",
     "output_type": "stream",
     "text": [
      "otenw ontariw ici acteam kanatw irik part_\n",
      "matt otenw\n"
     ]
    },
    {
     "name": "stderr",
     "output_type": "stream",
     "text": [
      " 72%|███████▏  | 113/158 [28:26<08:00, 10.69s/it]The attention mask and the pad token id were not set. As a consequence, you may observe unexpected behavior. Please pass your input's `attention_mask` to obtain reliable results.\n",
      "Setting `pad_token_id` to 2 (first `eos_token_id`) to generate sequence\n"
     ]
    },
    {
     "name": "stdout",
     "output_type": "stream",
     "text": [
      "matt otenw ici acteam kanatw irik part_sub\n",
      "part_comp cectokwe\n"
     ]
    },
    {
     "name": "stderr",
     "output_type": "stream",
     "text": [
      " 72%|███████▏  | 114/158 [28:32<06:48,  9.27s/it]The attention mask and the pad token id were not set. As a consequence, you may observe unexpected behavior. Please pass your input's `attention_mask` to obtain reliable results.\n",
      "Setting `pad_token_id` to 2 (first `eos_token_id`) to generate sequence\n"
     ]
    },
    {
     "name": "stdout",
     "output_type": "stream",
     "text": [
      "part_comp cectokwe papitoc part_sub ici actew part pisima\n",
      "wias part_sub\n"
     ]
    },
    {
     "name": "stderr",
     "output_type": "stream",
     "text": [
      " 73%|███████▎  | 115/158 [28:41<06:27,  9.01s/it]The attention mask and the pad token id were not set. As a consequence, you may observe unexpected behavior. Please pass your input's `attention_mask` to obtain reliable results.\n",
      "Setting `pad_token_id` to 2 (first `eos_token_id`) to generate sequence\n"
     ]
    },
    {
     "name": "stdout",
     "output_type": "stream",
     "text": [
      "wias part_sub wi ispaw w_demo ocki irapitcitc part pisima\n",
      "part_sub orekihimakaniw\n"
     ]
    },
    {
     "name": "stderr",
     "output_type": "stream",
     "text": [
      " 73%|███████▎  | 116/158 [28:49<06:11,  8.85s/it]The attention mask and the pad token id were not set. As a consequence, you may observe unexpected behavior. Please pass your input's `attention_mask` to obtain reliable results.\n",
      "Setting `pad_token_id` to 2 (first `eos_token_id`) to generate sequence\n"
     ]
    },
    {
     "name": "stdout",
     "output_type": "stream",
     "text": [
      "part_sub orekihimakaniw tako part_prox ici mitciw nitawok anihew mackikiatikam Pron part pisima\n",
      "otenw ontariw\n"
     ]
    },
    {
     "name": "stderr",
     "output_type": "stream",
     "text": [
      " 74%|███████▍  | 117/158 [28:51<04:39,  6.82s/it]The attention mask and the pad token id were not set. As a consequence, you may observe unexpected behavior. Please pass your input's `attention_mask` to obtain reliable results.\n",
      "Setting `pad_token_id` to 2 (first `eos_token_id`) to generate sequence\n"
     ]
    },
    {
     "name": "stdout",
     "output_type": "stream",
     "text": [
      "otenw ontariw ici acteam kanatw irik part_\n",
      "nohwe manawani\n"
     ]
    },
    {
     "name": "stderr",
     "output_type": "stream",
     "text": [
      " 75%|███████▍  | 118/158 [30:01<17:05, 25.64s/it]The attention mask and the pad token id were not set. As a consequence, you may observe unexpected behavior. Please pass your input's `attention_mask` to obtain reliable results.\n",
      "Setting `pad_token_id` to 2 (first `eos_token_id`) to generate sequence\n"
     ]
    },
    {
     "name": "stdout",
     "output_type": "stream",
     "text": [
      "nohwe manawani nehirowisiw kir w_demo itekerw part_sub ici actea\n",
      "nipic part_sub\n"
     ]
    },
    {
     "name": "stderr",
     "output_type": "stream",
     "text": [
      " 75%|███████▌  | 119/158 [30:12<13:46, 21.18s/it]The attention mask and the pad token id were not set. As a consequence, you may observe unexpected behavior. Please pass your input's `attention_mask` to obtain reliable results.\n",
      "Setting `pad_token_id` to 2 (first `eos_token_id`) to generate sequence\n"
     ]
    },
    {
     "name": "stdout",
     "output_type": "stream",
     "text": [
      "nipic part_sub nitawokihew awacw w_demo iskeweam nikawi matci ntcotcw icinikatakaniww matci part pisima\n",
      "otenw kepew\n"
     ]
    },
    {
     "name": "stderr",
     "output_type": "stream",
     "text": [
      " 76%|███████▌  | 120/158 [30:14<09:54, 15.65s/it]The attention mask and the pad token id were not set. As a consequence, you may observe unexpected behavior. Please pass your input's `attention_mask` to obtain reliable results.\n",
      "Setting `pad_token_id` to 2 (first `eos_token_id`) to generate sequence\n"
     ]
    },
    {
     "name": "stdout",
     "output_type": "stream",
     "text": [
      "otenw kepew ask ici acteam kanatw irik part_\n",
      "patricw part_quan\n"
     ]
    },
    {
     "name": "stderr",
     "output_type": "stream",
     "text": [
      " 77%|███████▋  | 121/158 [31:03<15:41, 25.45s/it]The attention mask and the pad token id were not set. As a consequence, you may observe unexpected behavior. Please pass your input's `attention_mask` to obtain reliable results.\n",
      "Setting `pad_token_id` to 2 (first `eos_token_id`) to generate sequence\n"
     ]
    },
    {
     "name": "stdout",
     "output_type": "stream",
     "text": [
      "patricw part_quan apicac tako ke ici mitciw nitawok anihew mackikiatikam Pron part pisima\n",
      "omitcimiocin enkw\n"
     ]
    },
    {
     "name": "stderr",
     "output_type": "stream",
     "text": [
      " 77%|███████▋  | 122/158 [31:07<11:31, 19.22s/it]The attention mask and the pad token id were not set. As a consequence, you may observe unexpected behavior. Please pass your input's `attention_mask` to obtain reliable results.\n",
      "Setting `pad_token_id` to 2 (first `eos_token_id`) to generate sequence\n"
     ]
    },
    {
     "name": "stdout",
     "output_type": "stream",
     "text": [
      "omitcimiocin enkw part_sub ici mitciw cip keko Pron ke mitciw nitawok anihew mackikiatikam\n",
      "part_prox opictikwe\n"
     ]
    },
    {
     "name": "stderr",
     "output_type": "stream",
     "text": [
      " 78%|███████▊  | 123/158 [31:22<10:23, 17.80s/it]The attention mask and the pad token id were not set. As a consequence, you may observe unexpected behavior. Please pass your input's `attention_mask` to obtain reliable results.\n",
      "Setting `pad_token_id` to 2 (first `eos_token_id`) to generate sequence\n"
     ]
    },
    {
     "name": "stdout",
     "output_type": "stream",
     "text": [
      "part_prox opictikwe part_sub ici tacikei kekorakew kiciramoteam enkw w_demo part pisima\n",
      "enkw w_demo\n"
     ]
    },
    {
     "name": "stderr",
     "output_type": "stream",
     "text": [
      " 78%|███████▊  | 124/158 [32:25<17:49, 31.45s/it]The attention mask and the pad token id were not set. As a consequence, you may observe unexpected behavior. Please pass your input's `attention_mask` to obtain reliable results.\n",
      "Setting `pad_token_id` to 2 (first `eos_token_id`) to generate sequence\n"
     ]
    },
    {
     "name": "stdout",
     "output_type": "stream",
     "text": [
      "enkw w_demo ocki irapitcitc part_sub apit kaskinw wec part pisima\n",
      "enkw w_demo\n"
     ]
    },
    {
     "name": "stderr",
     "output_type": "stream",
     "text": [
      " 79%|███████▉  | 125/158 [32:53<16:41, 30.35s/it]The attention mask and the pad token id were not set. As a consequence, you may observe unexpected behavior. Please pass your input's `attention_mask` to obtain reliable results.\n",
      "Setting `pad_token_id` to 2 (first `eos_token_id`) to generate sequence\n"
     ]
    },
    {
     "name": "stdout",
     "output_type": "stream",
     "text": [
      "enkw w_demo ocki irapitcitc part_sub apit kaskinw wec part pisima\n",
      "kekwcic part_sub\n"
     ]
    },
    {
     "name": "stderr",
     "output_type": "stream",
     "text": [
      " 80%|███████▉  | 126/158 [33:02<12:43, 23.85s/it]The attention mask and the pad token id were not set. As a consequence, you may observe unexpected behavior. Please pass your input's `attention_mask` to obtain reliable results.\n",
      "Setting `pad_token_id` to 2 (first `eos_token_id`) to generate sequence\n"
     ]
    },
    {
     "name": "stdout",
     "output_type": "stream",
     "text": [
      "kekwcic part_sub ici mitciw mitcenw kek mitowi eki pamatisiw matci keconn arimew pikiwanic actakaniwo niparw Pron ke atoskewakew mitowi akosikamew kir eki nipowiw Pron mict part\n",
      "part_sub arapit\n"
     ]
    },
    {
     "name": "stderr",
     "output_type": "stream",
     "text": [
      " 80%|████████  | 127/158 [33:05<09:06, 17.63s/it]The attention mask and the pad token id were not set. As a consequence, you may observe unexpected behavior. Please pass your input's `attention_mask` to obtain reliable results.\n",
      "Setting `pad_token_id` to 2 (first `eos_token_id`) to generate sequence\n"
     ]
    },
    {
     "name": "stdout",
     "output_type": "stream",
     "text": [
      "part_sub arapit matci part_conn part pisima\n",
      "Pron part_sub\n"
     ]
    },
    {
     "name": "stderr",
     "output_type": "stream",
     "text": [
      " 81%|████████  | 128/158 [33:09<06:47, 13.58s/it]The attention mask and the pad token id were not set. As a consequence, you may observe unexpected behavior. Please pass your input's `attention_mask` to obtain reliable results.\n",
      "Setting `pad_token_id` to 2 (first `eos_token_id`) to generate sequence\n"
     ]
    },
    {
     "name": "stdout",
     "output_type": "stream",
     "text": [
      "Pron part_sub mi kicasikew pisimam aci tekci peiw w_demo cowem tekci part\n",
      "cochrane otenw\n"
     ]
    },
    {
     "name": "stderr",
     "output_type": "stream",
     "text": [
      " 82%|████████▏ | 129/158 [33:11<04:58, 10.28s/it]The attention mask and the pad token id were not set. As a consequence, you may observe unexpected behavior. Please pass your input's `attention_mask` to obtain reliable results.\n",
      "Setting `pad_token_id` to 2 (first `eos_token_id`) to generate sequence\n"
     ]
    },
    {
     "name": "stdout",
     "output_type": "stream",
     "text": [
      "cochrane otenw ici acteam kanatw irik part_sub\n",
      "Pron otamirw\n"
     ]
    },
    {
     "name": "stderr",
     "output_type": "stream",
     "text": [
      " 82%|████████▏ | 130/158 [33:32<06:18, 13.51s/it]The attention mask and the pad token id were not set. As a consequence, you may observe unexpected behavior. Please pass your input's `attention_mask` to obtain reliable results.\n",
      "Setting `pad_token_id` to 2 (first `eos_token_id`) to generate sequence\n"
     ]
    },
    {
     "name": "stdout",
     "output_type": "stream",
     "text": [
      "Pron otamirw kitotakan itekerw kaskinw part_sub ici otamirw atisokan itekerw atikam nehirowisw otci kanatw ask Pron apiw part pisima\n",
      "eko ici\n"
     ]
    },
    {
     "name": "stderr",
     "output_type": "stream",
     "text": [
      " 83%|████████▎ | 131/158 [33:41<05:21, 11.92s/it]The attention mask and the pad token id were not set. As a consequence, you may observe unexpected behavior. Please pass your input's `attention_mask` to obtain reliable results.\n",
      "Setting `pad_token_id` to 2 (first `eos_token_id`) to generate sequence\n"
     ]
    },
    {
     "name": "stdout",
     "output_type": "stream",
     "text": [
      "eko ici acteam kanatw irik part_sub tacinani\n",
      "enkw anihw\n"
     ]
    },
    {
     "name": "stderr",
     "output_type": "stream",
     "text": [
      " 84%|████████▎ | 132/158 [33:52<05:08, 11.88s/it]The attention mask and the pad token id were not set. As a consequence, you may observe unexpected behavior. Please pass your input's `attention_mask` to obtain reliable results.\n",
      "Setting `pad_token_id` to 2 (first `eos_token_id`) to generate sequence\n"
     ]
    },
    {
     "name": "stdout",
     "output_type": "stream",
     "text": [
      "enkw anihw part_sub icin icipekah mitowi nipicw part pisima\n",
      "micmac otenw\n"
     ]
    },
    {
     "name": "stderr",
     "output_type": "stream",
     "text": [
      " 84%|████████▍ | 133/158 [33:55<03:47,  9.08s/it]The attention mask and the pad token id were not set. As a consequence, you may observe unexpected behavior. Please pass your input's `attention_mask` to obtain reliable results.\n",
      "Setting `pad_token_id` to 2 (first `eos_token_id`) to generate sequence\n"
     ]
    },
    {
     "name": "stdout",
     "output_type": "stream",
     "text": [
      "micmac otenw ici acteam kanatw irik part_sub\n",
      "emirockote sakih\n"
     ]
    },
    {
     "name": "stderr",
     "output_type": "stream",
     "text": [
      " 85%|████████▍ | 134/158 [33:57<02:49,  7.05s/it]The attention mask and the pad token id were not set. As a consequence, you may observe unexpected behavior. Please pass your input's `attention_mask` to obtain reliable results.\n",
      "Setting `pad_token_id` to 2 (first `eos_token_id`) to generate sequence\n"
     ]
    },
    {
     "name": "stdout",
     "output_type": "stream",
     "text": [
      "emirockote sakih kepew ask ici acteam kanat\n",
      "part_inter ca\n"
     ]
    },
    {
     "name": "stderr",
     "output_type": "stream",
     "text": [
      " 85%|████████▌ | 135/158 [34:09<03:13,  8.43s/it]The attention mask and the pad token id were not set. As a consequence, you may observe unexpected behavior. Please pass your input's `attention_mask` to obtain reliable results.\n",
      "Setting `pad_token_id` to 2 (first `eos_token_id`) to generate sequence\n"
     ]
    },
    {
     "name": "stdout",
     "output_type": "stream",
     "text": [
      "part_inter ca otatamw part_sub nitawkiw notc namw wiskat wirciw tipirowe Pron otci kanawerimew anihew kaki pa nta pamatisiw atikam nehirowisw wec weckaw kaki tot mictahew nipirw Pron otinam ite ke ici kackitimatiso part\n",
      "otenw kepew\n"
     ]
    },
    {
     "name": "stderr",
     "output_type": "stream",
     "text": [
      " 86%|████████▌ | 136/158 [34:11<02:25,  6.63s/it]The attention mask and the pad token id were not set. As a consequence, you may observe unexpected behavior. Please pass your input's `attention_mask` to obtain reliable results.\n",
      "Setting `pad_token_id` to 2 (first `eos_token_id`) to generate sequence\n"
     ]
    },
    {
     "name": "stdout",
     "output_type": "stream",
     "text": [
      "otenw kepew ask ici acteam kanatw irik part_\n",
      "otenw kepew\n"
     ]
    },
    {
     "name": "stderr",
     "output_type": "stream",
     "text": [
      " 87%|████████▋ | 137/158 [34:14<01:53,  5.39s/it]The attention mask and the pad token id were not set. As a consequence, you may observe unexpected behavior. Please pass your input's `attention_mask` to obtain reliable results.\n",
      "Setting `pad_token_id` to 2 (first `eos_token_id`) to generate sequence\n"
     ]
    },
    {
     "name": "stdout",
     "output_type": "stream",
     "text": [
      "otenw kepew ask ici acteam kanatw irik part_\n",
      "otenw aski\n"
     ]
    },
    {
     "name": "stderr",
     "output_type": "stream",
     "text": [
      " 87%|████████▋ | 138/158 [34:16<01:28,  4.43s/it]The attention mask and the pad token id were not set. As a consequence, you may observe unexpected behavior. Please pass your input's `attention_mask` to obtain reliable results.\n",
      "Setting `pad_token_id` to 2 (first `eos_token_id`) to generate sequence\n"
     ]
    },
    {
     "name": "stdout",
     "output_type": "stream",
     "text": [
      "otenw aski ici acteam kanatw irik part_\n",
      "s point\n"
     ]
    },
    {
     "name": "stderr",
     "output_type": "stream",
     "text": [
      " 88%|████████▊ | 139/158 [34:19<01:17,  4.07s/it]The attention mask and the pad token id were not set. As a consequence, you may observe unexpected behavior. Please pass your input's `attention_mask` to obtain reliable results.\n",
      "Setting `pad_token_id` to 2 (first `eos_token_id`) to generate sequence\n"
     ]
    },
    {
     "name": "stdout",
     "output_type": "stream",
     "text": [
      "s point part_sub ici mitciw cip keko ke mitciw part\n",
      "mikocikwaw part_prox\n"
     ]
    },
    {
     "name": "stderr",
     "output_type": "stream",
     "text": [
      " 89%|████████▊ | 140/158 [34:32<01:59,  6.66s/it]The attention mask and the pad token id were not set. As a consequence, you may observe unexpected behavior. Please pass your input's `attention_mask` to obtain reliable results.\n",
      "Setting `pad_token_id` to 2 (first `eos_token_id`) to generate sequence\n"
     ]
    },
    {
     "name": "stdout",
     "output_type": "stream",
     "text": [
      "mikocikwaw part_prox ici mitciw cip cip Pron ke ici nitawok anihew mackikiatikam Pron part pisima\n",
      "Pron part_quan\n"
     ]
    },
    {
     "name": "stderr",
     "output_type": "stream",
     "text": [
      " 89%|████████▉ | 141/158 [34:47<02:36,  9.19s/it]The attention mask and the pad token id were not set. As a consequence, you may observe unexpected behavior. Please pass your input's `attention_mask` to obtain reliable results.\n",
      "Setting `pad_token_id` to 2 (first `eos_token_id`) to generate sequence\n"
     ]
    },
    {
     "name": "stdout",
     "output_type": "stream",
     "text": [
      "Pron part_quan mekw w_m/f katw iteam tipirowe onitcanicw kir otiskwemw aci Pron witcihew awacw kaki ici ititoskew omocomw part pisima\n",
      "aski enkw\n"
     ]
    },
    {
     "name": "stderr",
     "output_type": "stream",
     "text": [
      " 90%|████████▉ | 142/158 [34:49<01:52,  7.01s/it]The attention mask and the pad token id were not set. As a consequence, you may observe unexpected behavior. Please pass your input's `attention_mask` to obtain reliable results.\n",
      "Setting `pad_token_id` to 2 (first `eos_token_id`) to generate sequence\n"
     ]
    },
    {
     "name": "stdout",
     "output_type": "stream",
     "text": [
      "aski enkw w_demo mictik part\n",
      "kamictw minictiko\n"
     ]
    },
    {
     "name": "stderr",
     "output_type": "stream",
     "text": [
      " 91%|█████████ | 143/158 [34:52<01:25,  5.70s/it]The attention mask and the pad token id were not set. As a consequence, you may observe unexpected behavior. Please pass your input's `attention_mask` to obtain reliable results.\n",
      "Setting `pad_token_id` to 2 (first `eos_token_id`) to generate sequence\n"
     ]
    },
    {
     "name": "stdout",
     "output_type": "stream",
     "text": [
      "kamictw minictiko part_sub ocitakani ekotcw eci ici\n",
      "otenw kepew\n"
     ]
    },
    {
     "name": "stderr",
     "output_type": "stream",
     "text": [
      " 91%|█████████ | 144/158 [34:55<01:08,  4.92s/it]The attention mask and the pad token id were not set. As a consequence, you may observe unexpected behavior. Please pass your input's `attention_mask` to obtain reliable results.\n",
      "Setting `pad_token_id` to 2 (first `eos_token_id`) to generate sequence\n"
     ]
    },
    {
     "name": "stdout",
     "output_type": "stream",
     "text": [
      "otenw kepew ask ici acteam kanatw irik part_\n",
      "irapitcitc part_sub\n"
     ]
    },
    {
     "name": "stderr",
     "output_type": "stream",
     "text": [
      " 92%|█████████▏| 145/158 [35:10<01:42,  7.87s/it]The attention mask and the pad token id were not set. As a consequence, you may observe unexpected behavior. Please pass your input's `attention_mask` to obtain reliable results.\n",
      "Setting `pad_token_id` to 2 (first `eos_token_id`) to generate sequence\n"
     ]
    },
    {
     "name": "stdout",
     "output_type": "stream",
     "text": [
      "irapitcitc part_sub nitawokihew awacw w_demo wiaa\n",
      "otenw kepew\n"
     ]
    },
    {
     "name": "stderr",
     "output_type": "stream",
     "text": [
      " 92%|█████████▏| 146/158 [35:12<01:14,  6.24s/it]The attention mask and the pad token id were not set. As a consequence, you may observe unexpected behavior. Please pass your input's `attention_mask` to obtain reliable results.\n",
      "Setting `pad_token_id` to 2 (first `eos_token_id`) to generate sequence\n"
     ]
    },
    {
     "name": "stdout",
     "output_type": "stream",
     "text": [
      "otenw kepew ask ici acteam kanatw irik part_\n",
      "ott isaie\n"
     ]
    },
    {
     "name": "stderr",
     "output_type": "stream",
     "text": [
      " 93%|█████████▎| 147/158 [37:19<07:45, 42.35s/it]The attention mask and the pad token id were not set. As a consequence, you may observe unexpected behavior. Please pass your input's `attention_mask` to obtain reliable results.\n",
      "Setting `pad_token_id` to 2 (first `eos_token_id`) to generate sequence\n"
     ]
    },
    {
     "name": "stdout",
     "output_type": "stream",
     "text": [
      "ott isaie ott atikam iriniw part_sub icinikaso onikihikam Pron wikimew Pron apiw pitci pipo pisimam mitatw tatw piponikaw ott kir ott Pron tac onitcanic ott soter annie ott ott thomas ott part pisima\n",
      "awesis part_sub\n"
     ]
    },
    {
     "name": "stderr",
     "output_type": "stream",
     "text": [
      " 94%|█████████▎| 148/158 [37:52<06:35, 39.54s/it]The attention mask and the pad token id were not set. As a consequence, you may observe unexpected behavior. Please pass your input's `attention_mask` to obtain reliable results.\n",
      "Setting `pad_token_id` to 2 (first `eos_token_id`) to generate sequence\n"
     ]
    },
    {
     "name": "stdout",
     "output_type": "stream",
     "text": [
      "awesis part_sub itikitiw napiw apicicw ketcw Pron waw part onihikaniwoconn pemantcic apicicw napiw miniciw kir tawkw ocawackosiw patoc tca part icinakoswsub iti takwekin pitoc iti otakoci\n",
      "part_sub osikatew\n"
     ]
    },
    {
     "name": "stderr",
     "output_type": "stream",
     "text": [
      " 94%|█████████▍| 149/158 [37:57<04:23, 29.29s/it]The attention mask and the pad token id were not set. As a consequence, you may observe unexpected behavior. Please pass your input's `attention_mask` to obtain reliable results.\n",
      "Setting `pad_token_id` to 2 (first `eos_token_id`) to generate sequence\n"
     ]
    },
    {
     "name": "stdout",
     "output_type": "stream",
     "text": [
      "part_sub osikatew part_quan mokom enkw tca w_demo mict part pisima\n",
      "enkw anihe\n"
     ]
    },
    {
     "name": "stderr",
     "output_type": "stream",
     "text": [
      " 95%|█████████▍| 150/158 [38:03<02:58, 22.29s/it]The attention mask and the pad token id were not set. As a consequence, you may observe unexpected behavior. Please pass your input's `attention_mask` to obtain reliable results.\n",
      "Setting `pad_token_id` to 2 (first `eos_token_id`) to generate sequence\n"
     ]
    },
    {
     "name": "stdout",
     "output_type": "stream",
     "text": [
      "enkw anihe kinosko tca matci part_conn takwasko matci kaskinw part pisima\n",
      "otenw aski\n"
     ]
    },
    {
     "name": "stderr",
     "output_type": "stream",
     "text": [
      " 96%|█████████▌| 151/158 [38:05<01:53, 16.21s/it]The attention mask and the pad token id were not set. As a consequence, you may observe unexpected behavior. Please pass your input's `attention_mask` to obtain reliable results.\n",
      "Setting `pad_token_id` to 2 (first `eos_token_id`) to generate sequence\n"
     ]
    },
    {
     "name": "stdout",
     "output_type": "stream",
     "text": [
      "otenw aski ici acteam kanatw irik part_\n",
      "part_sub oskiskakam\n"
     ]
    },
    {
     "name": "stderr",
     "output_type": "stream",
     "text": [
      " 96%|█████████▌| 152/158 [38:06<01:10, 11.74s/it]The attention mask and the pad token id were not set. As a consequence, you may observe unexpected behavior. Please pass your input's `attention_mask` to obtain reliable results.\n",
      "Setting `pad_token_id` to 2 (first `eos_token_id`) to generate sequence\n"
     ]
    },
    {
     "name": "stdout",
     "output_type": "stream",
     "text": [
      "part_sub oskiskakam tako part_conn\n",
      "icko irini\n"
     ]
    },
    {
     "name": "stderr",
     "output_type": "stream",
     "text": [
      " 97%|█████████▋| 153/158 [38:09<00:44,  8.91s/it]The attention mask and the pad token id were not set. As a consequence, you may observe unexpected behavior. Please pass your input's `attention_mask` to obtain reliable results.\n",
      "Setting `pad_token_id` to 2 (first `eos_token_id`) to generate sequence\n"
     ]
    },
    {
     "name": "stdout",
     "output_type": "stream",
     "text": [
      "icko irini matci part_sub kisin motc part\n",
      "icinikasw wemotaci\n"
     ]
    },
    {
     "name": "stderr",
     "output_type": "stream",
     "text": [
      " 97%|█████████▋| 154/158 [38:45<01:09, 17.31s/it]The attention mask and the pad token id were not set. As a consequence, you may observe unexpected behavior. Please pass your input's `attention_mask` to obtain reliable results.\n",
      "Setting `pad_token_id` to 2 (first `eos_token_id`) to generate sequence\n"
     ]
    },
    {
     "name": "stdout",
     "output_type": "stream",
     "text": [
      "icinikasw wemotaci eko epe ototew part_conn Pron wikimew Pron apiw peiw Pron tac onitcanic kaskinw part pisima\n",
      "otenw kepew\n"
     ]
    },
    {
     "name": "stderr",
     "output_type": "stream",
     "text": [
      " 98%|█████████▊| 155/158 [38:48<00:38, 12.94s/it]The attention mask and the pad token id were not set. As a consequence, you may observe unexpected behavior. Please pass your input's `attention_mask` to obtain reliable results.\n",
      "Setting `pad_token_id` to 2 (first `eos_token_id`) to generate sequence\n"
     ]
    },
    {
     "name": "stdout",
     "output_type": "stream",
     "text": [
      "otenw kepew ask ici acteam kanatw irik part_\n",
      "kaasisiwakam sakih\n"
     ]
    },
    {
     "name": "stderr",
     "output_type": "stream",
     "text": [
      " 99%|█████████▊| 156/158 [38:50<00:19,  9.67s/it]The attention mask and the pad token id were not set. As a consequence, you may observe unexpected behavior. Please pass your input's `attention_mask` to obtain reliable results.\n",
      "Setting `pad_token_id` to 2 (first `eos_token_id`) to generate sequence\n"
     ]
    },
    {
     "name": "stdout",
     "output_type": "stream",
     "text": [
      "kaasisiwakam sakih kepew ask ici acteam kanat\n",
      "atikam metowanikanw\n"
     ]
    },
    {
     "name": "stderr",
     "output_type": "stream",
     "text": [
      " 99%|█████████▉| 157/158 [39:23<00:16, 16.62s/it]The attention mask and the pad token id were not set. As a consequence, you may observe unexpected behavior. Please pass your input's `attention_mask` to obtain reliable results.\n",
      "Setting `pad_token_id` to 2 (first `eos_token_id`) to generate sequence\n"
     ]
    },
    {
     "name": "stdout",
     "output_type": "stream",
     "text": [
      "atikam metowanikanw awaci metow kaki mitw ocitaw atikam nehirowisw mekwaw part_sub metowehaso onitcanicw otci matceatisiw notc Pron otinam otci onitcanicw part pisima\n",
      "awtosw sakih\n"
     ]
    },
    {
     "name": "stderr",
     "output_type": "stream",
     "text": [
      "100%|██████████| 158/158 [39:25<00:00, 14.97s/it]"
     ]
    },
    {
     "name": "stdout",
     "output_type": "stream",
     "text": [
      "awtosw sakih kepew ask ici acteam kanat\n"
     ]
    },
    {
     "name": "stderr",
     "output_type": "stream",
     "text": [
      "\n"
     ]
    }
   ],
   "source": [
    "generate_Text_bot(test_data,'./Atikamekw_bot/')"
   ]
  },
  {
   "cell_type": "code",
   "execution_count": 18,
   "id": "1a8cb9fb",
   "metadata": {},
   "outputs": [],
   "source": [
    "# def generate_Text_bot(input_path,bot_path,test_data):\n",
    "    \n",
    "#     output_folder = './Atikamekw_bot/generated_text_unprocessed'\n",
    "#     if not os.path.exists(output_folder):\n",
    "#         os.mkdir(output_folder)\n",
    "#     files = sorted(glob.glob(input_path + '/*'))\n",
    "#     tokenizer = GPT2Tokenizer.from_pretrained(bot_path)\n",
    "#     model = TFGPT2LMHeadModel.from_pretrained(bot_path)\n",
    "#     for file in tqdm.tqdm(files):\n",
    "        \n",
    "#         if file not in test_data:\n",
    "#             print ('1')\n",
    "#             continue\n",
    "#         print (file)\n",
    "#         file_name  = file.split('\\\\')[-1]\n",
    "#         output_file = output_folder + '/bot_generated_' + file_name\n",
    "#         file = open(file ,mode='r',encoding = 'utf-8')\n",
    "#         all_of_it = file.read()\n",
    "        \n",
    "#         start_token = ' '.join(all_of_it.split()[:2])\n",
    "#         print (start_token)\n",
    "        \n",
    "#         input_ids = tokenizer.encode(start_token, return_tensors='tf')\n",
    "#         # getting out output\n",
    "#         beam_output = model.generate(\n",
    "#           input_ids,\n",
    "#           max_length = len(all_of_it),\n",
    "#           num_beams = 5,\n",
    "#           temperature = 0.7,\n",
    "#           no_repeat_ngram_size=2,\n",
    "#           num_return_sequences=5\n",
    "#         )\n",
    "#         output_text = tokenizer.decode(beam_output[0],skip_special_tokens = True)\n",
    "#         with open(output_file, 'w',encoding='utf-8') as f:\n",
    "#             f.write(f\"{output_text[:-1]}\\n\")\n",
    "            \n",
    "#         break"
   ]
  },
  {
   "cell_type": "code",
   "execution_count": null,
   "id": "5b02253c",
   "metadata": {},
   "outputs": [],
   "source": [
    "import tensorflow as tf"
   ]
  },
  {
   "cell_type": "code",
   "execution_count": null,
   "id": "66216dbd",
   "metadata": {},
   "outputs": [],
   "source": [
    "print(\"Num GPUs Available: \", tf.config.list_physical_devices())"
   ]
  },
  {
   "cell_type": "code",
   "execution_count": null,
   "id": "77f15f02",
   "metadata": {},
   "outputs": [],
   "source": [
    "tf.debugging.set_log_device_placement(False)"
   ]
  },
  {
   "cell_type": "code",
   "execution_count": null,
   "id": "b737e997",
   "metadata": {},
   "outputs": [],
   "source": [
    "print(tf. __version__) "
   ]
  },
  {
   "cell_type": "code",
   "execution_count": null,
   "id": "873f9733",
   "metadata": {},
   "outputs": [],
   "source": []
  }
 ],
 "metadata": {
  "kernelspec": {
   "display_name": "Python 3 (ipykernel)",
   "language": "python",
   "name": "python3"
  },
  "language_info": {
   "codemirror_mode": {
    "name": "ipython",
    "version": 3
   },
   "file_extension": ".py",
   "mimetype": "text/x-python",
   "name": "python",
   "nbconvert_exporter": "python",
   "pygments_lexer": "ipython3",
   "version": "3.9.16"
  }
 },
 "nbformat": 4,
 "nbformat_minor": 5
}
