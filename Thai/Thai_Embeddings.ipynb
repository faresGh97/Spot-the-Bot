{
 "cells": [
  {
   "cell_type": "code",
   "execution_count": 1,
   "id": "e7052fb6",
   "metadata": {},
   "outputs": [],
   "source": [
    "import numpy as np\n",
    "from sklearn.feature_extraction.text import TfidfVectorizer\n",
    "from scipy.sparse.linalg import svds\n",
    "from IPython.display import clear_output\n",
    "from tqdm.notebook import tqdm\n",
    "import matplotlib.pyplot as plt\n",
    "import pickle\n",
    "import io \n",
    "import json"
   ]
  },
  {
   "cell_type": "code",
   "execution_count": 2,
   "id": "6230e600",
   "metadata": {},
   "outputs": [],
   "source": [
    "class Vectorizer():\n",
    "    def __init__(self, corp_path):\n",
    "        self.corp_path = corp_path\n",
    "    \n",
    "    def upload_corp(self):\n",
    "        with open(self.corp_path, 'r',encoding = 'utf-8') as f:\n",
    "            self.corp = list(set(f.read().split('\\n')[:-1]))\n",
    "        self.corp = [text.replace('$$$', ' ') for text in self.corp]\n",
    "    \n",
    "    \n",
    "    def log(self, part):\n",
    "        clear_output(wait=True)\n",
    "        print(f'{part} is processing')\n",
    "        \n",
    "    def make_tf_idf_matrix(self, token_pattern=None, min_df = 1, max_df=None, use_idf = True):\n",
    "        if token_pattern:\n",
    "            self.tfidf = TfidfVectorizer(analyzer='word', min_df=min_df, token_pattern=token_pattern, use_idf=use_idf)\n",
    "        else:\n",
    "            self.tfidf = TfidfVectorizer(analyzer='word', min_df=min_df, use_idf=use_idf)\n",
    "            \n",
    "        self.W = self.tfidf.fit_transform(self.corp)\n",
    "        self.words_list = self.tfidf.get_feature_names_out()\n",
    "        \n",
    "    def make_svd(self, output_folder, k=30 ):\n",
    "#         self.u, self.sigma, self.vt = svds(self.W, k)\n",
    "        \n",
    "#         self.descending_order_of_inds = np.flip(np.argsort(self.sigma))\n",
    "#         self.u = self.u[:,self.descending_order_of_inds]\n",
    "#         self.vt = self.vt[self.descending_order_of_inds,:]\n",
    "#         self.sigma = np.diag(self.sigma[self.descending_order_of_inds])\n",
    "        self.u, self.sigma, self.vT = svds(self.W, k)\n",
    "        self.descending_order_of_inds = np.argsort(-self.sigma)\n",
    "        \n",
    "        self.u = self.u[:, self.descending_order_of_inds]\n",
    "        self.sigma = np.diag(self.sigma[self.descending_order_of_inds])\n",
    "        self.vT = self.vT[self.descending_order_of_inds, :]\n",
    "\n",
    "        #Checking that sizes are ok\n",
    "        #assert self.sigma.shape == (k,)\n",
    "        #assert swlf.vt.shape == (k, self.W.shape[1])\n",
    "        #assert swlf.u.shape == (self.W.shape[0], k)\n",
    "        print (self.W.shape)\n",
    "        print (self.sigma.shape)\n",
    "        print (self.vT.shape)\n",
    "        print (self.u.shape)\n",
    "        \n",
    "        self.embedded_matrix = self.sigma@self.vT\n",
    "        #self.embedded_matrix = np.dot(np.diag(self.sigma), self.vt).T\n",
    "        self.words_embedding_dict = dict(zip(self.words_list, self.embedded_matrix.T))\n",
    "        #self.words_embedding_dict = dict(zip(self.words_list, self.embedded_matrix))\n",
    "        \n",
    "        with open(output_folder+'/' + str(k) + '_sigma_vt.npy', 'wb') as f:\n",
    "            #np.save(f, np.dot(np.diag(self.sigma), self.vt).T)\n",
    "            np.save(f, self.embedded_matrix.T)\n",
    "        with open(output_folder+'/' +  str(k) + '_sigma.npy', 'wb') as f:\n",
    "            np.save(f, self.sigma)\n",
    "        with open(output_folder+'/' +  str(k) + '_u.npy', 'wb') as f:\n",
    "            np.save(f, self.u)\n",
    "        with open(output_folder+'/' +  str(k) + '_vt.npy', 'wb') as f:\n",
    "            np.save(f, self.vT)\n",
    "            \n",
    "        self.save_word_embedding(k)\n",
    "    \n",
    "    \n",
    "    def save_word_embedding(self, shape):\n",
    "        \n",
    "        dict_ = {}\n",
    "        for key, value in self.words_embedding_dict.items():\n",
    "            dict_[key] = value.tolist()\n",
    "        save_name = \"Thai_WordVectorDict_SVD\" + str(shape) + \".json\"\n",
    "        with open(save_name, 'w') as f:\n",
    "            json.dump(dict_, f)\n",
    "            \n",
    "    def get_emb_dict(self):\n",
    "        \n",
    "        self.log('Upload')\n",
    "        self.upload_corp()\n",
    "        self.log('TfIdf')\n",
    "        self.make_tf_idf_matrix()\n",
    "        self.log('SVD')\n",
    "        self.make_svd('./Matrixes',k=100)\n",
    "        \n",
    "        return self.words_embedding_dict"
   ]
  },
  {
   "cell_type": "code",
   "execution_count": 3,
   "id": "f5aa5d1e",
   "metadata": {},
   "outputs": [
    {
     "name": "stdout",
     "output_type": "stream",
     "text": [
      "SVD is processing\n",
      "(5781, 8985590)\n",
      "(100, 100)\n",
      "(100, 8985590)\n",
      "(5781, 100)\n"
     ]
    }
   ],
   "source": [
    "vect = Vectorizer('./Thai_corpus.txt')\n",
    "emb_dict = vect.get_emb_dict()"
   ]
  },
  {
   "cell_type": "code",
   "execution_count": 42,
   "id": "c591247f",
   "metadata": {},
   "outputs": [
    {
     "name": "stdout",
     "output_type": "stream",
     "text": [
      "ขข:  [-0.1028 -0.1266  0.0271 -0.0155 -0.0188 -0.008   0.0596 -0.0367  0.033\n",
      " -0.0102  0.0045  0.0123  0.0163  0.0205  0.0324  0.0154  0.0128  0.0364\n",
      "  0.0008  0.0155  0.014  -0.0013 -0.0404  0.0004  0.004  -0.0164  0.0578\n",
      " -0.0304  0.0792  0.0079 -0.0028 -0.0591  0.0465 -0.02   -0.0112 -0.0552\n",
      " -0.0073  0.0393 -0.0094 -0.0078 -0.0046 -0.0996 -0.0101  0.0779 -0.0298\n",
      " -0.0206  0.0095  0.1176 -0.0542  0.0153  0.0386 -0.0311 -0.0017 -0.0073\n",
      " -0.0308  0.0698 -0.0735  0.0069  0.0083  0.0197  0.0377 -0.0107 -0.0247\n",
      "  0.085  -0.0472 -0.069  -0.0023  0.1123  0.0913 -0.0206 -0.0168 -0.0372\n",
      "  0.0503  0.0352  0.014   0.0415 -0.0568 -0.0115  0.1167 -0.0207 -0.0401\n",
      " -0.0995 -0.0929 -0.0529 -0.0555  0.0201  0.0009 -0.0718  0.1089 -0.0258\n",
      "  0.0334 -0.0309  0.0473  0.1197 -0.0259  0.0016  0.0371 -0.0459  0.0187\n",
      " -0.0554]\n",
      "ขขข:  [-0.0174 -0.0305  0.0104 -0.0116 -0.0083 -0.0013  0.0112 -0.0076  0.0043\n",
      " -0.0019  0.0018 -0.0009  0.0047  0.0055  0.0073  0.0013  0.0005  0.0079\n",
      "  0.0021  0.0031  0.0024 -0.001  -0.0145 -0.     -0.0009 -0.0032  0.0153\n",
      " -0.0061  0.019   0.001  -0.0015 -0.015   0.0095 -0.002  -0.0077 -0.0131\n",
      " -0.0034  0.0085 -0.0028 -0.0008  0.002  -0.0251 -0.008   0.0162 -0.0057\n",
      " -0.0047 -0.0028  0.0267 -0.0148  0.0036  0.0086 -0.0071  0.0001  0.0005\n",
      " -0.0094  0.0174 -0.0151  0.0028  0.0042  0.0024  0.0057 -0.0002 -0.0046\n",
      "  0.018  -0.0092 -0.0158 -0.0031  0.0252  0.0213 -0.0078 -0.0037 -0.0082\n",
      "  0.0108  0.0046  0.0019  0.0079 -0.0078 -0.0043  0.0234 -0.0043 -0.009\n",
      " -0.0189 -0.0185 -0.0108 -0.0105  0.003   0.0009 -0.0163  0.0268  0.0001\n",
      "  0.01   -0.0087  0.007   0.0228 -0.0054  0.0034  0.0074 -0.0112  0.0062\n",
      " -0.0129]\n",
      "ขขขข:  [-0.0054 -0.0114  0.0039 -0.0045 -0.0031  0.0003  0.0038 -0.0028  0.0029\n",
      " -0.0013  0.0011  0.0003  0.0013  0.0023  0.0027  0.0006 -0.0009  0.0037\n",
      "  0.0002  0.0021  0.0016 -0.0001 -0.0046  0.     -0.001  -0.0015  0.0055\n",
      " -0.0032  0.0082  0.0011  0.0007 -0.0059  0.0046 -0.002  -0.0014 -0.0048\n",
      " -0.0017  0.0036 -0.001  -0.0027 -0.     -0.0088 -0.0024  0.0066 -0.0042\n",
      " -0.0016 -0.0011  0.0117 -0.0071  0.003   0.0029 -0.0031  0.0005 -0.0027\n",
      " -0.0036  0.0075 -0.0058  0.0013  0.0014  0.0019  0.0028 -0.0002 -0.0027\n",
      "  0.0064 -0.0041 -0.0054 -0.0015  0.0096  0.0083 -0.0028 -0.0023 -0.0029\n",
      "  0.0048  0.0028  0.0012  0.0038 -0.0046 -0.0017  0.0105 -0.0009 -0.0039\n",
      " -0.0083 -0.0079 -0.0031 -0.0049  0.0009 -0.0004 -0.0053  0.0112 -0.0012\n",
      "  0.0032 -0.0035  0.0045  0.012  -0.0036  0.0002  0.0016 -0.0044  0.0031\n",
      " -0.0063]\n",
      "ขขขขข:  [-0.0016 -0.0031  0.0011 -0.0014 -0.0006  0.0001  0.0017 -0.0014  0.0005\n",
      "  0.0001  0.0006 -0.     -0.0005  0.0011 -0.0001  0.0014  0.0002  0.0006\n",
      "  0.0002  0.0017  0.0008  0.     -0.001   0.0001 -0.0002 -0.0006  0.0015\n",
      "  0.0001  0.0016  0.0004  0.0008  0.      0.0004 -0.0004  0.0002 -0.0015\n",
      " -0.0008  0.0016 -0.0003  0.      0.0002 -0.0012 -0.0005  0.0019 -0.0014\n",
      "  0.0007 -0.      0.0018 -0.002   0.0012 -0.0007 -0.0013 -0.0007  0.0005\n",
      " -0.0002  0.0025 -0.0028  0.0008 -0.0008 -0.0001  0.0025  0.0002 -0.001\n",
      "  0.0015 -0.0002 -0.0019 -0.001   0.0008  0.0024 -0.0003  0.0005  0.0008\n",
      "  0.0017  0.0011  0.0014  0.0006 -0.0013 -0.0005  0.0023  0.0006 -0.0001\n",
      " -0.0028 -0.0015 -0.0017 -0.0012 -0.0004  0.0005 -0.0009  0.0026  0.0004\n",
      "  0.0004 -0.0015  0.0014  0.0013  0.0005 -0.0005  0.0001 -0.0018  0.001\n",
      " -0.0031]\n",
      "ขขขขขข:  [-0.0004 -0.001   0.0005 -0.0004 -0.0004 -0.0005  0.0003 -0.0001 -0.0001\n",
      " -0.0001  0.0005 -0.0001  0.0001  0.0004  0.0004  0.0003  0.      0.0005\n",
      " -0.0003  0.0004 -0.0002 -0.0002 -0.0001 -0.0001 -0.0002 -0.      0.0004\n",
      "  0.0003  0.0004 -0.0001 -0.0005 -0.0008  0.0003 -0.     -0.0002 -0.0001\n",
      " -0.0005  0.0001 -0.0001 -0.0001  0.0003 -0.0006 -0.0002  0.0008 -0.0003\n",
      "  0.0002 -0.0001  0.0006 -0.0004  0.0003  0.0002 -0.0002  0.     -0.0001\n",
      " -0.0006 -0.0002 -0.0009  0.0002  0.0009  0.0009  0.     -0.0002 -0.0006\n",
      "  0.0008 -0.0006  0.0001  0.0002  0.0002  0.0007 -0.0009 -0.0001 -0.0003\n",
      "  0.0001  0.0004  0.0001  0.0001 -0.0003 -0.0002 -0.0002 -0.0003 -0.0003\n",
      " -0.0003 -0.0002 -0.0005 -0.0006 -0.0003  0.0001 -0.0002  0.0006  0.0001\n",
      " -0.0002  0.0001 -0.0003 -0.0004 -0.0003 -0.0002  0.0004 -0.0001  0.0003\n",
      " -0.0003]\n",
      "ขขขขขขข:  [-0.0002 -0.0005  0.0002 -0.0001 -0.0001 -0.0001  0.0001 -0.      0.\n",
      " -0.0001  0.0001  0.0001 -0.      0.0003  0.0001 -0.      0.      0.0001\n",
      "  0.0002 -0.0001  0.0002 -0.0004 -0.0004  0.     -0.0002 -0.0001  0.0004\n",
      " -0.      0.0005  0.0002  0.0001 -0.0001  0.0003 -0.      0.     -0.\n",
      " -0.0002  0.0002 -0.0003 -0.     -0.     -0.     -0.0001  0.0005 -0.0003\n",
      " -0.0001 -0.0002  0.0006 -0.0002  0.0002  0.     -0.0004  0.0001  0.0002\n",
      " -0.0003  0.0003 -0.0001 -0.0001  0.0002  0.0002  0.      0.0001  0.0001\n",
      "  0.0003 -0.0002 -0.0003  0.0002  0.0002  0.0003 -0.0003 -0.     -0.0001\n",
      "  0.0003  0.      0.0001  0.0001  0.     -0.0001  0.0002 -0.0001 -0.0003\n",
      " -0.0005 -0.0002 -0.     -0.0003 -0.0001  0.     -0.0002  0.0005 -0.\n",
      "  0.0002 -0.0001  0.0002  0.0001 -0.0001  0.0001  0.     -0.0002  0.0002\n",
      " -0.0003]\n",
      "ขขขขขขขข:  [-0.0001 -0.0002  0.0001 -0.0001  0.      0.0001  0.0001 -0.      0.\n",
      "  0.0001  0.      0.0001  0.      0.0001  0.0001 -0.      0.      0.\n",
      "  0.     -0.0001  0.     -0.0001 -0.0001 -0.     -0.     -0.      0.0002\n",
      "  0.      0.0002 -0.0001 -0.0001 -0.      0.0001 -0.0001 -0.     -0.0001\n",
      "  0.0001  0.0001 -0.0003  0.0001  0.0003 -0.0002 -0.      0.0003 -0.0002\n",
      "  0.0002 -0.0002  0.0005 -0.0003  0.0002  0.0001 -0.0001 -0.0001 -0.0002\n",
      " -0.0001  0.0001 -0.0001 -0.0002 -0.0001  0.0001  0.     -0.      0.0001\n",
      "  0.0001 -0.     -0.0001 -0.      0.0002  0.0002 -0.0001 -0.     -0.0001\n",
      "  0.0001 -0.0001  0.      0.     -0.      0.      0.0002 -0.     -0.0001\n",
      " -0.0001 -0.0001 -0.0001 -0.0001 -0.      0.     -0.0002  0.0002  0.\n",
      "  0.0001 -0.      0.0001 -0.      0.      0.0002  0.     -0.0001  0.0001\n",
      " -0.0001]\n",
      "ขขขขขขขขอค:  [-0.     -0.0001  0.0001 -0.     -0.0001 -0.      0.      0.     -0.\n",
      " -0.      0.      0.      0.      0.0001  0.0001  0.      0.      0.\n",
      "  0.      0.      0.0001 -0.0002  0.     -0.     -0.0001 -0.      0.0001\n",
      "  0.      0.0001 -0.     -0.      0.      0.0001  0.     -0.0001 -0.0001\n",
      " -0.      0.0001 -0.      0.     -0.      0.     -0.     -0.     -0.0001\n",
      " -0.      0.      0.0001 -0.      0.     -0.     -0.      0.      0.\n",
      " -0.      0.     -0.      0.      0.     -0.      0.      0.     -0.\n",
      "  0.0001  0.     -0.0001 -0.      0.      0.     -0.      0.     -0.\n",
      "  0.      0.     -0.      0.      0.     -0.     -0.     -0.     -0.\n",
      " -0.0001 -0.     -0.     -0.     -0.      0.     -0.      0.      0.\n",
      "  0.0001 -0.      0.      0.0001  0.     -0.     -0.     -0.0001  0.\n",
      " -0.0001]\n",
      "ขขขขขขขข๐:  [-0.0001 -0.0003  0.     -0.0003  0.0001  0.0002  0.0002 -0.      0.0001\n",
      "  0.0001  0.     -0.0001  0.      0.0001  0.0003 -0.0001  0.0001  0.0001\n",
      "  0.0001 -0.0001 -0.      0.     -0.0002  0.      0.0002  0.     -0.\n",
      " -0.     -0.0001 -0.0001 -0.     -0.      0.0002 -0.0002  0.0001 -0.0003\n",
      " -0.      0.     -0.0001  0.0001 -0.     -0.0002 -0.      0.0001  0.0002\n",
      "  0.0001  0.0001  0.0003 -0.     -0.0001 -0.0002 -0.0002  0.0001  0.0002\n",
      " -0.0001  0.0002 -0.0003 -0.0001 -0.0002  0.      0.0001  0.0001 -0.0002\n",
      " -0.      0.0001 -0.0002  0.      0.0003  0.0001 -0.0001 -0.0001 -0.\n",
      "  0.0001 -0.      0.      0.0001 -0.0001 -0.0002  0.0001 -0.      0.\n",
      " -0.     -0.0003 -0.0001 -0.0001 -0.0001 -0.0001 -0.0002  0.0002 -0.0001\n",
      "  0.0002 -0.0003  0.0001  0.0001 -0.     -0.      0.0001 -0.      0.\n",
      " -0.    ]\n",
      "ขขขขขขขยขสขขแสขาพขขขขยสสพฑ:  [-0.     -0.0002  0.0001 -0.0001 -0.     -0.0001  0.0001 -0.     -0.0001\n",
      "  0.      0.0001  0.      0.      0.0001  0.      0.0001  0.      0.0001\n",
      "  0.      0.0001 -0.      0.0001  0.0001  0.0001 -0.     -0.      0.\n",
      "  0.      0.      0.0001  0.0001  0.0002 -0.0001  0.      0.0001  0.\n",
      " -0.0001  0.     -0.0001 -0.      0.0002  0.0001 -0.      0.0001  0.0001\n",
      " -0.     -0.      0.0001 -0.0001  0.      0.      0.0001  0.0001 -0.0001\n",
      " -0.      0.0002 -0.     -0.     -0.0001  0.0001 -0.     -0.0002 -0.0001\n",
      "  0.      0.      0.0001  0.0001 -0.     -0.0001 -0.0001  0.0001  0.\n",
      "  0.0001 -0.0001  0.0001 -0.      0.0002  0.0001  0.0001  0.0001  0.\n",
      " -0.0001  0.0001 -0.     -0.      0.0001 -0.0001  0.     -0.      0.\n",
      "  0.     -0.0001  0.0001 -0.0001 -0.     -0.     -0.      0.0001  0.0001\n",
      "  0.    ]\n",
      "ขขขขขขฃขขขข:  [-0.0001  0.     -0.     -0.0001 -0.      0.0001 -0.     -0.     -0.\n",
      " -0.0001  0.0001  0.0001  0.     -0.      0.      0.     -0.0001 -0.\n",
      "  0.0001  0.      0.0001  0.     -0.     -0.     -0.     -0.     -0.\n",
      " -0.     -0.     -0.0001 -0.     -0.0001  0.0001  0.0001 -0.     -0.\n",
      "  0.     -0.     -0.     -0.     -0.0001  0.      0.      0.     -0.\n",
      "  0.      0.0001 -0.      0.      0.      0.      0.      0.     -0.\n",
      " -0.     -0.0001  0.0001  0.0001  0.0001  0.     -0.     -0.      0.\n",
      "  0.      0.      0.0001  0.     -0.      0.      0.0001  0.     -0.\n",
      "  0.0001 -0.     -0.      0.     -0.0001 -0.     -0.      0.0001 -0.\n",
      " -0.0001  0.0001  0.     -0.     -0.0001  0.      0.     -0.      0.0001\n",
      " -0.0001 -0.     -0.0001 -0.     -0.     -0.0001  0.      0.0001  0.0001\n",
      "  0.0001]\n"
     ]
    }
   ],
   "source": [
    "for c, k in enumerate(emb_dict.keys()):\n",
    "    print(f'{k}: ', emb_dict[k].round(4))\n",
    "    if c == 10:\n",
    "        break\n",
    "\n"
   ]
  },
  {
   "cell_type": "code",
   "execution_count": 43,
   "id": "59f61c75",
   "metadata": {},
   "outputs": [
    {
     "name": "stdout",
     "output_type": "stream",
     "text": [
      "[[37.26959965  0.          0.         ...  0.          0.\n",
      "   0.        ]\n",
      " [ 0.         11.09814606  0.         ...  0.          0.\n",
      "   0.        ]\n",
      " [ 0.          0.          8.66776927 ...  0.          0.\n",
      "   0.        ]\n",
      " ...\n",
      " [ 0.          0.          0.         ...  2.02538275  0.\n",
      "   0.        ]\n",
      " [ 0.          0.          0.         ...  0.          2.01846703\n",
      "   0.        ]\n",
      " [ 0.          0.          0.         ...  0.          0.\n",
      "   2.01398455]]\n"
     ]
    },
    {
     "data": {
      "image/png": "[encoded data removed]",
      "text/plain": [
       "<Figure size 1500x1000 with 1 Axes>"
      ]
     },
     "metadata": {},
     "output_type": "display_data"
    }
   ],
   "source": [
    "s = np.diag(vect.sigma)\n",
    "\n",
    "print (vect.sigma)\n",
    "plt.figure(figsize=(15, 10))\n",
    "plt.plot(s, label='Singular values')\n",
    "plt.grid()\n",
    "plt.legend()\n",
    "plt.yticks(range(0, 40))\n",
    "plt.show()\n",
    "\n"
   ]
  },
  {
   "cell_type": "markdown",
   "id": "8e59d4b5",
   "metadata": {},
   "source": [
    "# Thai CBOW Embeddings"
   ]
  },
  {
   "cell_type": "code",
   "execution_count": 2,
   "id": "ab14bac9",
   "metadata": {},
   "outputs": [],
   "source": [
    "# def load_corpus(corp_path):\n",
    "#     with open(corp_path, 'r',encoding = 'utf-8') as f:\n",
    "#         corp = list(set(f.read().split('\\n')[:-1]))\n",
    "#     corp = [text.replace('$$$', ' ') for text in corp]\n",
    "#     corp = [text.split() for text in corp]\n",
    "#     return corp\n",
    "\n",
    "def get_vocab(corp_path):\n",
    "    fin = io.open(corp_path, 'r', encoding='utf-8')\n",
    "    vocab = set()\n",
    "    for line in fin:\n",
    "        for word in line.replace('$$$', ' ').split():\n",
    "            vocab.add(word)\n",
    "    return vocab"
   ]
  },
  {
   "cell_type": "code",
   "execution_count": 3,
   "id": "b9f3529d",
   "metadata": {},
   "outputs": [],
   "source": [
    "vocab = get_vocab('Thai_corpus.txt')"
   ]
  },
  {
   "cell_type": "code",
   "execution_count": 4,
   "id": "dc06b317",
   "metadata": {},
   "outputs": [
    {
     "data": {
      "text/plain": [
       "16074599"
      ]
     },
     "execution_count": 4,
     "metadata": {},
     "output_type": "execute_result"
    }
   ],
   "source": [
    "len(vocab)"
   ]
  },
  {
   "cell_type": "code",
   "execution_count": 5,
   "id": "9899af88",
   "metadata": {},
   "outputs": [],
   "source": [
    "from gensim.models import Word2Vec\n",
    "dimension = 100\n",
    "model = Word2Vec(vector_size=dimension, min_count=1)\n",
    "model.build_vocab(vocab)\n",
    "model.save(\"word2vec_Thai.model\")"
   ]
  },
  {
   "cell_type": "code",
   "execution_count": 6,
   "id": "38c4d6d9",
   "metadata": {},
   "outputs": [
    {
     "name": "stdout",
     "output_type": "stream",
     "text": [
      "Wall time: 50min 47s\n"
     ]
    }
   ],
   "source": [
    "%%time\n",
    "\n",
    "with io.open('Thai_corpus.txt', 'r', encoding='utf-8') as file:\n",
    "    eof = False\n",
    "    while not eof:\n",
    "        limit = 1000\n",
    "        documents = []\n",
    "        for line in file:\n",
    "            documents.append(line.split())\n",
    "            limit -= 1\n",
    "            if limit == 0:\n",
    "                break\n",
    "        else:\n",
    "            eof = True\n",
    "        model = Word2Vec.load(\"word2vec_Thai.model\")\n",
    "        model.build_vocab(documents, update=True)\n",
    "        model.train(documents, total_examples=model.corpus_count, epochs=model.epochs)\n",
    "        model.save(\"word2vec_Thai.model\")"
   ]
  },
  {
   "cell_type": "code",
   "execution_count": 7,
   "id": "3add8560",
   "metadata": {},
   "outputs": [],
   "source": [
    "dictionary = {key : model.wv[key] for key in model.wv.key_to_index}"
   ]
  },
  {
   "cell_type": "code",
   "execution_count": 8,
   "id": "ec5ab23f",
   "metadata": {},
   "outputs": [
    {
     "data": {
      "text/plain": [
       "16074140"
      ]
     },
     "execution_count": 8,
     "metadata": {},
     "output_type": "execute_result"
    }
   ],
   "source": [
    "len(dictionary)"
   ]
  },
  {
   "cell_type": "code",
   "execution_count": 20,
   "id": "6757e38c",
   "metadata": {},
   "outputs": [],
   "source": [
    "def save_dictionary(dictionary,shape):\n",
    "#     for key, value in dictionary.items():\n",
    "#         dictionary[key] = value.tolist()\n",
    "    save_name = \"Thai_WordVectorDict_CBOW\" + str(shape) + \".json\"\n",
    "    with open(save_name, 'w') as f:\n",
    "        json.dump(dictionary, f)\n",
    "    "
   ]
  },
  {
   "cell_type": "code",
   "execution_count": 32,
   "id": "bf2d38f8",
   "metadata": {},
   "outputs": [],
   "source": [
    "save_dictionary(dictionary,dimension)"
   ]
  },
  {
   "cell_type": "code",
   "execution_count": 16,
   "id": "2e2a057a",
   "metadata": {},
   "outputs": [
    {
     "data": {
      "text/plain": [
       "[('พระยาพชยดเบหรูง', 0.9885090589523315),\n",
       " ('ผ่ขบ', 0.9884961247444153),\n",
       " ('สรรพส้ต่ว็๋', 0.9881777167320251),\n",
       " ('วนฮนชใส่ร', 0.9880083799362183),\n",
       " ('นึ่นารเค้น', 0.9879629611968994),\n",
       " ('ไท๐๑', 0.9878247380256653),\n",
       " ('๐ทไขไลไธธนี', 0.9876413345336914),\n",
       " ('สะตะติ', 0.9875816106796265),\n",
       " ('าทานน', 0.9875491857528687),\n",
       " ('แาเวอรแออเารอ', 0.9875255823135376)]"
      ]
     },
     "execution_count": 16,
     "metadata": {},
     "output_type": "execute_result"
    }
   ],
   "source": [
    "model.wv.most_similar('รพรด')"
   ]
  },
  {
   "cell_type": "code",
   "execution_count": null,
   "id": "062b702c",
   "metadata": {},
   "outputs": [],
   "source": []
  },
  {
   "cell_type": "code",
   "execution_count": 22,
   "id": "69d67f7e",
   "metadata": {},
   "outputs": [],
   "source": [
    "# documents = load_corpus('Thai_corpus.txt')"
   ]
  },
  {
   "cell_type": "code",
   "execution_count": 23,
   "id": "b5a01a5e",
   "metadata": {},
   "outputs": [],
   "source": [
    "# len(documents)"
   ]
  },
  {
   "cell_type": "code",
   "execution_count": 24,
   "id": "4a84714d",
   "metadata": {},
   "outputs": [],
   "source": [
    "# from gensim.models import Word2Vec"
   ]
  },
  {
   "cell_type": "code",
   "execution_count": 25,
   "id": "8d5ced54",
   "metadata": {},
   "outputs": [],
   "source": [
    "# dimension = 100\n",
    "# model = Word2Vec(sentences=documents, vector_size=dimension, min_count=1)\n",
    "# model.save(\"word2vec_Thai.model\")"
   ]
  },
  {
   "cell_type": "code",
   "execution_count": 26,
   "id": "094e7a8a",
   "metadata": {},
   "outputs": [],
   "source": [
    "# dictionary = {key : model.wv[key] for key in model.wv.key_to_index}"
   ]
  },
  {
   "cell_type": "code",
   "execution_count": 27,
   "id": "36f686a7",
   "metadata": {},
   "outputs": [],
   "source": [
    "# dictionary"
   ]
  },
  {
   "cell_type": "code",
   "execution_count": 28,
   "id": "c7216cbe",
   "metadata": {},
   "outputs": [],
   "source": [
    "# len(dictionary)"
   ]
  },
  {
   "cell_type": "code",
   "execution_count": 29,
   "id": "c5beb04f",
   "metadata": {},
   "outputs": [],
   "source": [
    "# model.wv.most_similar('เกม')"
   ]
  },
  {
   "cell_type": "code",
   "execution_count": 30,
   "id": "c3c8b8f3",
   "metadata": {},
   "outputs": [],
   "source": [
    "# import io\n",
    "# def save_dictionary(dictionary):\n",
    "#     for key, value in self.words_embedding_dict.items():\n",
    "#         dict_[key] = value.tolist()\n",
    "#     save_name = \"Thai_WordVectorDict_CBOW\" + str(shape) + \".json\"\n",
    "#     with open(fname, 'w') as f:\n",
    "#         json.dump(dict_, f)\n",
    "    \n",
    "# #     length, dimension = args\n",
    "# #     fin = io.open(fname, 'w', encoding='utf-8')\n",
    "# #     fin.write('%d %d\\n' % (length, dimension))\n",
    "# #     for word in dictionary:\n",
    "# #         fin.write('%s %s\\n' % (word, ' '.join(map(str, dictionary[word]))))"
   ]
  },
  {
   "cell_type": "code",
   "execution_count": 31,
   "id": "a50cb2cc",
   "metadata": {},
   "outputs": [],
   "source": [
    "# save_dictionary(dictionary)"
   ]
  },
  {
   "cell_type": "code",
   "execution_count": null,
   "id": "8ae63234",
   "metadata": {},
   "outputs": [],
   "source": []
  },
  {
   "cell_type": "code",
   "execution_count": null,
   "id": "3a7307af",
   "metadata": {},
   "outputs": [],
   "source": []
  },
  {
   "cell_type": "code",
   "execution_count": null,
   "id": "b762dc87",
   "metadata": {},
   "outputs": [],
   "source": []
  },
  {
   "cell_type": "code",
   "execution_count": null,
   "id": "81a3b040",
   "metadata": {},
   "outputs": [],
   "source": []
  }
 ],
 "metadata": {
  "kernelspec": {
   "display_name": "Python 3 (ipykernel)",
   "language": "python",
   "name": "python3"
  },
  "language_info": {
   "codemirror_mode": {
    "name": "ipython",
    "version": 3
   },
   "file_extension": ".py",
   "mimetype": "text/x-python",
   "name": "python",
   "nbconvert_exporter": "python",
   "pygments_lexer": "ipython3",
   "version": "3.9.13"
  }
 },
 "nbformat": 4,
 "nbformat_minor": 5
}
